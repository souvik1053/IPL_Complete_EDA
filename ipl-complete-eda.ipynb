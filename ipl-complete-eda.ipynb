{
 "cells": [
  {
   "cell_type": "markdown",
   "id": "0044c235",
   "metadata": {
    "papermill": {
     "duration": 0.037144,
     "end_time": "2024-09-28T23:11:55.860751",
     "exception": false,
     "start_time": "2024-09-28T23:11:55.823607",
     "status": "completed"
    },
    "tags": []
   },
   "source": [
    "<a id=\"header\"></a>\n",
    "\n",
    "<div style=\"border: 1px solid; color: black; padding: 3px; width: 97%; background-color: #2d2d2d; border: 5px solid Grey;\">\n",
    "    <center width=\"80%\">\n",
    "        <img src=\"https://www.fullformx.com/wp-content/uploads/2023/05/IMG_2578.jpeg\" style=\"width: 90%;\">\n",
    "    </center>\n",
    "    <div style=\" border-top: 5px solid #ff758c; border-bottom: 5px dashed #ff758c; border-left: 5px double #ff758c; border-right: 5px dotted #ff758c; color: #19a01a; border-radius: 10px; margin: 5px; padding: 5px; width: 95%; font-family: 'Amiri', serif;\">\n",
    "     <h1 style=\"font-size: 27px; text-align: center; line-height: 1.5;\">\n",
    "        <span style=\"color: #0a8a65; font-weight: 700;\">U</span><span style=\"color: #f03434; font-weight: 700;\">N</span><span style=\"color: #3498db; font-weight: 900;\">V</span><span style=\"color: #e74c3c; font-weight: 700;\">E</span><span style=\"color: #9b59b6; font-weight: 700;\">I</span><span style=\"color: #1abc9c; font-weight: 700;\">L</span><span style=\"color: #f1c40f; font-weight: 700;\">I</span><span style=\"color: #e67e22; font-weight: 700;\">N</span><span style=\"color: #34495e; font-weight: 700;\">G</span>\n",
    "        <span style=\"color: #d35400; font-weight: 700;\">K</span><span style=\"color: #2ecc71; font-weight: 700;\">E</span><span style=\"color: #e74c3c; font-weight: 700;\">Y</span>\n",
    "        <span style=\"color: #f1c40f; font-weight: 900;\">T</span><span style=\"color: #8e44ad; font-weight: 700;\">R</span><span style=\"color: #c0392b; font-weight: 700;\">E</span><span style=\"color: #f39c12; font-weight: 700;\">N</span><span style=\"color: #3498db; font-weight: 700;\">D</span><span style=\"color: #f1c40f; font-weight: 700;\">S</span>\n",
    "        <span style=\"color: #2ecc71; font-weight: 700;\">I</span><span style=\"color: #9b59b6; font-weight: 700;\">N</span>\n",
    "        <span style=\"color: #2ecc71; font-weight: 900;\">I</span><span style=\"color: #8e44ad; font-weight: 700;\">P</span><span style=\"color: #e67e22; font-weight: 700;\">L</span>\n",
    "        <span style=\"color: #1abc9c; font-weight: 700;\">D</span><span style=\"color: #d35400; font-weight: 900;\">A</span><span style=\"color: #c0392b; font-weight: 900;\">T</span><span style=\"color: #f39c12; font-weight: 900;\">A</span>\n",
    "</h1>\n",
    "</div>\n",
    "</div>\n",
    "<br/>"
   ]
  },
  {
   "cell_type": "markdown",
   "id": "c9591893",
   "metadata": {
    "papermill": {
     "duration": 0.034994,
     "end_time": "2024-09-28T23:11:55.930588",
     "exception": false,
     "start_time": "2024-09-28T23:11:55.895594",
     "status": "completed"
    },
    "tags": []
   },
   "source": [
    "\n",
    " # <p style=\"font-family: 'Pacifico', cursive; font-size: 2rem; color:#ef9b5c; text-align: center; margin: 0; text-shadow: 2px 2px 4px rgba(0, 0, 0, 0.3); background-color: #2d2d2d; padding: 20px; border-radius: 10px; border: 7px solid #ff758c; width:95%\">🏏 DataSET: Cleaning & Preparation 🏏</p>\n",
    "\n"
   ]
  },
  {
   "cell_type": "markdown",
   "id": "99c3be86",
   "metadata": {
    "papermill": {
     "duration": 0.03465,
     "end_time": "2024-09-28T23:11:56.000230",
     "exception": false,
     "start_time": "2024-09-28T23:11:55.965580",
     "status": "completed"
    },
    "tags": []
   },
   "source": [
    "<div style=\"font-size: 25px; background-color: #d5e8f9; padding: 10px; border-radius: 30px; width: 70%;\">\n",
    "    <span style=\"color: #9b59b6; font-weight: 900; border: 3px solid grey;  border-radius:10px;\">I</span>\n",
    "    <span style=\"color: #e74c3c; font-weight: 900;\">m</span>\n",
    "    <span style=\"color: #1abc9c; font-weight: 900;\">p</span>\n",
    "    <span style=\"color: #8e44ad; font-weight: 900;\">o</span>\n",
    "    <span style=\"color: #f39c12; font-weight: 900;\">r</span>\n",
    "    <span style=\"color: #2ecc71; font-weight: 900;\">t</span>\n",
    "    <span style=\"color: #f1c40f; font-weight: 900;\">i</span>\n",
    "    <span style=\"color: #e67e22; font-weight: 900;\">n</span>\n",
    "    <span style=\"color: #3498db; font-weight: 900;\">g</span>\n",
    "    <span style=\"color: #e67e22; font-weight: 900;\">&nbsp;</span>\n",
    "    <span style=\"color: #e67e22; font-weight: 900;\">&nbsp;</span>\n",
    "    <span style=\"color: #f1c40f; font-weight: 900;border: 3px solid grey; border-radius:10px;\">L</span>\n",
    "    <span style=\"color: #2ecc71; font-weight: 900;\">i</span>\n",
    "    <span style=\"color: #d35400; font-weight: 900;\">b</span>\n",
    "    <span style=\"color: #9b59b6; font-weight: 900;\">r</span>\n",
    "    <span style=\"color: #e74c3c; font-weight: 900;\">a</span>\n",
    "    <span style=\"color: #1abc9c; font-weight: 900;\">r</span>\n",
    "    <span style=\"color: #8e44ad; font-weight: 900;\">i</span>\n",
    "    <span style=\"color: #f39c12; font-weight: 900;\">e</span>\n",
    "    <span style=\"color: #2ecc71; font-weight: 1500;\">s</span>\n",
    "</div>\n"
   ]
  },
  {
   "cell_type": "code",
   "execution_count": 1,
   "id": "36b1cb2f",
   "metadata": {
    "execution": {
     "iopub.execute_input": "2024-09-28T23:11:56.072012Z",
     "iopub.status.busy": "2024-09-28T23:11:56.071554Z",
     "iopub.status.idle": "2024-09-28T23:11:59.087353Z",
     "shell.execute_reply": "2024-09-28T23:11:59.086290Z"
    },
    "papermill": {
     "duration": 3.0546,
     "end_time": "2024-09-28T23:11:59.090026",
     "exception": false,
     "start_time": "2024-09-28T23:11:56.035426",
     "status": "completed"
    },
    "tags": []
   },
   "outputs": [],
   "source": [
    "import pandas as pd\n",
    "import numpy as np\n",
    "import seaborn as sns\n",
    "import matplotlib.pyplot as plt\n",
    "import plotly.express as px\n",
    "import plotly.graph_objs as go\n",
    "import warnings\n",
    "warnings.filterwarnings(\"ignore\")"
   ]
  },
  {
   "cell_type": "code",
   "execution_count": 2,
   "id": "fdda2d3d",
   "metadata": {
    "execution": {
     "iopub.execute_input": "2024-09-28T23:11:59.161933Z",
     "iopub.status.busy": "2024-09-28T23:11:59.161327Z",
     "iopub.status.idle": "2024-09-28T23:11:59.171352Z",
     "shell.execute_reply": "2024-09-28T23:11:59.170140Z"
    },
    "papermill": {
     "duration": 0.048588,
     "end_time": "2024-09-28T23:11:59.173919",
     "exception": false,
     "start_time": "2024-09-28T23:11:59.125331",
     "status": "completed"
    },
    "tags": []
   },
   "outputs": [
    {
     "data": {
      "text/html": [
       "\n",
       "<style>\n",
       "h1,h2,h3 {\n",
       "\tmargin: 1em 0 0.5em 0;\n",
       "\tfont-weight: 600;\n",
       "\tfont-family: 'Titillium Web', sans-serif;\n",
       "\tposition: relative;  \n",
       "\tfont-size: 36px;\n",
       "\tline-height: 40px;\n",
       "\tpadding: 15px 15px 15px 2.5%;\n",
       "\tcolor: #13003A;\n",
       "\tbox-shadow: \n",
       "\t\tinset 0 0 0 1px rgba(53,86,129, 1), \n",
       "\t\tinset 0 0 5px rgba(53,86,129, 1),\n",
       "\t\tinset -285px 0 35px white;\n",
       "\tborder-radius: 0 10px 0 15px;\n",
       "\tbackground: #fff\n",
       "    \n",
       "}\n",
       "</style>\n"
      ],
      "text/plain": [
       "<IPython.core.display.HTML object>"
      ]
     },
     "execution_count": 2,
     "metadata": {},
     "output_type": "execute_result"
    }
   ],
   "source": [
    "from IPython.display import HTML\n",
    "HTML(\"\"\"\n",
    "<style>\n",
    "h1,h2,h3 {\n",
    "\tmargin: 1em 0 0.5em 0;\n",
    "\tfont-weight: 600;\n",
    "\tfont-family: 'Titillium Web', sans-serif;\n",
    "\tposition: relative;  \n",
    "\tfont-size: 36px;\n",
    "\tline-height: 40px;\n",
    "\tpadding: 15px 15px 15px 2.5%;\n",
    "\tcolor: #13003A;\n",
    "\tbox-shadow: \n",
    "\t\tinset 0 0 0 1px rgba(53,86,129, 1), \n",
    "\t\tinset 0 0 5px rgba(53,86,129, 1),\n",
    "\t\tinset -285px 0 35px white;\n",
    "\tborder-radius: 0 10px 0 15px;\n",
    "\tbackground: #fff\n",
    "    \n",
    "}\n",
    "</style>\n",
    "\"\"\")\n"
   ]
  },
  {
   "cell_type": "markdown",
   "id": "0b84f6da",
   "metadata": {
    "papermill": {
     "duration": 0.035093,
     "end_time": "2024-09-28T23:11:59.244231",
     "exception": false,
     "start_time": "2024-09-28T23:11:59.209138",
     "status": "completed"
    },
    "tags": []
   },
   "source": [
    "<div style=\"font-size: 25px; font-family: 'Roboto', sans-serif; background-color: #d5e8f9; padding: 10px; border-radius: 30px; width: 70%; border-radius: 30px; border: 5px solid #3498db;\">\n",
    "    <span style=\"color: #e74c3c; font-weight: 900; border: 3px solid grey;  border-radius:10px\">L</span>\n",
    "    <span style=\"color: #1abc9c; font-weight: 900;\">o</span>\n",
    "    <span style=\"color: #8e44ad; font-weight: 900;\">a</span>\n",
    "    <span style=\"color: #f39c12; font-weight: 900;\">d</span>\n",
    "    <span style=\"color: #e67e22; font-weight: 900;\">&nbsp;</span>\n",
    "    <span style=\"color: #2ecc71; font-weight: 900;\">t</span>\n",
    "    <span style=\"color: #f1c40f; font-weight: 900;\">h</span>\n",
    "    <span style=\"color: #e67e22; font-weight: 900;\">e</span>\n",
    "    <span style=\"color: #e67e22; font-weight: 900;\">&nbsp;</span>\n",
    "    <span style=\"color: #f1c40f; font-weight: 900; border: 3px solid grey;  border-radius:10px;\">D</span>\n",
    "    <span style=\"color: #2ecc71; font-weight: 900;\">a</span>\n",
    "    <span style=\"color: #d35400; font-weight: 900;\">t</span>\n",
    "    <span style=\"color: #9b59b6; font-weight: 900;\">a</span>\n",
    "    <span style=\"color: #e74c3c; font-weight: 900;\">s</span>\n",
    "    <span style=\"color: #1abc9c; font-weight: 900;\">e</span>\n",
    "    <span style=\"color: #8e44ad; font-weight: 900;\">t</span>\n",
    "</div>\n"
   ]
  },
  {
   "cell_type": "code",
   "execution_count": 3,
   "id": "c4172344",
   "metadata": {
    "execution": {
     "iopub.execute_input": "2024-09-28T23:11:59.316515Z",
     "iopub.status.busy": "2024-09-28T23:11:59.316077Z",
     "iopub.status.idle": "2024-09-28T23:11:59.351276Z",
     "shell.execute_reply": "2024-09-28T23:11:59.350066Z"
    },
    "papermill": {
     "duration": 0.074641,
     "end_time": "2024-09-28T23:11:59.354059",
     "exception": false,
     "start_time": "2024-09-28T23:11:59.279418",
     "status": "completed"
    },
    "tags": []
   },
   "outputs": [],
   "source": [
    "df=pd.read_csv('/kaggle/input/ipl-complete-dataset-20082020/matches.csv')"
   ]
  },
  {
   "cell_type": "code",
   "execution_count": 4,
   "id": "51c1aa93",
   "metadata": {
    "execution": {
     "iopub.execute_input": "2024-09-28T23:11:59.426524Z",
     "iopub.status.busy": "2024-09-28T23:11:59.426092Z",
     "iopub.status.idle": "2024-09-28T23:12:00.378178Z",
     "shell.execute_reply": "2024-09-28T23:12:00.377167Z"
    },
    "papermill": {
     "duration": 0.991129,
     "end_time": "2024-09-28T23:12:00.380994",
     "exception": false,
     "start_time": "2024-09-28T23:11:59.389865",
     "status": "completed"
    },
    "tags": []
   },
   "outputs": [],
   "source": [
    "df1=pd.read_csv('/kaggle/input/ipl-complete-dataset-20082020/deliveries.csv')"
   ]
  },
  {
   "cell_type": "markdown",
   "id": "6a53188d",
   "metadata": {
    "papermill": {
     "duration": 0.035062,
     "end_time": "2024-09-28T23:12:00.451466",
     "exception": false,
     "start_time": "2024-09-28T23:12:00.416404",
     "status": "completed"
    },
    "tags": []
   },
   "source": [
    "<div style=\"font-size: 25px; font-family: 'Roboto', sans-serif; background-color: #d5e8f9; padding: 10px; border-radius: 30px; border: 5px solid #3498db; width:70%;\">\n",
    "    <span style=\"color: #9b59b6; font-weight: 900; border: 3px solid grey;  border-radius:10px;\">U</span>\n",
    "    <span style=\"color: #e74c3c; font-weight: 900;\">n</span>\n",
    "    <span style=\"color: #1abc9c; font-weight: 900;\">d</span>\n",
    "    <span style=\"color: #8e44ad; font-weight: 900;\">e</span>\n",
    "    <span style=\"color: #f39c12; font-weight: 900;\">r</span>\n",
    "    <span style=\"color: #2ecc71; font-weight: 900;\">s</span>\n",
    "    <span style=\"color: #f1c40f; font-weight: 900;\">t</span>\n",
    "    <span style=\"color: #e67e22; font-weight: 900;\">a</span>\n",
    "    <span style=\"color: #3498db; font-weight: 900;\">n</span>\n",
    "    <span style=\"color: #e67e22; font-weight: 900;\">d</span>\n",
    "    <span style=\"color: #e67e22; font-weight: 900;\">i</span>\n",
    "    <span style=\"color: #e67e22; font-weight: 900;\">n</span>\n",
    "    <span style=\"color: #f1c40f; font-weight: 900;\">g</span>\n",
    "    <span style=\"color: #2ecc71; font-weight: 900;\">&nbsp;</span>\n",
    "    <span style=\"color: #2ecc71; font-weight: 900;\">&nbsp;</span>\n",
    "    <span style=\"color: #e67e22; font-weight: 900;\">t</span>\n",
    "    <span style=\"color: #e67e22; font-weight: 900;\">h</span>\n",
    "    <span style=\"color: #e67e22; font-weight: 900;\">e</span>\n",
    "    <span style=\"color: #e67e22; font-weight: 900;\">&nbsp;</span>\n",
    "    <span style=\"color: #2ecc71; font-weight: 900;\">&nbsp;</span>\n",
    "    <span style=\"color: #f1c40f; font-weight: 900;border: 3px solid grey;  border-radius:10px;\">D</span>\n",
    "    <span style=\"color: #2ecc71; font-weight: 900;\">a</span>\n",
    "    <span style=\"color: #d35400; font-weight: 900;\">t</span>\n",
    "    <span style=\"color: #9b59b6; font-weight: 900;\">a</span>\n",
    "    <span style=\"color: #e74c3c; font-weight: 900;\">s</span>\n",
    "    <span style=\"color: #1abc9c; font-weight: 900;\">e</span>\n",
    "    <span style=\"color: #8e44ad; font-weight: 900;\">t</span>\n",
    "</div>\n"
   ]
  },
  {
   "cell_type": "code",
   "execution_count": 5,
   "id": "34e001f9",
   "metadata": {
    "execution": {
     "iopub.execute_input": "2024-09-28T23:12:00.523858Z",
     "iopub.status.busy": "2024-09-28T23:12:00.523406Z",
     "iopub.status.idle": "2024-09-28T23:12:00.556609Z",
     "shell.execute_reply": "2024-09-28T23:12:00.555341Z"
    },
    "papermill": {
     "duration": 0.072869,
     "end_time": "2024-09-28T23:12:00.559194",
     "exception": false,
     "start_time": "2024-09-28T23:12:00.486325",
     "status": "completed"
    },
    "scrolled": true,
    "tags": []
   },
   "outputs": [
    {
     "data": {
      "text/html": [
       "<div>\n",
       "<style scoped>\n",
       "    .dataframe tbody tr th:only-of-type {\n",
       "        vertical-align: middle;\n",
       "    }\n",
       "\n",
       "    .dataframe tbody tr th {\n",
       "        vertical-align: top;\n",
       "    }\n",
       "\n",
       "    .dataframe thead th {\n",
       "        text-align: right;\n",
       "    }\n",
       "</style>\n",
       "<table border=\"1\" class=\"dataframe\">\n",
       "  <thead>\n",
       "    <tr style=\"text-align: right;\">\n",
       "      <th></th>\n",
       "      <th>id</th>\n",
       "      <th>season</th>\n",
       "      <th>city</th>\n",
       "      <th>date</th>\n",
       "      <th>match_type</th>\n",
       "      <th>player_of_match</th>\n",
       "      <th>venue</th>\n",
       "      <th>team1</th>\n",
       "      <th>team2</th>\n",
       "      <th>toss_winner</th>\n",
       "      <th>toss_decision</th>\n",
       "      <th>winner</th>\n",
       "      <th>result</th>\n",
       "      <th>result_margin</th>\n",
       "      <th>target_runs</th>\n",
       "      <th>target_overs</th>\n",
       "      <th>super_over</th>\n",
       "      <th>method</th>\n",
       "      <th>umpire1</th>\n",
       "      <th>umpire2</th>\n",
       "    </tr>\n",
       "  </thead>\n",
       "  <tbody>\n",
       "    <tr>\n",
       "      <th>0</th>\n",
       "      <td>335982</td>\n",
       "      <td>2007/08</td>\n",
       "      <td>Bangalore</td>\n",
       "      <td>2008-04-18</td>\n",
       "      <td>League</td>\n",
       "      <td>BB McCullum</td>\n",
       "      <td>M Chinnaswamy Stadium</td>\n",
       "      <td>Royal Challengers Bangalore</td>\n",
       "      <td>Kolkata Knight Riders</td>\n",
       "      <td>Royal Challengers Bangalore</td>\n",
       "      <td>field</td>\n",
       "      <td>Kolkata Knight Riders</td>\n",
       "      <td>runs</td>\n",
       "      <td>140.0</td>\n",
       "      <td>223.0</td>\n",
       "      <td>20.0</td>\n",
       "      <td>N</td>\n",
       "      <td>NaN</td>\n",
       "      <td>Asad Rauf</td>\n",
       "      <td>RE Koertzen</td>\n",
       "    </tr>\n",
       "    <tr>\n",
       "      <th>1</th>\n",
       "      <td>335983</td>\n",
       "      <td>2007/08</td>\n",
       "      <td>Chandigarh</td>\n",
       "      <td>2008-04-19</td>\n",
       "      <td>League</td>\n",
       "      <td>MEK Hussey</td>\n",
       "      <td>Punjab Cricket Association Stadium, Mohali</td>\n",
       "      <td>Kings XI Punjab</td>\n",
       "      <td>Chennai Super Kings</td>\n",
       "      <td>Chennai Super Kings</td>\n",
       "      <td>bat</td>\n",
       "      <td>Chennai Super Kings</td>\n",
       "      <td>runs</td>\n",
       "      <td>33.0</td>\n",
       "      <td>241.0</td>\n",
       "      <td>20.0</td>\n",
       "      <td>N</td>\n",
       "      <td>NaN</td>\n",
       "      <td>MR Benson</td>\n",
       "      <td>SL Shastri</td>\n",
       "    </tr>\n",
       "    <tr>\n",
       "      <th>2</th>\n",
       "      <td>335984</td>\n",
       "      <td>2007/08</td>\n",
       "      <td>Delhi</td>\n",
       "      <td>2008-04-19</td>\n",
       "      <td>League</td>\n",
       "      <td>MF Maharoof</td>\n",
       "      <td>Feroz Shah Kotla</td>\n",
       "      <td>Delhi Daredevils</td>\n",
       "      <td>Rajasthan Royals</td>\n",
       "      <td>Rajasthan Royals</td>\n",
       "      <td>bat</td>\n",
       "      <td>Delhi Daredevils</td>\n",
       "      <td>wickets</td>\n",
       "      <td>9.0</td>\n",
       "      <td>130.0</td>\n",
       "      <td>20.0</td>\n",
       "      <td>N</td>\n",
       "      <td>NaN</td>\n",
       "      <td>Aleem Dar</td>\n",
       "      <td>GA Pratapkumar</td>\n",
       "    </tr>\n",
       "    <tr>\n",
       "      <th>3</th>\n",
       "      <td>335985</td>\n",
       "      <td>2007/08</td>\n",
       "      <td>Mumbai</td>\n",
       "      <td>2008-04-20</td>\n",
       "      <td>League</td>\n",
       "      <td>MV Boucher</td>\n",
       "      <td>Wankhede Stadium</td>\n",
       "      <td>Mumbai Indians</td>\n",
       "      <td>Royal Challengers Bangalore</td>\n",
       "      <td>Mumbai Indians</td>\n",
       "      <td>bat</td>\n",
       "      <td>Royal Challengers Bangalore</td>\n",
       "      <td>wickets</td>\n",
       "      <td>5.0</td>\n",
       "      <td>166.0</td>\n",
       "      <td>20.0</td>\n",
       "      <td>N</td>\n",
       "      <td>NaN</td>\n",
       "      <td>SJ Davis</td>\n",
       "      <td>DJ Harper</td>\n",
       "    </tr>\n",
       "    <tr>\n",
       "      <th>4</th>\n",
       "      <td>335986</td>\n",
       "      <td>2007/08</td>\n",
       "      <td>Kolkata</td>\n",
       "      <td>2008-04-20</td>\n",
       "      <td>League</td>\n",
       "      <td>DJ Hussey</td>\n",
       "      <td>Eden Gardens</td>\n",
       "      <td>Kolkata Knight Riders</td>\n",
       "      <td>Deccan Chargers</td>\n",
       "      <td>Deccan Chargers</td>\n",
       "      <td>bat</td>\n",
       "      <td>Kolkata Knight Riders</td>\n",
       "      <td>wickets</td>\n",
       "      <td>5.0</td>\n",
       "      <td>111.0</td>\n",
       "      <td>20.0</td>\n",
       "      <td>N</td>\n",
       "      <td>NaN</td>\n",
       "      <td>BF Bowden</td>\n",
       "      <td>K Hariharan</td>\n",
       "    </tr>\n",
       "  </tbody>\n",
       "</table>\n",
       "</div>"
      ],
      "text/plain": [
       "       id   season        city        date match_type player_of_match  \\\n",
       "0  335982  2007/08   Bangalore  2008-04-18     League     BB McCullum   \n",
       "1  335983  2007/08  Chandigarh  2008-04-19     League      MEK Hussey   \n",
       "2  335984  2007/08       Delhi  2008-04-19     League     MF Maharoof   \n",
       "3  335985  2007/08      Mumbai  2008-04-20     League      MV Boucher   \n",
       "4  335986  2007/08     Kolkata  2008-04-20     League       DJ Hussey   \n",
       "\n",
       "                                        venue                        team1  \\\n",
       "0                       M Chinnaswamy Stadium  Royal Challengers Bangalore   \n",
       "1  Punjab Cricket Association Stadium, Mohali              Kings XI Punjab   \n",
       "2                            Feroz Shah Kotla             Delhi Daredevils   \n",
       "3                            Wankhede Stadium               Mumbai Indians   \n",
       "4                                Eden Gardens        Kolkata Knight Riders   \n",
       "\n",
       "                         team2                  toss_winner toss_decision  \\\n",
       "0        Kolkata Knight Riders  Royal Challengers Bangalore         field   \n",
       "1          Chennai Super Kings          Chennai Super Kings           bat   \n",
       "2             Rajasthan Royals             Rajasthan Royals           bat   \n",
       "3  Royal Challengers Bangalore               Mumbai Indians           bat   \n",
       "4              Deccan Chargers              Deccan Chargers           bat   \n",
       "\n",
       "                        winner   result  result_margin  target_runs  \\\n",
       "0        Kolkata Knight Riders     runs          140.0        223.0   \n",
       "1          Chennai Super Kings     runs           33.0        241.0   \n",
       "2             Delhi Daredevils  wickets            9.0        130.0   \n",
       "3  Royal Challengers Bangalore  wickets            5.0        166.0   \n",
       "4        Kolkata Knight Riders  wickets            5.0        111.0   \n",
       "\n",
       "   target_overs super_over method    umpire1         umpire2  \n",
       "0          20.0          N    NaN  Asad Rauf     RE Koertzen  \n",
       "1          20.0          N    NaN  MR Benson      SL Shastri  \n",
       "2          20.0          N    NaN  Aleem Dar  GA Pratapkumar  \n",
       "3          20.0          N    NaN   SJ Davis       DJ Harper  \n",
       "4          20.0          N    NaN  BF Bowden     K Hariharan  "
      ]
     },
     "execution_count": 5,
     "metadata": {},
     "output_type": "execute_result"
    }
   ],
   "source": [
    "df.head()"
   ]
  },
  {
   "cell_type": "code",
   "execution_count": 6,
   "id": "be2d546a",
   "metadata": {
    "execution": {
     "iopub.execute_input": "2024-09-28T23:12:00.632349Z",
     "iopub.status.busy": "2024-09-28T23:12:00.631902Z",
     "iopub.status.idle": "2024-09-28T23:12:00.653194Z",
     "shell.execute_reply": "2024-09-28T23:12:00.652013Z"
    },
    "papermill": {
     "duration": 0.060352,
     "end_time": "2024-09-28T23:12:00.655509",
     "exception": false,
     "start_time": "2024-09-28T23:12:00.595157",
     "status": "completed"
    },
    "tags": []
   },
   "outputs": [
    {
     "data": {
      "text/html": [
       "<div>\n",
       "<style scoped>\n",
       "    .dataframe tbody tr th:only-of-type {\n",
       "        vertical-align: middle;\n",
       "    }\n",
       "\n",
       "    .dataframe tbody tr th {\n",
       "        vertical-align: top;\n",
       "    }\n",
       "\n",
       "    .dataframe thead th {\n",
       "        text-align: right;\n",
       "    }\n",
       "</style>\n",
       "<table border=\"1\" class=\"dataframe\">\n",
       "  <thead>\n",
       "    <tr style=\"text-align: right;\">\n",
       "      <th></th>\n",
       "      <th>match_id</th>\n",
       "      <th>inning</th>\n",
       "      <th>batting_team</th>\n",
       "      <th>bowling_team</th>\n",
       "      <th>over</th>\n",
       "      <th>ball</th>\n",
       "      <th>batter</th>\n",
       "      <th>bowler</th>\n",
       "      <th>non_striker</th>\n",
       "      <th>batsman_runs</th>\n",
       "      <th>extra_runs</th>\n",
       "      <th>total_runs</th>\n",
       "      <th>extras_type</th>\n",
       "      <th>is_wicket</th>\n",
       "      <th>player_dismissed</th>\n",
       "      <th>dismissal_kind</th>\n",
       "      <th>fielder</th>\n",
       "    </tr>\n",
       "  </thead>\n",
       "  <tbody>\n",
       "    <tr>\n",
       "      <th>0</th>\n",
       "      <td>335982</td>\n",
       "      <td>1</td>\n",
       "      <td>Kolkata Knight Riders</td>\n",
       "      <td>Royal Challengers Bangalore</td>\n",
       "      <td>0</td>\n",
       "      <td>1</td>\n",
       "      <td>SC Ganguly</td>\n",
       "      <td>P Kumar</td>\n",
       "      <td>BB McCullum</td>\n",
       "      <td>0</td>\n",
       "      <td>1</td>\n",
       "      <td>1</td>\n",
       "      <td>legbyes</td>\n",
       "      <td>0</td>\n",
       "      <td>NaN</td>\n",
       "      <td>NaN</td>\n",
       "      <td>NaN</td>\n",
       "    </tr>\n",
       "    <tr>\n",
       "      <th>1</th>\n",
       "      <td>335982</td>\n",
       "      <td>1</td>\n",
       "      <td>Kolkata Knight Riders</td>\n",
       "      <td>Royal Challengers Bangalore</td>\n",
       "      <td>0</td>\n",
       "      <td>2</td>\n",
       "      <td>BB McCullum</td>\n",
       "      <td>P Kumar</td>\n",
       "      <td>SC Ganguly</td>\n",
       "      <td>0</td>\n",
       "      <td>0</td>\n",
       "      <td>0</td>\n",
       "      <td>NaN</td>\n",
       "      <td>0</td>\n",
       "      <td>NaN</td>\n",
       "      <td>NaN</td>\n",
       "      <td>NaN</td>\n",
       "    </tr>\n",
       "    <tr>\n",
       "      <th>2</th>\n",
       "      <td>335982</td>\n",
       "      <td>1</td>\n",
       "      <td>Kolkata Knight Riders</td>\n",
       "      <td>Royal Challengers Bangalore</td>\n",
       "      <td>0</td>\n",
       "      <td>3</td>\n",
       "      <td>BB McCullum</td>\n",
       "      <td>P Kumar</td>\n",
       "      <td>SC Ganguly</td>\n",
       "      <td>0</td>\n",
       "      <td>1</td>\n",
       "      <td>1</td>\n",
       "      <td>wides</td>\n",
       "      <td>0</td>\n",
       "      <td>NaN</td>\n",
       "      <td>NaN</td>\n",
       "      <td>NaN</td>\n",
       "    </tr>\n",
       "    <tr>\n",
       "      <th>3</th>\n",
       "      <td>335982</td>\n",
       "      <td>1</td>\n",
       "      <td>Kolkata Knight Riders</td>\n",
       "      <td>Royal Challengers Bangalore</td>\n",
       "      <td>0</td>\n",
       "      <td>4</td>\n",
       "      <td>BB McCullum</td>\n",
       "      <td>P Kumar</td>\n",
       "      <td>SC Ganguly</td>\n",
       "      <td>0</td>\n",
       "      <td>0</td>\n",
       "      <td>0</td>\n",
       "      <td>NaN</td>\n",
       "      <td>0</td>\n",
       "      <td>NaN</td>\n",
       "      <td>NaN</td>\n",
       "      <td>NaN</td>\n",
       "    </tr>\n",
       "    <tr>\n",
       "      <th>4</th>\n",
       "      <td>335982</td>\n",
       "      <td>1</td>\n",
       "      <td>Kolkata Knight Riders</td>\n",
       "      <td>Royal Challengers Bangalore</td>\n",
       "      <td>0</td>\n",
       "      <td>5</td>\n",
       "      <td>BB McCullum</td>\n",
       "      <td>P Kumar</td>\n",
       "      <td>SC Ganguly</td>\n",
       "      <td>0</td>\n",
       "      <td>0</td>\n",
       "      <td>0</td>\n",
       "      <td>NaN</td>\n",
       "      <td>0</td>\n",
       "      <td>NaN</td>\n",
       "      <td>NaN</td>\n",
       "      <td>NaN</td>\n",
       "    </tr>\n",
       "  </tbody>\n",
       "</table>\n",
       "</div>"
      ],
      "text/plain": [
       "   match_id  inning           batting_team                 bowling_team  over  \\\n",
       "0    335982       1  Kolkata Knight Riders  Royal Challengers Bangalore     0   \n",
       "1    335982       1  Kolkata Knight Riders  Royal Challengers Bangalore     0   \n",
       "2    335982       1  Kolkata Knight Riders  Royal Challengers Bangalore     0   \n",
       "3    335982       1  Kolkata Knight Riders  Royal Challengers Bangalore     0   \n",
       "4    335982       1  Kolkata Knight Riders  Royal Challengers Bangalore     0   \n",
       "\n",
       "   ball       batter   bowler  non_striker  batsman_runs  extra_runs  \\\n",
       "0     1   SC Ganguly  P Kumar  BB McCullum             0           1   \n",
       "1     2  BB McCullum  P Kumar   SC Ganguly             0           0   \n",
       "2     3  BB McCullum  P Kumar   SC Ganguly             0           1   \n",
       "3     4  BB McCullum  P Kumar   SC Ganguly             0           0   \n",
       "4     5  BB McCullum  P Kumar   SC Ganguly             0           0   \n",
       "\n",
       "   total_runs extras_type  is_wicket player_dismissed dismissal_kind fielder  \n",
       "0           1     legbyes          0              NaN            NaN     NaN  \n",
       "1           0         NaN          0              NaN            NaN     NaN  \n",
       "2           1       wides          0              NaN            NaN     NaN  \n",
       "3           0         NaN          0              NaN            NaN     NaN  \n",
       "4           0         NaN          0              NaN            NaN     NaN  "
      ]
     },
     "execution_count": 6,
     "metadata": {},
     "output_type": "execute_result"
    }
   ],
   "source": [
    "df1.head()"
   ]
  },
  {
   "cell_type": "code",
   "execution_count": 7,
   "id": "b33b1a3f",
   "metadata": {
    "execution": {
     "iopub.execute_input": "2024-09-28T23:12:00.729630Z",
     "iopub.status.busy": "2024-09-28T23:12:00.729199Z",
     "iopub.status.idle": "2024-09-28T23:12:00.736532Z",
     "shell.execute_reply": "2024-09-28T23:12:00.735403Z"
    },
    "papermill": {
     "duration": 0.046958,
     "end_time": "2024-09-28T23:12:00.739040",
     "exception": false,
     "start_time": "2024-09-28T23:12:00.692082",
     "status": "completed"
    },
    "tags": []
   },
   "outputs": [
    {
     "data": {
      "text/plain": [
       "Index(['id', 'season', 'city', 'date', 'match_type', 'player_of_match',\n",
       "       'venue', 'team1', 'team2', 'toss_winner', 'toss_decision', 'winner',\n",
       "       'result', 'result_margin', 'target_runs', 'target_overs', 'super_over',\n",
       "       'method', 'umpire1', 'umpire2'],\n",
       "      dtype='object')"
      ]
     },
     "execution_count": 7,
     "metadata": {},
     "output_type": "execute_result"
    }
   ],
   "source": [
    "df.columns"
   ]
  },
  {
   "cell_type": "code",
   "execution_count": 8,
   "id": "409dc488",
   "metadata": {
    "execution": {
     "iopub.execute_input": "2024-09-28T23:12:00.815483Z",
     "iopub.status.busy": "2024-09-28T23:12:00.815018Z",
     "iopub.status.idle": "2024-09-28T23:12:00.822693Z",
     "shell.execute_reply": "2024-09-28T23:12:00.821569Z"
    },
    "papermill": {
     "duration": 0.048802,
     "end_time": "2024-09-28T23:12:00.825092",
     "exception": false,
     "start_time": "2024-09-28T23:12:00.776290",
     "status": "completed"
    },
    "tags": []
   },
   "outputs": [
    {
     "data": {
      "text/plain": [
       "Index(['match_id', 'inning', 'batting_team', 'bowling_team', 'over', 'ball',\n",
       "       'batter', 'bowler', 'non_striker', 'batsman_runs', 'extra_runs',\n",
       "       'total_runs', 'extras_type', 'is_wicket', 'player_dismissed',\n",
       "       'dismissal_kind', 'fielder'],\n",
       "      dtype='object')"
      ]
     },
     "execution_count": 8,
     "metadata": {},
     "output_type": "execute_result"
    }
   ],
   "source": [
    "df1.columns"
   ]
  },
  {
   "cell_type": "code",
   "execution_count": 9,
   "id": "8602de29",
   "metadata": {
    "execution": {
     "iopub.execute_input": "2024-09-28T23:12:00.900826Z",
     "iopub.status.busy": "2024-09-28T23:12:00.900399Z",
     "iopub.status.idle": "2024-09-28T23:12:00.909094Z",
     "shell.execute_reply": "2024-09-28T23:12:00.908039Z"
    },
    "papermill": {
     "duration": 0.049984,
     "end_time": "2024-09-28T23:12:00.911321",
     "exception": false,
     "start_time": "2024-09-28T23:12:00.861337",
     "status": "completed"
    },
    "tags": []
   },
   "outputs": [
    {
     "data": {
      "text/plain": [
       "id                   int64\n",
       "season              object\n",
       "city                object\n",
       "date                object\n",
       "match_type          object\n",
       "player_of_match     object\n",
       "venue               object\n",
       "team1               object\n",
       "team2               object\n",
       "toss_winner         object\n",
       "toss_decision       object\n",
       "winner              object\n",
       "result              object\n",
       "result_margin      float64\n",
       "target_runs        float64\n",
       "target_overs       float64\n",
       "super_over          object\n",
       "method              object\n",
       "umpire1             object\n",
       "umpire2             object\n",
       "dtype: object"
      ]
     },
     "execution_count": 9,
     "metadata": {},
     "output_type": "execute_result"
    }
   ],
   "source": [
    "df.dtypes"
   ]
  },
  {
   "cell_type": "code",
   "execution_count": 10,
   "id": "4ff4d58d",
   "metadata": {
    "execution": {
     "iopub.execute_input": "2024-09-28T23:12:00.986651Z",
     "iopub.status.busy": "2024-09-28T23:12:00.986234Z",
     "iopub.status.idle": "2024-09-28T23:12:00.994972Z",
     "shell.execute_reply": "2024-09-28T23:12:00.993863Z"
    },
    "papermill": {
     "duration": 0.049285,
     "end_time": "2024-09-28T23:12:00.997321",
     "exception": false,
     "start_time": "2024-09-28T23:12:00.948036",
     "status": "completed"
    },
    "tags": []
   },
   "outputs": [
    {
     "data": {
      "text/plain": [
       "match_id             int64\n",
       "inning               int64\n",
       "batting_team        object\n",
       "bowling_team        object\n",
       "over                 int64\n",
       "ball                 int64\n",
       "batter              object\n",
       "bowler              object\n",
       "non_striker         object\n",
       "batsman_runs         int64\n",
       "extra_runs           int64\n",
       "total_runs           int64\n",
       "extras_type         object\n",
       "is_wicket            int64\n",
       "player_dismissed    object\n",
       "dismissal_kind      object\n",
       "fielder             object\n",
       "dtype: object"
      ]
     },
     "execution_count": 10,
     "metadata": {},
     "output_type": "execute_result"
    }
   ],
   "source": [
    "df1.dtypes"
   ]
  },
  {
   "cell_type": "code",
   "execution_count": 11,
   "id": "89708531",
   "metadata": {
    "execution": {
     "iopub.execute_input": "2024-09-28T23:12:01.072090Z",
     "iopub.status.busy": "2024-09-28T23:12:01.071634Z",
     "iopub.status.idle": "2024-09-28T23:12:01.097379Z",
     "shell.execute_reply": "2024-09-28T23:12:01.096364Z"
    },
    "papermill": {
     "duration": 0.067427,
     "end_time": "2024-09-28T23:12:01.101311",
     "exception": false,
     "start_time": "2024-09-28T23:12:01.033884",
     "status": "completed"
    },
    "tags": []
   },
   "outputs": [
    {
     "name": "stdout",
     "output_type": "stream",
     "text": [
      "<class 'pandas.core.frame.DataFrame'>\n",
      "RangeIndex: 1095 entries, 0 to 1094\n",
      "Data columns (total 20 columns):\n",
      " #   Column           Non-Null Count  Dtype  \n",
      "---  ------           --------------  -----  \n",
      " 0   id               1095 non-null   int64  \n",
      " 1   season           1095 non-null   object \n",
      " 2   city             1044 non-null   object \n",
      " 3   date             1095 non-null   object \n",
      " 4   match_type       1095 non-null   object \n",
      " 5   player_of_match  1090 non-null   object \n",
      " 6   venue            1095 non-null   object \n",
      " 7   team1            1095 non-null   object \n",
      " 8   team2            1095 non-null   object \n",
      " 9   toss_winner      1095 non-null   object \n",
      " 10  toss_decision    1095 non-null   object \n",
      " 11  winner           1090 non-null   object \n",
      " 12  result           1095 non-null   object \n",
      " 13  result_margin    1076 non-null   float64\n",
      " 14  target_runs      1092 non-null   float64\n",
      " 15  target_overs     1092 non-null   float64\n",
      " 16  super_over       1095 non-null   object \n",
      " 17  method           21 non-null     object \n",
      " 18  umpire1          1095 non-null   object \n",
      " 19  umpire2          1095 non-null   object \n",
      "dtypes: float64(3), int64(1), object(16)\n",
      "memory usage: 171.2+ KB\n"
     ]
    }
   ],
   "source": [
    "df.info()"
   ]
  },
  {
   "cell_type": "code",
   "execution_count": 12,
   "id": "7c979e6a",
   "metadata": {
    "execution": {
     "iopub.execute_input": "2024-09-28T23:12:01.178914Z",
     "iopub.status.busy": "2024-09-28T23:12:01.178486Z",
     "iopub.status.idle": "2024-09-28T23:12:01.204095Z",
     "shell.execute_reply": "2024-09-28T23:12:01.203088Z"
    },
    "papermill": {
     "duration": 0.066691,
     "end_time": "2024-09-28T23:12:01.206429",
     "exception": false,
     "start_time": "2024-09-28T23:12:01.139738",
     "status": "completed"
    },
    "tags": []
   },
   "outputs": [
    {
     "data": {
      "text/html": [
       "<div>\n",
       "<style scoped>\n",
       "    .dataframe tbody tr th:only-of-type {\n",
       "        vertical-align: middle;\n",
       "    }\n",
       "\n",
       "    .dataframe tbody tr th {\n",
       "        vertical-align: top;\n",
       "    }\n",
       "\n",
       "    .dataframe thead th {\n",
       "        text-align: right;\n",
       "    }\n",
       "</style>\n",
       "<table border=\"1\" class=\"dataframe\">\n",
       "  <thead>\n",
       "    <tr style=\"text-align: right;\">\n",
       "      <th></th>\n",
       "      <th>id</th>\n",
       "      <th>result_margin</th>\n",
       "      <th>target_runs</th>\n",
       "      <th>target_overs</th>\n",
       "    </tr>\n",
       "  </thead>\n",
       "  <tbody>\n",
       "    <tr>\n",
       "      <th>count</th>\n",
       "      <td>1.095000e+03</td>\n",
       "      <td>1076.000000</td>\n",
       "      <td>1092.000000</td>\n",
       "      <td>1092.000000</td>\n",
       "    </tr>\n",
       "    <tr>\n",
       "      <th>mean</th>\n",
       "      <td>9.048283e+05</td>\n",
       "      <td>17.259294</td>\n",
       "      <td>165.684066</td>\n",
       "      <td>19.759341</td>\n",
       "    </tr>\n",
       "    <tr>\n",
       "      <th>std</th>\n",
       "      <td>3.677402e+05</td>\n",
       "      <td>21.787444</td>\n",
       "      <td>33.427048</td>\n",
       "      <td>1.581108</td>\n",
       "    </tr>\n",
       "    <tr>\n",
       "      <th>min</th>\n",
       "      <td>3.359820e+05</td>\n",
       "      <td>1.000000</td>\n",
       "      <td>43.000000</td>\n",
       "      <td>5.000000</td>\n",
       "    </tr>\n",
       "    <tr>\n",
       "      <th>25%</th>\n",
       "      <td>5.483315e+05</td>\n",
       "      <td>6.000000</td>\n",
       "      <td>146.000000</td>\n",
       "      <td>20.000000</td>\n",
       "    </tr>\n",
       "    <tr>\n",
       "      <th>50%</th>\n",
       "      <td>9.809610e+05</td>\n",
       "      <td>8.000000</td>\n",
       "      <td>166.000000</td>\n",
       "      <td>20.000000</td>\n",
       "    </tr>\n",
       "    <tr>\n",
       "      <th>75%</th>\n",
       "      <td>1.254062e+06</td>\n",
       "      <td>20.000000</td>\n",
       "      <td>187.000000</td>\n",
       "      <td>20.000000</td>\n",
       "    </tr>\n",
       "    <tr>\n",
       "      <th>max</th>\n",
       "      <td>1.426312e+06</td>\n",
       "      <td>146.000000</td>\n",
       "      <td>288.000000</td>\n",
       "      <td>20.000000</td>\n",
       "    </tr>\n",
       "  </tbody>\n",
       "</table>\n",
       "</div>"
      ],
      "text/plain": [
       "                 id  result_margin  target_runs  target_overs\n",
       "count  1.095000e+03    1076.000000  1092.000000   1092.000000\n",
       "mean   9.048283e+05      17.259294   165.684066     19.759341\n",
       "std    3.677402e+05      21.787444    33.427048      1.581108\n",
       "min    3.359820e+05       1.000000    43.000000      5.000000\n",
       "25%    5.483315e+05       6.000000   146.000000     20.000000\n",
       "50%    9.809610e+05       8.000000   166.000000     20.000000\n",
       "75%    1.254062e+06      20.000000   187.000000     20.000000\n",
       "max    1.426312e+06     146.000000   288.000000     20.000000"
      ]
     },
     "execution_count": 12,
     "metadata": {},
     "output_type": "execute_result"
    }
   ],
   "source": [
    "df.describe()"
   ]
  },
  {
   "cell_type": "code",
   "execution_count": 13,
   "id": "347b2cb5",
   "metadata": {
    "execution": {
     "iopub.execute_input": "2024-09-28T23:12:01.283333Z",
     "iopub.status.busy": "2024-09-28T23:12:01.282844Z",
     "iopub.status.idle": "2024-09-28T23:12:01.289861Z",
     "shell.execute_reply": "2024-09-28T23:12:01.288776Z"
    },
    "papermill": {
     "duration": 0.048291,
     "end_time": "2024-09-28T23:12:01.292190",
     "exception": false,
     "start_time": "2024-09-28T23:12:01.243899",
     "status": "completed"
    },
    "tags": []
   },
   "outputs": [
    {
     "data": {
      "text/plain": [
       "(1095, 20)"
      ]
     },
     "execution_count": 13,
     "metadata": {},
     "output_type": "execute_result"
    }
   ],
   "source": [
    "df.shape"
   ]
  },
  {
   "cell_type": "code",
   "execution_count": 14,
   "id": "6721c8b5",
   "metadata": {
    "execution": {
     "iopub.execute_input": "2024-09-28T23:12:01.369465Z",
     "iopub.status.busy": "2024-09-28T23:12:01.368974Z",
     "iopub.status.idle": "2024-09-28T23:12:01.376052Z",
     "shell.execute_reply": "2024-09-28T23:12:01.374924Z"
    },
    "papermill": {
     "duration": 0.048397,
     "end_time": "2024-09-28T23:12:01.378402",
     "exception": false,
     "start_time": "2024-09-28T23:12:01.330005",
     "status": "completed"
    },
    "tags": []
   },
   "outputs": [
    {
     "data": {
      "text/plain": [
       "(260920, 17)"
      ]
     },
     "execution_count": 14,
     "metadata": {},
     "output_type": "execute_result"
    }
   ],
   "source": [
    "df1.shape"
   ]
  },
  {
   "cell_type": "markdown",
   "id": "e965cd4d",
   "metadata": {
    "papermill": {
     "duration": 0.037272,
     "end_time": "2024-09-28T23:12:01.452898",
     "exception": false,
     "start_time": "2024-09-28T23:12:01.415626",
     "status": "completed"
    },
    "tags": []
   },
   "source": [
    "<div style=\"font-size: 25px; font-family: 'Roboto', sans-serif; background-color: #d5e8f9; padding: 10px; border-radius: 10px; border: 5px solid #3498db; width: 70%\">\n",
    "    <span style=\"color: #9b59b6; font-weight: 900; border: 2px solid grey;  border-radius:5px;\">H</span>\n",
    "    <span style=\"color: #e74c3c; font-weight: 900;\">a</span>\n",
    "    <span style=\"color: #1abc9c; font-weight: 900;\">n</span>\n",
    "    <span style=\"color: #8e44ad; font-weight: 900;\">d</span>\n",
    "    <span style=\"color: #f39c12; font-weight: 900;\">l</span>\n",
    "    <span style=\"color: #2ecc71; font-weight: 900;\">i</span>\n",
    "    <span style=\"color: #f1c40f; font-weight: 900;\">n</span>\n",
    "    <span style=\"color: #e67e22; font-weight: 900;\">g</span>\n",
    "    <span style=\"color: #3498db; font-weight: 900;\">&nbsp;</span>\n",
    "    <span style=\"color: #e67e22; font-weight: 900; border: 2px solid grey;  border-radius:5px;\">M</span>\n",
    "    <span style=\"color: #e67e22; font-weight: 900;\">i</span>\n",
    "    <span style=\"color: #e67e22; font-weight: 900;\">s</span>\n",
    "    <span style=\"color: #e67e22; font-weight: 900;\">s</span>\n",
    "    <span style=\"color: #e67e22; font-weight: 900;\">i</span>\n",
    "    <span style=\"color: #e67e22; font-weight: 900;\">n</span>\n",
    "    <span style=\"color: #e67e22; font-weight: 900;\">g</span>\n",
    "    <span style=\"color: #e67e22; font-weight: 900;\">&nbsp;</span>\n",
    "    <span style=\"color: #f1c40f; font-weight: 900; border: 2px solid grey;  border-radius:5px;\">V</span>\n",
    "    <span style=\"color: #2ecc71; font-weight: 900;\">a</span>\n",
    "    <span style=\"color: #d35400; font-weight: 900;\">l</span>\n",
    "    <span style=\"color: #9b59b6; font-weight: 900;\">u</span>\n",
    "    <span style=\"color: #e74c3c; font-weight: 900;\">e</span>\n",
    "    <span style=\"color: #1abc9c; font-weight: 900;\">s</span>\n",
    "</div>\n"
   ]
  },
  {
   "cell_type": "code",
   "execution_count": 15,
   "id": "cb2c2b0e",
   "metadata": {
    "execution": {
     "iopub.execute_input": "2024-09-28T23:12:01.530615Z",
     "iopub.status.busy": "2024-09-28T23:12:01.529700Z",
     "iopub.status.idle": "2024-09-28T23:12:01.541096Z",
     "shell.execute_reply": "2024-09-28T23:12:01.540036Z"
    },
    "papermill": {
     "duration": 0.052655,
     "end_time": "2024-09-28T23:12:01.543429",
     "exception": false,
     "start_time": "2024-09-28T23:12:01.490774",
     "status": "completed"
    },
    "tags": []
   },
   "outputs": [
    {
     "data": {
      "text/plain": [
       "id                    0\n",
       "season                0\n",
       "city                 51\n",
       "date                  0\n",
       "match_type            0\n",
       "player_of_match       5\n",
       "venue                 0\n",
       "team1                 0\n",
       "team2                 0\n",
       "toss_winner           0\n",
       "toss_decision         0\n",
       "winner                5\n",
       "result                0\n",
       "result_margin        19\n",
       "target_runs           3\n",
       "target_overs          3\n",
       "super_over            0\n",
       "method             1074\n",
       "umpire1               0\n",
       "umpire2               0\n",
       "dtype: int64"
      ]
     },
     "execution_count": 15,
     "metadata": {},
     "output_type": "execute_result"
    }
   ],
   "source": [
    "df.isnull().sum() # checking null value"
   ]
  },
  {
   "cell_type": "code",
   "execution_count": 16,
   "id": "3b682df1",
   "metadata": {
    "execution": {
     "iopub.execute_input": "2024-09-28T23:12:01.620848Z",
     "iopub.status.busy": "2024-09-28T23:12:01.620446Z",
     "iopub.status.idle": "2024-09-28T23:12:01.627917Z",
     "shell.execute_reply": "2024-09-28T23:12:01.626852Z"
    },
    "papermill": {
     "duration": 0.048535,
     "end_time": "2024-09-28T23:12:01.630195",
     "exception": false,
     "start_time": "2024-09-28T23:12:01.581660",
     "status": "completed"
    },
    "tags": []
   },
   "outputs": [
    {
     "data": {
      "text/plain": [
       "array([nan, 'D/L'], dtype=object)"
      ]
     },
     "execution_count": 16,
     "metadata": {},
     "output_type": "execute_result"
    }
   ],
   "source": [
    "df['method'].unique()"
   ]
  },
  {
   "cell_type": "code",
   "execution_count": 17,
   "id": "bd39a9c3",
   "metadata": {
    "execution": {
     "iopub.execute_input": "2024-09-28T23:12:01.709542Z",
     "iopub.status.busy": "2024-09-28T23:12:01.709034Z",
     "iopub.status.idle": "2024-09-28T23:12:01.719736Z",
     "shell.execute_reply": "2024-09-28T23:12:01.718623Z"
    },
    "papermill": {
     "duration": 0.052424,
     "end_time": "2024-09-28T23:12:01.722227",
     "exception": false,
     "start_time": "2024-09-28T23:12:01.669803",
     "status": "completed"
    },
    "tags": []
   },
   "outputs": [
    {
     "data": {
      "text/plain": [
       "city\n",
       "Mumbai            173\n",
       "Kolkata            93\n",
       "Delhi              90\n",
       "Chennai            85\n",
       "Hyderabad          77\n",
       "Bangalore          65\n",
       "Chandigarh         61\n",
       "Jaipur             57\n",
       "Pune               51\n",
       "Abu Dhabi          37\n",
       "Ahmedabad          36\n",
       "Bengaluru          29\n",
       "Visakhapatnam      15\n",
       "Durban             15\n",
       "Lucknow            14\n",
       "Dubai              13\n",
       "Dharamsala         13\n",
       "Centurion          12\n",
       "Sharjah            10\n",
       "Rajkot             10\n",
       "Navi Mumbai         9\n",
       "Indore              9\n",
       "Johannesburg        8\n",
       "Ranchi              7\n",
       "Port Elizabeth      7\n",
       "Cuttack             7\n",
       "Cape Town           7\n",
       "Raipur              6\n",
       "Mohali              5\n",
       "Kochi               5\n",
       "Kanpur              4\n",
       "Nagpur              3\n",
       "Kimberley           3\n",
       "Guwahati            3\n",
       "East London         3\n",
       "Bloemfontein        2\n",
       "Name: count, dtype: int64"
      ]
     },
     "execution_count": 17,
     "metadata": {},
     "output_type": "execute_result"
    }
   ],
   "source": [
    "df.value_counts('city')"
   ]
  },
  {
   "cell_type": "code",
   "execution_count": 18,
   "id": "f3d43883",
   "metadata": {
    "execution": {
     "iopub.execute_input": "2024-09-28T23:12:01.802066Z",
     "iopub.status.busy": "2024-09-28T23:12:01.801634Z",
     "iopub.status.idle": "2024-09-28T23:12:01.808361Z",
     "shell.execute_reply": "2024-09-28T23:12:01.807210Z"
    },
    "papermill": {
     "duration": 0.049101,
     "end_time": "2024-09-28T23:12:01.810790",
     "exception": false,
     "start_time": "2024-09-28T23:12:01.761689",
     "status": "completed"
    },
    "tags": []
   },
   "outputs": [],
   "source": [
    "df['city'].fillna('Mumbai', inplace=True) # fill with mode of this columns "
   ]
  },
  {
   "cell_type": "code",
   "execution_count": 19,
   "id": "89c7e600",
   "metadata": {
    "execution": {
     "iopub.execute_input": "2024-09-28T23:12:01.889977Z",
     "iopub.status.busy": "2024-09-28T23:12:01.889562Z",
     "iopub.status.idle": "2024-09-28T23:12:01.896815Z",
     "shell.execute_reply": "2024-09-28T23:12:01.895539Z"
    },
    "papermill": {
     "duration": 0.049298,
     "end_time": "2024-09-28T23:12:01.899206",
     "exception": false,
     "start_time": "2024-09-28T23:12:01.849908",
     "status": "completed"
    },
    "tags": []
   },
   "outputs": [],
   "source": [
    "df['winner'].fillna('No Result', inplace=True)\n",
    "df['player_of_match'].fillna('No Result',inplace=True)"
   ]
  },
  {
   "cell_type": "code",
   "execution_count": 20,
   "id": "3d2ac055",
   "metadata": {
    "execution": {
     "iopub.execute_input": "2024-09-28T23:12:01.978129Z",
     "iopub.status.busy": "2024-09-28T23:12:01.977693Z",
     "iopub.status.idle": "2024-09-28T23:12:01.984730Z",
     "shell.execute_reply": "2024-09-28T23:12:01.983618Z"
    },
    "papermill": {
     "duration": 0.049715,
     "end_time": "2024-09-28T23:12:01.987528",
     "exception": false,
     "start_time": "2024-09-28T23:12:01.937813",
     "status": "completed"
    },
    "tags": []
   },
   "outputs": [],
   "source": [
    "median_margin = df['result_margin'].median()\n",
    "df['result_margin'].fillna(median_margin, inplace=True)"
   ]
  },
  {
   "cell_type": "code",
   "execution_count": 21,
   "id": "f5b3c719",
   "metadata": {
    "execution": {
     "iopub.execute_input": "2024-09-28T23:12:02.065921Z",
     "iopub.status.busy": "2024-09-28T23:12:02.065500Z",
     "iopub.status.idle": "2024-09-28T23:12:02.072278Z",
     "shell.execute_reply": "2024-09-28T23:12:02.071168Z"
    },
    "papermill": {
     "duration": 0.048829,
     "end_time": "2024-09-28T23:12:02.074773",
     "exception": false,
     "start_time": "2024-09-28T23:12:02.025944",
     "status": "completed"
    },
    "tags": []
   },
   "outputs": [],
   "source": [
    "median_target_runs= df['target_runs'].median()\n",
    "df['target_runs'].fillna(median_target_runs, inplace=True)"
   ]
  },
  {
   "cell_type": "code",
   "execution_count": 22,
   "id": "c40fc710",
   "metadata": {
    "execution": {
     "iopub.execute_input": "2024-09-28T23:12:02.153010Z",
     "iopub.status.busy": "2024-09-28T23:12:02.152584Z",
     "iopub.status.idle": "2024-09-28T23:12:02.159355Z",
     "shell.execute_reply": "2024-09-28T23:12:02.158248Z"
    },
    "papermill": {
     "duration": 0.048943,
     "end_time": "2024-09-28T23:12:02.161784",
     "exception": false,
     "start_time": "2024-09-28T23:12:02.112841",
     "status": "completed"
    },
    "tags": []
   },
   "outputs": [],
   "source": [
    "median_target_overs = df['target_overs'].median()\n",
    "df['target_overs'].fillna(median_target_overs, inplace=True)"
   ]
  },
  {
   "cell_type": "code",
   "execution_count": 23,
   "id": "c9c13e97",
   "metadata": {
    "execution": {
     "iopub.execute_input": "2024-09-28T23:12:02.286837Z",
     "iopub.status.busy": "2024-09-28T23:12:02.286421Z",
     "iopub.status.idle": "2024-09-28T23:12:02.292560Z",
     "shell.execute_reply": "2024-09-28T23:12:02.291406Z"
    },
    "papermill": {
     "duration": 0.095073,
     "end_time": "2024-09-28T23:12:02.294826",
     "exception": false,
     "start_time": "2024-09-28T23:12:02.199753",
     "status": "completed"
    },
    "tags": []
   },
   "outputs": [],
   "source": [
    "df['method'].fillna('No method applied', inplace=True)"
   ]
  },
  {
   "cell_type": "code",
   "execution_count": 24,
   "id": "ab813331",
   "metadata": {
    "execution": {
     "iopub.execute_input": "2024-09-28T23:12:02.372467Z",
     "iopub.status.busy": "2024-09-28T23:12:02.372006Z",
     "iopub.status.idle": "2024-09-28T23:12:02.383071Z",
     "shell.execute_reply": "2024-09-28T23:12:02.382005Z"
    },
    "papermill": {
     "duration": 0.052507,
     "end_time": "2024-09-28T23:12:02.385503",
     "exception": false,
     "start_time": "2024-09-28T23:12:02.332996",
     "status": "completed"
    },
    "tags": []
   },
   "outputs": [
    {
     "data": {
      "text/plain": [
       "id                 0\n",
       "season             0\n",
       "city               0\n",
       "date               0\n",
       "match_type         0\n",
       "player_of_match    0\n",
       "venue              0\n",
       "team1              0\n",
       "team2              0\n",
       "toss_winner        0\n",
       "toss_decision      0\n",
       "winner             0\n",
       "result             0\n",
       "result_margin      0\n",
       "target_runs        0\n",
       "target_overs       0\n",
       "super_over         0\n",
       "method             0\n",
       "umpire1            0\n",
       "umpire2            0\n",
       "dtype: int64"
      ]
     },
     "execution_count": 24,
     "metadata": {},
     "output_type": "execute_result"
    }
   ],
   "source": [
    "df.isnull().sum() # Now 0 null values "
   ]
  },
  {
   "cell_type": "markdown",
   "id": "0bad6827",
   "metadata": {
    "papermill": {
     "duration": 0.037776,
     "end_time": "2024-09-28T23:12:02.460822",
     "exception": false,
     "start_time": "2024-09-28T23:12:02.423046",
     "status": "completed"
    },
    "tags": []
   },
   "source": [
    "<a id=\"header\"></a>\n",
    "\n",
    "<div style=\"border: 1px solid; color: black; padding: 3px; width: 97%; background-color: #2d2d2d; border: 5px solid Grey;\">\n",
    "    <center width=\"80%\">\n",
    "        <img src=\"https://media.tenor.com/zs2OU8CMSMIAAAAM/rcb-ipl.gif\" style=\"width: 90%;\">\n",
    "    </center>\n",
    " <p style=\"font-family: 'Pacifico', cursive; font-size: 2rem; color: #ff758c; text-align: center; margin: 0; text-shadow: 2px 2px 4px rgba(0, 0, 0, 0.3); background-color: #2d2d2d; padding: 20px; border-radius: 10px; border: 7px solid #f6f385; width: 95%;\">🔍 Lets Go: Explore & Analyze  (EDA)📊📈🏏</p>\n",
    "</div>\n"
   ]
  },
  {
   "cell_type": "markdown",
   "id": "519aa61e",
   "metadata": {
    "papermill": {
     "duration": 0.038006,
     "end_time": "2024-09-28T23:12:02.537270",
     "exception": false,
     "start_time": "2024-09-28T23:12:02.499264",
     "status": "completed"
    },
    "tags": []
   },
   "source": [
    "<a id=\"1\">\n",
    "<h1 style = \"font-family: Snell Roundhand;font-weight: 500;font-size: 30px; font-style: normal; background-color: #83e8e7; color :black;\"> 1) Stadium where most IPL matches have been Played  :</h1>\n"
   ]
  },
  {
   "cell_type": "code",
   "execution_count": 25,
   "id": "f5277150",
   "metadata": {
    "execution": {
     "iopub.execute_input": "2024-09-28T23:12:02.617709Z",
     "iopub.status.busy": "2024-09-28T23:12:02.617284Z",
     "iopub.status.idle": "2024-09-28T23:12:02.627039Z",
     "shell.execute_reply": "2024-09-28T23:12:02.625822Z"
    },
    "papermill": {
     "duration": 0.054399,
     "end_time": "2024-09-28T23:12:02.629956",
     "exception": false,
     "start_time": "2024-09-28T23:12:02.575557",
     "status": "completed"
    },
    "scrolled": true,
    "tags": []
   },
   "outputs": [
    {
     "data": {
      "text/plain": [
       "array(['M Chinnaswamy Stadium',\n",
       "       'Punjab Cricket Association Stadium, Mohali', 'Feroz Shah Kotla',\n",
       "       'Wankhede Stadium', 'Eden Gardens', 'Sawai Mansingh Stadium',\n",
       "       'Rajiv Gandhi International Stadium, Uppal',\n",
       "       'MA Chidambaram Stadium, Chepauk', 'Dr DY Patil Sports Academy',\n",
       "       'Newlands', \"St George's Park\", 'Kingsmead', 'SuperSport Park',\n",
       "       'Buffalo Park', 'New Wanderers Stadium', 'De Beers Diamond Oval',\n",
       "       'OUTsurance Oval', 'Brabourne Stadium',\n",
       "       'Sardar Patel Stadium, Motera', 'Barabati Stadium',\n",
       "       'Brabourne Stadium, Mumbai',\n",
       "       'Vidarbha Cricket Association Stadium, Jamtha',\n",
       "       'Himachal Pradesh Cricket Association Stadium', 'Nehru Stadium',\n",
       "       'Holkar Cricket Stadium',\n",
       "       'Dr. Y.S. Rajasekhara Reddy ACA-VDCA Cricket Stadium',\n",
       "       'Subrata Roy Sahara Stadium',\n",
       "       'Maharashtra Cricket Association Stadium',\n",
       "       'Shaheed Veer Narayan Singh International Stadium',\n",
       "       'JSCA International Stadium Complex', 'Sheikh Zayed Stadium',\n",
       "       'Sharjah Cricket Stadium', 'Dubai International Cricket Stadium',\n",
       "       'Punjab Cricket Association IS Bindra Stadium, Mohali',\n",
       "       'Saurashtra Cricket Association Stadium', 'Green Park',\n",
       "       'M.Chinnaswamy Stadium',\n",
       "       'Punjab Cricket Association IS Bindra Stadium',\n",
       "       'Rajiv Gandhi International Stadium', 'MA Chidambaram Stadium',\n",
       "       'Arun Jaitley Stadium', 'MA Chidambaram Stadium, Chepauk, Chennai',\n",
       "       'Wankhede Stadium, Mumbai', 'Narendra Modi Stadium, Ahmedabad',\n",
       "       'Arun Jaitley Stadium, Delhi', 'Zayed Cricket Stadium, Abu Dhabi',\n",
       "       'Dr DY Patil Sports Academy, Mumbai',\n",
       "       'Maharashtra Cricket Association Stadium, Pune',\n",
       "       'Eden Gardens, Kolkata',\n",
       "       'Punjab Cricket Association IS Bindra Stadium, Mohali, Chandigarh',\n",
       "       'Bharat Ratna Shri Atal Bihari Vajpayee Ekana Cricket Stadium, Lucknow',\n",
       "       'Rajiv Gandhi International Stadium, Uppal, Hyderabad',\n",
       "       'M Chinnaswamy Stadium, Bengaluru',\n",
       "       'Barsapara Cricket Stadium, Guwahati',\n",
       "       'Sawai Mansingh Stadium, Jaipur',\n",
       "       'Himachal Pradesh Cricket Association Stadium, Dharamsala',\n",
       "       'Maharaja Yadavindra Singh International Cricket Stadium, Mullanpur',\n",
       "       'Dr. Y.S. Rajasekhara Reddy ACA-VDCA Cricket Stadium, Visakhapatnam'],\n",
       "      dtype=object)"
      ]
     },
     "execution_count": 25,
     "metadata": {},
     "output_type": "execute_result"
    }
   ],
   "source": [
    "df['venue'].unique()"
   ]
  },
  {
   "cell_type": "code",
   "execution_count": 26,
   "id": "9ad855d5",
   "metadata": {
    "execution": {
     "iopub.execute_input": "2024-09-28T23:12:02.717942Z",
     "iopub.status.busy": "2024-09-28T23:12:02.717204Z",
     "iopub.status.idle": "2024-09-28T23:12:02.734082Z",
     "shell.execute_reply": "2024-09-28T23:12:02.733165Z"
    },
    "papermill": {
     "duration": 0.058517,
     "end_time": "2024-09-28T23:12:02.736431",
     "exception": false,
     "start_time": "2024-09-28T23:12:02.677914",
     "status": "completed"
    },
    "tags": []
   },
   "outputs": [],
   "source": [
    "df['venue']=df['venue'].str.replace('Feroz Shah Kotla','Arun Jaitley Stadium')\n",
    "df['venue']=df['venue'].str.replace('Arun Jaitley Stadium, Delhi','Arun Jaitley Stadium')\n",
    "df['venue']=df['venue'].str.replace('Eden Gardens, Kolkata','Eden Gardens')\n",
    "df['venue']=df['venue'].str.replace('Eden Gardens, Kolkata, Kolkata','Eden Gardens')\n",
    "df['venue']=df['venue'].str.replace('Wankhede Stadium, Mumbai','Wankhede Stadium')\n",
    "df['venue']=df['venue'].str.replace('Punjab Cricket Association IS Bindra Stadium, Mohali, Chandigarh','Punjab Cricket Association Stadium, Mohali')\n",
    "df['venue']=df['venue'].str.replace('Rajiv Gandhi International Stadium, Uppal, Hyderabad','Rajiv Gandhi International Stadium, Uppal')\n",
    "df['venue']=df['venue'].str.replace('MA Chidambaram Stadium','MA Chidambaram Stadium, Chepauk')\n",
    "df['venue']=df['venue'].str.replace('MA Chidambaram Stadium, Chepauk, Chennai','MA Chidambaram Stadium, Chepauk')"
   ]
  },
  {
   "cell_type": "code",
   "execution_count": 27,
   "id": "e46ffc69",
   "metadata": {
    "execution": {
     "iopub.execute_input": "2024-09-28T23:12:02.838207Z",
     "iopub.status.busy": "2024-09-28T23:12:02.837463Z",
     "iopub.status.idle": "2024-09-28T23:12:02.845311Z",
     "shell.execute_reply": "2024-09-28T23:12:02.844328Z"
    },
    "papermill": {
     "duration": 0.062651,
     "end_time": "2024-09-28T23:12:02.847561",
     "exception": false,
     "start_time": "2024-09-28T23:12:02.784910",
     "status": "completed"
    },
    "tags": []
   },
   "outputs": [],
   "source": [
    "stadium_data=df.value_counts('venue').reset_index()\n",
    "stadium_data.columns = ['stadium', 'Number of matches']"
   ]
  },
  {
   "cell_type": "code",
   "execution_count": 28,
   "id": "8df354ff",
   "metadata": {
    "execution": {
     "iopub.execute_input": "2024-09-28T23:12:02.925715Z",
     "iopub.status.busy": "2024-09-28T23:12:02.924989Z",
     "iopub.status.idle": "2024-09-28T23:12:02.930101Z",
     "shell.execute_reply": "2024-09-28T23:12:02.929150Z"
    },
    "papermill": {
     "duration": 0.04663,
     "end_time": "2024-09-28T23:12:02.932529",
     "exception": false,
     "start_time": "2024-09-28T23:12:02.885899",
     "status": "completed"
    },
    "tags": []
   },
   "outputs": [],
   "source": [
    "Top_10_stadium=stadium_data.head(10)"
   ]
  },
  {
   "cell_type": "code",
   "execution_count": 29,
   "id": "08d457b7",
   "metadata": {
    "execution": {
     "iopub.execute_input": "2024-09-28T23:12:03.018884Z",
     "iopub.status.busy": "2024-09-28T23:12:03.018409Z",
     "iopub.status.idle": "2024-09-28T23:12:03.122994Z",
     "shell.execute_reply": "2024-09-28T23:12:03.121875Z"
    },
    "papermill": {
     "duration": 0.154046,
     "end_time": "2024-09-28T23:12:03.125638",
     "exception": false,
     "start_time": "2024-09-28T23:12:02.971592",
     "status": "completed"
    },
    "tags": []
   },
   "outputs": [
    {
     "data": {
      "text/html": [
       "<style type=\"text/css\">\n",
       "#T_03759_row0_col1 {\n",
       "  background-color: #fee838;\n",
       "  color: #000000;\n",
       "}\n",
       "#T_03759_row1_col1 {\n",
       "  background-color: #b4a76f;\n",
       "  color: #f1f1f1;\n",
       "}\n",
       "#T_03759_row2_col1 {\n",
       "  background-color: #aaa073;\n",
       "  color: #f1f1f1;\n",
       "}\n",
       "#T_03759_row3_col1 {\n",
       "  background-color: #676a71;\n",
       "  color: #f1f1f1;\n",
       "}\n",
       "#T_03759_row4_col1 {\n",
       "  background-color: #5f636f;\n",
       "  color: #f1f1f1;\n",
       "}\n",
       "#T_03759_row5_col1 {\n",
       "  background-color: #39486c;\n",
       "  color: #f1f1f1;\n",
       "}\n",
       "#T_03759_row6_col1 {\n",
       "  background-color: #35456c;\n",
       "  color: #f1f1f1;\n",
       "}\n",
       "#T_03759_row7_col1 {\n",
       "  background-color: #32436d;\n",
       "  color: #f1f1f1;\n",
       "}\n",
       "#T_03759_row8_col1 {\n",
       "  background-color: #18376f;\n",
       "  color: #f1f1f1;\n",
       "}\n",
       "#T_03759_row9_col1 {\n",
       "  background-color: #00224e;\n",
       "  color: #f1f1f1;\n",
       "}\n",
       "</style>\n",
       "<table id=\"T_03759\">\n",
       "  <thead>\n",
       "    <tr>\n",
       "      <th class=\"blank level0\" >&nbsp;</th>\n",
       "      <th id=\"T_03759_level0_col0\" class=\"col_heading level0 col0\" >stadium</th>\n",
       "      <th id=\"T_03759_level0_col1\" class=\"col_heading level0 col1\" >Number of matches</th>\n",
       "    </tr>\n",
       "  </thead>\n",
       "  <tbody>\n",
       "    <tr>\n",
       "      <th id=\"T_03759_level0_row0\" class=\"row_heading level0 row0\" >0</th>\n",
       "      <td id=\"T_03759_row0_col0\" class=\"data row0 col0\" >Wankhede Stadium</td>\n",
       "      <td id=\"T_03759_row0_col1\" class=\"data row0 col1\" >118</td>\n",
       "    </tr>\n",
       "    <tr>\n",
       "      <th id=\"T_03759_level0_row1\" class=\"row_heading level0 row1\" >1</th>\n",
       "      <td id=\"T_03759_row1_col0\" class=\"data row1 col0\" >Eden Gardens</td>\n",
       "      <td id=\"T_03759_row1_col1\" class=\"data row1 col1\" >93</td>\n",
       "    </tr>\n",
       "    <tr>\n",
       "      <th id=\"T_03759_level0_row2\" class=\"row_heading level0 row2\" >2</th>\n",
       "      <td id=\"T_03759_row2_col0\" class=\"data row2 col0\" >Arun Jaitley Stadium</td>\n",
       "      <td id=\"T_03759_row2_col1\" class=\"data row2 col1\" >90</td>\n",
       "    </tr>\n",
       "    <tr>\n",
       "      <th id=\"T_03759_level0_row3\" class=\"row_heading level0 row3\" >3</th>\n",
       "      <td id=\"T_03759_row3_col0\" class=\"data row3 col0\" >M Chinnaswamy Stadium</td>\n",
       "      <td id=\"T_03759_row3_col1\" class=\"data row3 col1\" >65</td>\n",
       "    </tr>\n",
       "    <tr>\n",
       "      <th id=\"T_03759_level0_row4\" class=\"row_heading level0 row4\" >4</th>\n",
       "      <td id=\"T_03759_row4_col0\" class=\"data row4 col0\" >Rajiv Gandhi International Stadium, Uppal</td>\n",
       "      <td id=\"T_03759_row4_col1\" class=\"data row4 col1\" >62</td>\n",
       "    </tr>\n",
       "    <tr>\n",
       "      <th id=\"T_03759_level0_row5\" class=\"row_heading level0 row5\" >5</th>\n",
       "      <td id=\"T_03759_row5_col0\" class=\"data row5 col0\" >MA Chidambaram Stadium, Chepauk, Chepauk</td>\n",
       "      <td id=\"T_03759_row5_col1\" class=\"data row5 col1\" >48</td>\n",
       "    </tr>\n",
       "    <tr>\n",
       "      <th id=\"T_03759_level0_row6\" class=\"row_heading level0 row6\" >6</th>\n",
       "      <td id=\"T_03759_row6_col0\" class=\"data row6 col0\" >Sawai Mansingh Stadium</td>\n",
       "      <td id=\"T_03759_row6_col1\" class=\"data row6 col1\" >47</td>\n",
       "    </tr>\n",
       "    <tr>\n",
       "      <th id=\"T_03759_level0_row7\" class=\"row_heading level0 row7\" >7</th>\n",
       "      <td id=\"T_03759_row7_col0\" class=\"data row7 col0\" >Dubai International Cricket Stadium</td>\n",
       "      <td id=\"T_03759_row7_col1\" class=\"data row7 col1\" >46</td>\n",
       "    </tr>\n",
       "    <tr>\n",
       "      <th id=\"T_03759_level0_row8\" class=\"row_heading level0 row8\" >8</th>\n",
       "      <td id=\"T_03759_row8_col0\" class=\"data row8 col0\" >Punjab Cricket Association Stadium, Mohali</td>\n",
       "      <td id=\"T_03759_row8_col1\" class=\"data row8 col1\" >40</td>\n",
       "    </tr>\n",
       "    <tr>\n",
       "      <th id=\"T_03759_level0_row9\" class=\"row_heading level0 row9\" >9</th>\n",
       "      <td id=\"T_03759_row9_col0\" class=\"data row9 col0\" >Sheikh Zayed Stadium</td>\n",
       "      <td id=\"T_03759_row9_col1\" class=\"data row9 col1\" >29</td>\n",
       "    </tr>\n",
       "  </tbody>\n",
       "</table>\n"
      ],
      "text/plain": [
       "<pandas.io.formats.style.Styler at 0x7a00569ec550>"
      ]
     },
     "execution_count": 29,
     "metadata": {},
     "output_type": "execute_result"
    }
   ],
   "source": [
    "Top_10_stadium.style.background_gradient(cmap='cividis')"
   ]
  },
  {
   "cell_type": "code",
   "execution_count": 30,
   "id": "c48af715",
   "metadata": {
    "execution": {
     "iopub.execute_input": "2024-09-28T23:12:03.205457Z",
     "iopub.status.busy": "2024-09-28T23:12:03.204485Z",
     "iopub.status.idle": "2024-09-28T23:12:05.148369Z",
     "shell.execute_reply": "2024-09-28T23:12:05.147200Z"
    },
    "papermill": {
     "duration": 1.986841,
     "end_time": "2024-09-28T23:12:05.150855",
     "exception": false,
     "start_time": "2024-09-28T23:12:03.164014",
     "status": "completed"
    },
    "tags": []
   },
   "outputs": [
    {
     "data": {
      "text/html": [
       "        <script type=\"text/javascript\">\n",
       "        window.PlotlyConfig = {MathJaxConfig: 'local'};\n",
       "        if (window.MathJax && window.MathJax.Hub && window.MathJax.Hub.Config) {window.MathJax.Hub.Config({SVG: {font: \"STIX-Web\"}});}\n",
       "        if (typeof require !== 'undefined') {\n",
       "        require.undef(\"plotly\");\n",
       "        requirejs.config({\n",
       "            paths: {\n",
       "                'plotly': ['https://cdn.plot.ly/plotly-2.32.0.min']\n",
       "            }\n",
       "        });\n",
       "        require(['plotly'], function(Plotly) {\n",
       "            window._Plotly = Plotly;\n",
       "        });\n",
       "        }\n",
       "        </script>\n",
       "        "
      ]
     },
     "metadata": {},
     "output_type": "display_data"
    },
    {
     "data": {
      "text/html": [
       "<div>                            <div id=\"50d3d9da-4f81-4af6-a862-af9adac70ef4\" class=\"plotly-graph-div\" style=\"height:525px; width:100%;\"></div>            <script type=\"text/javascript\">                require([\"plotly\"], function(Plotly) {                    window.PLOTLYENV=window.PLOTLYENV || {};                                    if (document.getElementById(\"50d3d9da-4f81-4af6-a862-af9adac70ef4\")) {                    Plotly.newPlot(                        \"50d3d9da-4f81-4af6-a862-af9adac70ef4\",                        [{\"alignmentgroup\":\"True\",\"hovertemplate\":\"stadium=%{x}\\u003cbr\\u003eNumber of matches=%{y}\\u003cextra\\u003e\\u003c\\u002fextra\\u003e\",\"legendgroup\":\"\",\"marker\":{\"color\":\"#636efa\",\"pattern\":{\"shape\":\"\"}},\"name\":\"\",\"offsetgroup\":\"\",\"orientation\":\"v\",\"showlegend\":false,\"textposition\":\"auto\",\"x\":[\"Wankhede Stadium\",\"Eden Gardens\",\"Arun Jaitley Stadium\",\"M Chinnaswamy Stadium\",\"Rajiv Gandhi International Stadium, Uppal\",\"MA Chidambaram Stadium, Chepauk, Chepauk\",\"Sawai Mansingh Stadium\",\"Dubai International Cricket Stadium\",\"Punjab Cricket Association Stadium, Mohali\",\"Sheikh Zayed Stadium\"],\"xaxis\":\"x\",\"y\":[118,93,90,65,62,48,47,46,40,29],\"yaxis\":\"y\",\"type\":\"bar\"}],                        {\"template\":{\"data\":{\"barpolar\":[{\"marker\":{\"line\":{\"color\":\"rgb(17,17,17)\",\"width\":0.5},\"pattern\":{\"fillmode\":\"overlay\",\"size\":10,\"solidity\":0.2}},\"type\":\"barpolar\"}],\"bar\":[{\"error_x\":{\"color\":\"#f2f5fa\"},\"error_y\":{\"color\":\"#f2f5fa\"},\"marker\":{\"line\":{\"color\":\"rgb(17,17,17)\",\"width\":0.5},\"pattern\":{\"fillmode\":\"overlay\",\"size\":10,\"solidity\":0.2}},\"type\":\"bar\"}],\"carpet\":[{\"aaxis\":{\"endlinecolor\":\"#A2B1C6\",\"gridcolor\":\"#506784\",\"linecolor\":\"#506784\",\"minorgridcolor\":\"#506784\",\"startlinecolor\":\"#A2B1C6\"},\"baxis\":{\"endlinecolor\":\"#A2B1C6\",\"gridcolor\":\"#506784\",\"linecolor\":\"#506784\",\"minorgridcolor\":\"#506784\",\"startlinecolor\":\"#A2B1C6\"},\"type\":\"carpet\"}],\"choropleth\":[{\"colorbar\":{\"outlinewidth\":0,\"ticks\":\"\"},\"type\":\"choropleth\"}],\"contourcarpet\":[{\"colorbar\":{\"outlinewidth\":0,\"ticks\":\"\"},\"type\":\"contourcarpet\"}],\"contour\":[{\"colorbar\":{\"outlinewidth\":0,\"ticks\":\"\"},\"colorscale\":[[0.0,\"#0d0887\"],[0.1111111111111111,\"#46039f\"],[0.2222222222222222,\"#7201a8\"],[0.3333333333333333,\"#9c179e\"],[0.4444444444444444,\"#bd3786\"],[0.5555555555555556,\"#d8576b\"],[0.6666666666666666,\"#ed7953\"],[0.7777777777777778,\"#fb9f3a\"],[0.8888888888888888,\"#fdca26\"],[1.0,\"#f0f921\"]],\"type\":\"contour\"}],\"heatmapgl\":[{\"colorbar\":{\"outlinewidth\":0,\"ticks\":\"\"},\"colorscale\":[[0.0,\"#0d0887\"],[0.1111111111111111,\"#46039f\"],[0.2222222222222222,\"#7201a8\"],[0.3333333333333333,\"#9c179e\"],[0.4444444444444444,\"#bd3786\"],[0.5555555555555556,\"#d8576b\"],[0.6666666666666666,\"#ed7953\"],[0.7777777777777778,\"#fb9f3a\"],[0.8888888888888888,\"#fdca26\"],[1.0,\"#f0f921\"]],\"type\":\"heatmapgl\"}],\"heatmap\":[{\"colorbar\":{\"outlinewidth\":0,\"ticks\":\"\"},\"colorscale\":[[0.0,\"#0d0887\"],[0.1111111111111111,\"#46039f\"],[0.2222222222222222,\"#7201a8\"],[0.3333333333333333,\"#9c179e\"],[0.4444444444444444,\"#bd3786\"],[0.5555555555555556,\"#d8576b\"],[0.6666666666666666,\"#ed7953\"],[0.7777777777777778,\"#fb9f3a\"],[0.8888888888888888,\"#fdca26\"],[1.0,\"#f0f921\"]],\"type\":\"heatmap\"}],\"histogram2dcontour\":[{\"colorbar\":{\"outlinewidth\":0,\"ticks\":\"\"},\"colorscale\":[[0.0,\"#0d0887\"],[0.1111111111111111,\"#46039f\"],[0.2222222222222222,\"#7201a8\"],[0.3333333333333333,\"#9c179e\"],[0.4444444444444444,\"#bd3786\"],[0.5555555555555556,\"#d8576b\"],[0.6666666666666666,\"#ed7953\"],[0.7777777777777778,\"#fb9f3a\"],[0.8888888888888888,\"#fdca26\"],[1.0,\"#f0f921\"]],\"type\":\"histogram2dcontour\"}],\"histogram2d\":[{\"colorbar\":{\"outlinewidth\":0,\"ticks\":\"\"},\"colorscale\":[[0.0,\"#0d0887\"],[0.1111111111111111,\"#46039f\"],[0.2222222222222222,\"#7201a8\"],[0.3333333333333333,\"#9c179e\"],[0.4444444444444444,\"#bd3786\"],[0.5555555555555556,\"#d8576b\"],[0.6666666666666666,\"#ed7953\"],[0.7777777777777778,\"#fb9f3a\"],[0.8888888888888888,\"#fdca26\"],[1.0,\"#f0f921\"]],\"type\":\"histogram2d\"}],\"histogram\":[{\"marker\":{\"pattern\":{\"fillmode\":\"overlay\",\"size\":10,\"solidity\":0.2}},\"type\":\"histogram\"}],\"mesh3d\":[{\"colorbar\":{\"outlinewidth\":0,\"ticks\":\"\"},\"type\":\"mesh3d\"}],\"parcoords\":[{\"line\":{\"colorbar\":{\"outlinewidth\":0,\"ticks\":\"\"}},\"type\":\"parcoords\"}],\"pie\":[{\"automargin\":true,\"type\":\"pie\"}],\"scatter3d\":[{\"line\":{\"colorbar\":{\"outlinewidth\":0,\"ticks\":\"\"}},\"marker\":{\"colorbar\":{\"outlinewidth\":0,\"ticks\":\"\"}},\"type\":\"scatter3d\"}],\"scattercarpet\":[{\"marker\":{\"colorbar\":{\"outlinewidth\":0,\"ticks\":\"\"}},\"type\":\"scattercarpet\"}],\"scattergeo\":[{\"marker\":{\"colorbar\":{\"outlinewidth\":0,\"ticks\":\"\"}},\"type\":\"scattergeo\"}],\"scattergl\":[{\"marker\":{\"line\":{\"color\":\"#283442\"}},\"type\":\"scattergl\"}],\"scattermapbox\":[{\"marker\":{\"colorbar\":{\"outlinewidth\":0,\"ticks\":\"\"}},\"type\":\"scattermapbox\"}],\"scatterpolargl\":[{\"marker\":{\"colorbar\":{\"outlinewidth\":0,\"ticks\":\"\"}},\"type\":\"scatterpolargl\"}],\"scatterpolar\":[{\"marker\":{\"colorbar\":{\"outlinewidth\":0,\"ticks\":\"\"}},\"type\":\"scatterpolar\"}],\"scatter\":[{\"marker\":{\"line\":{\"color\":\"#283442\"}},\"type\":\"scatter\"}],\"scatterternary\":[{\"marker\":{\"colorbar\":{\"outlinewidth\":0,\"ticks\":\"\"}},\"type\":\"scatterternary\"}],\"surface\":[{\"colorbar\":{\"outlinewidth\":0,\"ticks\":\"\"},\"colorscale\":[[0.0,\"#0d0887\"],[0.1111111111111111,\"#46039f\"],[0.2222222222222222,\"#7201a8\"],[0.3333333333333333,\"#9c179e\"],[0.4444444444444444,\"#bd3786\"],[0.5555555555555556,\"#d8576b\"],[0.6666666666666666,\"#ed7953\"],[0.7777777777777778,\"#fb9f3a\"],[0.8888888888888888,\"#fdca26\"],[1.0,\"#f0f921\"]],\"type\":\"surface\"}],\"table\":[{\"cells\":{\"fill\":{\"color\":\"#506784\"},\"line\":{\"color\":\"rgb(17,17,17)\"}},\"header\":{\"fill\":{\"color\":\"#2a3f5f\"},\"line\":{\"color\":\"rgb(17,17,17)\"}},\"type\":\"table\"}]},\"layout\":{\"annotationdefaults\":{\"arrowcolor\":\"#f2f5fa\",\"arrowhead\":0,\"arrowwidth\":1},\"autotypenumbers\":\"strict\",\"coloraxis\":{\"colorbar\":{\"outlinewidth\":0,\"ticks\":\"\"}},\"colorscale\":{\"diverging\":[[0,\"#8e0152\"],[0.1,\"#c51b7d\"],[0.2,\"#de77ae\"],[0.3,\"#f1b6da\"],[0.4,\"#fde0ef\"],[0.5,\"#f7f7f7\"],[0.6,\"#e6f5d0\"],[0.7,\"#b8e186\"],[0.8,\"#7fbc41\"],[0.9,\"#4d9221\"],[1,\"#276419\"]],\"sequential\":[[0.0,\"#0d0887\"],[0.1111111111111111,\"#46039f\"],[0.2222222222222222,\"#7201a8\"],[0.3333333333333333,\"#9c179e\"],[0.4444444444444444,\"#bd3786\"],[0.5555555555555556,\"#d8576b\"],[0.6666666666666666,\"#ed7953\"],[0.7777777777777778,\"#fb9f3a\"],[0.8888888888888888,\"#fdca26\"],[1.0,\"#f0f921\"]],\"sequentialminus\":[[0.0,\"#0d0887\"],[0.1111111111111111,\"#46039f\"],[0.2222222222222222,\"#7201a8\"],[0.3333333333333333,\"#9c179e\"],[0.4444444444444444,\"#bd3786\"],[0.5555555555555556,\"#d8576b\"],[0.6666666666666666,\"#ed7953\"],[0.7777777777777778,\"#fb9f3a\"],[0.8888888888888888,\"#fdca26\"],[1.0,\"#f0f921\"]]},\"colorway\":[\"#636efa\",\"#EF553B\",\"#00cc96\",\"#ab63fa\",\"#FFA15A\",\"#19d3f3\",\"#FF6692\",\"#B6E880\",\"#FF97FF\",\"#FECB52\"],\"font\":{\"color\":\"#f2f5fa\"},\"geo\":{\"bgcolor\":\"rgb(17,17,17)\",\"lakecolor\":\"rgb(17,17,17)\",\"landcolor\":\"rgb(17,17,17)\",\"showlakes\":true,\"showland\":true,\"subunitcolor\":\"#506784\"},\"hoverlabel\":{\"align\":\"left\"},\"hovermode\":\"closest\",\"mapbox\":{\"style\":\"dark\"},\"paper_bgcolor\":\"rgb(17,17,17)\",\"plot_bgcolor\":\"rgb(17,17,17)\",\"polar\":{\"angularaxis\":{\"gridcolor\":\"#506784\",\"linecolor\":\"#506784\",\"ticks\":\"\"},\"bgcolor\":\"rgb(17,17,17)\",\"radialaxis\":{\"gridcolor\":\"#506784\",\"linecolor\":\"#506784\",\"ticks\":\"\"}},\"scene\":{\"xaxis\":{\"backgroundcolor\":\"rgb(17,17,17)\",\"gridcolor\":\"#506784\",\"gridwidth\":2,\"linecolor\":\"#506784\",\"showbackground\":true,\"ticks\":\"\",\"zerolinecolor\":\"#C8D4E3\"},\"yaxis\":{\"backgroundcolor\":\"rgb(17,17,17)\",\"gridcolor\":\"#506784\",\"gridwidth\":2,\"linecolor\":\"#506784\",\"showbackground\":true,\"ticks\":\"\",\"zerolinecolor\":\"#C8D4E3\"},\"zaxis\":{\"backgroundcolor\":\"rgb(17,17,17)\",\"gridcolor\":\"#506784\",\"gridwidth\":2,\"linecolor\":\"#506784\",\"showbackground\":true,\"ticks\":\"\",\"zerolinecolor\":\"#C8D4E3\"}},\"shapedefaults\":{\"line\":{\"color\":\"#f2f5fa\"}},\"sliderdefaults\":{\"bgcolor\":\"#C8D4E3\",\"bordercolor\":\"rgb(17,17,17)\",\"borderwidth\":1,\"tickwidth\":0},\"ternary\":{\"aaxis\":{\"gridcolor\":\"#506784\",\"linecolor\":\"#506784\",\"ticks\":\"\"},\"baxis\":{\"gridcolor\":\"#506784\",\"linecolor\":\"#506784\",\"ticks\":\"\"},\"bgcolor\":\"rgb(17,17,17)\",\"caxis\":{\"gridcolor\":\"#506784\",\"linecolor\":\"#506784\",\"ticks\":\"\"}},\"title\":{\"x\":0.05},\"updatemenudefaults\":{\"bgcolor\":\"#506784\",\"borderwidth\":0},\"xaxis\":{\"automargin\":true,\"gridcolor\":\"#283442\",\"linecolor\":\"#506784\",\"ticks\":\"\",\"title\":{\"standoff\":15},\"zerolinecolor\":\"#283442\",\"zerolinewidth\":2},\"yaxis\":{\"automargin\":true,\"gridcolor\":\"#283442\",\"linecolor\":\"#506784\",\"ticks\":\"\",\"title\":{\"standoff\":15},\"zerolinecolor\":\"#283442\",\"zerolinewidth\":2}}},\"xaxis\":{\"anchor\":\"y\",\"domain\":[0.0,1.0],\"title\":{\"text\":\"Stadium Names\"}},\"yaxis\":{\"anchor\":\"x\",\"domain\":[0.0,1.0],\"title\":{\"text\":\"Number of Matches Played\"}},\"legend\":{\"tracegroupgap\":0},\"title\":{\"text\":\"Stadium where most IPL matches have been Played\",\"font\":{\"size\":20,\"family\":\"Arial\",\"color\":\"#7ec58a\"},\"x\":0.5,\"xanchor\":\"center\",\"yanchor\":\"top\"},\"barmode\":\"relative\"},                        {\"responsive\": true}                    ).then(function(){\n",
       "                            \n",
       "var gd = document.getElementById('50d3d9da-4f81-4af6-a862-af9adac70ef4');\n",
       "var x = new MutationObserver(function (mutations, observer) {{\n",
       "        var display = window.getComputedStyle(gd).display;\n",
       "        if (!display || display === 'none') {{\n",
       "            console.log([gd, 'removed!']);\n",
       "            Plotly.purge(gd);\n",
       "            observer.disconnect();\n",
       "        }}\n",
       "}});\n",
       "\n",
       "// Listen for the removal of the full notebook cells\n",
       "var notebookContainer = gd.closest('#notebook-container');\n",
       "if (notebookContainer) {{\n",
       "    x.observe(notebookContainer, {childList: true});\n",
       "}}\n",
       "\n",
       "// Listen for the clearing of the current output cell\n",
       "var outputEl = gd.closest('.output');\n",
       "if (outputEl) {{\n",
       "    x.observe(outputEl, {childList: true});\n",
       "}}\n",
       "\n",
       "                        })                };                });            </script>        </div>"
      ]
     },
     "metadata": {},
     "output_type": "display_data"
    }
   ],
   "source": [
    "fig = px.bar(Top_10_stadium, x='stadium', y='Number of matches',title=\"Stadium where most IPL matches have been Played\")\n",
    "\n",
    "fig.update_layout(\n",
    "    xaxis_title=\"Stadium Names\",\n",
    "    yaxis_title=\"Number of Matches Played\",\n",
    "    template=\"plotly_dark\" ,\n",
    "    title={\n",
    "        'x': 0.5,  \n",
    "        'xanchor': 'center',\n",
    "        'yanchor': 'top',\n",
    "        'font': {'size': 20, 'family': 'Arial', 'color': '#7ec58a'}\n",
    "        \n",
    "    }\n",
    ")\n",
    "\n",
    "fig.show()"
   ]
  },
  {
   "cell_type": "markdown",
   "id": "306d4d4b",
   "metadata": {
    "papermill": {
     "duration": 0.038595,
     "end_time": "2024-09-28T23:12:05.229291",
     "exception": false,
     "start_time": "2024-09-28T23:12:05.190696",
     "status": "completed"
    },
    "tags": []
   },
   "source": [
    "<div class=\"alert alert-block alert-info\"><p style='color:black;'>🏏📝Till Now Mumbai's audience get most of the Ipl matches </p>\n",
    "</div>"
   ]
  },
  {
   "cell_type": "markdown",
   "id": "2139ca3a",
   "metadata": {
    "papermill": {
     "duration": 0.039185,
     "end_time": "2024-09-28T23:12:05.307768",
     "exception": false,
     "start_time": "2024-09-28T23:12:05.268583",
     "status": "completed"
    },
    "tags": []
   },
   "source": [
    "<a id=\"1\">\n",
    "<h1 style = \"font-family: Snell Roundhand;font-weight: 500;font-size: 30px; font-style: normal; background-color: #83e8e7; color :black;\"> 2) Average IPL matches Organised by top Stadium of India  :</h1>\n"
   ]
  },
  {
   "cell_type": "code",
   "execution_count": 31,
   "id": "e0c79514",
   "metadata": {
    "execution": {
     "iopub.execute_input": "2024-09-28T23:12:05.387717Z",
     "iopub.status.busy": "2024-09-28T23:12:05.387263Z",
     "iopub.status.idle": "2024-09-28T23:12:05.392835Z",
     "shell.execute_reply": "2024-09-28T23:12:05.391633Z"
    },
    "papermill": {
     "duration": 0.048659,
     "end_time": "2024-09-28T23:12:05.395374",
     "exception": false,
     "start_time": "2024-09-28T23:12:05.346715",
     "status": "completed"
    },
    "tags": []
   },
   "outputs": [],
   "source": [
    "avg_match=Top_10_stadium['Number of matches'].mean()"
   ]
  },
  {
   "cell_type": "code",
   "execution_count": 32,
   "id": "6805f697",
   "metadata": {
    "execution": {
     "iopub.execute_input": "2024-09-28T23:12:05.477580Z",
     "iopub.status.busy": "2024-09-28T23:12:05.476593Z",
     "iopub.status.idle": "2024-09-28T23:12:05.484375Z",
     "shell.execute_reply": "2024-09-28T23:12:05.483188Z"
    },
    "papermill": {
     "duration": 0.05107,
     "end_time": "2024-09-28T23:12:05.486665",
     "exception": false,
     "start_time": "2024-09-28T23:12:05.435595",
     "status": "completed"
    },
    "tags": []
   },
   "outputs": [
    {
     "data": {
      "text/plain": [
       "63.8"
      ]
     },
     "execution_count": 32,
     "metadata": {},
     "output_type": "execute_result"
    }
   ],
   "source": [
    "avg_match"
   ]
  },
  {
   "cell_type": "markdown",
   "id": "3da32bdb",
   "metadata": {
    "papermill": {
     "duration": 0.039467,
     "end_time": "2024-09-28T23:12:05.564624",
     "exception": false,
     "start_time": "2024-09-28T23:12:05.525157",
     "status": "completed"
    },
    "tags": []
   },
   "source": [
    "<div class=\"alert alert-block alert-info\"><p style='color:black;'>🏏📝India's top stadium gets approx 63 IPL matches till now</p>\n",
    "</div>"
   ]
  },
  {
   "cell_type": "markdown",
   "id": "8b7798c5",
   "metadata": {
    "papermill": {
     "duration": 0.051254,
     "end_time": "2024-09-28T23:12:05.654724",
     "exception": false,
     "start_time": "2024-09-28T23:12:05.603470",
     "status": "completed"
    },
    "tags": []
   },
   "source": [
    "<a id=\"1\">\n",
    "<h1 style = \"font-family: Snell Roundhand;font-weight: 500;font-size: 30px; font-style: normal; background-color: #83e8e7; color :black;\"> 3) King IPL Teams till now :</h1>\n"
   ]
  },
  {
   "cell_type": "code",
   "execution_count": 33,
   "id": "6bd50db9",
   "metadata": {
    "execution": {
     "iopub.execute_input": "2024-09-28T23:12:05.744948Z",
     "iopub.status.busy": "2024-09-28T23:12:05.743897Z",
     "iopub.status.idle": "2024-09-28T23:12:05.773431Z",
     "shell.execute_reply": "2024-09-28T23:12:05.772383Z"
    },
    "papermill": {
     "duration": 0.080072,
     "end_time": "2024-09-28T23:12:05.781526",
     "exception": false,
     "start_time": "2024-09-28T23:12:05.701454",
     "status": "completed"
    },
    "tags": []
   },
   "outputs": [
    {
     "data": {
      "text/html": [
       "<div>\n",
       "<style scoped>\n",
       "    .dataframe tbody tr th:only-of-type {\n",
       "        vertical-align: middle;\n",
       "    }\n",
       "\n",
       "    .dataframe tbody tr th {\n",
       "        vertical-align: top;\n",
       "    }\n",
       "\n",
       "    .dataframe thead th {\n",
       "        text-align: right;\n",
       "    }\n",
       "</style>\n",
       "<table border=\"1\" class=\"dataframe\">\n",
       "  <thead>\n",
       "    <tr style=\"text-align: right;\">\n",
       "      <th></th>\n",
       "      <th>id</th>\n",
       "      <th>season</th>\n",
       "      <th>city</th>\n",
       "      <th>date</th>\n",
       "      <th>match_type</th>\n",
       "      <th>player_of_match</th>\n",
       "      <th>venue</th>\n",
       "      <th>team1</th>\n",
       "      <th>team2</th>\n",
       "      <th>toss_winner</th>\n",
       "      <th>toss_decision</th>\n",
       "      <th>winner</th>\n",
       "      <th>result</th>\n",
       "      <th>result_margin</th>\n",
       "      <th>target_runs</th>\n",
       "      <th>target_overs</th>\n",
       "      <th>super_over</th>\n",
       "      <th>method</th>\n",
       "      <th>umpire1</th>\n",
       "      <th>umpire2</th>\n",
       "    </tr>\n",
       "  </thead>\n",
       "  <tbody>\n",
       "    <tr>\n",
       "      <th>0</th>\n",
       "      <td>335982</td>\n",
       "      <td>2007/08</td>\n",
       "      <td>Bangalore</td>\n",
       "      <td>2008-04-18</td>\n",
       "      <td>League</td>\n",
       "      <td>BB McCullum</td>\n",
       "      <td>M Chinnaswamy Stadium</td>\n",
       "      <td>Royal Challengers Bangalore</td>\n",
       "      <td>Kolkata Knight Riders</td>\n",
       "      <td>Royal Challengers Bangalore</td>\n",
       "      <td>field</td>\n",
       "      <td>Kolkata Knight Riders</td>\n",
       "      <td>runs</td>\n",
       "      <td>140.0</td>\n",
       "      <td>223.0</td>\n",
       "      <td>20.0</td>\n",
       "      <td>N</td>\n",
       "      <td>No method applied</td>\n",
       "      <td>Asad Rauf</td>\n",
       "      <td>RE Koertzen</td>\n",
       "    </tr>\n",
       "    <tr>\n",
       "      <th>1</th>\n",
       "      <td>335983</td>\n",
       "      <td>2007/08</td>\n",
       "      <td>Chandigarh</td>\n",
       "      <td>2008-04-19</td>\n",
       "      <td>League</td>\n",
       "      <td>MEK Hussey</td>\n",
       "      <td>Punjab Cricket Association Stadium, Mohali</td>\n",
       "      <td>Kings XI Punjab</td>\n",
       "      <td>Chennai Super Kings</td>\n",
       "      <td>Chennai Super Kings</td>\n",
       "      <td>bat</td>\n",
       "      <td>Chennai Super Kings</td>\n",
       "      <td>runs</td>\n",
       "      <td>33.0</td>\n",
       "      <td>241.0</td>\n",
       "      <td>20.0</td>\n",
       "      <td>N</td>\n",
       "      <td>No method applied</td>\n",
       "      <td>MR Benson</td>\n",
       "      <td>SL Shastri</td>\n",
       "    </tr>\n",
       "    <tr>\n",
       "      <th>2</th>\n",
       "      <td>335984</td>\n",
       "      <td>2007/08</td>\n",
       "      <td>Delhi</td>\n",
       "      <td>2008-04-19</td>\n",
       "      <td>League</td>\n",
       "      <td>MF Maharoof</td>\n",
       "      <td>Arun Jaitley Stadium</td>\n",
       "      <td>Delhi Daredevils</td>\n",
       "      <td>Rajasthan Royals</td>\n",
       "      <td>Rajasthan Royals</td>\n",
       "      <td>bat</td>\n",
       "      <td>Delhi Daredevils</td>\n",
       "      <td>wickets</td>\n",
       "      <td>9.0</td>\n",
       "      <td>130.0</td>\n",
       "      <td>20.0</td>\n",
       "      <td>N</td>\n",
       "      <td>No method applied</td>\n",
       "      <td>Aleem Dar</td>\n",
       "      <td>GA Pratapkumar</td>\n",
       "    </tr>\n",
       "    <tr>\n",
       "      <th>3</th>\n",
       "      <td>335985</td>\n",
       "      <td>2007/08</td>\n",
       "      <td>Mumbai</td>\n",
       "      <td>2008-04-20</td>\n",
       "      <td>League</td>\n",
       "      <td>MV Boucher</td>\n",
       "      <td>Wankhede Stadium</td>\n",
       "      <td>Mumbai Indians</td>\n",
       "      <td>Royal Challengers Bangalore</td>\n",
       "      <td>Mumbai Indians</td>\n",
       "      <td>bat</td>\n",
       "      <td>Royal Challengers Bangalore</td>\n",
       "      <td>wickets</td>\n",
       "      <td>5.0</td>\n",
       "      <td>166.0</td>\n",
       "      <td>20.0</td>\n",
       "      <td>N</td>\n",
       "      <td>No method applied</td>\n",
       "      <td>SJ Davis</td>\n",
       "      <td>DJ Harper</td>\n",
       "    </tr>\n",
       "    <tr>\n",
       "      <th>4</th>\n",
       "      <td>335986</td>\n",
       "      <td>2007/08</td>\n",
       "      <td>Kolkata</td>\n",
       "      <td>2008-04-20</td>\n",
       "      <td>League</td>\n",
       "      <td>DJ Hussey</td>\n",
       "      <td>Eden Gardens</td>\n",
       "      <td>Kolkata Knight Riders</td>\n",
       "      <td>Deccan Chargers</td>\n",
       "      <td>Deccan Chargers</td>\n",
       "      <td>bat</td>\n",
       "      <td>Kolkata Knight Riders</td>\n",
       "      <td>wickets</td>\n",
       "      <td>5.0</td>\n",
       "      <td>111.0</td>\n",
       "      <td>20.0</td>\n",
       "      <td>N</td>\n",
       "      <td>No method applied</td>\n",
       "      <td>BF Bowden</td>\n",
       "      <td>K Hariharan</td>\n",
       "    </tr>\n",
       "  </tbody>\n",
       "</table>\n",
       "</div>"
      ],
      "text/plain": [
       "       id   season        city        date match_type player_of_match  \\\n",
       "0  335982  2007/08   Bangalore  2008-04-18     League     BB McCullum   \n",
       "1  335983  2007/08  Chandigarh  2008-04-19     League      MEK Hussey   \n",
       "2  335984  2007/08       Delhi  2008-04-19     League     MF Maharoof   \n",
       "3  335985  2007/08      Mumbai  2008-04-20     League      MV Boucher   \n",
       "4  335986  2007/08     Kolkata  2008-04-20     League       DJ Hussey   \n",
       "\n",
       "                                        venue                        team1  \\\n",
       "0                       M Chinnaswamy Stadium  Royal Challengers Bangalore   \n",
       "1  Punjab Cricket Association Stadium, Mohali              Kings XI Punjab   \n",
       "2                        Arun Jaitley Stadium             Delhi Daredevils   \n",
       "3                            Wankhede Stadium               Mumbai Indians   \n",
       "4                                Eden Gardens        Kolkata Knight Riders   \n",
       "\n",
       "                         team2                  toss_winner toss_decision  \\\n",
       "0        Kolkata Knight Riders  Royal Challengers Bangalore         field   \n",
       "1          Chennai Super Kings          Chennai Super Kings           bat   \n",
       "2             Rajasthan Royals             Rajasthan Royals           bat   \n",
       "3  Royal Challengers Bangalore               Mumbai Indians           bat   \n",
       "4              Deccan Chargers              Deccan Chargers           bat   \n",
       "\n",
       "                        winner   result  result_margin  target_runs  \\\n",
       "0        Kolkata Knight Riders     runs          140.0        223.0   \n",
       "1          Chennai Super Kings     runs           33.0        241.0   \n",
       "2             Delhi Daredevils  wickets            9.0        130.0   \n",
       "3  Royal Challengers Bangalore  wickets            5.0        166.0   \n",
       "4        Kolkata Knight Riders  wickets            5.0        111.0   \n",
       "\n",
       "   target_overs super_over             method    umpire1         umpire2  \n",
       "0          20.0          N  No method applied  Asad Rauf     RE Koertzen  \n",
       "1          20.0          N  No method applied  MR Benson      SL Shastri  \n",
       "2          20.0          N  No method applied  Aleem Dar  GA Pratapkumar  \n",
       "3          20.0          N  No method applied   SJ Davis       DJ Harper  \n",
       "4          20.0          N  No method applied  BF Bowden     K Hariharan  "
      ]
     },
     "execution_count": 33,
     "metadata": {},
     "output_type": "execute_result"
    }
   ],
   "source": [
    "df.head()"
   ]
  },
  {
   "cell_type": "code",
   "execution_count": 34,
   "id": "705293a3",
   "metadata": {
    "execution": {
     "iopub.execute_input": "2024-09-28T23:12:05.866235Z",
     "iopub.status.busy": "2024-09-28T23:12:05.865461Z",
     "iopub.status.idle": "2024-09-28T23:12:05.876372Z",
     "shell.execute_reply": "2024-09-28T23:12:05.874882Z"
    },
    "papermill": {
     "duration": 0.05591,
     "end_time": "2024-09-28T23:12:05.878999",
     "exception": false,
     "start_time": "2024-09-28T23:12:05.823089",
     "status": "completed"
    },
    "tags": []
   },
   "outputs": [],
   "source": [
    "winning_data=df.value_counts('winner').reset_index(name='Number of matches win').style.background_gradient(cmap='viridis')"
   ]
  },
  {
   "cell_type": "code",
   "execution_count": 35,
   "id": "d4c24355",
   "metadata": {
    "execution": {
     "iopub.execute_input": "2024-09-28T23:12:05.967585Z",
     "iopub.status.busy": "2024-09-28T23:12:05.966509Z",
     "iopub.status.idle": "2024-09-28T23:12:05.984446Z",
     "shell.execute_reply": "2024-09-28T23:12:05.983214Z"
    },
    "papermill": {
     "duration": 0.064149,
     "end_time": "2024-09-28T23:12:05.987058",
     "exception": false,
     "start_time": "2024-09-28T23:12:05.922909",
     "status": "completed"
    },
    "tags": []
   },
   "outputs": [
    {
     "data": {
      "text/html": [
       "<style type=\"text/css\">\n",
       "#T_9db34_row0_col1 {\n",
       "  background-color: #fde725;\n",
       "  color: #000000;\n",
       "}\n",
       "#T_9db34_row1_col1 {\n",
       "  background-color: #e2e418;\n",
       "  color: #000000;\n",
       "}\n",
       "#T_9db34_row2_col1 {\n",
       "  background-color: #c2df23;\n",
       "  color: #000000;\n",
       "}\n",
       "#T_9db34_row3_col1 {\n",
       "  background-color: #7ad151;\n",
       "  color: #000000;\n",
       "}\n",
       "#T_9db34_row4_col1 {\n",
       "  background-color: #69cd5b;\n",
       "  color: #000000;\n",
       "}\n",
       "#T_9db34_row5_col1, #T_9db34_row6_col1 {\n",
       "  background-color: #22a785;\n",
       "  color: #f1f1f1;\n",
       "}\n",
       "#T_9db34_row7_col1 {\n",
       "  background-color: #25838e;\n",
       "  color: #f1f1f1;\n",
       "}\n",
       "#T_9db34_row8_col1 {\n",
       "  background-color: #33628d;\n",
       "  color: #f1f1f1;\n",
       "}\n",
       "#T_9db34_row9_col1 {\n",
       "  background-color: #443b84;\n",
       "  color: #f1f1f1;\n",
       "}\n",
       "#T_9db34_row10_col1 {\n",
       "  background-color: #443983;\n",
       "  color: #f1f1f1;\n",
       "}\n",
       "#T_9db34_row11_col1, #T_9db34_row12_col1 {\n",
       "  background-color: #472f7d;\n",
       "  color: #f1f1f1;\n",
       "}\n",
       "#T_9db34_row13_col1 {\n",
       "  background-color: #481668;\n",
       "  color: #f1f1f1;\n",
       "}\n",
       "#T_9db34_row14_col1 {\n",
       "  background-color: #471365;\n",
       "  color: #f1f1f1;\n",
       "}\n",
       "#T_9db34_row15_col1 {\n",
       "  background-color: #470e61;\n",
       "  color: #f1f1f1;\n",
       "}\n",
       "#T_9db34_row16_col1 {\n",
       "  background-color: #450559;\n",
       "  color: #f1f1f1;\n",
       "}\n",
       "#T_9db34_row17_col1 {\n",
       "  background-color: #440256;\n",
       "  color: #f1f1f1;\n",
       "}\n",
       "#T_9db34_row18_col1, #T_9db34_row19_col1 {\n",
       "  background-color: #440154;\n",
       "  color: #f1f1f1;\n",
       "}\n",
       "</style>\n",
       "<table id=\"T_9db34\">\n",
       "  <thead>\n",
       "    <tr>\n",
       "      <th class=\"blank level0\" >&nbsp;</th>\n",
       "      <th id=\"T_9db34_level0_col0\" class=\"col_heading level0 col0\" >winner</th>\n",
       "      <th id=\"T_9db34_level0_col1\" class=\"col_heading level0 col1\" >Number of matches win</th>\n",
       "    </tr>\n",
       "  </thead>\n",
       "  <tbody>\n",
       "    <tr>\n",
       "      <th id=\"T_9db34_level0_row0\" class=\"row_heading level0 row0\" >0</th>\n",
       "      <td id=\"T_9db34_row0_col0\" class=\"data row0 col0\" >Mumbai Indians</td>\n",
       "      <td id=\"T_9db34_row0_col1\" class=\"data row0 col1\" >144</td>\n",
       "    </tr>\n",
       "    <tr>\n",
       "      <th id=\"T_9db34_level0_row1\" class=\"row_heading level0 row1\" >1</th>\n",
       "      <td id=\"T_9db34_row1_col0\" class=\"data row1 col0\" >Chennai Super Kings</td>\n",
       "      <td id=\"T_9db34_row1_col1\" class=\"data row1 col1\" >138</td>\n",
       "    </tr>\n",
       "    <tr>\n",
       "      <th id=\"T_9db34_level0_row2\" class=\"row_heading level0 row2\" >2</th>\n",
       "      <td id=\"T_9db34_row2_col0\" class=\"data row2 col0\" >Kolkata Knight Riders</td>\n",
       "      <td id=\"T_9db34_row2_col1\" class=\"data row2 col1\" >131</td>\n",
       "    </tr>\n",
       "    <tr>\n",
       "      <th id=\"T_9db34_level0_row3\" class=\"row_heading level0 row3\" >3</th>\n",
       "      <td id=\"T_9db34_row3_col0\" class=\"data row3 col0\" >Royal Challengers Bangalore</td>\n",
       "      <td id=\"T_9db34_row3_col1\" class=\"data row3 col1\" >116</td>\n",
       "    </tr>\n",
       "    <tr>\n",
       "      <th id=\"T_9db34_level0_row4\" class=\"row_heading level0 row4\" >4</th>\n",
       "      <td id=\"T_9db34_row4_col0\" class=\"data row4 col0\" >Rajasthan Royals</td>\n",
       "      <td id=\"T_9db34_row4_col1\" class=\"data row4 col1\" >112</td>\n",
       "    </tr>\n",
       "    <tr>\n",
       "      <th id=\"T_9db34_level0_row5\" class=\"row_heading level0 row5\" >5</th>\n",
       "      <td id=\"T_9db34_row5_col0\" class=\"data row5 col0\" >Sunrisers Hyderabad</td>\n",
       "      <td id=\"T_9db34_row5_col1\" class=\"data row5 col1\" >88</td>\n",
       "    </tr>\n",
       "    <tr>\n",
       "      <th id=\"T_9db34_level0_row6\" class=\"row_heading level0 row6\" >6</th>\n",
       "      <td id=\"T_9db34_row6_col0\" class=\"data row6 col0\" >Kings XI Punjab</td>\n",
       "      <td id=\"T_9db34_row6_col1\" class=\"data row6 col1\" >88</td>\n",
       "    </tr>\n",
       "    <tr>\n",
       "      <th id=\"T_9db34_level0_row7\" class=\"row_heading level0 row7\" >7</th>\n",
       "      <td id=\"T_9db34_row7_col0\" class=\"data row7 col0\" >Delhi Daredevils</td>\n",
       "      <td id=\"T_9db34_row7_col1\" class=\"data row7 col1\" >67</td>\n",
       "    </tr>\n",
       "    <tr>\n",
       "      <th id=\"T_9db34_level0_row8\" class=\"row_heading level0 row8\" >8</th>\n",
       "      <td id=\"T_9db34_row8_col0\" class=\"data row8 col0\" >Delhi Capitals</td>\n",
       "      <td id=\"T_9db34_row8_col1\" class=\"data row8 col1\" >48</td>\n",
       "    </tr>\n",
       "    <tr>\n",
       "      <th id=\"T_9db34_level0_row9\" class=\"row_heading level0 row9\" >9</th>\n",
       "      <td id=\"T_9db34_row9_col0\" class=\"data row9 col0\" >Deccan Chargers</td>\n",
       "      <td id=\"T_9db34_row9_col1\" class=\"data row9 col1\" >29</td>\n",
       "    </tr>\n",
       "    <tr>\n",
       "      <th id=\"T_9db34_level0_row10\" class=\"row_heading level0 row10\" >10</th>\n",
       "      <td id=\"T_9db34_row10_col0\" class=\"data row10 col0\" >Gujarat Titans</td>\n",
       "      <td id=\"T_9db34_row10_col1\" class=\"data row10 col1\" >28</td>\n",
       "    </tr>\n",
       "    <tr>\n",
       "      <th id=\"T_9db34_level0_row11\" class=\"row_heading level0 row11\" >11</th>\n",
       "      <td id=\"T_9db34_row11_col0\" class=\"data row11 col0\" >Lucknow Super Giants</td>\n",
       "      <td id=\"T_9db34_row11_col1\" class=\"data row11 col1\" >24</td>\n",
       "    </tr>\n",
       "    <tr>\n",
       "      <th id=\"T_9db34_level0_row12\" class=\"row_heading level0 row12\" >12</th>\n",
       "      <td id=\"T_9db34_row12_col0\" class=\"data row12 col0\" >Punjab Kings</td>\n",
       "      <td id=\"T_9db34_row12_col1\" class=\"data row12 col1\" >24</td>\n",
       "    </tr>\n",
       "    <tr>\n",
       "      <th id=\"T_9db34_level0_row13\" class=\"row_heading level0 row13\" >13</th>\n",
       "      <td id=\"T_9db34_row13_col0\" class=\"data row13 col0\" >Gujarat Lions</td>\n",
       "      <td id=\"T_9db34_row13_col1\" class=\"data row13 col1\" >13</td>\n",
       "    </tr>\n",
       "    <tr>\n",
       "      <th id=\"T_9db34_level0_row14\" class=\"row_heading level0 row14\" >14</th>\n",
       "      <td id=\"T_9db34_row14_col0\" class=\"data row14 col0\" >Pune Warriors</td>\n",
       "      <td id=\"T_9db34_row14_col1\" class=\"data row14 col1\" >12</td>\n",
       "    </tr>\n",
       "    <tr>\n",
       "      <th id=\"T_9db34_level0_row15\" class=\"row_heading level0 row15\" >15</th>\n",
       "      <td id=\"T_9db34_row15_col0\" class=\"data row15 col0\" >Rising Pune Supergiant</td>\n",
       "      <td id=\"T_9db34_row15_col1\" class=\"data row15 col1\" >10</td>\n",
       "    </tr>\n",
       "    <tr>\n",
       "      <th id=\"T_9db34_level0_row16\" class=\"row_heading level0 row16\" >16</th>\n",
       "      <td id=\"T_9db34_row16_col0\" class=\"data row16 col0\" >Royal Challengers Bengaluru</td>\n",
       "      <td id=\"T_9db34_row16_col1\" class=\"data row16 col1\" >7</td>\n",
       "    </tr>\n",
       "    <tr>\n",
       "      <th id=\"T_9db34_level0_row17\" class=\"row_heading level0 row17\" >17</th>\n",
       "      <td id=\"T_9db34_row17_col0\" class=\"data row17 col0\" >Kochi Tuskers Kerala</td>\n",
       "      <td id=\"T_9db34_row17_col1\" class=\"data row17 col1\" >6</td>\n",
       "    </tr>\n",
       "    <tr>\n",
       "      <th id=\"T_9db34_level0_row18\" class=\"row_heading level0 row18\" >18</th>\n",
       "      <td id=\"T_9db34_row18_col0\" class=\"data row18 col0\" >Rising Pune Supergiants</td>\n",
       "      <td id=\"T_9db34_row18_col1\" class=\"data row18 col1\" >5</td>\n",
       "    </tr>\n",
       "    <tr>\n",
       "      <th id=\"T_9db34_level0_row19\" class=\"row_heading level0 row19\" >19</th>\n",
       "      <td id=\"T_9db34_row19_col0\" class=\"data row19 col0\" >No Result</td>\n",
       "      <td id=\"T_9db34_row19_col1\" class=\"data row19 col1\" >5</td>\n",
       "    </tr>\n",
       "  </tbody>\n",
       "</table>\n"
      ],
      "text/plain": [
       "<pandas.io.formats.style.Styler at 0x7a00569ec190>"
      ]
     },
     "execution_count": 35,
     "metadata": {},
     "output_type": "execute_result"
    }
   ],
   "source": [
    "winning_data"
   ]
  },
  {
   "cell_type": "code",
   "execution_count": 36,
   "id": "9d031a5e",
   "metadata": {
    "execution": {
     "iopub.execute_input": "2024-09-28T23:12:06.072478Z",
     "iopub.status.busy": "2024-09-28T23:12:06.071454Z",
     "iopub.status.idle": "2024-09-28T23:12:06.204522Z",
     "shell.execute_reply": "2024-09-28T23:12:06.203327Z"
    },
    "papermill": {
     "duration": 0.178199,
     "end_time": "2024-09-28T23:12:06.207008",
     "exception": false,
     "start_time": "2024-09-28T23:12:06.028809",
     "status": "completed"
    },
    "tags": []
   },
   "outputs": [
    {
     "data": {
      "text/html": [
       "<div>                            <div id=\"83b32ca6-9ba8-4db3-9009-97cbca885478\" class=\"plotly-graph-div\" style=\"height:525px; width:100%;\"></div>            <script type=\"text/javascript\">                require([\"plotly\"], function(Plotly) {                    window.PLOTLYENV=window.PLOTLYENV || {};                                    if (document.getElementById(\"83b32ca6-9ba8-4db3-9009-97cbca885478\")) {                    Plotly.newPlot(                        \"83b32ca6-9ba8-4db3-9009-97cbca885478\",                        [{\"domain\":{\"x\":[0.0,1.0],\"y\":[0.0,1.0]},\"hovertemplate\":\"winner=%{label}\\u003cbr\\u003eNumber of matches win=%{value}\\u003cextra\\u003e\\u003c\\u002fextra\\u003e\",\"labels\":[\"Mumbai Indians\",\"Chennai Super Kings\",\"Kolkata Knight Riders\",\"Royal Challengers Bangalore\",\"Rajasthan Royals\",\"Sunrisers Hyderabad\",\"Kings XI Punjab\",\"Delhi Daredevils\",\"Delhi Capitals\",\"Deccan Chargers\",\"Gujarat Titans\",\"Lucknow Super Giants\",\"Punjab Kings\",\"Gujarat Lions\",\"Pune Warriors\",\"Rising Pune Supergiant\",\"Royal Challengers Bengaluru\",\"Kochi Tuskers Kerala\",\"Rising Pune Supergiants\",\"No Result\"],\"legendgroup\":\"\",\"name\":\"\",\"showlegend\":true,\"values\":[144,138,131,116,112,88,88,67,48,29,28,24,24,13,12,10,7,6,5,5],\"type\":\"pie\"}],                        {\"template\":{\"data\":{\"barpolar\":[{\"marker\":{\"line\":{\"color\":\"rgb(17,17,17)\",\"width\":0.5},\"pattern\":{\"fillmode\":\"overlay\",\"size\":10,\"solidity\":0.2}},\"type\":\"barpolar\"}],\"bar\":[{\"error_x\":{\"color\":\"#f2f5fa\"},\"error_y\":{\"color\":\"#f2f5fa\"},\"marker\":{\"line\":{\"color\":\"rgb(17,17,17)\",\"width\":0.5},\"pattern\":{\"fillmode\":\"overlay\",\"size\":10,\"solidity\":0.2}},\"type\":\"bar\"}],\"carpet\":[{\"aaxis\":{\"endlinecolor\":\"#A2B1C6\",\"gridcolor\":\"#506784\",\"linecolor\":\"#506784\",\"minorgridcolor\":\"#506784\",\"startlinecolor\":\"#A2B1C6\"},\"baxis\":{\"endlinecolor\":\"#A2B1C6\",\"gridcolor\":\"#506784\",\"linecolor\":\"#506784\",\"minorgridcolor\":\"#506784\",\"startlinecolor\":\"#A2B1C6\"},\"type\":\"carpet\"}],\"choropleth\":[{\"colorbar\":{\"outlinewidth\":0,\"ticks\":\"\"},\"type\":\"choropleth\"}],\"contourcarpet\":[{\"colorbar\":{\"outlinewidth\":0,\"ticks\":\"\"},\"type\":\"contourcarpet\"}],\"contour\":[{\"colorbar\":{\"outlinewidth\":0,\"ticks\":\"\"},\"colorscale\":[[0.0,\"#0d0887\"],[0.1111111111111111,\"#46039f\"],[0.2222222222222222,\"#7201a8\"],[0.3333333333333333,\"#9c179e\"],[0.4444444444444444,\"#bd3786\"],[0.5555555555555556,\"#d8576b\"],[0.6666666666666666,\"#ed7953\"],[0.7777777777777778,\"#fb9f3a\"],[0.8888888888888888,\"#fdca26\"],[1.0,\"#f0f921\"]],\"type\":\"contour\"}],\"heatmapgl\":[{\"colorbar\":{\"outlinewidth\":0,\"ticks\":\"\"},\"colorscale\":[[0.0,\"#0d0887\"],[0.1111111111111111,\"#46039f\"],[0.2222222222222222,\"#7201a8\"],[0.3333333333333333,\"#9c179e\"],[0.4444444444444444,\"#bd3786\"],[0.5555555555555556,\"#d8576b\"],[0.6666666666666666,\"#ed7953\"],[0.7777777777777778,\"#fb9f3a\"],[0.8888888888888888,\"#fdca26\"],[1.0,\"#f0f921\"]],\"type\":\"heatmapgl\"}],\"heatmap\":[{\"colorbar\":{\"outlinewidth\":0,\"ticks\":\"\"},\"colorscale\":[[0.0,\"#0d0887\"],[0.1111111111111111,\"#46039f\"],[0.2222222222222222,\"#7201a8\"],[0.3333333333333333,\"#9c179e\"],[0.4444444444444444,\"#bd3786\"],[0.5555555555555556,\"#d8576b\"],[0.6666666666666666,\"#ed7953\"],[0.7777777777777778,\"#fb9f3a\"],[0.8888888888888888,\"#fdca26\"],[1.0,\"#f0f921\"]],\"type\":\"heatmap\"}],\"histogram2dcontour\":[{\"colorbar\":{\"outlinewidth\":0,\"ticks\":\"\"},\"colorscale\":[[0.0,\"#0d0887\"],[0.1111111111111111,\"#46039f\"],[0.2222222222222222,\"#7201a8\"],[0.3333333333333333,\"#9c179e\"],[0.4444444444444444,\"#bd3786\"],[0.5555555555555556,\"#d8576b\"],[0.6666666666666666,\"#ed7953\"],[0.7777777777777778,\"#fb9f3a\"],[0.8888888888888888,\"#fdca26\"],[1.0,\"#f0f921\"]],\"type\":\"histogram2dcontour\"}],\"histogram2d\":[{\"colorbar\":{\"outlinewidth\":0,\"ticks\":\"\"},\"colorscale\":[[0.0,\"#0d0887\"],[0.1111111111111111,\"#46039f\"],[0.2222222222222222,\"#7201a8\"],[0.3333333333333333,\"#9c179e\"],[0.4444444444444444,\"#bd3786\"],[0.5555555555555556,\"#d8576b\"],[0.6666666666666666,\"#ed7953\"],[0.7777777777777778,\"#fb9f3a\"],[0.8888888888888888,\"#fdca26\"],[1.0,\"#f0f921\"]],\"type\":\"histogram2d\"}],\"histogram\":[{\"marker\":{\"pattern\":{\"fillmode\":\"overlay\",\"size\":10,\"solidity\":0.2}},\"type\":\"histogram\"}],\"mesh3d\":[{\"colorbar\":{\"outlinewidth\":0,\"ticks\":\"\"},\"type\":\"mesh3d\"}],\"parcoords\":[{\"line\":{\"colorbar\":{\"outlinewidth\":0,\"ticks\":\"\"}},\"type\":\"parcoords\"}],\"pie\":[{\"automargin\":true,\"type\":\"pie\"}],\"scatter3d\":[{\"line\":{\"colorbar\":{\"outlinewidth\":0,\"ticks\":\"\"}},\"marker\":{\"colorbar\":{\"outlinewidth\":0,\"ticks\":\"\"}},\"type\":\"scatter3d\"}],\"scattercarpet\":[{\"marker\":{\"colorbar\":{\"outlinewidth\":0,\"ticks\":\"\"}},\"type\":\"scattercarpet\"}],\"scattergeo\":[{\"marker\":{\"colorbar\":{\"outlinewidth\":0,\"ticks\":\"\"}},\"type\":\"scattergeo\"}],\"scattergl\":[{\"marker\":{\"line\":{\"color\":\"#283442\"}},\"type\":\"scattergl\"}],\"scattermapbox\":[{\"marker\":{\"colorbar\":{\"outlinewidth\":0,\"ticks\":\"\"}},\"type\":\"scattermapbox\"}],\"scatterpolargl\":[{\"marker\":{\"colorbar\":{\"outlinewidth\":0,\"ticks\":\"\"}},\"type\":\"scatterpolargl\"}],\"scatterpolar\":[{\"marker\":{\"colorbar\":{\"outlinewidth\":0,\"ticks\":\"\"}},\"type\":\"scatterpolar\"}],\"scatter\":[{\"marker\":{\"line\":{\"color\":\"#283442\"}},\"type\":\"scatter\"}],\"scatterternary\":[{\"marker\":{\"colorbar\":{\"outlinewidth\":0,\"ticks\":\"\"}},\"type\":\"scatterternary\"}],\"surface\":[{\"colorbar\":{\"outlinewidth\":0,\"ticks\":\"\"},\"colorscale\":[[0.0,\"#0d0887\"],[0.1111111111111111,\"#46039f\"],[0.2222222222222222,\"#7201a8\"],[0.3333333333333333,\"#9c179e\"],[0.4444444444444444,\"#bd3786\"],[0.5555555555555556,\"#d8576b\"],[0.6666666666666666,\"#ed7953\"],[0.7777777777777778,\"#fb9f3a\"],[0.8888888888888888,\"#fdca26\"],[1.0,\"#f0f921\"]],\"type\":\"surface\"}],\"table\":[{\"cells\":{\"fill\":{\"color\":\"#506784\"},\"line\":{\"color\":\"rgb(17,17,17)\"}},\"header\":{\"fill\":{\"color\":\"#2a3f5f\"},\"line\":{\"color\":\"rgb(17,17,17)\"}},\"type\":\"table\"}]},\"layout\":{\"annotationdefaults\":{\"arrowcolor\":\"#f2f5fa\",\"arrowhead\":0,\"arrowwidth\":1},\"autotypenumbers\":\"strict\",\"coloraxis\":{\"colorbar\":{\"outlinewidth\":0,\"ticks\":\"\"}},\"colorscale\":{\"diverging\":[[0,\"#8e0152\"],[0.1,\"#c51b7d\"],[0.2,\"#de77ae\"],[0.3,\"#f1b6da\"],[0.4,\"#fde0ef\"],[0.5,\"#f7f7f7\"],[0.6,\"#e6f5d0\"],[0.7,\"#b8e186\"],[0.8,\"#7fbc41\"],[0.9,\"#4d9221\"],[1,\"#276419\"]],\"sequential\":[[0.0,\"#0d0887\"],[0.1111111111111111,\"#46039f\"],[0.2222222222222222,\"#7201a8\"],[0.3333333333333333,\"#9c179e\"],[0.4444444444444444,\"#bd3786\"],[0.5555555555555556,\"#d8576b\"],[0.6666666666666666,\"#ed7953\"],[0.7777777777777778,\"#fb9f3a\"],[0.8888888888888888,\"#fdca26\"],[1.0,\"#f0f921\"]],\"sequentialminus\":[[0.0,\"#0d0887\"],[0.1111111111111111,\"#46039f\"],[0.2222222222222222,\"#7201a8\"],[0.3333333333333333,\"#9c179e\"],[0.4444444444444444,\"#bd3786\"],[0.5555555555555556,\"#d8576b\"],[0.6666666666666666,\"#ed7953\"],[0.7777777777777778,\"#fb9f3a\"],[0.8888888888888888,\"#fdca26\"],[1.0,\"#f0f921\"]]},\"colorway\":[\"#636efa\",\"#EF553B\",\"#00cc96\",\"#ab63fa\",\"#FFA15A\",\"#19d3f3\",\"#FF6692\",\"#B6E880\",\"#FF97FF\",\"#FECB52\"],\"font\":{\"color\":\"#f2f5fa\"},\"geo\":{\"bgcolor\":\"rgb(17,17,17)\",\"lakecolor\":\"rgb(17,17,17)\",\"landcolor\":\"rgb(17,17,17)\",\"showlakes\":true,\"showland\":true,\"subunitcolor\":\"#506784\"},\"hoverlabel\":{\"align\":\"left\"},\"hovermode\":\"closest\",\"mapbox\":{\"style\":\"dark\"},\"paper_bgcolor\":\"rgb(17,17,17)\",\"plot_bgcolor\":\"rgb(17,17,17)\",\"polar\":{\"angularaxis\":{\"gridcolor\":\"#506784\",\"linecolor\":\"#506784\",\"ticks\":\"\"},\"bgcolor\":\"rgb(17,17,17)\",\"radialaxis\":{\"gridcolor\":\"#506784\",\"linecolor\":\"#506784\",\"ticks\":\"\"}},\"scene\":{\"xaxis\":{\"backgroundcolor\":\"rgb(17,17,17)\",\"gridcolor\":\"#506784\",\"gridwidth\":2,\"linecolor\":\"#506784\",\"showbackground\":true,\"ticks\":\"\",\"zerolinecolor\":\"#C8D4E3\"},\"yaxis\":{\"backgroundcolor\":\"rgb(17,17,17)\",\"gridcolor\":\"#506784\",\"gridwidth\":2,\"linecolor\":\"#506784\",\"showbackground\":true,\"ticks\":\"\",\"zerolinecolor\":\"#C8D4E3\"},\"zaxis\":{\"backgroundcolor\":\"rgb(17,17,17)\",\"gridcolor\":\"#506784\",\"gridwidth\":2,\"linecolor\":\"#506784\",\"showbackground\":true,\"ticks\":\"\",\"zerolinecolor\":\"#C8D4E3\"}},\"shapedefaults\":{\"line\":{\"color\":\"#f2f5fa\"}},\"sliderdefaults\":{\"bgcolor\":\"#C8D4E3\",\"bordercolor\":\"rgb(17,17,17)\",\"borderwidth\":1,\"tickwidth\":0},\"ternary\":{\"aaxis\":{\"gridcolor\":\"#506784\",\"linecolor\":\"#506784\",\"ticks\":\"\"},\"baxis\":{\"gridcolor\":\"#506784\",\"linecolor\":\"#506784\",\"ticks\":\"\"},\"bgcolor\":\"rgb(17,17,17)\",\"caxis\":{\"gridcolor\":\"#506784\",\"linecolor\":\"#506784\",\"ticks\":\"\"}},\"title\":{\"x\":0.05},\"updatemenudefaults\":{\"bgcolor\":\"#506784\",\"borderwidth\":0},\"xaxis\":{\"automargin\":true,\"gridcolor\":\"#283442\",\"linecolor\":\"#506784\",\"ticks\":\"\",\"title\":{\"standoff\":15},\"zerolinecolor\":\"#283442\",\"zerolinewidth\":2},\"yaxis\":{\"automargin\":true,\"gridcolor\":\"#283442\",\"linecolor\":\"#506784\",\"ticks\":\"\",\"title\":{\"standoff\":15},\"zerolinecolor\":\"#283442\",\"zerolinewidth\":2}}},\"legend\":{\"tracegroupgap\":0},\"margin\":{\"t\":60},\"title\":{\"font\":{\"size\":24,\"family\":\"Arial\",\"color\":\"#fed400\"},\"text\":\"Which Teams Dominate IPL From Beginning\",\"x\":0.5,\"xanchor\":\"center\",\"yanchor\":\"top\"}},                        {\"responsive\": true}                    ).then(function(){\n",
       "                            \n",
       "var gd = document.getElementById('83b32ca6-9ba8-4db3-9009-97cbca885478');\n",
       "var x = new MutationObserver(function (mutations, observer) {{\n",
       "        var display = window.getComputedStyle(gd).display;\n",
       "        if (!display || display === 'none') {{\n",
       "            console.log([gd, 'removed!']);\n",
       "            Plotly.purge(gd);\n",
       "            observer.disconnect();\n",
       "        }}\n",
       "}});\n",
       "\n",
       "// Listen for the removal of the full notebook cells\n",
       "var notebookContainer = gd.closest('#notebook-container');\n",
       "if (notebookContainer) {{\n",
       "    x.observe(notebookContainer, {childList: true});\n",
       "}}\n",
       "\n",
       "// Listen for the clearing of the current output cell\n",
       "var outputEl = gd.closest('.output');\n",
       "if (outputEl) {{\n",
       "    x.observe(outputEl, {childList: true});\n",
       "}}\n",
       "\n",
       "                        })                };                });            </script>        </div>"
      ]
     },
     "metadata": {},
     "output_type": "display_data"
    }
   ],
   "source": [
    "winning_data = df.value_counts('winner').reset_index(name='Number of matches win')\n",
    "fig = px.pie(winning_data, values=\"Number of matches win\", names=\"winner\")\n",
    "fig.update_layout(\n",
    "    template=\"plotly_dark\",\n",
    "    title={\n",
    "        'text': 'Which Teams Dominate IPL From Beginning',\n",
    "        'x': 0.5,\n",
    "        'xanchor': 'center',\n",
    "        'yanchor': 'top',\n",
    "        'font': {'size': 24, 'family': 'Arial', 'color': '#fed400'}\n",
    "    }\n",
    ")\n",
    "\n",
    "fig.show()\n"
   ]
  },
  {
   "cell_type": "markdown",
   "id": "9269cc81",
   "metadata": {
    "papermill": {
     "duration": 0.041664,
     "end_time": "2024-09-28T23:12:06.290032",
     "exception": false,
     "start_time": "2024-09-28T23:12:06.248368",
     "status": "completed"
    },
    "tags": []
   },
   "source": [
    "<div class=\"alert alert-block alert-info\"><p style='color:black;'>🏏📝MI,CSK,KKR Dominating IPL till now</p>\n",
    "</div>"
   ]
  },
  {
   "cell_type": "markdown",
   "id": "e6c67bab",
   "metadata": {
    "papermill": {
     "duration": 0.040737,
     "end_time": "2024-09-28T23:12:06.372526",
     "exception": false,
     "start_time": "2024-09-28T23:12:06.331789",
     "status": "completed"
    },
    "tags": []
   },
   "source": [
    "<a id=\"1\">\n",
    "<h1 style = \"font-family: Snell Roundhand;font-weight: 500;font-size: 30px; font-style: normal; background-color: #83e8e7; color :black;\"> 4) Best IPL Season in behalf of run :</h1>\n"
   ]
  },
  {
   "cell_type": "code",
   "execution_count": 37,
   "id": "cb209b60",
   "metadata": {
    "execution": {
     "iopub.execute_input": "2024-09-28T23:12:06.456651Z",
     "iopub.status.busy": "2024-09-28T23:12:06.456264Z",
     "iopub.status.idle": "2024-09-28T23:12:06.465924Z",
     "shell.execute_reply": "2024-09-28T23:12:06.464701Z"
    },
    "papermill": {
     "duration": 0.054744,
     "end_time": "2024-09-28T23:12:06.468362",
     "exception": false,
     "start_time": "2024-09-28T23:12:06.413618",
     "status": "completed"
    },
    "tags": []
   },
   "outputs": [],
   "source": [
    "runs_data=df.groupby('season')['target_runs'].sum().reset_index()\n",
    "runs_data.columns = ['Season', 'Total Runs']"
   ]
  },
  {
   "cell_type": "code",
   "execution_count": 38,
   "id": "ebc20c69",
   "metadata": {
    "execution": {
     "iopub.execute_input": "2024-09-28T23:12:06.553036Z",
     "iopub.status.busy": "2024-09-28T23:12:06.552499Z",
     "iopub.status.idle": "2024-09-28T23:12:06.569168Z",
     "shell.execute_reply": "2024-09-28T23:12:06.567906Z"
    },
    "papermill": {
     "duration": 0.061775,
     "end_time": "2024-09-28T23:12:06.571535",
     "exception": false,
     "start_time": "2024-09-28T23:12:06.509760",
     "status": "completed"
    },
    "tags": []
   },
   "outputs": [
    {
     "data": {
      "text/html": [
       "<div>\n",
       "<style scoped>\n",
       "    .dataframe tbody tr th:only-of-type {\n",
       "        vertical-align: middle;\n",
       "    }\n",
       "\n",
       "    .dataframe tbody tr th {\n",
       "        vertical-align: top;\n",
       "    }\n",
       "\n",
       "    .dataframe thead th {\n",
       "        text-align: right;\n",
       "    }\n",
       "</style>\n",
       "<table border=\"1\" class=\"dataframe\">\n",
       "  <thead>\n",
       "    <tr style=\"text-align: right;\">\n",
       "      <th></th>\n",
       "      <th>Season</th>\n",
       "      <th>Total Runs</th>\n",
       "    </tr>\n",
       "  </thead>\n",
       "  <tbody>\n",
       "    <tr>\n",
       "      <th>0</th>\n",
       "      <td>2007/08</td>\n",
       "      <td>9267.0</td>\n",
       "    </tr>\n",
       "    <tr>\n",
       "      <th>1</th>\n",
       "      <td>2009</td>\n",
       "      <td>8482.0</td>\n",
       "    </tr>\n",
       "    <tr>\n",
       "      <th>2</th>\n",
       "      <td>2009/10</td>\n",
       "      <td>9947.0</td>\n",
       "    </tr>\n",
       "    <tr>\n",
       "      <th>3</th>\n",
       "      <td>2011</td>\n",
       "      <td>11257.0</td>\n",
       "    </tr>\n",
       "    <tr>\n",
       "      <th>4</th>\n",
       "      <td>2012</td>\n",
       "      <td>11732.0</td>\n",
       "    </tr>\n",
       "    <tr>\n",
       "      <th>5</th>\n",
       "      <td>2013</td>\n",
       "      <td>11924.0</td>\n",
       "    </tr>\n",
       "    <tr>\n",
       "      <th>6</th>\n",
       "      <td>2014</td>\n",
       "      <td>9743.0</td>\n",
       "    </tr>\n",
       "    <tr>\n",
       "      <th>7</th>\n",
       "      <td>2015</td>\n",
       "      <td>9719.0</td>\n",
       "    </tr>\n",
       "    <tr>\n",
       "      <th>8</th>\n",
       "      <td>2016</td>\n",
       "      <td>9647.0</td>\n",
       "    </tr>\n",
       "    <tr>\n",
       "      <th>9</th>\n",
       "      <td>2017</td>\n",
       "      <td>9759.0</td>\n",
       "    </tr>\n",
       "    <tr>\n",
       "      <th>10</th>\n",
       "      <td>2018</td>\n",
       "      <td>10212.0</td>\n",
       "    </tr>\n",
       "    <tr>\n",
       "      <th>11</th>\n",
       "      <td>2019</td>\n",
       "      <td>10064.0</td>\n",
       "    </tr>\n",
       "    <tr>\n",
       "      <th>12</th>\n",
       "      <td>2020/21</td>\n",
       "      <td>10230.0</td>\n",
       "    </tr>\n",
       "    <tr>\n",
       "      <th>13</th>\n",
       "      <td>2021</td>\n",
       "      <td>9619.0</td>\n",
       "    </tr>\n",
       "    <tr>\n",
       "      <th>14</th>\n",
       "      <td>2022</td>\n",
       "      <td>12737.0</td>\n",
       "    </tr>\n",
       "    <tr>\n",
       "      <th>15</th>\n",
       "      <td>2023</td>\n",
       "      <td>13554.0</td>\n",
       "    </tr>\n",
       "    <tr>\n",
       "      <th>16</th>\n",
       "      <td>2024</td>\n",
       "      <td>13532.0</td>\n",
       "    </tr>\n",
       "  </tbody>\n",
       "</table>\n",
       "</div>"
      ],
      "text/plain": [
       "     Season  Total Runs\n",
       "0   2007/08      9267.0\n",
       "1      2009      8482.0\n",
       "2   2009/10      9947.0\n",
       "3      2011     11257.0\n",
       "4      2012     11732.0\n",
       "5      2013     11924.0\n",
       "6      2014      9743.0\n",
       "7      2015      9719.0\n",
       "8      2016      9647.0\n",
       "9      2017      9759.0\n",
       "10     2018     10212.0\n",
       "11     2019     10064.0\n",
       "12  2020/21     10230.0\n",
       "13     2021      9619.0\n",
       "14     2022     12737.0\n",
       "15     2023     13554.0\n",
       "16     2024     13532.0"
      ]
     },
     "execution_count": 38,
     "metadata": {},
     "output_type": "execute_result"
    }
   ],
   "source": [
    "runs_data"
   ]
  },
  {
   "cell_type": "code",
   "execution_count": 39,
   "id": "04037b42",
   "metadata": {
    "execution": {
     "iopub.execute_input": "2024-09-28T23:12:06.657086Z",
     "iopub.status.busy": "2024-09-28T23:12:06.656585Z",
     "iopub.status.idle": "2024-09-28T23:12:06.725273Z",
     "shell.execute_reply": "2024-09-28T23:12:06.724089Z"
    },
    "papermill": {
     "duration": 0.114714,
     "end_time": "2024-09-28T23:12:06.727720",
     "exception": false,
     "start_time": "2024-09-28T23:12:06.613006",
     "status": "completed"
    },
    "tags": []
   },
   "outputs": [
    {
     "data": {
      "text/html": [
       "<div>                            <div id=\"0706cd0e-b6e0-4238-936c-f878234276ee\" class=\"plotly-graph-div\" style=\"height:525px; width:100%;\"></div>            <script type=\"text/javascript\">                require([\"plotly\"], function(Plotly) {                    window.PLOTLYENV=window.PLOTLYENV || {};                                    if (document.getElementById(\"0706cd0e-b6e0-4238-936c-f878234276ee\")) {                    Plotly.newPlot(                        \"0706cd0e-b6e0-4238-936c-f878234276ee\",                        [{\"line\":{\"color\":\"#f5fd8f\",\"width\":2},\"mode\":\"lines+markers\",\"x\":[\"2007\\u002f08\",\"2009\",\"2009\\u002f10\",\"2011\",\"2012\",\"2013\",\"2014\",\"2015\",\"2016\",\"2017\",\"2018\",\"2019\",\"2020\\u002f21\",\"2021\",\"2022\",\"2023\",\"2024\"],\"y\":[9267.0,8482.0,9947.0,11257.0,11732.0,11924.0,9743.0,9719.0,9647.0,9759.0,10212.0,10064.0,10230.0,9619.0,12737.0,13554.0,13532.0],\"type\":\"scatter\"}],                        {\"template\":{\"data\":{\"barpolar\":[{\"marker\":{\"line\":{\"color\":\"rgb(17,17,17)\",\"width\":0.5},\"pattern\":{\"fillmode\":\"overlay\",\"size\":10,\"solidity\":0.2}},\"type\":\"barpolar\"}],\"bar\":[{\"error_x\":{\"color\":\"#f2f5fa\"},\"error_y\":{\"color\":\"#f2f5fa\"},\"marker\":{\"line\":{\"color\":\"rgb(17,17,17)\",\"width\":0.5},\"pattern\":{\"fillmode\":\"overlay\",\"size\":10,\"solidity\":0.2}},\"type\":\"bar\"}],\"carpet\":[{\"aaxis\":{\"endlinecolor\":\"#A2B1C6\",\"gridcolor\":\"#506784\",\"linecolor\":\"#506784\",\"minorgridcolor\":\"#506784\",\"startlinecolor\":\"#A2B1C6\"},\"baxis\":{\"endlinecolor\":\"#A2B1C6\",\"gridcolor\":\"#506784\",\"linecolor\":\"#506784\",\"minorgridcolor\":\"#506784\",\"startlinecolor\":\"#A2B1C6\"},\"type\":\"carpet\"}],\"choropleth\":[{\"colorbar\":{\"outlinewidth\":0,\"ticks\":\"\"},\"type\":\"choropleth\"}],\"contourcarpet\":[{\"colorbar\":{\"outlinewidth\":0,\"ticks\":\"\"},\"type\":\"contourcarpet\"}],\"contour\":[{\"colorbar\":{\"outlinewidth\":0,\"ticks\":\"\"},\"colorscale\":[[0.0,\"#0d0887\"],[0.1111111111111111,\"#46039f\"],[0.2222222222222222,\"#7201a8\"],[0.3333333333333333,\"#9c179e\"],[0.4444444444444444,\"#bd3786\"],[0.5555555555555556,\"#d8576b\"],[0.6666666666666666,\"#ed7953\"],[0.7777777777777778,\"#fb9f3a\"],[0.8888888888888888,\"#fdca26\"],[1.0,\"#f0f921\"]],\"type\":\"contour\"}],\"heatmapgl\":[{\"colorbar\":{\"outlinewidth\":0,\"ticks\":\"\"},\"colorscale\":[[0.0,\"#0d0887\"],[0.1111111111111111,\"#46039f\"],[0.2222222222222222,\"#7201a8\"],[0.3333333333333333,\"#9c179e\"],[0.4444444444444444,\"#bd3786\"],[0.5555555555555556,\"#d8576b\"],[0.6666666666666666,\"#ed7953\"],[0.7777777777777778,\"#fb9f3a\"],[0.8888888888888888,\"#fdca26\"],[1.0,\"#f0f921\"]],\"type\":\"heatmapgl\"}],\"heatmap\":[{\"colorbar\":{\"outlinewidth\":0,\"ticks\":\"\"},\"colorscale\":[[0.0,\"#0d0887\"],[0.1111111111111111,\"#46039f\"],[0.2222222222222222,\"#7201a8\"],[0.3333333333333333,\"#9c179e\"],[0.4444444444444444,\"#bd3786\"],[0.5555555555555556,\"#d8576b\"],[0.6666666666666666,\"#ed7953\"],[0.7777777777777778,\"#fb9f3a\"],[0.8888888888888888,\"#fdca26\"],[1.0,\"#f0f921\"]],\"type\":\"heatmap\"}],\"histogram2dcontour\":[{\"colorbar\":{\"outlinewidth\":0,\"ticks\":\"\"},\"colorscale\":[[0.0,\"#0d0887\"],[0.1111111111111111,\"#46039f\"],[0.2222222222222222,\"#7201a8\"],[0.3333333333333333,\"#9c179e\"],[0.4444444444444444,\"#bd3786\"],[0.5555555555555556,\"#d8576b\"],[0.6666666666666666,\"#ed7953\"],[0.7777777777777778,\"#fb9f3a\"],[0.8888888888888888,\"#fdca26\"],[1.0,\"#f0f921\"]],\"type\":\"histogram2dcontour\"}],\"histogram2d\":[{\"colorbar\":{\"outlinewidth\":0,\"ticks\":\"\"},\"colorscale\":[[0.0,\"#0d0887\"],[0.1111111111111111,\"#46039f\"],[0.2222222222222222,\"#7201a8\"],[0.3333333333333333,\"#9c179e\"],[0.4444444444444444,\"#bd3786\"],[0.5555555555555556,\"#d8576b\"],[0.6666666666666666,\"#ed7953\"],[0.7777777777777778,\"#fb9f3a\"],[0.8888888888888888,\"#fdca26\"],[1.0,\"#f0f921\"]],\"type\":\"histogram2d\"}],\"histogram\":[{\"marker\":{\"pattern\":{\"fillmode\":\"overlay\",\"size\":10,\"solidity\":0.2}},\"type\":\"histogram\"}],\"mesh3d\":[{\"colorbar\":{\"outlinewidth\":0,\"ticks\":\"\"},\"type\":\"mesh3d\"}],\"parcoords\":[{\"line\":{\"colorbar\":{\"outlinewidth\":0,\"ticks\":\"\"}},\"type\":\"parcoords\"}],\"pie\":[{\"automargin\":true,\"type\":\"pie\"}],\"scatter3d\":[{\"line\":{\"colorbar\":{\"outlinewidth\":0,\"ticks\":\"\"}},\"marker\":{\"colorbar\":{\"outlinewidth\":0,\"ticks\":\"\"}},\"type\":\"scatter3d\"}],\"scattercarpet\":[{\"marker\":{\"colorbar\":{\"outlinewidth\":0,\"ticks\":\"\"}},\"type\":\"scattercarpet\"}],\"scattergeo\":[{\"marker\":{\"colorbar\":{\"outlinewidth\":0,\"ticks\":\"\"}},\"type\":\"scattergeo\"}],\"scattergl\":[{\"marker\":{\"line\":{\"color\":\"#283442\"}},\"type\":\"scattergl\"}],\"scattermapbox\":[{\"marker\":{\"colorbar\":{\"outlinewidth\":0,\"ticks\":\"\"}},\"type\":\"scattermapbox\"}],\"scatterpolargl\":[{\"marker\":{\"colorbar\":{\"outlinewidth\":0,\"ticks\":\"\"}},\"type\":\"scatterpolargl\"}],\"scatterpolar\":[{\"marker\":{\"colorbar\":{\"outlinewidth\":0,\"ticks\":\"\"}},\"type\":\"scatterpolar\"}],\"scatter\":[{\"marker\":{\"line\":{\"color\":\"#283442\"}},\"type\":\"scatter\"}],\"scatterternary\":[{\"marker\":{\"colorbar\":{\"outlinewidth\":0,\"ticks\":\"\"}},\"type\":\"scatterternary\"}],\"surface\":[{\"colorbar\":{\"outlinewidth\":0,\"ticks\":\"\"},\"colorscale\":[[0.0,\"#0d0887\"],[0.1111111111111111,\"#46039f\"],[0.2222222222222222,\"#7201a8\"],[0.3333333333333333,\"#9c179e\"],[0.4444444444444444,\"#bd3786\"],[0.5555555555555556,\"#d8576b\"],[0.6666666666666666,\"#ed7953\"],[0.7777777777777778,\"#fb9f3a\"],[0.8888888888888888,\"#fdca26\"],[1.0,\"#f0f921\"]],\"type\":\"surface\"}],\"table\":[{\"cells\":{\"fill\":{\"color\":\"#506784\"},\"line\":{\"color\":\"rgb(17,17,17)\"}},\"header\":{\"fill\":{\"color\":\"#2a3f5f\"},\"line\":{\"color\":\"rgb(17,17,17)\"}},\"type\":\"table\"}]},\"layout\":{\"annotationdefaults\":{\"arrowcolor\":\"#f2f5fa\",\"arrowhead\":0,\"arrowwidth\":1},\"autotypenumbers\":\"strict\",\"coloraxis\":{\"colorbar\":{\"outlinewidth\":0,\"ticks\":\"\"}},\"colorscale\":{\"diverging\":[[0,\"#8e0152\"],[0.1,\"#c51b7d\"],[0.2,\"#de77ae\"],[0.3,\"#f1b6da\"],[0.4,\"#fde0ef\"],[0.5,\"#f7f7f7\"],[0.6,\"#e6f5d0\"],[0.7,\"#b8e186\"],[0.8,\"#7fbc41\"],[0.9,\"#4d9221\"],[1,\"#276419\"]],\"sequential\":[[0.0,\"#0d0887\"],[0.1111111111111111,\"#46039f\"],[0.2222222222222222,\"#7201a8\"],[0.3333333333333333,\"#9c179e\"],[0.4444444444444444,\"#bd3786\"],[0.5555555555555556,\"#d8576b\"],[0.6666666666666666,\"#ed7953\"],[0.7777777777777778,\"#fb9f3a\"],[0.8888888888888888,\"#fdca26\"],[1.0,\"#f0f921\"]],\"sequentialminus\":[[0.0,\"#0d0887\"],[0.1111111111111111,\"#46039f\"],[0.2222222222222222,\"#7201a8\"],[0.3333333333333333,\"#9c179e\"],[0.4444444444444444,\"#bd3786\"],[0.5555555555555556,\"#d8576b\"],[0.6666666666666666,\"#ed7953\"],[0.7777777777777778,\"#fb9f3a\"],[0.8888888888888888,\"#fdca26\"],[1.0,\"#f0f921\"]]},\"colorway\":[\"#636efa\",\"#EF553B\",\"#00cc96\",\"#ab63fa\",\"#FFA15A\",\"#19d3f3\",\"#FF6692\",\"#B6E880\",\"#FF97FF\",\"#FECB52\"],\"font\":{\"color\":\"#f2f5fa\"},\"geo\":{\"bgcolor\":\"rgb(17,17,17)\",\"lakecolor\":\"rgb(17,17,17)\",\"landcolor\":\"rgb(17,17,17)\",\"showlakes\":true,\"showland\":true,\"subunitcolor\":\"#506784\"},\"hoverlabel\":{\"align\":\"left\"},\"hovermode\":\"closest\",\"mapbox\":{\"style\":\"dark\"},\"paper_bgcolor\":\"rgb(17,17,17)\",\"plot_bgcolor\":\"rgb(17,17,17)\",\"polar\":{\"angularaxis\":{\"gridcolor\":\"#506784\",\"linecolor\":\"#506784\",\"ticks\":\"\"},\"bgcolor\":\"rgb(17,17,17)\",\"radialaxis\":{\"gridcolor\":\"#506784\",\"linecolor\":\"#506784\",\"ticks\":\"\"}},\"scene\":{\"xaxis\":{\"backgroundcolor\":\"rgb(17,17,17)\",\"gridcolor\":\"#506784\",\"gridwidth\":2,\"linecolor\":\"#506784\",\"showbackground\":true,\"ticks\":\"\",\"zerolinecolor\":\"#C8D4E3\"},\"yaxis\":{\"backgroundcolor\":\"rgb(17,17,17)\",\"gridcolor\":\"#506784\",\"gridwidth\":2,\"linecolor\":\"#506784\",\"showbackground\":true,\"ticks\":\"\",\"zerolinecolor\":\"#C8D4E3\"},\"zaxis\":{\"backgroundcolor\":\"rgb(17,17,17)\",\"gridcolor\":\"#506784\",\"gridwidth\":2,\"linecolor\":\"#506784\",\"showbackground\":true,\"ticks\":\"\",\"zerolinecolor\":\"#C8D4E3\"}},\"shapedefaults\":{\"line\":{\"color\":\"#f2f5fa\"}},\"sliderdefaults\":{\"bgcolor\":\"#C8D4E3\",\"bordercolor\":\"rgb(17,17,17)\",\"borderwidth\":1,\"tickwidth\":0},\"ternary\":{\"aaxis\":{\"gridcolor\":\"#506784\",\"linecolor\":\"#506784\",\"ticks\":\"\"},\"baxis\":{\"gridcolor\":\"#506784\",\"linecolor\":\"#506784\",\"ticks\":\"\"},\"bgcolor\":\"rgb(17,17,17)\",\"caxis\":{\"gridcolor\":\"#506784\",\"linecolor\":\"#506784\",\"ticks\":\"\"}},\"title\":{\"x\":0.05},\"updatemenudefaults\":{\"bgcolor\":\"#506784\",\"borderwidth\":0},\"xaxis\":{\"automargin\":true,\"gridcolor\":\"#283442\",\"linecolor\":\"#506784\",\"ticks\":\"\",\"title\":{\"standoff\":15},\"zerolinecolor\":\"#283442\",\"zerolinewidth\":2},\"yaxis\":{\"automargin\":true,\"gridcolor\":\"#283442\",\"linecolor\":\"#506784\",\"ticks\":\"\",\"title\":{\"standoff\":15},\"zerolinecolor\":\"#283442\",\"zerolinewidth\":2}}},\"title\":{\"font\":{\"size\":24,\"family\":\"Arial\",\"color\":\"#ffffff\"},\"text\":\"Total Runs Trends In IPL Every Seasons\",\"x\":0.5,\"xanchor\":\"center\",\"yanchor\":\"top\"},\"xaxis\":{\"title\":{\"text\":\"Seasons\"}},\"yaxis\":{\"title\":{\"text\":\"Total Runs\"}}},                        {\"responsive\": true}                    ).then(function(){\n",
       "                            \n",
       "var gd = document.getElementById('0706cd0e-b6e0-4238-936c-f878234276ee');\n",
       "var x = new MutationObserver(function (mutations, observer) {{\n",
       "        var display = window.getComputedStyle(gd).display;\n",
       "        if (!display || display === 'none') {{\n",
       "            console.log([gd, 'removed!']);\n",
       "            Plotly.purge(gd);\n",
       "            observer.disconnect();\n",
       "        }}\n",
       "}});\n",
       "\n",
       "// Listen for the removal of the full notebook cells\n",
       "var notebookContainer = gd.closest('#notebook-container');\n",
       "if (notebookContainer) {{\n",
       "    x.observe(notebookContainer, {childList: true});\n",
       "}}\n",
       "\n",
       "// Listen for the clearing of the current output cell\n",
       "var outputEl = gd.closest('.output');\n",
       "if (outputEl) {{\n",
       "    x.observe(outputEl, {childList: true});\n",
       "}}\n",
       "\n",
       "                        })                };                });            </script>        </div>"
      ]
     },
     "metadata": {},
     "output_type": "display_data"
    }
   ],
   "source": [
    "fig = go.Figure()\n",
    "\n",
    "fig.add_trace(go.Scatter(\n",
    "    x=runs_data['Season'], \n",
    "    y=runs_data['Total Runs'], \n",
    "    mode='lines+markers',  \n",
    "    line=dict(color='#f5fd8f', width=2) \n",
    "))\n",
    "fig.update_layout(\n",
    "    xaxis_title=\"Seasons\",\n",
    "    yaxis_title=\"Total Runs\",\n",
    "    template=\"plotly_dark\",\n",
    "    title={\n",
    "        'text': 'Total Runs Trends In IPL Every Seasons',\n",
    "        'x': 0.5,  \n",
    "        'xanchor': 'center',\n",
    "        'yanchor': 'top',\n",
    "        'font': {'size': 24, 'family': 'Arial', 'color': '#ffffff'}  \n",
    "    }\n",
    ")\n",
    "\n",
    "fig.show()\n"
   ]
  },
  {
   "cell_type": "markdown",
   "id": "b2c9bdc6",
   "metadata": {
    "papermill": {
     "duration": 0.041673,
     "end_time": "2024-09-28T23:12:06.811388",
     "exception": false,
     "start_time": "2024-09-28T23:12:06.769715",
     "status": "completed"
    },
    "tags": []
   },
   "source": [
    "<div class=\"alert alert-block alert-info\"><p style='color:black;'>🏏📝Runs Bubble in IPL increasing day by day 2023 was the best IPL Year in behalf of Runs</p>\n",
    "</div>"
   ]
  },
  {
   "cell_type": "markdown",
   "id": "7afa1a0b",
   "metadata": {
    "papermill": {
     "duration": 0.040582,
     "end_time": "2024-09-28T23:12:06.893495",
     "exception": false,
     "start_time": "2024-09-28T23:12:06.852913",
     "status": "completed"
    },
    "tags": []
   },
   "source": [
    "<a id=\"1\">\n",
    "<h1 style = \"font-family: Snell Roundhand;font-weight: 500;font-size: 30px; font-style: normal; background-color: #83e8e7; color :black;\"> 5) Top Umpires In IPL History :</h1>\n"
   ]
  },
  {
   "cell_type": "code",
   "execution_count": 40,
   "id": "1d4b72cd",
   "metadata": {
    "execution": {
     "iopub.execute_input": "2024-09-28T23:12:06.978837Z",
     "iopub.status.busy": "2024-09-28T23:12:06.978441Z",
     "iopub.status.idle": "2024-09-28T23:12:06.987228Z",
     "shell.execute_reply": "2024-09-28T23:12:06.986183Z"
    },
    "papermill": {
     "duration": 0.054752,
     "end_time": "2024-09-28T23:12:06.989635",
     "exception": false,
     "start_time": "2024-09-28T23:12:06.934883",
     "status": "completed"
    },
    "tags": []
   },
   "outputs": [],
   "source": [
    "umpire=df.value_counts('umpire1').reset_index().head(5).style.background_gradient(cmap='Greens')\n",
    "umpire.columns=['umpire','matches']"
   ]
  },
  {
   "cell_type": "code",
   "execution_count": 41,
   "id": "2592e216",
   "metadata": {
    "execution": {
     "iopub.execute_input": "2024-09-28T23:12:07.073910Z",
     "iopub.status.busy": "2024-09-28T23:12:07.073474Z",
     "iopub.status.idle": "2024-09-28T23:12:07.087961Z",
     "shell.execute_reply": "2024-09-28T23:12:07.086803Z"
    },
    "papermill": {
     "duration": 0.059439,
     "end_time": "2024-09-28T23:12:07.090164",
     "exception": false,
     "start_time": "2024-09-28T23:12:07.030725",
     "status": "completed"
    },
    "tags": []
   },
   "outputs": [
    {
     "data": {
      "text/html": [
       "<style type=\"text/css\">\n",
       "#T_05477_row0_col1 {\n",
       "  background-color: #00441b;\n",
       "  color: #f1f1f1;\n",
       "}\n",
       "#T_05477_row1_col1 {\n",
       "  background-color: #8ace88;\n",
       "  color: #000000;\n",
       "}\n",
       "#T_05477_row2_col1 {\n",
       "  background-color: #e5f5e0;\n",
       "  color: #000000;\n",
       "}\n",
       "#T_05477_row3_col1 {\n",
       "  background-color: #f2faf0;\n",
       "  color: #000000;\n",
       "}\n",
       "#T_05477_row4_col1 {\n",
       "  background-color: #f7fcf5;\n",
       "  color: #000000;\n",
       "}\n",
       "</style>\n",
       "<table id=\"T_05477\">\n",
       "  <thead>\n",
       "    <tr>\n",
       "      <th class=\"blank level0\" >&nbsp;</th>\n",
       "      <th id=\"T_05477_level0_col0\" class=\"col_heading level0 col0\" >umpire1</th>\n",
       "      <th id=\"T_05477_level0_col1\" class=\"col_heading level0 col1\" >count</th>\n",
       "    </tr>\n",
       "  </thead>\n",
       "  <tbody>\n",
       "    <tr>\n",
       "      <th id=\"T_05477_level0_row0\" class=\"row_heading level0 row0\" >0</th>\n",
       "      <td id=\"T_05477_row0_col0\" class=\"data row0 col0\" >AK Chaudhary</td>\n",
       "      <td id=\"T_05477_row0_col1\" class=\"data row0 col1\" >115</td>\n",
       "    </tr>\n",
       "    <tr>\n",
       "      <th id=\"T_05477_level0_row1\" class=\"row_heading level0 row1\" >1</th>\n",
       "      <td id=\"T_05477_row1_col0\" class=\"data row1 col0\" >HDPK Dharmasena</td>\n",
       "      <td id=\"T_05477_row1_col1\" class=\"data row1 col1\" >79</td>\n",
       "    </tr>\n",
       "    <tr>\n",
       "      <th id=\"T_05477_level0_row2\" class=\"row_heading level0 row2\" >2</th>\n",
       "      <td id=\"T_05477_row2_col0\" class=\"data row2 col0\" >KN Ananthapadmanabhan</td>\n",
       "      <td id=\"T_05477_row2_col1\" class=\"data row2 col1\" >59</td>\n",
       "    </tr>\n",
       "    <tr>\n",
       "      <th id=\"T_05477_level0_row3\" class=\"row_heading level0 row3\" >3</th>\n",
       "      <td id=\"T_05477_row3_col0\" class=\"data row3 col0\" >CB Gaffaney</td>\n",
       "      <td id=\"T_05477_row3_col1\" class=\"data row3 col1\" >53</td>\n",
       "    </tr>\n",
       "    <tr>\n",
       "      <th id=\"T_05477_level0_row4\" class=\"row_heading level0 row4\" >4</th>\n",
       "      <td id=\"T_05477_row4_col0\" class=\"data row4 col0\" >Asad Rauf</td>\n",
       "      <td id=\"T_05477_row4_col1\" class=\"data row4 col1\" >51</td>\n",
       "    </tr>\n",
       "  </tbody>\n",
       "</table>\n"
      ],
      "text/plain": [
       "<pandas.io.formats.style.Styler at 0x7a003373a290>"
      ]
     },
     "execution_count": 41,
     "metadata": {},
     "output_type": "execute_result"
    }
   ],
   "source": [
    "umpire"
   ]
  },
  {
   "cell_type": "code",
   "execution_count": 42,
   "id": "a013b815",
   "metadata": {
    "execution": {
     "iopub.execute_input": "2024-09-28T23:12:07.177324Z",
     "iopub.status.busy": "2024-09-28T23:12:07.176881Z",
     "iopub.status.idle": "2024-09-28T23:12:07.281333Z",
     "shell.execute_reply": "2024-09-28T23:12:07.280188Z"
    },
    "papermill": {
     "duration": 0.149259,
     "end_time": "2024-09-28T23:12:07.283872",
     "exception": false,
     "start_time": "2024-09-28T23:12:07.134613",
     "status": "completed"
    },
    "tags": []
   },
   "outputs": [
    {
     "data": {
      "text/html": [
       "<div>                            <div id=\"eda9e2ad-1aa1-45a9-9350-d98f731af702\" class=\"plotly-graph-div\" style=\"height:525px; width:100%;\"></div>            <script type=\"text/javascript\">                require([\"plotly\"], function(Plotly) {                    window.PLOTLYENV=window.PLOTLYENV || {};                                    if (document.getElementById(\"eda9e2ad-1aa1-45a9-9350-d98f731af702\")) {                    Plotly.newPlot(                        \"eda9e2ad-1aa1-45a9-9350-d98f731af702\",                        [{\"alignmentgroup\":\"True\",\"hovertemplate\":\"umpire=%{x}\\u003cbr\\u003ematches=%{y}\\u003cextra\\u003e\\u003c\\u002fextra\\u003e\",\"legendgroup\":\"\",\"marker\":{\"color\":\"#636efa\",\"pattern\":{\"shape\":\"\"}},\"name\":\"\",\"offsetgroup\":\"\",\"orientation\":\"v\",\"showlegend\":false,\"textposition\":\"auto\",\"x\":[\"AK Chaudhary\",\"HDPK Dharmasena\",\"KN Ananthapadmanabhan\",\"CB Gaffaney\",\"Asad Rauf\"],\"xaxis\":\"x\",\"y\":[115,79,59,53,51],\"yaxis\":\"y\",\"type\":\"bar\"}],                        {\"template\":{\"data\":{\"barpolar\":[{\"marker\":{\"line\":{\"color\":\"rgb(17,17,17)\",\"width\":0.5},\"pattern\":{\"fillmode\":\"overlay\",\"size\":10,\"solidity\":0.2}},\"type\":\"barpolar\"}],\"bar\":[{\"error_x\":{\"color\":\"#f2f5fa\"},\"error_y\":{\"color\":\"#f2f5fa\"},\"marker\":{\"line\":{\"color\":\"rgb(17,17,17)\",\"width\":0.5},\"pattern\":{\"fillmode\":\"overlay\",\"size\":10,\"solidity\":0.2}},\"type\":\"bar\"}],\"carpet\":[{\"aaxis\":{\"endlinecolor\":\"#A2B1C6\",\"gridcolor\":\"#506784\",\"linecolor\":\"#506784\",\"minorgridcolor\":\"#506784\",\"startlinecolor\":\"#A2B1C6\"},\"baxis\":{\"endlinecolor\":\"#A2B1C6\",\"gridcolor\":\"#506784\",\"linecolor\":\"#506784\",\"minorgridcolor\":\"#506784\",\"startlinecolor\":\"#A2B1C6\"},\"type\":\"carpet\"}],\"choropleth\":[{\"colorbar\":{\"outlinewidth\":0,\"ticks\":\"\"},\"type\":\"choropleth\"}],\"contourcarpet\":[{\"colorbar\":{\"outlinewidth\":0,\"ticks\":\"\"},\"type\":\"contourcarpet\"}],\"contour\":[{\"colorbar\":{\"outlinewidth\":0,\"ticks\":\"\"},\"colorscale\":[[0.0,\"#0d0887\"],[0.1111111111111111,\"#46039f\"],[0.2222222222222222,\"#7201a8\"],[0.3333333333333333,\"#9c179e\"],[0.4444444444444444,\"#bd3786\"],[0.5555555555555556,\"#d8576b\"],[0.6666666666666666,\"#ed7953\"],[0.7777777777777778,\"#fb9f3a\"],[0.8888888888888888,\"#fdca26\"],[1.0,\"#f0f921\"]],\"type\":\"contour\"}],\"heatmapgl\":[{\"colorbar\":{\"outlinewidth\":0,\"ticks\":\"\"},\"colorscale\":[[0.0,\"#0d0887\"],[0.1111111111111111,\"#46039f\"],[0.2222222222222222,\"#7201a8\"],[0.3333333333333333,\"#9c179e\"],[0.4444444444444444,\"#bd3786\"],[0.5555555555555556,\"#d8576b\"],[0.6666666666666666,\"#ed7953\"],[0.7777777777777778,\"#fb9f3a\"],[0.8888888888888888,\"#fdca26\"],[1.0,\"#f0f921\"]],\"type\":\"heatmapgl\"}],\"heatmap\":[{\"colorbar\":{\"outlinewidth\":0,\"ticks\":\"\"},\"colorscale\":[[0.0,\"#0d0887\"],[0.1111111111111111,\"#46039f\"],[0.2222222222222222,\"#7201a8\"],[0.3333333333333333,\"#9c179e\"],[0.4444444444444444,\"#bd3786\"],[0.5555555555555556,\"#d8576b\"],[0.6666666666666666,\"#ed7953\"],[0.7777777777777778,\"#fb9f3a\"],[0.8888888888888888,\"#fdca26\"],[1.0,\"#f0f921\"]],\"type\":\"heatmap\"}],\"histogram2dcontour\":[{\"colorbar\":{\"outlinewidth\":0,\"ticks\":\"\"},\"colorscale\":[[0.0,\"#0d0887\"],[0.1111111111111111,\"#46039f\"],[0.2222222222222222,\"#7201a8\"],[0.3333333333333333,\"#9c179e\"],[0.4444444444444444,\"#bd3786\"],[0.5555555555555556,\"#d8576b\"],[0.6666666666666666,\"#ed7953\"],[0.7777777777777778,\"#fb9f3a\"],[0.8888888888888888,\"#fdca26\"],[1.0,\"#f0f921\"]],\"type\":\"histogram2dcontour\"}],\"histogram2d\":[{\"colorbar\":{\"outlinewidth\":0,\"ticks\":\"\"},\"colorscale\":[[0.0,\"#0d0887\"],[0.1111111111111111,\"#46039f\"],[0.2222222222222222,\"#7201a8\"],[0.3333333333333333,\"#9c179e\"],[0.4444444444444444,\"#bd3786\"],[0.5555555555555556,\"#d8576b\"],[0.6666666666666666,\"#ed7953\"],[0.7777777777777778,\"#fb9f3a\"],[0.8888888888888888,\"#fdca26\"],[1.0,\"#f0f921\"]],\"type\":\"histogram2d\"}],\"histogram\":[{\"marker\":{\"pattern\":{\"fillmode\":\"overlay\",\"size\":10,\"solidity\":0.2}},\"type\":\"histogram\"}],\"mesh3d\":[{\"colorbar\":{\"outlinewidth\":0,\"ticks\":\"\"},\"type\":\"mesh3d\"}],\"parcoords\":[{\"line\":{\"colorbar\":{\"outlinewidth\":0,\"ticks\":\"\"}},\"type\":\"parcoords\"}],\"pie\":[{\"automargin\":true,\"type\":\"pie\"}],\"scatter3d\":[{\"line\":{\"colorbar\":{\"outlinewidth\":0,\"ticks\":\"\"}},\"marker\":{\"colorbar\":{\"outlinewidth\":0,\"ticks\":\"\"}},\"type\":\"scatter3d\"}],\"scattercarpet\":[{\"marker\":{\"colorbar\":{\"outlinewidth\":0,\"ticks\":\"\"}},\"type\":\"scattercarpet\"}],\"scattergeo\":[{\"marker\":{\"colorbar\":{\"outlinewidth\":0,\"ticks\":\"\"}},\"type\":\"scattergeo\"}],\"scattergl\":[{\"marker\":{\"line\":{\"color\":\"#283442\"}},\"type\":\"scattergl\"}],\"scattermapbox\":[{\"marker\":{\"colorbar\":{\"outlinewidth\":0,\"ticks\":\"\"}},\"type\":\"scattermapbox\"}],\"scatterpolargl\":[{\"marker\":{\"colorbar\":{\"outlinewidth\":0,\"ticks\":\"\"}},\"type\":\"scatterpolargl\"}],\"scatterpolar\":[{\"marker\":{\"colorbar\":{\"outlinewidth\":0,\"ticks\":\"\"}},\"type\":\"scatterpolar\"}],\"scatter\":[{\"marker\":{\"line\":{\"color\":\"#283442\"}},\"type\":\"scatter\"}],\"scatterternary\":[{\"marker\":{\"colorbar\":{\"outlinewidth\":0,\"ticks\":\"\"}},\"type\":\"scatterternary\"}],\"surface\":[{\"colorbar\":{\"outlinewidth\":0,\"ticks\":\"\"},\"colorscale\":[[0.0,\"#0d0887\"],[0.1111111111111111,\"#46039f\"],[0.2222222222222222,\"#7201a8\"],[0.3333333333333333,\"#9c179e\"],[0.4444444444444444,\"#bd3786\"],[0.5555555555555556,\"#d8576b\"],[0.6666666666666666,\"#ed7953\"],[0.7777777777777778,\"#fb9f3a\"],[0.8888888888888888,\"#fdca26\"],[1.0,\"#f0f921\"]],\"type\":\"surface\"}],\"table\":[{\"cells\":{\"fill\":{\"color\":\"#506784\"},\"line\":{\"color\":\"rgb(17,17,17)\"}},\"header\":{\"fill\":{\"color\":\"#2a3f5f\"},\"line\":{\"color\":\"rgb(17,17,17)\"}},\"type\":\"table\"}]},\"layout\":{\"annotationdefaults\":{\"arrowcolor\":\"#f2f5fa\",\"arrowhead\":0,\"arrowwidth\":1},\"autotypenumbers\":\"strict\",\"coloraxis\":{\"colorbar\":{\"outlinewidth\":0,\"ticks\":\"\"}},\"colorscale\":{\"diverging\":[[0,\"#8e0152\"],[0.1,\"#c51b7d\"],[0.2,\"#de77ae\"],[0.3,\"#f1b6da\"],[0.4,\"#fde0ef\"],[0.5,\"#f7f7f7\"],[0.6,\"#e6f5d0\"],[0.7,\"#b8e186\"],[0.8,\"#7fbc41\"],[0.9,\"#4d9221\"],[1,\"#276419\"]],\"sequential\":[[0.0,\"#0d0887\"],[0.1111111111111111,\"#46039f\"],[0.2222222222222222,\"#7201a8\"],[0.3333333333333333,\"#9c179e\"],[0.4444444444444444,\"#bd3786\"],[0.5555555555555556,\"#d8576b\"],[0.6666666666666666,\"#ed7953\"],[0.7777777777777778,\"#fb9f3a\"],[0.8888888888888888,\"#fdca26\"],[1.0,\"#f0f921\"]],\"sequentialminus\":[[0.0,\"#0d0887\"],[0.1111111111111111,\"#46039f\"],[0.2222222222222222,\"#7201a8\"],[0.3333333333333333,\"#9c179e\"],[0.4444444444444444,\"#bd3786\"],[0.5555555555555556,\"#d8576b\"],[0.6666666666666666,\"#ed7953\"],[0.7777777777777778,\"#fb9f3a\"],[0.8888888888888888,\"#fdca26\"],[1.0,\"#f0f921\"]]},\"colorway\":[\"#636efa\",\"#EF553B\",\"#00cc96\",\"#ab63fa\",\"#FFA15A\",\"#19d3f3\",\"#FF6692\",\"#B6E880\",\"#FF97FF\",\"#FECB52\"],\"font\":{\"color\":\"#f2f5fa\"},\"geo\":{\"bgcolor\":\"rgb(17,17,17)\",\"lakecolor\":\"rgb(17,17,17)\",\"landcolor\":\"rgb(17,17,17)\",\"showlakes\":true,\"showland\":true,\"subunitcolor\":\"#506784\"},\"hoverlabel\":{\"align\":\"left\"},\"hovermode\":\"closest\",\"mapbox\":{\"style\":\"dark\"},\"paper_bgcolor\":\"rgb(17,17,17)\",\"plot_bgcolor\":\"rgb(17,17,17)\",\"polar\":{\"angularaxis\":{\"gridcolor\":\"#506784\",\"linecolor\":\"#506784\",\"ticks\":\"\"},\"bgcolor\":\"rgb(17,17,17)\",\"radialaxis\":{\"gridcolor\":\"#506784\",\"linecolor\":\"#506784\",\"ticks\":\"\"}},\"scene\":{\"xaxis\":{\"backgroundcolor\":\"rgb(17,17,17)\",\"gridcolor\":\"#506784\",\"gridwidth\":2,\"linecolor\":\"#506784\",\"showbackground\":true,\"ticks\":\"\",\"zerolinecolor\":\"#C8D4E3\"},\"yaxis\":{\"backgroundcolor\":\"rgb(17,17,17)\",\"gridcolor\":\"#506784\",\"gridwidth\":2,\"linecolor\":\"#506784\",\"showbackground\":true,\"ticks\":\"\",\"zerolinecolor\":\"#C8D4E3\"},\"zaxis\":{\"backgroundcolor\":\"rgb(17,17,17)\",\"gridcolor\":\"#506784\",\"gridwidth\":2,\"linecolor\":\"#506784\",\"showbackground\":true,\"ticks\":\"\",\"zerolinecolor\":\"#C8D4E3\"}},\"shapedefaults\":{\"line\":{\"color\":\"#f2f5fa\"}},\"sliderdefaults\":{\"bgcolor\":\"#C8D4E3\",\"bordercolor\":\"rgb(17,17,17)\",\"borderwidth\":1,\"tickwidth\":0},\"ternary\":{\"aaxis\":{\"gridcolor\":\"#506784\",\"linecolor\":\"#506784\",\"ticks\":\"\"},\"baxis\":{\"gridcolor\":\"#506784\",\"linecolor\":\"#506784\",\"ticks\":\"\"},\"bgcolor\":\"rgb(17,17,17)\",\"caxis\":{\"gridcolor\":\"#506784\",\"linecolor\":\"#506784\",\"ticks\":\"\"}},\"title\":{\"x\":0.05},\"updatemenudefaults\":{\"bgcolor\":\"#506784\",\"borderwidth\":0},\"xaxis\":{\"automargin\":true,\"gridcolor\":\"#283442\",\"linecolor\":\"#506784\",\"ticks\":\"\",\"title\":{\"standoff\":15},\"zerolinecolor\":\"#283442\",\"zerolinewidth\":2},\"yaxis\":{\"automargin\":true,\"gridcolor\":\"#283442\",\"linecolor\":\"#506784\",\"ticks\":\"\",\"title\":{\"standoff\":15},\"zerolinecolor\":\"#283442\",\"zerolinewidth\":2}}},\"xaxis\":{\"anchor\":\"y\",\"domain\":[0.0,1.0],\"title\":{\"text\":\"Umpire Names\"}},\"yaxis\":{\"anchor\":\"x\",\"domain\":[0.0,1.0],\"title\":{\"text\":\"Number of Matches\"}},\"legend\":{\"tracegroupgap\":0},\"title\":{\"text\":\"Top 5 Umpires In IPL\",\"font\":{\"size\":20,\"family\":\"Arial\",\"color\":\"#7ec58a\"},\"x\":0.5,\"xanchor\":\"center\",\"yanchor\":\"top\"},\"barmode\":\"relative\"},                        {\"responsive\": true}                    ).then(function(){\n",
       "                            \n",
       "var gd = document.getElementById('eda9e2ad-1aa1-45a9-9350-d98f731af702');\n",
       "var x = new MutationObserver(function (mutations, observer) {{\n",
       "        var display = window.getComputedStyle(gd).display;\n",
       "        if (!display || display === 'none') {{\n",
       "            console.log([gd, 'removed!']);\n",
       "            Plotly.purge(gd);\n",
       "            observer.disconnect();\n",
       "        }}\n",
       "}});\n",
       "\n",
       "// Listen for the removal of the full notebook cells\n",
       "var notebookContainer = gd.closest('#notebook-container');\n",
       "if (notebookContainer) {{\n",
       "    x.observe(notebookContainer, {childList: true});\n",
       "}}\n",
       "\n",
       "// Listen for the clearing of the current output cell\n",
       "var outputEl = gd.closest('.output');\n",
       "if (outputEl) {{\n",
       "    x.observe(outputEl, {childList: true});\n",
       "}}\n",
       "\n",
       "                        })                };                });            </script>        </div>"
      ]
     },
     "metadata": {},
     "output_type": "display_data"
    }
   ],
   "source": [
    "umpire = df.value_counts('umpire1').reset_index().head(5)\n",
    "umpire.columns = ['umpire', 'matches']\n",
    "\n",
    "fig = px.bar(umpire, x='umpire', y='matches', title=\"Top 5 Umpires In IPL\")\n",
    "\n",
    "fig.update_layout(\n",
    "    xaxis_title=\"Umpire Names\",\n",
    "    yaxis_title=\"Number of Matches\",\n",
    "    template=\"plotly_dark\",\n",
    "    title={\n",
    "        'x': 0.5,\n",
    "        'xanchor': 'center',\n",
    "        'yanchor': 'top',\n",
    "        'font': {'size': 20, 'family': 'Arial', 'color': '#7ec58a'}\n",
    "    }\n",
    ")\n",
    "\n",
    "fig.show()\n"
   ]
  },
  {
   "cell_type": "markdown",
   "id": "4cdd8120",
   "metadata": {
    "papermill": {
     "duration": 0.041321,
     "end_time": "2024-09-28T23:12:07.367109",
     "exception": false,
     "start_time": "2024-09-28T23:12:07.325788",
     "status": "completed"
    },
    "tags": []
   },
   "source": [
    "<div class=\"alert alert-block alert-info\"><p style='color:black;'>🏏📝 AK Chaudhary earns much from IPL 🤑</p>\n",
    "</div>"
   ]
  },
  {
   "cell_type": "markdown",
   "id": "391daab5",
   "metadata": {
    "papermill": {
     "duration": 0.040391,
     "end_time": "2024-09-28T23:12:07.449201",
     "exception": false,
     "start_time": "2024-09-28T23:12:07.408810",
     "status": "completed"
    },
    "tags": []
   },
   "source": [
    "<a id=\"header\"></a>\n",
    "\n",
    "<div style=\"border: 1px solid; color: black; padding: 3px; width: 97%; background-color: #2d2d2d; border: 5px solid Grey;\">\n",
    "    <center width=\"80%\">\n",
    "        <img src=\"https://media.tenor.com/W2T-tG1qNVEAAAAM/hardik-pandya-mumbai-indians.gif\" style=\"width: 90%;\">\n",
    "    </center>\n",
    " <p style=\"font-family: 'Pacifico', cursive; font-size: 2rem; color: #ff758c; text-align: center; margin: 0; text-shadow: 2px 2px 4px rgba(0, 0, 0, 0.3); background-color: #2d2d2d; padding: 20px; border-radius: 10px; border: 7px solid #f6f385; width: 95%;\">🔍 Lets do some research on MI📊📈🏏</p>\n",
    "</div>\n"
   ]
  },
  {
   "cell_type": "markdown",
   "id": "b4c270de",
   "metadata": {
    "papermill": {
     "duration": 0.041325,
     "end_time": "2024-09-28T23:12:07.531451",
     "exception": false,
     "start_time": "2024-09-28T23:12:07.490126",
     "status": "completed"
    },
    "tags": []
   },
   "source": [
    "<a id=\"1\">\n",
    "<h1 style = \"font-family: Snell Roundhand;font-weight: 500;font-size: 30px; font-style: normal; background-color:#2f62c1; color :black;\"> 6)MI average will rate every seasons :</h1>\n"
   ]
  },
  {
   "cell_type": "code",
   "execution_count": 43,
   "id": "2079624c",
   "metadata": {
    "execution": {
     "iopub.execute_input": "2024-09-28T23:12:07.617248Z",
     "iopub.status.busy": "2024-09-28T23:12:07.616798Z",
     "iopub.status.idle": "2024-09-28T23:12:07.626480Z",
     "shell.execute_reply": "2024-09-28T23:12:07.625286Z"
    },
    "papermill": {
     "duration": 0.055651,
     "end_time": "2024-09-28T23:12:07.629436",
     "exception": false,
     "start_time": "2024-09-28T23:12:07.573785",
     "status": "completed"
    },
    "tags": []
   },
   "outputs": [],
   "source": [
    "every_team_win_data=df.groupby(['season','winner']).size().reset_index()\n",
    "every_team_win_data.columns = ['Season', 'Winner','Total win']"
   ]
  },
  {
   "cell_type": "code",
   "execution_count": 44,
   "id": "81cbb44a",
   "metadata": {
    "execution": {
     "iopub.execute_input": "2024-09-28T23:12:07.717064Z",
     "iopub.status.busy": "2024-09-28T23:12:07.716250Z",
     "iopub.status.idle": "2024-09-28T23:12:07.724422Z",
     "shell.execute_reply": "2024-09-28T23:12:07.723326Z"
    },
    "papermill": {
     "duration": 0.0555,
     "end_time": "2024-09-28T23:12:07.726792",
     "exception": false,
     "start_time": "2024-09-28T23:12:07.671292",
     "status": "completed"
    },
    "tags": []
   },
   "outputs": [],
   "source": [
    "MI_HISTORY=every_team_win_data[every_team_win_data['Winner']== 'Mumbai Indians'].style.background_gradient(cmap='coolwarm')"
   ]
  },
  {
   "cell_type": "code",
   "execution_count": 45,
   "id": "bd3f15e6",
   "metadata": {
    "execution": {
     "iopub.execute_input": "2024-09-28T23:12:07.812224Z",
     "iopub.status.busy": "2024-09-28T23:12:07.811756Z",
     "iopub.status.idle": "2024-09-28T23:12:07.827649Z",
     "shell.execute_reply": "2024-09-28T23:12:07.826619Z"
    },
    "papermill": {
     "duration": 0.061437,
     "end_time": "2024-09-28T23:12:07.830067",
     "exception": false,
     "start_time": "2024-09-28T23:12:07.768630",
     "status": "completed"
    },
    "tags": []
   },
   "outputs": [
    {
     "data": {
      "text/html": [
       "<style type=\"text/css\">\n",
       "#T_6408c_row0_col2, #T_6408c_row6_col2, #T_6408c_row8_col2, #T_6408c_row13_col2 {\n",
       "  background-color: #aac7fd;\n",
       "  color: #000000;\n",
       "}\n",
       "#T_6408c_row1_col2 {\n",
       "  background-color: #5d7ce6;\n",
       "  color: #f1f1f1;\n",
       "}\n",
       "#T_6408c_row2_col2, #T_6408c_row11_col2, #T_6408c_row12_col2 {\n",
       "  background-color: #f18d6f;\n",
       "  color: #f1f1f1;\n",
       "}\n",
       "#T_6408c_row3_col2, #T_6408c_row4_col2, #T_6408c_row7_col2 {\n",
       "  background-color: #f7b89c;\n",
       "  color: #000000;\n",
       "}\n",
       "#T_6408c_row5_col2 {\n",
       "  background-color: #b40426;\n",
       "  color: #f1f1f1;\n",
       "}\n",
       "#T_6408c_row9_col2 {\n",
       "  background-color: #d95847;\n",
       "  color: #f1f1f1;\n",
       "}\n",
       "#T_6408c_row10_col2 {\n",
       "  background-color: #82a6fb;\n",
       "  color: #f1f1f1;\n",
       "}\n",
       "#T_6408c_row14_col2, #T_6408c_row16_col2 {\n",
       "  background-color: #3b4cc0;\n",
       "  color: #f1f1f1;\n",
       "}\n",
       "#T_6408c_row15_col2 {\n",
       "  background-color: #ead4c8;\n",
       "  color: #000000;\n",
       "}\n",
       "</style>\n",
       "<table id=\"T_6408c\">\n",
       "  <thead>\n",
       "    <tr>\n",
       "      <th class=\"blank level0\" >&nbsp;</th>\n",
       "      <th id=\"T_6408c_level0_col0\" class=\"col_heading level0 col0\" >Season</th>\n",
       "      <th id=\"T_6408c_level0_col1\" class=\"col_heading level0 col1\" >Winner</th>\n",
       "      <th id=\"T_6408c_level0_col2\" class=\"col_heading level0 col2\" >Total win</th>\n",
       "    </tr>\n",
       "  </thead>\n",
       "  <tbody>\n",
       "    <tr>\n",
       "      <th id=\"T_6408c_level0_row0\" class=\"row_heading level0 row0\" >5</th>\n",
       "      <td id=\"T_6408c_row0_col0\" class=\"data row0 col0\" >2007/08</td>\n",
       "      <td id=\"T_6408c_row0_col1\" class=\"data row0 col1\" >Mumbai Indians</td>\n",
       "      <td id=\"T_6408c_row0_col2\" class=\"data row0 col2\" >7</td>\n",
       "    </tr>\n",
       "    <tr>\n",
       "      <th id=\"T_6408c_level0_row1\" class=\"row_heading level0 row1\" >13</th>\n",
       "      <td id=\"T_6408c_row1_col0\" class=\"data row1 col0\" >2009</td>\n",
       "      <td id=\"T_6408c_row1_col1\" class=\"data row1 col1\" >Mumbai Indians</td>\n",
       "      <td id=\"T_6408c_row1_col2\" class=\"data row1 col2\" >5</td>\n",
       "    </tr>\n",
       "    <tr>\n",
       "      <th id=\"T_6408c_level0_row2\" class=\"row_heading level0 row2\" >21</th>\n",
       "      <td id=\"T_6408c_row2_col0\" class=\"data row2 col0\" >2009/10</td>\n",
       "      <td id=\"T_6408c_row2_col1\" class=\"data row2 col1\" >Mumbai Indians</td>\n",
       "      <td id=\"T_6408c_row2_col2\" class=\"data row2 col2\" >11</td>\n",
       "    </tr>\n",
       "    <tr>\n",
       "      <th id=\"T_6408c_level0_row3\" class=\"row_heading level0 row3\" >30</th>\n",
       "      <td id=\"T_6408c_row3_col0\" class=\"data row3 col0\" >2011</td>\n",
       "      <td id=\"T_6408c_row3_col1\" class=\"data row3 col1\" >Mumbai Indians</td>\n",
       "      <td id=\"T_6408c_row3_col2\" class=\"data row3 col2\" >10</td>\n",
       "    </tr>\n",
       "    <tr>\n",
       "      <th id=\"T_6408c_level0_row4\" class=\"row_heading level0 row4\" >40</th>\n",
       "      <td id=\"T_6408c_row4_col0\" class=\"data row4 col0\" >2012</td>\n",
       "      <td id=\"T_6408c_row4_col1\" class=\"data row4 col1\" >Mumbai Indians</td>\n",
       "      <td id=\"T_6408c_row4_col2\" class=\"data row4 col2\" >10</td>\n",
       "    </tr>\n",
       "    <tr>\n",
       "      <th id=\"T_6408c_level0_row5\" class=\"row_heading level0 row5\" >48</th>\n",
       "      <td id=\"T_6408c_row5_col0\" class=\"data row5 col0\" >2013</td>\n",
       "      <td id=\"T_6408c_row5_col1\" class=\"data row5 col1\" >Mumbai Indians</td>\n",
       "      <td id=\"T_6408c_row5_col2\" class=\"data row5 col2\" >13</td>\n",
       "    </tr>\n",
       "    <tr>\n",
       "      <th id=\"T_6408c_level0_row6\" class=\"row_heading level0 row6\" >57</th>\n",
       "      <td id=\"T_6408c_row6_col0\" class=\"data row6 col0\" >2014</td>\n",
       "      <td id=\"T_6408c_row6_col1\" class=\"data row6 col1\" >Mumbai Indians</td>\n",
       "      <td id=\"T_6408c_row6_col2\" class=\"data row6 col2\" >7</td>\n",
       "    </tr>\n",
       "    <tr>\n",
       "      <th id=\"T_6408c_level0_row7\" class=\"row_heading level0 row7\" >65</th>\n",
       "      <td id=\"T_6408c_row7_col0\" class=\"data row7 col0\" >2015</td>\n",
       "      <td id=\"T_6408c_row7_col1\" class=\"data row7 col1\" >Mumbai Indians</td>\n",
       "      <td id=\"T_6408c_row7_col2\" class=\"data row7 col2\" >10</td>\n",
       "    </tr>\n",
       "    <tr>\n",
       "      <th id=\"T_6408c_level0_row8\" class=\"row_heading level0 row8\" >74</th>\n",
       "      <td id=\"T_6408c_row8_col0\" class=\"data row8 col0\" >2016</td>\n",
       "      <td id=\"T_6408c_row8_col1\" class=\"data row8 col1\" >Mumbai Indians</td>\n",
       "      <td id=\"T_6408c_row8_col2\" class=\"data row8 col2\" >7</td>\n",
       "    </tr>\n",
       "    <tr>\n",
       "      <th id=\"T_6408c_level0_row9\" class=\"row_heading level0 row9\" >82</th>\n",
       "      <td id=\"T_6408c_row9_col0\" class=\"data row9 col0\" >2017</td>\n",
       "      <td id=\"T_6408c_row9_col1\" class=\"data row9 col1\" >Mumbai Indians</td>\n",
       "      <td id=\"T_6408c_row9_col2\" class=\"data row9 col2\" >12</td>\n",
       "    </tr>\n",
       "    <tr>\n",
       "      <th id=\"T_6408c_level0_row10\" class=\"row_heading level0 row10\" >90</th>\n",
       "      <td id=\"T_6408c_row10_col0\" class=\"data row10 col0\" >2018</td>\n",
       "      <td id=\"T_6408c_row10_col1\" class=\"data row10 col1\" >Mumbai Indians</td>\n",
       "      <td id=\"T_6408c_row10_col2\" class=\"data row10 col2\" >6</td>\n",
       "    </tr>\n",
       "    <tr>\n",
       "      <th id=\"T_6408c_level0_row11\" class=\"row_heading level0 row11\" >98</th>\n",
       "      <td id=\"T_6408c_row11_col0\" class=\"data row11 col0\" >2019</td>\n",
       "      <td id=\"T_6408c_row11_col1\" class=\"data row11 col1\" >Mumbai Indians</td>\n",
       "      <td id=\"T_6408c_row11_col2\" class=\"data row11 col2\" >11</td>\n",
       "    </tr>\n",
       "    <tr>\n",
       "      <th id=\"T_6408c_level0_row12\" class=\"row_heading level0 row12\" >107</th>\n",
       "      <td id=\"T_6408c_row12_col0\" class=\"data row12 col0\" >2020/21</td>\n",
       "      <td id=\"T_6408c_row12_col1\" class=\"data row12 col1\" >Mumbai Indians</td>\n",
       "      <td id=\"T_6408c_row12_col2\" class=\"data row12 col2\" >11</td>\n",
       "    </tr>\n",
       "    <tr>\n",
       "      <th id=\"T_6408c_level0_row13\" class=\"row_heading level0 row13\" >114</th>\n",
       "      <td id=\"T_6408c_row13_col0\" class=\"data row13 col0\" >2021</td>\n",
       "      <td id=\"T_6408c_row13_col1\" class=\"data row13 col1\" >Mumbai Indians</td>\n",
       "      <td id=\"T_6408c_row13_col2\" class=\"data row13 col2\" >7</td>\n",
       "    </tr>\n",
       "    <tr>\n",
       "      <th id=\"T_6408c_level0_row14\" class=\"row_heading level0 row14\" >124</th>\n",
       "      <td id=\"T_6408c_row14_col0\" class=\"data row14 col0\" >2022</td>\n",
       "      <td id=\"T_6408c_row14_col1\" class=\"data row14 col1\" >Mumbai Indians</td>\n",
       "      <td id=\"T_6408c_row14_col2\" class=\"data row14 col2\" >4</td>\n",
       "    </tr>\n",
       "    <tr>\n",
       "      <th id=\"T_6408c_level0_row15\" class=\"row_heading level0 row15\" >134</th>\n",
       "      <td id=\"T_6408c_row15_col0\" class=\"data row15 col0\" >2023</td>\n",
       "      <td id=\"T_6408c_row15_col1\" class=\"data row15 col1\" >Mumbai Indians</td>\n",
       "      <td id=\"T_6408c_row15_col2\" class=\"data row15 col2\" >9</td>\n",
       "    </tr>\n",
       "    <tr>\n",
       "      <th id=\"T_6408c_level0_row16\" class=\"row_heading level0 row16\" >145</th>\n",
       "      <td id=\"T_6408c_row16_col0\" class=\"data row16 col0\" >2024</td>\n",
       "      <td id=\"T_6408c_row16_col1\" class=\"data row16 col1\" >Mumbai Indians</td>\n",
       "      <td id=\"T_6408c_row16_col2\" class=\"data row16 col2\" >4</td>\n",
       "    </tr>\n",
       "  </tbody>\n",
       "</table>\n"
      ],
      "text/plain": [
       "<pandas.io.formats.style.Styler at 0x7a0033571d50>"
      ]
     },
     "execution_count": 45,
     "metadata": {},
     "output_type": "execute_result"
    }
   ],
   "source": [
    "MI_HISTORY"
   ]
  },
  {
   "cell_type": "code",
   "execution_count": 46,
   "id": "bc1ed4b3",
   "metadata": {
    "execution": {
     "iopub.execute_input": "2024-09-28T23:12:07.916663Z",
     "iopub.status.busy": "2024-09-28T23:12:07.916246Z",
     "iopub.status.idle": "2024-09-28T23:12:08.022365Z",
     "shell.execute_reply": "2024-09-28T23:12:08.021187Z"
    },
    "papermill": {
     "duration": 0.152283,
     "end_time": "2024-09-28T23:12:08.024699",
     "exception": false,
     "start_time": "2024-09-28T23:12:07.872416",
     "status": "completed"
    },
    "tags": []
   },
   "outputs": [
    {
     "data": {
      "text/html": [
       "<div>                            <div id=\"55235fb6-6aee-4bcd-b619-a2e8f1515b0b\" class=\"plotly-graph-div\" style=\"height:525px; width:100%;\"></div>            <script type=\"text/javascript\">                require([\"plotly\"], function(Plotly) {                    window.PLOTLYENV=window.PLOTLYENV || {};                                    if (document.getElementById(\"55235fb6-6aee-4bcd-b619-a2e8f1515b0b\")) {                    Plotly.newPlot(                        \"55235fb6-6aee-4bcd-b619-a2e8f1515b0b\",                        [{\"alignmentgroup\":\"True\",\"hovertemplate\":\"Season=%{x}\\u003cbr\\u003eTotal win=%{y}\\u003cextra\\u003e\\u003c\\u002fextra\\u003e\",\"legendgroup\":\"\",\"marker\":{\"color\":\"#636efa\",\"pattern\":{\"shape\":\"\"}},\"name\":\"\",\"offsetgroup\":\"\",\"orientation\":\"v\",\"showlegend\":false,\"textposition\":\"auto\",\"x\":[\"2007\\u002f08\",\"2009\",\"2009\\u002f10\",\"2011\",\"2012\",\"2013\",\"2014\",\"2015\",\"2016\",\"2017\",\"2018\",\"2019\",\"2020\\u002f21\",\"2021\",\"2022\",\"2023\",\"2024\"],\"xaxis\":\"x\",\"y\":[7,5,11,10,10,13,7,10,7,12,6,11,11,7,4,9,4],\"yaxis\":\"y\",\"type\":\"bar\"}],                        {\"template\":{\"data\":{\"barpolar\":[{\"marker\":{\"line\":{\"color\":\"rgb(17,17,17)\",\"width\":0.5},\"pattern\":{\"fillmode\":\"overlay\",\"size\":10,\"solidity\":0.2}},\"type\":\"barpolar\"}],\"bar\":[{\"error_x\":{\"color\":\"#f2f5fa\"},\"error_y\":{\"color\":\"#f2f5fa\"},\"marker\":{\"line\":{\"color\":\"rgb(17,17,17)\",\"width\":0.5},\"pattern\":{\"fillmode\":\"overlay\",\"size\":10,\"solidity\":0.2}},\"type\":\"bar\"}],\"carpet\":[{\"aaxis\":{\"endlinecolor\":\"#A2B1C6\",\"gridcolor\":\"#506784\",\"linecolor\":\"#506784\",\"minorgridcolor\":\"#506784\",\"startlinecolor\":\"#A2B1C6\"},\"baxis\":{\"endlinecolor\":\"#A2B1C6\",\"gridcolor\":\"#506784\",\"linecolor\":\"#506784\",\"minorgridcolor\":\"#506784\",\"startlinecolor\":\"#A2B1C6\"},\"type\":\"carpet\"}],\"choropleth\":[{\"colorbar\":{\"outlinewidth\":0,\"ticks\":\"\"},\"type\":\"choropleth\"}],\"contourcarpet\":[{\"colorbar\":{\"outlinewidth\":0,\"ticks\":\"\"},\"type\":\"contourcarpet\"}],\"contour\":[{\"colorbar\":{\"outlinewidth\":0,\"ticks\":\"\"},\"colorscale\":[[0.0,\"#0d0887\"],[0.1111111111111111,\"#46039f\"],[0.2222222222222222,\"#7201a8\"],[0.3333333333333333,\"#9c179e\"],[0.4444444444444444,\"#bd3786\"],[0.5555555555555556,\"#d8576b\"],[0.6666666666666666,\"#ed7953\"],[0.7777777777777778,\"#fb9f3a\"],[0.8888888888888888,\"#fdca26\"],[1.0,\"#f0f921\"]],\"type\":\"contour\"}],\"heatmapgl\":[{\"colorbar\":{\"outlinewidth\":0,\"ticks\":\"\"},\"colorscale\":[[0.0,\"#0d0887\"],[0.1111111111111111,\"#46039f\"],[0.2222222222222222,\"#7201a8\"],[0.3333333333333333,\"#9c179e\"],[0.4444444444444444,\"#bd3786\"],[0.5555555555555556,\"#d8576b\"],[0.6666666666666666,\"#ed7953\"],[0.7777777777777778,\"#fb9f3a\"],[0.8888888888888888,\"#fdca26\"],[1.0,\"#f0f921\"]],\"type\":\"heatmapgl\"}],\"heatmap\":[{\"colorbar\":{\"outlinewidth\":0,\"ticks\":\"\"},\"colorscale\":[[0.0,\"#0d0887\"],[0.1111111111111111,\"#46039f\"],[0.2222222222222222,\"#7201a8\"],[0.3333333333333333,\"#9c179e\"],[0.4444444444444444,\"#bd3786\"],[0.5555555555555556,\"#d8576b\"],[0.6666666666666666,\"#ed7953\"],[0.7777777777777778,\"#fb9f3a\"],[0.8888888888888888,\"#fdca26\"],[1.0,\"#f0f921\"]],\"type\":\"heatmap\"}],\"histogram2dcontour\":[{\"colorbar\":{\"outlinewidth\":0,\"ticks\":\"\"},\"colorscale\":[[0.0,\"#0d0887\"],[0.1111111111111111,\"#46039f\"],[0.2222222222222222,\"#7201a8\"],[0.3333333333333333,\"#9c179e\"],[0.4444444444444444,\"#bd3786\"],[0.5555555555555556,\"#d8576b\"],[0.6666666666666666,\"#ed7953\"],[0.7777777777777778,\"#fb9f3a\"],[0.8888888888888888,\"#fdca26\"],[1.0,\"#f0f921\"]],\"type\":\"histogram2dcontour\"}],\"histogram2d\":[{\"colorbar\":{\"outlinewidth\":0,\"ticks\":\"\"},\"colorscale\":[[0.0,\"#0d0887\"],[0.1111111111111111,\"#46039f\"],[0.2222222222222222,\"#7201a8\"],[0.3333333333333333,\"#9c179e\"],[0.4444444444444444,\"#bd3786\"],[0.5555555555555556,\"#d8576b\"],[0.6666666666666666,\"#ed7953\"],[0.7777777777777778,\"#fb9f3a\"],[0.8888888888888888,\"#fdca26\"],[1.0,\"#f0f921\"]],\"type\":\"histogram2d\"}],\"histogram\":[{\"marker\":{\"pattern\":{\"fillmode\":\"overlay\",\"size\":10,\"solidity\":0.2}},\"type\":\"histogram\"}],\"mesh3d\":[{\"colorbar\":{\"outlinewidth\":0,\"ticks\":\"\"},\"type\":\"mesh3d\"}],\"parcoords\":[{\"line\":{\"colorbar\":{\"outlinewidth\":0,\"ticks\":\"\"}},\"type\":\"parcoords\"}],\"pie\":[{\"automargin\":true,\"type\":\"pie\"}],\"scatter3d\":[{\"line\":{\"colorbar\":{\"outlinewidth\":0,\"ticks\":\"\"}},\"marker\":{\"colorbar\":{\"outlinewidth\":0,\"ticks\":\"\"}},\"type\":\"scatter3d\"}],\"scattercarpet\":[{\"marker\":{\"colorbar\":{\"outlinewidth\":0,\"ticks\":\"\"}},\"type\":\"scattercarpet\"}],\"scattergeo\":[{\"marker\":{\"colorbar\":{\"outlinewidth\":0,\"ticks\":\"\"}},\"type\":\"scattergeo\"}],\"scattergl\":[{\"marker\":{\"line\":{\"color\":\"#283442\"}},\"type\":\"scattergl\"}],\"scattermapbox\":[{\"marker\":{\"colorbar\":{\"outlinewidth\":0,\"ticks\":\"\"}},\"type\":\"scattermapbox\"}],\"scatterpolargl\":[{\"marker\":{\"colorbar\":{\"outlinewidth\":0,\"ticks\":\"\"}},\"type\":\"scatterpolargl\"}],\"scatterpolar\":[{\"marker\":{\"colorbar\":{\"outlinewidth\":0,\"ticks\":\"\"}},\"type\":\"scatterpolar\"}],\"scatter\":[{\"marker\":{\"line\":{\"color\":\"#283442\"}},\"type\":\"scatter\"}],\"scatterternary\":[{\"marker\":{\"colorbar\":{\"outlinewidth\":0,\"ticks\":\"\"}},\"type\":\"scatterternary\"}],\"surface\":[{\"colorbar\":{\"outlinewidth\":0,\"ticks\":\"\"},\"colorscale\":[[0.0,\"#0d0887\"],[0.1111111111111111,\"#46039f\"],[0.2222222222222222,\"#7201a8\"],[0.3333333333333333,\"#9c179e\"],[0.4444444444444444,\"#bd3786\"],[0.5555555555555556,\"#d8576b\"],[0.6666666666666666,\"#ed7953\"],[0.7777777777777778,\"#fb9f3a\"],[0.8888888888888888,\"#fdca26\"],[1.0,\"#f0f921\"]],\"type\":\"surface\"}],\"table\":[{\"cells\":{\"fill\":{\"color\":\"#506784\"},\"line\":{\"color\":\"rgb(17,17,17)\"}},\"header\":{\"fill\":{\"color\":\"#2a3f5f\"},\"line\":{\"color\":\"rgb(17,17,17)\"}},\"type\":\"table\"}]},\"layout\":{\"annotationdefaults\":{\"arrowcolor\":\"#f2f5fa\",\"arrowhead\":0,\"arrowwidth\":1},\"autotypenumbers\":\"strict\",\"coloraxis\":{\"colorbar\":{\"outlinewidth\":0,\"ticks\":\"\"}},\"colorscale\":{\"diverging\":[[0,\"#8e0152\"],[0.1,\"#c51b7d\"],[0.2,\"#de77ae\"],[0.3,\"#f1b6da\"],[0.4,\"#fde0ef\"],[0.5,\"#f7f7f7\"],[0.6,\"#e6f5d0\"],[0.7,\"#b8e186\"],[0.8,\"#7fbc41\"],[0.9,\"#4d9221\"],[1,\"#276419\"]],\"sequential\":[[0.0,\"#0d0887\"],[0.1111111111111111,\"#46039f\"],[0.2222222222222222,\"#7201a8\"],[0.3333333333333333,\"#9c179e\"],[0.4444444444444444,\"#bd3786\"],[0.5555555555555556,\"#d8576b\"],[0.6666666666666666,\"#ed7953\"],[0.7777777777777778,\"#fb9f3a\"],[0.8888888888888888,\"#fdca26\"],[1.0,\"#f0f921\"]],\"sequentialminus\":[[0.0,\"#0d0887\"],[0.1111111111111111,\"#46039f\"],[0.2222222222222222,\"#7201a8\"],[0.3333333333333333,\"#9c179e\"],[0.4444444444444444,\"#bd3786\"],[0.5555555555555556,\"#d8576b\"],[0.6666666666666666,\"#ed7953\"],[0.7777777777777778,\"#fb9f3a\"],[0.8888888888888888,\"#fdca26\"],[1.0,\"#f0f921\"]]},\"colorway\":[\"#636efa\",\"#EF553B\",\"#00cc96\",\"#ab63fa\",\"#FFA15A\",\"#19d3f3\",\"#FF6692\",\"#B6E880\",\"#FF97FF\",\"#FECB52\"],\"font\":{\"color\":\"#f2f5fa\"},\"geo\":{\"bgcolor\":\"rgb(17,17,17)\",\"lakecolor\":\"rgb(17,17,17)\",\"landcolor\":\"rgb(17,17,17)\",\"showlakes\":true,\"showland\":true,\"subunitcolor\":\"#506784\"},\"hoverlabel\":{\"align\":\"left\"},\"hovermode\":\"closest\",\"mapbox\":{\"style\":\"dark\"},\"paper_bgcolor\":\"rgb(17,17,17)\",\"plot_bgcolor\":\"rgb(17,17,17)\",\"polar\":{\"angularaxis\":{\"gridcolor\":\"#506784\",\"linecolor\":\"#506784\",\"ticks\":\"\"},\"bgcolor\":\"rgb(17,17,17)\",\"radialaxis\":{\"gridcolor\":\"#506784\",\"linecolor\":\"#506784\",\"ticks\":\"\"}},\"scene\":{\"xaxis\":{\"backgroundcolor\":\"rgb(17,17,17)\",\"gridcolor\":\"#506784\",\"gridwidth\":2,\"linecolor\":\"#506784\",\"showbackground\":true,\"ticks\":\"\",\"zerolinecolor\":\"#C8D4E3\"},\"yaxis\":{\"backgroundcolor\":\"rgb(17,17,17)\",\"gridcolor\":\"#506784\",\"gridwidth\":2,\"linecolor\":\"#506784\",\"showbackground\":true,\"ticks\":\"\",\"zerolinecolor\":\"#C8D4E3\"},\"zaxis\":{\"backgroundcolor\":\"rgb(17,17,17)\",\"gridcolor\":\"#506784\",\"gridwidth\":2,\"linecolor\":\"#506784\",\"showbackground\":true,\"ticks\":\"\",\"zerolinecolor\":\"#C8D4E3\"}},\"shapedefaults\":{\"line\":{\"color\":\"#f2f5fa\"}},\"sliderdefaults\":{\"bgcolor\":\"#C8D4E3\",\"bordercolor\":\"rgb(17,17,17)\",\"borderwidth\":1,\"tickwidth\":0},\"ternary\":{\"aaxis\":{\"gridcolor\":\"#506784\",\"linecolor\":\"#506784\",\"ticks\":\"\"},\"baxis\":{\"gridcolor\":\"#506784\",\"linecolor\":\"#506784\",\"ticks\":\"\"},\"bgcolor\":\"rgb(17,17,17)\",\"caxis\":{\"gridcolor\":\"#506784\",\"linecolor\":\"#506784\",\"ticks\":\"\"}},\"title\":{\"x\":0.05},\"updatemenudefaults\":{\"bgcolor\":\"#506784\",\"borderwidth\":0},\"xaxis\":{\"automargin\":true,\"gridcolor\":\"#283442\",\"linecolor\":\"#506784\",\"ticks\":\"\",\"title\":{\"standoff\":15},\"zerolinecolor\":\"#283442\",\"zerolinewidth\":2},\"yaxis\":{\"automargin\":true,\"gridcolor\":\"#283442\",\"linecolor\":\"#506784\",\"ticks\":\"\",\"title\":{\"standoff\":15},\"zerolinecolor\":\"#283442\",\"zerolinewidth\":2}}},\"xaxis\":{\"anchor\":\"y\",\"domain\":[0.0,1.0],\"title\":{\"text\":\"IPL Seasons\"}},\"yaxis\":{\"anchor\":\"x\",\"domain\":[0.0,1.0],\"title\":{\"text\":\"Number of Matches Win\"}},\"legend\":{\"tracegroupgap\":0},\"title\":{\"text\":\"MI Winning History Every Season\",\"font\":{\"size\":20,\"family\":\"Arial\",\"color\":\"#f0f18d\"},\"x\":0.5,\"xanchor\":\"center\",\"yanchor\":\"top\"},\"barmode\":\"relative\"},                        {\"responsive\": true}                    ).then(function(){\n",
       "                            \n",
       "var gd = document.getElementById('55235fb6-6aee-4bcd-b619-a2e8f1515b0b');\n",
       "var x = new MutationObserver(function (mutations, observer) {{\n",
       "        var display = window.getComputedStyle(gd).display;\n",
       "        if (!display || display === 'none') {{\n",
       "            console.log([gd, 'removed!']);\n",
       "            Plotly.purge(gd);\n",
       "            observer.disconnect();\n",
       "        }}\n",
       "}});\n",
       "\n",
       "// Listen for the removal of the full notebook cells\n",
       "var notebookContainer = gd.closest('#notebook-container');\n",
       "if (notebookContainer) {{\n",
       "    x.observe(notebookContainer, {childList: true});\n",
       "}}\n",
       "\n",
       "// Listen for the clearing of the current output cell\n",
       "var outputEl = gd.closest('.output');\n",
       "if (outputEl) {{\n",
       "    x.observe(outputEl, {childList: true});\n",
       "}}\n",
       "\n",
       "                        })                };                });            </script>        </div>"
      ]
     },
     "metadata": {},
     "output_type": "display_data"
    }
   ],
   "source": [
    "MI_HISTORY = every_team_win_data[every_team_win_data['Winner'] == 'Mumbai Indians']\n",
    "\n",
    "fig = px.bar(MI_HISTORY, x='Season', y='Total win', title=\"MI Winning History Every Season\")\n",
    "\n",
    "fig.update_layout(\n",
    "    xaxis_title=\"IPL Seasons\",\n",
    "    yaxis_title=\"Number of Matches Win\",\n",
    "    template=\"plotly_dark\",\n",
    "    title={\n",
    "        'x': 0.5,\n",
    "        'xanchor': 'center',\n",
    "        'yanchor': 'top',\n",
    "        'font': {'size': 20, 'family': 'Arial', 'color': '#f0f18d'}\n",
    "    }\n",
    ")\n",
    "\n",
    "fig.show()\n"
   ]
  },
  {
   "cell_type": "markdown",
   "id": "8cf2f39a",
   "metadata": {
    "papermill": {
     "duration": 0.042029,
     "end_time": "2024-09-28T23:12:08.108697",
     "exception": false,
     "start_time": "2024-09-28T23:12:08.066668",
     "status": "completed"
    },
    "tags": []
   },
   "source": [
    "<div class=\"alert alert-block alert-info\"><p style='color:black;'>🏏📝In 2013 MI gave their Best Performances and 22,23 was poor </p>\n",
    "</div>"
   ]
  },
  {
   "cell_type": "markdown",
   "id": "c32ba5a6",
   "metadata": {
    "papermill": {
     "duration": 0.041973,
     "end_time": "2024-09-28T23:12:08.192757",
     "exception": false,
     "start_time": "2024-09-28T23:12:08.150784",
     "status": "completed"
    },
    "tags": []
   },
   "source": [
    "<a id=\"1\">\n",
    "<h1 style = \"font-family: Snell Roundhand;font-weight: 500;font-size: 30px; font-style: normal; background-color:#2f62c1; color :black;\"> 7) Lucky Stadium For MI :</h1>\n"
   ]
  },
  {
   "cell_type": "code",
   "execution_count": 47,
   "id": "5098f49d",
   "metadata": {
    "execution": {
     "iopub.execute_input": "2024-09-28T23:12:08.278415Z",
     "iopub.status.busy": "2024-09-28T23:12:08.277954Z",
     "iopub.status.idle": "2024-09-28T23:12:08.283291Z",
     "shell.execute_reply": "2024-09-28T23:12:08.282280Z"
    },
    "papermill": {
     "duration": 0.051392,
     "end_time": "2024-09-28T23:12:08.285636",
     "exception": false,
     "start_time": "2024-09-28T23:12:08.234244",
     "status": "completed"
    },
    "tags": []
   },
   "outputs": [],
   "source": [
    "def luckyStd(match_data,team_name):\n",
    "    return df[df['winner']==team_name]['venue'].value_counts().nlargest(10)"
   ]
  },
  {
   "cell_type": "code",
   "execution_count": 48,
   "id": "ed42a5e5",
   "metadata": {
    "execution": {
     "iopub.execute_input": "2024-09-28T23:12:08.373429Z",
     "iopub.status.busy": "2024-09-28T23:12:08.372637Z",
     "iopub.status.idle": "2024-09-28T23:12:08.453391Z",
     "shell.execute_reply": "2024-09-28T23:12:08.452194Z"
    },
    "papermill": {
     "duration": 0.127333,
     "end_time": "2024-09-28T23:12:08.455993",
     "exception": false,
     "start_time": "2024-09-28T23:12:08.328660",
     "status": "completed"
    },
    "tags": []
   },
   "outputs": [
    {
     "data": {
      "text/html": [
       "<div>                            <div id=\"984ac104-d702-4c76-bbdd-1894ce59a0e9\" class=\"plotly-graph-div\" style=\"height:525px; width:100%;\"></div>            <script type=\"text/javascript\">                require([\"plotly\"], function(Plotly) {                    window.PLOTLYENV=window.PLOTLYENV || {};                                    if (document.getElementById(\"984ac104-d702-4c76-bbdd-1894ce59a0e9\")) {                    Plotly.newPlot(                        \"984ac104-d702-4c76-bbdd-1894ce59a0e9\",                        [{\"hole\":0.3,\"labels\":[\"Wankhede Stadium\",\"Eden Gardens\",\"M Chinnaswamy Stadium\",\"Arun Jaitley Stadium\",\"Rajiv Gandhi International Stadium, Uppal\",\"Sheikh Zayed Stadium\",\"Dr DY Patil Sports Academy\",\"Brabourne Stadium\",\"Punjab Cricket Association Stadium, Mohali\",\"Sharjah Cricket Stadium\"],\"values\":[52,10,8,7,6,6,5,5,4,3],\"type\":\"pie\",\"textfont\":{\"size\":20},\"marker\":{\"line\":{\"color\":\"#000000\",\"width\":3},\"colors\":[\"turquoise\",\"crimson\"]},\"hoverinfo\":\"label+percent\",\"textinfo\":\"value\"}],                        {\"template\":{\"data\":{\"barpolar\":[{\"marker\":{\"line\":{\"color\":\"rgb(17,17,17)\",\"width\":0.5},\"pattern\":{\"fillmode\":\"overlay\",\"size\":10,\"solidity\":0.2}},\"type\":\"barpolar\"}],\"bar\":[{\"error_x\":{\"color\":\"#f2f5fa\"},\"error_y\":{\"color\":\"#f2f5fa\"},\"marker\":{\"line\":{\"color\":\"rgb(17,17,17)\",\"width\":0.5},\"pattern\":{\"fillmode\":\"overlay\",\"size\":10,\"solidity\":0.2}},\"type\":\"bar\"}],\"carpet\":[{\"aaxis\":{\"endlinecolor\":\"#A2B1C6\",\"gridcolor\":\"#506784\",\"linecolor\":\"#506784\",\"minorgridcolor\":\"#506784\",\"startlinecolor\":\"#A2B1C6\"},\"baxis\":{\"endlinecolor\":\"#A2B1C6\",\"gridcolor\":\"#506784\",\"linecolor\":\"#506784\",\"minorgridcolor\":\"#506784\",\"startlinecolor\":\"#A2B1C6\"},\"type\":\"carpet\"}],\"choropleth\":[{\"colorbar\":{\"outlinewidth\":0,\"ticks\":\"\"},\"type\":\"choropleth\"}],\"contourcarpet\":[{\"colorbar\":{\"outlinewidth\":0,\"ticks\":\"\"},\"type\":\"contourcarpet\"}],\"contour\":[{\"colorbar\":{\"outlinewidth\":0,\"ticks\":\"\"},\"colorscale\":[[0.0,\"#0d0887\"],[0.1111111111111111,\"#46039f\"],[0.2222222222222222,\"#7201a8\"],[0.3333333333333333,\"#9c179e\"],[0.4444444444444444,\"#bd3786\"],[0.5555555555555556,\"#d8576b\"],[0.6666666666666666,\"#ed7953\"],[0.7777777777777778,\"#fb9f3a\"],[0.8888888888888888,\"#fdca26\"],[1.0,\"#f0f921\"]],\"type\":\"contour\"}],\"heatmapgl\":[{\"colorbar\":{\"outlinewidth\":0,\"ticks\":\"\"},\"colorscale\":[[0.0,\"#0d0887\"],[0.1111111111111111,\"#46039f\"],[0.2222222222222222,\"#7201a8\"],[0.3333333333333333,\"#9c179e\"],[0.4444444444444444,\"#bd3786\"],[0.5555555555555556,\"#d8576b\"],[0.6666666666666666,\"#ed7953\"],[0.7777777777777778,\"#fb9f3a\"],[0.8888888888888888,\"#fdca26\"],[1.0,\"#f0f921\"]],\"type\":\"heatmapgl\"}],\"heatmap\":[{\"colorbar\":{\"outlinewidth\":0,\"ticks\":\"\"},\"colorscale\":[[0.0,\"#0d0887\"],[0.1111111111111111,\"#46039f\"],[0.2222222222222222,\"#7201a8\"],[0.3333333333333333,\"#9c179e\"],[0.4444444444444444,\"#bd3786\"],[0.5555555555555556,\"#d8576b\"],[0.6666666666666666,\"#ed7953\"],[0.7777777777777778,\"#fb9f3a\"],[0.8888888888888888,\"#fdca26\"],[1.0,\"#f0f921\"]],\"type\":\"heatmap\"}],\"histogram2dcontour\":[{\"colorbar\":{\"outlinewidth\":0,\"ticks\":\"\"},\"colorscale\":[[0.0,\"#0d0887\"],[0.1111111111111111,\"#46039f\"],[0.2222222222222222,\"#7201a8\"],[0.3333333333333333,\"#9c179e\"],[0.4444444444444444,\"#bd3786\"],[0.5555555555555556,\"#d8576b\"],[0.6666666666666666,\"#ed7953\"],[0.7777777777777778,\"#fb9f3a\"],[0.8888888888888888,\"#fdca26\"],[1.0,\"#f0f921\"]],\"type\":\"histogram2dcontour\"}],\"histogram2d\":[{\"colorbar\":{\"outlinewidth\":0,\"ticks\":\"\"},\"colorscale\":[[0.0,\"#0d0887\"],[0.1111111111111111,\"#46039f\"],[0.2222222222222222,\"#7201a8\"],[0.3333333333333333,\"#9c179e\"],[0.4444444444444444,\"#bd3786\"],[0.5555555555555556,\"#d8576b\"],[0.6666666666666666,\"#ed7953\"],[0.7777777777777778,\"#fb9f3a\"],[0.8888888888888888,\"#fdca26\"],[1.0,\"#f0f921\"]],\"type\":\"histogram2d\"}],\"histogram\":[{\"marker\":{\"pattern\":{\"fillmode\":\"overlay\",\"size\":10,\"solidity\":0.2}},\"type\":\"histogram\"}],\"mesh3d\":[{\"colorbar\":{\"outlinewidth\":0,\"ticks\":\"\"},\"type\":\"mesh3d\"}],\"parcoords\":[{\"line\":{\"colorbar\":{\"outlinewidth\":0,\"ticks\":\"\"}},\"type\":\"parcoords\"}],\"pie\":[{\"automargin\":true,\"type\":\"pie\"}],\"scatter3d\":[{\"line\":{\"colorbar\":{\"outlinewidth\":0,\"ticks\":\"\"}},\"marker\":{\"colorbar\":{\"outlinewidth\":0,\"ticks\":\"\"}},\"type\":\"scatter3d\"}],\"scattercarpet\":[{\"marker\":{\"colorbar\":{\"outlinewidth\":0,\"ticks\":\"\"}},\"type\":\"scattercarpet\"}],\"scattergeo\":[{\"marker\":{\"colorbar\":{\"outlinewidth\":0,\"ticks\":\"\"}},\"type\":\"scattergeo\"}],\"scattergl\":[{\"marker\":{\"line\":{\"color\":\"#283442\"}},\"type\":\"scattergl\"}],\"scattermapbox\":[{\"marker\":{\"colorbar\":{\"outlinewidth\":0,\"ticks\":\"\"}},\"type\":\"scattermapbox\"}],\"scatterpolargl\":[{\"marker\":{\"colorbar\":{\"outlinewidth\":0,\"ticks\":\"\"}},\"type\":\"scatterpolargl\"}],\"scatterpolar\":[{\"marker\":{\"colorbar\":{\"outlinewidth\":0,\"ticks\":\"\"}},\"type\":\"scatterpolar\"}],\"scatter\":[{\"marker\":{\"line\":{\"color\":\"#283442\"}},\"type\":\"scatter\"}],\"scatterternary\":[{\"marker\":{\"colorbar\":{\"outlinewidth\":0,\"ticks\":\"\"}},\"type\":\"scatterternary\"}],\"surface\":[{\"colorbar\":{\"outlinewidth\":0,\"ticks\":\"\"},\"colorscale\":[[0.0,\"#0d0887\"],[0.1111111111111111,\"#46039f\"],[0.2222222222222222,\"#7201a8\"],[0.3333333333333333,\"#9c179e\"],[0.4444444444444444,\"#bd3786\"],[0.5555555555555556,\"#d8576b\"],[0.6666666666666666,\"#ed7953\"],[0.7777777777777778,\"#fb9f3a\"],[0.8888888888888888,\"#fdca26\"],[1.0,\"#f0f921\"]],\"type\":\"surface\"}],\"table\":[{\"cells\":{\"fill\":{\"color\":\"#506784\"},\"line\":{\"color\":\"rgb(17,17,17)\"}},\"header\":{\"fill\":{\"color\":\"#2a3f5f\"},\"line\":{\"color\":\"rgb(17,17,17)\"}},\"type\":\"table\"}]},\"layout\":{\"annotationdefaults\":{\"arrowcolor\":\"#f2f5fa\",\"arrowhead\":0,\"arrowwidth\":1},\"autotypenumbers\":\"strict\",\"coloraxis\":{\"colorbar\":{\"outlinewidth\":0,\"ticks\":\"\"}},\"colorscale\":{\"diverging\":[[0,\"#8e0152\"],[0.1,\"#c51b7d\"],[0.2,\"#de77ae\"],[0.3,\"#f1b6da\"],[0.4,\"#fde0ef\"],[0.5,\"#f7f7f7\"],[0.6,\"#e6f5d0\"],[0.7,\"#b8e186\"],[0.8,\"#7fbc41\"],[0.9,\"#4d9221\"],[1,\"#276419\"]],\"sequential\":[[0.0,\"#0d0887\"],[0.1111111111111111,\"#46039f\"],[0.2222222222222222,\"#7201a8\"],[0.3333333333333333,\"#9c179e\"],[0.4444444444444444,\"#bd3786\"],[0.5555555555555556,\"#d8576b\"],[0.6666666666666666,\"#ed7953\"],[0.7777777777777778,\"#fb9f3a\"],[0.8888888888888888,\"#fdca26\"],[1.0,\"#f0f921\"]],\"sequentialminus\":[[0.0,\"#0d0887\"],[0.1111111111111111,\"#46039f\"],[0.2222222222222222,\"#7201a8\"],[0.3333333333333333,\"#9c179e\"],[0.4444444444444444,\"#bd3786\"],[0.5555555555555556,\"#d8576b\"],[0.6666666666666666,\"#ed7953\"],[0.7777777777777778,\"#fb9f3a\"],[0.8888888888888888,\"#fdca26\"],[1.0,\"#f0f921\"]]},\"colorway\":[\"#636efa\",\"#EF553B\",\"#00cc96\",\"#ab63fa\",\"#FFA15A\",\"#19d3f3\",\"#FF6692\",\"#B6E880\",\"#FF97FF\",\"#FECB52\"],\"font\":{\"color\":\"#f2f5fa\"},\"geo\":{\"bgcolor\":\"rgb(17,17,17)\",\"lakecolor\":\"rgb(17,17,17)\",\"landcolor\":\"rgb(17,17,17)\",\"showlakes\":true,\"showland\":true,\"subunitcolor\":\"#506784\"},\"hoverlabel\":{\"align\":\"left\"},\"hovermode\":\"closest\",\"mapbox\":{\"style\":\"dark\"},\"paper_bgcolor\":\"rgb(17,17,17)\",\"plot_bgcolor\":\"rgb(17,17,17)\",\"polar\":{\"angularaxis\":{\"gridcolor\":\"#506784\",\"linecolor\":\"#506784\",\"ticks\":\"\"},\"bgcolor\":\"rgb(17,17,17)\",\"radialaxis\":{\"gridcolor\":\"#506784\",\"linecolor\":\"#506784\",\"ticks\":\"\"}},\"scene\":{\"xaxis\":{\"backgroundcolor\":\"rgb(17,17,17)\",\"gridcolor\":\"#506784\",\"gridwidth\":2,\"linecolor\":\"#506784\",\"showbackground\":true,\"ticks\":\"\",\"zerolinecolor\":\"#C8D4E3\"},\"yaxis\":{\"backgroundcolor\":\"rgb(17,17,17)\",\"gridcolor\":\"#506784\",\"gridwidth\":2,\"linecolor\":\"#506784\",\"showbackground\":true,\"ticks\":\"\",\"zerolinecolor\":\"#C8D4E3\"},\"zaxis\":{\"backgroundcolor\":\"rgb(17,17,17)\",\"gridcolor\":\"#506784\",\"gridwidth\":2,\"linecolor\":\"#506784\",\"showbackground\":true,\"ticks\":\"\",\"zerolinecolor\":\"#C8D4E3\"}},\"shapedefaults\":{\"line\":{\"color\":\"#f2f5fa\"}},\"sliderdefaults\":{\"bgcolor\":\"#C8D4E3\",\"bordercolor\":\"rgb(17,17,17)\",\"borderwidth\":1,\"tickwidth\":0},\"ternary\":{\"aaxis\":{\"gridcolor\":\"#506784\",\"linecolor\":\"#506784\",\"ticks\":\"\"},\"baxis\":{\"gridcolor\":\"#506784\",\"linecolor\":\"#506784\",\"ticks\":\"\"},\"bgcolor\":\"rgb(17,17,17)\",\"caxis\":{\"gridcolor\":\"#506784\",\"linecolor\":\"#506784\",\"ticks\":\"\"}},\"title\":{\"x\":0.05},\"updatemenudefaults\":{\"bgcolor\":\"#506784\",\"borderwidth\":0},\"xaxis\":{\"automargin\":true,\"gridcolor\":\"#283442\",\"linecolor\":\"#506784\",\"ticks\":\"\",\"title\":{\"standoff\":15},\"zerolinecolor\":\"#283442\",\"zerolinewidth\":2},\"yaxis\":{\"automargin\":true,\"gridcolor\":\"#283442\",\"linecolor\":\"#506784\",\"ticks\":\"\",\"title\":{\"standoff\":15},\"zerolinecolor\":\"#283442\",\"zerolinewidth\":2}}},\"title\":{\"font\":{\"size\":20,\"family\":\"Arial\",\"color\":\"#f0f18d\"},\"text\":\"MI Winrate In Different Stadiums \",\"x\":0.5,\"xanchor\":\"center\",\"yanchor\":\"top\"},\"xaxis\":{\"title\":{\"text\":\"IPL Seasons\"}},\"yaxis\":{\"title\":{\"text\":\"Number of Matches Win\"}}},                        {\"responsive\": true}                    ).then(function(){\n",
       "                            \n",
       "var gd = document.getElementById('984ac104-d702-4c76-bbdd-1894ce59a0e9');\n",
       "var x = new MutationObserver(function (mutations, observer) {{\n",
       "        var display = window.getComputedStyle(gd).display;\n",
       "        if (!display || display === 'none') {{\n",
       "            console.log([gd, 'removed!']);\n",
       "            Plotly.purge(gd);\n",
       "            observer.disconnect();\n",
       "        }}\n",
       "}});\n",
       "\n",
       "// Listen for the removal of the full notebook cells\n",
       "var notebookContainer = gd.closest('#notebook-container');\n",
       "if (notebookContainer) {{\n",
       "    x.observe(notebookContainer, {childList: true});\n",
       "}}\n",
       "\n",
       "// Listen for the clearing of the current output cell\n",
       "var outputEl = gd.closest('.output');\n",
       "if (outputEl) {{\n",
       "    x.observe(outputEl, {childList: true});\n",
       "}}\n",
       "\n",
       "                        })                };                });            </script>        </div>"
      ]
     },
     "metadata": {},
     "output_type": "display_data"
    }
   ],
   "source": [
    "mi=luckyStd(df,'Mumbai Indians')\n",
    "values = mi\n",
    "labels=mi.index\n",
    "colors = ['turquoise', 'crimson']\n",
    "fig = go.Figure(data=[go.Pie(labels=labels,values=values,hole=.3)])\n",
    "fig.update_traces(hoverinfo='label+percent', textinfo='value', textfont_size=20,\n",
    "                  marker=dict(colors=colors, line=dict(color='#000000', width=3)))\n",
    "fig.update_layout(\n",
    "    xaxis_title=\"IPL Seasons\",\n",
    "    yaxis_title=\"Number of Matches Win\",\n",
    "    template=\"plotly_dark\" ,\n",
    "    title={\n",
    "        'text':'MI Winrate In Different Stadiums ',\n",
    "        'x': 0.5,  \n",
    "        'xanchor': 'center',\n",
    "        'yanchor': 'top',\n",
    "        'font': {'size': 20, 'family': 'Arial', 'color': '#f0f18d'}\n",
    "        \n",
    "    }\n",
    ")\n",
    "fig.show()"
   ]
  },
  {
   "cell_type": "markdown",
   "id": "dd4c2d48",
   "metadata": {
    "papermill": {
     "duration": 0.042462,
     "end_time": "2024-09-28T23:12:08.540411",
     "exception": false,
     "start_time": "2024-09-28T23:12:08.497949",
     "status": "completed"
    },
    "tags": []
   },
   "source": [
    "<div class=\"alert alert-block alert-info\"><p style='color:black;'>🏏📝 Wankhede Is Lucky Stadium For MI  </p>\n",
    "</div>"
   ]
  },
  {
   "cell_type": "markdown",
   "id": "71b8ca40",
   "metadata": {
    "papermill": {
     "duration": 0.042203,
     "end_time": "2024-09-28T23:12:08.625849",
     "exception": false,
     "start_time": "2024-09-28T23:12:08.583646",
     "status": "completed"
    },
    "tags": []
   },
   "source": [
    "<a id=\"1\">\n",
    "<h1 style = \"font-family: Snell Roundhand;font-weight: 500;font-size: 30px; font-style: normal; background-color:#2f62c1; color :black;\"> 8) MI's Performances against Top Team  :</h1>\n"
   ]
  },
  {
   "cell_type": "code",
   "execution_count": 49,
   "id": "a34300f0",
   "metadata": {
    "execution": {
     "iopub.execute_input": "2024-09-28T23:12:08.713332Z",
     "iopub.status.busy": "2024-09-28T23:12:08.712337Z",
     "iopub.status.idle": "2024-09-28T23:12:08.718419Z",
     "shell.execute_reply": "2024-09-28T23:12:08.717306Z"
    },
    "papermill": {
     "duration": 0.05337,
     "end_time": "2024-09-28T23:12:08.720764",
     "exception": false,
     "start_time": "2024-09-28T23:12:08.667394",
     "status": "completed"
    },
    "tags": []
   },
   "outputs": [],
   "source": [
    "def comparison(team1,team2):\n",
    "    compare=df[((df['team1']==team1)|(df['team2']==team1))&((df['team1']==team2)|(df['team2']==team2))]\n",
    "    return compare"
   ]
  },
  {
   "cell_type": "code",
   "execution_count": 50,
   "id": "0af93c6a",
   "metadata": {
    "execution": {
     "iopub.execute_input": "2024-09-28T23:12:08.809167Z",
     "iopub.status.busy": "2024-09-28T23:12:08.808722Z",
     "iopub.status.idle": "2024-09-28T23:12:08.817137Z",
     "shell.execute_reply": "2024-09-28T23:12:08.815870Z"
    },
    "papermill": {
     "duration": 0.055962,
     "end_time": "2024-09-28T23:12:08.819512",
     "exception": false,
     "start_time": "2024-09-28T23:12:08.763550",
     "status": "completed"
    },
    "scrolled": true,
    "tags": []
   },
   "outputs": [],
   "source": [
    "cskvsmi=comparison('Mumbai Indians','Chennai Super Kings')"
   ]
  },
  {
   "cell_type": "code",
   "execution_count": 51,
   "id": "fbd5fb65",
   "metadata": {
    "execution": {
     "iopub.execute_input": "2024-09-28T23:12:08.908021Z",
     "iopub.status.busy": "2024-09-28T23:12:08.907583Z",
     "iopub.status.idle": "2024-09-28T23:12:09.000826Z",
     "shell.execute_reply": "2024-09-28T23:12:08.999679Z"
    },
    "papermill": {
     "duration": 0.139996,
     "end_time": "2024-09-28T23:12:09.003319",
     "exception": false,
     "start_time": "2024-09-28T23:12:08.863323",
     "status": "completed"
    },
    "tags": []
   },
   "outputs": [
    {
     "data": {
      "text/html": [
       "<div>                            <div id=\"75243d50-09ba-403f-ac81-975074ee0c0a\" class=\"plotly-graph-div\" style=\"height:525px; width:100%;\"></div>            <script type=\"text/javascript\">                require([\"plotly\"], function(Plotly) {                    window.PLOTLYENV=window.PLOTLYENV || {};                                    if (document.getElementById(\"75243d50-09ba-403f-ac81-975074ee0c0a\")) {                    Plotly.newPlot(                        \"75243d50-09ba-403f-ac81-975074ee0c0a\",                        [{\"domain\":{\"x\":[0.0,1.0],\"y\":[0.0,1.0]},\"hovertemplate\":\"winner=%{label}\\u003cbr\\u003eMatch win=%{value}\\u003cextra\\u003e\\u003c\\u002fextra\\u003e\",\"labels\":[\"Chennai Super Kings\",\"Mumbai Indians\"],\"legendgroup\":\"\",\"name\":\"\",\"showlegend\":true,\"values\":[17,20],\"type\":\"pie\"}],                        {\"template\":{\"data\":{\"barpolar\":[{\"marker\":{\"line\":{\"color\":\"rgb(17,17,17)\",\"width\":0.5},\"pattern\":{\"fillmode\":\"overlay\",\"size\":10,\"solidity\":0.2}},\"type\":\"barpolar\"}],\"bar\":[{\"error_x\":{\"color\":\"#f2f5fa\"},\"error_y\":{\"color\":\"#f2f5fa\"},\"marker\":{\"line\":{\"color\":\"rgb(17,17,17)\",\"width\":0.5},\"pattern\":{\"fillmode\":\"overlay\",\"size\":10,\"solidity\":0.2}},\"type\":\"bar\"}],\"carpet\":[{\"aaxis\":{\"endlinecolor\":\"#A2B1C6\",\"gridcolor\":\"#506784\",\"linecolor\":\"#506784\",\"minorgridcolor\":\"#506784\",\"startlinecolor\":\"#A2B1C6\"},\"baxis\":{\"endlinecolor\":\"#A2B1C6\",\"gridcolor\":\"#506784\",\"linecolor\":\"#506784\",\"minorgridcolor\":\"#506784\",\"startlinecolor\":\"#A2B1C6\"},\"type\":\"carpet\"}],\"choropleth\":[{\"colorbar\":{\"outlinewidth\":0,\"ticks\":\"\"},\"type\":\"choropleth\"}],\"contourcarpet\":[{\"colorbar\":{\"outlinewidth\":0,\"ticks\":\"\"},\"type\":\"contourcarpet\"}],\"contour\":[{\"colorbar\":{\"outlinewidth\":0,\"ticks\":\"\"},\"colorscale\":[[0.0,\"#0d0887\"],[0.1111111111111111,\"#46039f\"],[0.2222222222222222,\"#7201a8\"],[0.3333333333333333,\"#9c179e\"],[0.4444444444444444,\"#bd3786\"],[0.5555555555555556,\"#d8576b\"],[0.6666666666666666,\"#ed7953\"],[0.7777777777777778,\"#fb9f3a\"],[0.8888888888888888,\"#fdca26\"],[1.0,\"#f0f921\"]],\"type\":\"contour\"}],\"heatmapgl\":[{\"colorbar\":{\"outlinewidth\":0,\"ticks\":\"\"},\"colorscale\":[[0.0,\"#0d0887\"],[0.1111111111111111,\"#46039f\"],[0.2222222222222222,\"#7201a8\"],[0.3333333333333333,\"#9c179e\"],[0.4444444444444444,\"#bd3786\"],[0.5555555555555556,\"#d8576b\"],[0.6666666666666666,\"#ed7953\"],[0.7777777777777778,\"#fb9f3a\"],[0.8888888888888888,\"#fdca26\"],[1.0,\"#f0f921\"]],\"type\":\"heatmapgl\"}],\"heatmap\":[{\"colorbar\":{\"outlinewidth\":0,\"ticks\":\"\"},\"colorscale\":[[0.0,\"#0d0887\"],[0.1111111111111111,\"#46039f\"],[0.2222222222222222,\"#7201a8\"],[0.3333333333333333,\"#9c179e\"],[0.4444444444444444,\"#bd3786\"],[0.5555555555555556,\"#d8576b\"],[0.6666666666666666,\"#ed7953\"],[0.7777777777777778,\"#fb9f3a\"],[0.8888888888888888,\"#fdca26\"],[1.0,\"#f0f921\"]],\"type\":\"heatmap\"}],\"histogram2dcontour\":[{\"colorbar\":{\"outlinewidth\":0,\"ticks\":\"\"},\"colorscale\":[[0.0,\"#0d0887\"],[0.1111111111111111,\"#46039f\"],[0.2222222222222222,\"#7201a8\"],[0.3333333333333333,\"#9c179e\"],[0.4444444444444444,\"#bd3786\"],[0.5555555555555556,\"#d8576b\"],[0.6666666666666666,\"#ed7953\"],[0.7777777777777778,\"#fb9f3a\"],[0.8888888888888888,\"#fdca26\"],[1.0,\"#f0f921\"]],\"type\":\"histogram2dcontour\"}],\"histogram2d\":[{\"colorbar\":{\"outlinewidth\":0,\"ticks\":\"\"},\"colorscale\":[[0.0,\"#0d0887\"],[0.1111111111111111,\"#46039f\"],[0.2222222222222222,\"#7201a8\"],[0.3333333333333333,\"#9c179e\"],[0.4444444444444444,\"#bd3786\"],[0.5555555555555556,\"#d8576b\"],[0.6666666666666666,\"#ed7953\"],[0.7777777777777778,\"#fb9f3a\"],[0.8888888888888888,\"#fdca26\"],[1.0,\"#f0f921\"]],\"type\":\"histogram2d\"}],\"histogram\":[{\"marker\":{\"pattern\":{\"fillmode\":\"overlay\",\"size\":10,\"solidity\":0.2}},\"type\":\"histogram\"}],\"mesh3d\":[{\"colorbar\":{\"outlinewidth\":0,\"ticks\":\"\"},\"type\":\"mesh3d\"}],\"parcoords\":[{\"line\":{\"colorbar\":{\"outlinewidth\":0,\"ticks\":\"\"}},\"type\":\"parcoords\"}],\"pie\":[{\"automargin\":true,\"type\":\"pie\"}],\"scatter3d\":[{\"line\":{\"colorbar\":{\"outlinewidth\":0,\"ticks\":\"\"}},\"marker\":{\"colorbar\":{\"outlinewidth\":0,\"ticks\":\"\"}},\"type\":\"scatter3d\"}],\"scattercarpet\":[{\"marker\":{\"colorbar\":{\"outlinewidth\":0,\"ticks\":\"\"}},\"type\":\"scattercarpet\"}],\"scattergeo\":[{\"marker\":{\"colorbar\":{\"outlinewidth\":0,\"ticks\":\"\"}},\"type\":\"scattergeo\"}],\"scattergl\":[{\"marker\":{\"line\":{\"color\":\"#283442\"}},\"type\":\"scattergl\"}],\"scattermapbox\":[{\"marker\":{\"colorbar\":{\"outlinewidth\":0,\"ticks\":\"\"}},\"type\":\"scattermapbox\"}],\"scatterpolargl\":[{\"marker\":{\"colorbar\":{\"outlinewidth\":0,\"ticks\":\"\"}},\"type\":\"scatterpolargl\"}],\"scatterpolar\":[{\"marker\":{\"colorbar\":{\"outlinewidth\":0,\"ticks\":\"\"}},\"type\":\"scatterpolar\"}],\"scatter\":[{\"marker\":{\"line\":{\"color\":\"#283442\"}},\"type\":\"scatter\"}],\"scatterternary\":[{\"marker\":{\"colorbar\":{\"outlinewidth\":0,\"ticks\":\"\"}},\"type\":\"scatterternary\"}],\"surface\":[{\"colorbar\":{\"outlinewidth\":0,\"ticks\":\"\"},\"colorscale\":[[0.0,\"#0d0887\"],[0.1111111111111111,\"#46039f\"],[0.2222222222222222,\"#7201a8\"],[0.3333333333333333,\"#9c179e\"],[0.4444444444444444,\"#bd3786\"],[0.5555555555555556,\"#d8576b\"],[0.6666666666666666,\"#ed7953\"],[0.7777777777777778,\"#fb9f3a\"],[0.8888888888888888,\"#fdca26\"],[1.0,\"#f0f921\"]],\"type\":\"surface\"}],\"table\":[{\"cells\":{\"fill\":{\"color\":\"#506784\"},\"line\":{\"color\":\"rgb(17,17,17)\"}},\"header\":{\"fill\":{\"color\":\"#2a3f5f\"},\"line\":{\"color\":\"rgb(17,17,17)\"}},\"type\":\"table\"}]},\"layout\":{\"annotationdefaults\":{\"arrowcolor\":\"#f2f5fa\",\"arrowhead\":0,\"arrowwidth\":1},\"autotypenumbers\":\"strict\",\"coloraxis\":{\"colorbar\":{\"outlinewidth\":0,\"ticks\":\"\"}},\"colorscale\":{\"diverging\":[[0,\"#8e0152\"],[0.1,\"#c51b7d\"],[0.2,\"#de77ae\"],[0.3,\"#f1b6da\"],[0.4,\"#fde0ef\"],[0.5,\"#f7f7f7\"],[0.6,\"#e6f5d0\"],[0.7,\"#b8e186\"],[0.8,\"#7fbc41\"],[0.9,\"#4d9221\"],[1,\"#276419\"]],\"sequential\":[[0.0,\"#0d0887\"],[0.1111111111111111,\"#46039f\"],[0.2222222222222222,\"#7201a8\"],[0.3333333333333333,\"#9c179e\"],[0.4444444444444444,\"#bd3786\"],[0.5555555555555556,\"#d8576b\"],[0.6666666666666666,\"#ed7953\"],[0.7777777777777778,\"#fb9f3a\"],[0.8888888888888888,\"#fdca26\"],[1.0,\"#f0f921\"]],\"sequentialminus\":[[0.0,\"#0d0887\"],[0.1111111111111111,\"#46039f\"],[0.2222222222222222,\"#7201a8\"],[0.3333333333333333,\"#9c179e\"],[0.4444444444444444,\"#bd3786\"],[0.5555555555555556,\"#d8576b\"],[0.6666666666666666,\"#ed7953\"],[0.7777777777777778,\"#fb9f3a\"],[0.8888888888888888,\"#fdca26\"],[1.0,\"#f0f921\"]]},\"colorway\":[\"#636efa\",\"#EF553B\",\"#00cc96\",\"#ab63fa\",\"#FFA15A\",\"#19d3f3\",\"#FF6692\",\"#B6E880\",\"#FF97FF\",\"#FECB52\"],\"font\":{\"color\":\"#f2f5fa\"},\"geo\":{\"bgcolor\":\"rgb(17,17,17)\",\"lakecolor\":\"rgb(17,17,17)\",\"landcolor\":\"rgb(17,17,17)\",\"showlakes\":true,\"showland\":true,\"subunitcolor\":\"#506784\"},\"hoverlabel\":{\"align\":\"left\"},\"hovermode\":\"closest\",\"mapbox\":{\"style\":\"dark\"},\"paper_bgcolor\":\"rgb(17,17,17)\",\"plot_bgcolor\":\"rgb(17,17,17)\",\"polar\":{\"angularaxis\":{\"gridcolor\":\"#506784\",\"linecolor\":\"#506784\",\"ticks\":\"\"},\"bgcolor\":\"rgb(17,17,17)\",\"radialaxis\":{\"gridcolor\":\"#506784\",\"linecolor\":\"#506784\",\"ticks\":\"\"}},\"scene\":{\"xaxis\":{\"backgroundcolor\":\"rgb(17,17,17)\",\"gridcolor\":\"#506784\",\"gridwidth\":2,\"linecolor\":\"#506784\",\"showbackground\":true,\"ticks\":\"\",\"zerolinecolor\":\"#C8D4E3\"},\"yaxis\":{\"backgroundcolor\":\"rgb(17,17,17)\",\"gridcolor\":\"#506784\",\"gridwidth\":2,\"linecolor\":\"#506784\",\"showbackground\":true,\"ticks\":\"\",\"zerolinecolor\":\"#C8D4E3\"},\"zaxis\":{\"backgroundcolor\":\"rgb(17,17,17)\",\"gridcolor\":\"#506784\",\"gridwidth\":2,\"linecolor\":\"#506784\",\"showbackground\":true,\"ticks\":\"\",\"zerolinecolor\":\"#C8D4E3\"}},\"shapedefaults\":{\"line\":{\"color\":\"#f2f5fa\"}},\"sliderdefaults\":{\"bgcolor\":\"#C8D4E3\",\"bordercolor\":\"rgb(17,17,17)\",\"borderwidth\":1,\"tickwidth\":0},\"ternary\":{\"aaxis\":{\"gridcolor\":\"#506784\",\"linecolor\":\"#506784\",\"ticks\":\"\"},\"baxis\":{\"gridcolor\":\"#506784\",\"linecolor\":\"#506784\",\"ticks\":\"\"},\"bgcolor\":\"rgb(17,17,17)\",\"caxis\":{\"gridcolor\":\"#506784\",\"linecolor\":\"#506784\",\"ticks\":\"\"}},\"title\":{\"x\":0.05},\"updatemenudefaults\":{\"bgcolor\":\"#506784\",\"borderwidth\":0},\"xaxis\":{\"automargin\":true,\"gridcolor\":\"#283442\",\"linecolor\":\"#506784\",\"ticks\":\"\",\"title\":{\"standoff\":15},\"zerolinecolor\":\"#283442\",\"zerolinewidth\":2},\"yaxis\":{\"automargin\":true,\"gridcolor\":\"#283442\",\"linecolor\":\"#506784\",\"ticks\":\"\",\"title\":{\"standoff\":15},\"zerolinecolor\":\"#283442\",\"zerolinewidth\":2}}},\"legend\":{\"tracegroupgap\":0},\"margin\":{\"t\":60},\"title\":{\"font\":{\"size\":20,\"family\":\"Arial\",\"color\":\"#f0f18d\"},\"text\":\"CSK vs MI: Fights\",\"x\":0.5,\"xanchor\":\"center\",\"yanchor\":\"top\"}},                        {\"responsive\": true}                    ).then(function(){\n",
       "                            \n",
       "var gd = document.getElementById('75243d50-09ba-403f-ac81-975074ee0c0a');\n",
       "var x = new MutationObserver(function (mutations, observer) {{\n",
       "        var display = window.getComputedStyle(gd).display;\n",
       "        if (!display || display === 'none') {{\n",
       "            console.log([gd, 'removed!']);\n",
       "            Plotly.purge(gd);\n",
       "            observer.disconnect();\n",
       "        }}\n",
       "}});\n",
       "\n",
       "// Listen for the removal of the full notebook cells\n",
       "var notebookContainer = gd.closest('#notebook-container');\n",
       "if (notebookContainer) {{\n",
       "    x.observe(notebookContainer, {childList: true});\n",
       "}}\n",
       "\n",
       "// Listen for the clearing of the current output cell\n",
       "var outputEl = gd.closest('.output');\n",
       "if (outputEl) {{\n",
       "    x.observe(outputEl, {childList: true});\n",
       "}}\n",
       "\n",
       "                        })                };                });            </script>        </div>"
      ]
     },
     "metadata": {},
     "output_type": "display_data"
    }
   ],
   "source": [
    "grouped_data = cskvsmi.groupby('winner').size().reset_index(name='Match win')\n",
    "fig = px.pie(grouped_data, names='winner', values='Match win')\n",
    "fig.update_layout(\n",
    "    template=\"plotly_dark\" ,\n",
    "    title={\n",
    "        'text':'CSK vs MI: Fights',\n",
    "        'x': 0.5,  \n",
    "        'xanchor': 'center',\n",
    "        'yanchor': 'top',\n",
    "        'font': {'size': 20, 'family': 'Arial', 'color': '#f0f18d'}\n",
    "        \n",
    "    }\n",
    ")\n",
    "fig.show()"
   ]
  },
  {
   "cell_type": "code",
   "execution_count": 52,
   "id": "ccb30298",
   "metadata": {
    "execution": {
     "iopub.execute_input": "2024-09-28T23:12:09.092674Z",
     "iopub.status.busy": "2024-09-28T23:12:09.092235Z",
     "iopub.status.idle": "2024-09-28T23:12:09.100004Z",
     "shell.execute_reply": "2024-09-28T23:12:09.099053Z"
    },
    "papermill": {
     "duration": 0.055255,
     "end_time": "2024-09-28T23:12:09.102407",
     "exception": false,
     "start_time": "2024-09-28T23:12:09.047152",
     "status": "completed"
    },
    "tags": []
   },
   "outputs": [],
   "source": [
    "RcbvsMi=comparison('Mumbai Indians','Royal Challengers Bangalore')"
   ]
  },
  {
   "cell_type": "code",
   "execution_count": 53,
   "id": "76a927fd",
   "metadata": {
    "execution": {
     "iopub.execute_input": "2024-09-28T23:12:09.190666Z",
     "iopub.status.busy": "2024-09-28T23:12:09.190199Z",
     "iopub.status.idle": "2024-09-28T23:12:09.279481Z",
     "shell.execute_reply": "2024-09-28T23:12:09.278511Z"
    },
    "papermill": {
     "duration": 0.136606,
     "end_time": "2024-09-28T23:12:09.281881",
     "exception": false,
     "start_time": "2024-09-28T23:12:09.145275",
     "status": "completed"
    },
    "tags": []
   },
   "outputs": [
    {
     "data": {
      "text/html": [
       "<div>                            <div id=\"71c115ed-a9be-43f2-8bc4-7605d8dc8427\" class=\"plotly-graph-div\" style=\"height:525px; width:100%;\"></div>            <script type=\"text/javascript\">                require([\"plotly\"], function(Plotly) {                    window.PLOTLYENV=window.PLOTLYENV || {};                                    if (document.getElementById(\"71c115ed-a9be-43f2-8bc4-7605d8dc8427\")) {                    Plotly.newPlot(                        \"71c115ed-a9be-43f2-8bc4-7605d8dc8427\",                        [{\"domain\":{\"x\":[0.0,1.0],\"y\":[0.0,1.0]},\"hovertemplate\":\"winner=%{label}\\u003cbr\\u003eMatch win=%{value}\\u003cextra\\u003e\\u003c\\u002fextra\\u003e\",\"labels\":[\"Mumbai Indians\",\"Royal Challengers Bangalore\"],\"legendgroup\":\"\",\"name\":\"\",\"showlegend\":true,\"values\":[18,14],\"type\":\"pie\"}],                        {\"template\":{\"data\":{\"barpolar\":[{\"marker\":{\"line\":{\"color\":\"rgb(17,17,17)\",\"width\":0.5},\"pattern\":{\"fillmode\":\"overlay\",\"size\":10,\"solidity\":0.2}},\"type\":\"barpolar\"}],\"bar\":[{\"error_x\":{\"color\":\"#f2f5fa\"},\"error_y\":{\"color\":\"#f2f5fa\"},\"marker\":{\"line\":{\"color\":\"rgb(17,17,17)\",\"width\":0.5},\"pattern\":{\"fillmode\":\"overlay\",\"size\":10,\"solidity\":0.2}},\"type\":\"bar\"}],\"carpet\":[{\"aaxis\":{\"endlinecolor\":\"#A2B1C6\",\"gridcolor\":\"#506784\",\"linecolor\":\"#506784\",\"minorgridcolor\":\"#506784\",\"startlinecolor\":\"#A2B1C6\"},\"baxis\":{\"endlinecolor\":\"#A2B1C6\",\"gridcolor\":\"#506784\",\"linecolor\":\"#506784\",\"minorgridcolor\":\"#506784\",\"startlinecolor\":\"#A2B1C6\"},\"type\":\"carpet\"}],\"choropleth\":[{\"colorbar\":{\"outlinewidth\":0,\"ticks\":\"\"},\"type\":\"choropleth\"}],\"contourcarpet\":[{\"colorbar\":{\"outlinewidth\":0,\"ticks\":\"\"},\"type\":\"contourcarpet\"}],\"contour\":[{\"colorbar\":{\"outlinewidth\":0,\"ticks\":\"\"},\"colorscale\":[[0.0,\"#0d0887\"],[0.1111111111111111,\"#46039f\"],[0.2222222222222222,\"#7201a8\"],[0.3333333333333333,\"#9c179e\"],[0.4444444444444444,\"#bd3786\"],[0.5555555555555556,\"#d8576b\"],[0.6666666666666666,\"#ed7953\"],[0.7777777777777778,\"#fb9f3a\"],[0.8888888888888888,\"#fdca26\"],[1.0,\"#f0f921\"]],\"type\":\"contour\"}],\"heatmapgl\":[{\"colorbar\":{\"outlinewidth\":0,\"ticks\":\"\"},\"colorscale\":[[0.0,\"#0d0887\"],[0.1111111111111111,\"#46039f\"],[0.2222222222222222,\"#7201a8\"],[0.3333333333333333,\"#9c179e\"],[0.4444444444444444,\"#bd3786\"],[0.5555555555555556,\"#d8576b\"],[0.6666666666666666,\"#ed7953\"],[0.7777777777777778,\"#fb9f3a\"],[0.8888888888888888,\"#fdca26\"],[1.0,\"#f0f921\"]],\"type\":\"heatmapgl\"}],\"heatmap\":[{\"colorbar\":{\"outlinewidth\":0,\"ticks\":\"\"},\"colorscale\":[[0.0,\"#0d0887\"],[0.1111111111111111,\"#46039f\"],[0.2222222222222222,\"#7201a8\"],[0.3333333333333333,\"#9c179e\"],[0.4444444444444444,\"#bd3786\"],[0.5555555555555556,\"#d8576b\"],[0.6666666666666666,\"#ed7953\"],[0.7777777777777778,\"#fb9f3a\"],[0.8888888888888888,\"#fdca26\"],[1.0,\"#f0f921\"]],\"type\":\"heatmap\"}],\"histogram2dcontour\":[{\"colorbar\":{\"outlinewidth\":0,\"ticks\":\"\"},\"colorscale\":[[0.0,\"#0d0887\"],[0.1111111111111111,\"#46039f\"],[0.2222222222222222,\"#7201a8\"],[0.3333333333333333,\"#9c179e\"],[0.4444444444444444,\"#bd3786\"],[0.5555555555555556,\"#d8576b\"],[0.6666666666666666,\"#ed7953\"],[0.7777777777777778,\"#fb9f3a\"],[0.8888888888888888,\"#fdca26\"],[1.0,\"#f0f921\"]],\"type\":\"histogram2dcontour\"}],\"histogram2d\":[{\"colorbar\":{\"outlinewidth\":0,\"ticks\":\"\"},\"colorscale\":[[0.0,\"#0d0887\"],[0.1111111111111111,\"#46039f\"],[0.2222222222222222,\"#7201a8\"],[0.3333333333333333,\"#9c179e\"],[0.4444444444444444,\"#bd3786\"],[0.5555555555555556,\"#d8576b\"],[0.6666666666666666,\"#ed7953\"],[0.7777777777777778,\"#fb9f3a\"],[0.8888888888888888,\"#fdca26\"],[1.0,\"#f0f921\"]],\"type\":\"histogram2d\"}],\"histogram\":[{\"marker\":{\"pattern\":{\"fillmode\":\"overlay\",\"size\":10,\"solidity\":0.2}},\"type\":\"histogram\"}],\"mesh3d\":[{\"colorbar\":{\"outlinewidth\":0,\"ticks\":\"\"},\"type\":\"mesh3d\"}],\"parcoords\":[{\"line\":{\"colorbar\":{\"outlinewidth\":0,\"ticks\":\"\"}},\"type\":\"parcoords\"}],\"pie\":[{\"automargin\":true,\"type\":\"pie\"}],\"scatter3d\":[{\"line\":{\"colorbar\":{\"outlinewidth\":0,\"ticks\":\"\"}},\"marker\":{\"colorbar\":{\"outlinewidth\":0,\"ticks\":\"\"}},\"type\":\"scatter3d\"}],\"scattercarpet\":[{\"marker\":{\"colorbar\":{\"outlinewidth\":0,\"ticks\":\"\"}},\"type\":\"scattercarpet\"}],\"scattergeo\":[{\"marker\":{\"colorbar\":{\"outlinewidth\":0,\"ticks\":\"\"}},\"type\":\"scattergeo\"}],\"scattergl\":[{\"marker\":{\"line\":{\"color\":\"#283442\"}},\"type\":\"scattergl\"}],\"scattermapbox\":[{\"marker\":{\"colorbar\":{\"outlinewidth\":0,\"ticks\":\"\"}},\"type\":\"scattermapbox\"}],\"scatterpolargl\":[{\"marker\":{\"colorbar\":{\"outlinewidth\":0,\"ticks\":\"\"}},\"type\":\"scatterpolargl\"}],\"scatterpolar\":[{\"marker\":{\"colorbar\":{\"outlinewidth\":0,\"ticks\":\"\"}},\"type\":\"scatterpolar\"}],\"scatter\":[{\"marker\":{\"line\":{\"color\":\"#283442\"}},\"type\":\"scatter\"}],\"scatterternary\":[{\"marker\":{\"colorbar\":{\"outlinewidth\":0,\"ticks\":\"\"}},\"type\":\"scatterternary\"}],\"surface\":[{\"colorbar\":{\"outlinewidth\":0,\"ticks\":\"\"},\"colorscale\":[[0.0,\"#0d0887\"],[0.1111111111111111,\"#46039f\"],[0.2222222222222222,\"#7201a8\"],[0.3333333333333333,\"#9c179e\"],[0.4444444444444444,\"#bd3786\"],[0.5555555555555556,\"#d8576b\"],[0.6666666666666666,\"#ed7953\"],[0.7777777777777778,\"#fb9f3a\"],[0.8888888888888888,\"#fdca26\"],[1.0,\"#f0f921\"]],\"type\":\"surface\"}],\"table\":[{\"cells\":{\"fill\":{\"color\":\"#506784\"},\"line\":{\"color\":\"rgb(17,17,17)\"}},\"header\":{\"fill\":{\"color\":\"#2a3f5f\"},\"line\":{\"color\":\"rgb(17,17,17)\"}},\"type\":\"table\"}]},\"layout\":{\"annotationdefaults\":{\"arrowcolor\":\"#f2f5fa\",\"arrowhead\":0,\"arrowwidth\":1},\"autotypenumbers\":\"strict\",\"coloraxis\":{\"colorbar\":{\"outlinewidth\":0,\"ticks\":\"\"}},\"colorscale\":{\"diverging\":[[0,\"#8e0152\"],[0.1,\"#c51b7d\"],[0.2,\"#de77ae\"],[0.3,\"#f1b6da\"],[0.4,\"#fde0ef\"],[0.5,\"#f7f7f7\"],[0.6,\"#e6f5d0\"],[0.7,\"#b8e186\"],[0.8,\"#7fbc41\"],[0.9,\"#4d9221\"],[1,\"#276419\"]],\"sequential\":[[0.0,\"#0d0887\"],[0.1111111111111111,\"#46039f\"],[0.2222222222222222,\"#7201a8\"],[0.3333333333333333,\"#9c179e\"],[0.4444444444444444,\"#bd3786\"],[0.5555555555555556,\"#d8576b\"],[0.6666666666666666,\"#ed7953\"],[0.7777777777777778,\"#fb9f3a\"],[0.8888888888888888,\"#fdca26\"],[1.0,\"#f0f921\"]],\"sequentialminus\":[[0.0,\"#0d0887\"],[0.1111111111111111,\"#46039f\"],[0.2222222222222222,\"#7201a8\"],[0.3333333333333333,\"#9c179e\"],[0.4444444444444444,\"#bd3786\"],[0.5555555555555556,\"#d8576b\"],[0.6666666666666666,\"#ed7953\"],[0.7777777777777778,\"#fb9f3a\"],[0.8888888888888888,\"#fdca26\"],[1.0,\"#f0f921\"]]},\"colorway\":[\"#636efa\",\"#EF553B\",\"#00cc96\",\"#ab63fa\",\"#FFA15A\",\"#19d3f3\",\"#FF6692\",\"#B6E880\",\"#FF97FF\",\"#FECB52\"],\"font\":{\"color\":\"#f2f5fa\"},\"geo\":{\"bgcolor\":\"rgb(17,17,17)\",\"lakecolor\":\"rgb(17,17,17)\",\"landcolor\":\"rgb(17,17,17)\",\"showlakes\":true,\"showland\":true,\"subunitcolor\":\"#506784\"},\"hoverlabel\":{\"align\":\"left\"},\"hovermode\":\"closest\",\"mapbox\":{\"style\":\"dark\"},\"paper_bgcolor\":\"rgb(17,17,17)\",\"plot_bgcolor\":\"rgb(17,17,17)\",\"polar\":{\"angularaxis\":{\"gridcolor\":\"#506784\",\"linecolor\":\"#506784\",\"ticks\":\"\"},\"bgcolor\":\"rgb(17,17,17)\",\"radialaxis\":{\"gridcolor\":\"#506784\",\"linecolor\":\"#506784\",\"ticks\":\"\"}},\"scene\":{\"xaxis\":{\"backgroundcolor\":\"rgb(17,17,17)\",\"gridcolor\":\"#506784\",\"gridwidth\":2,\"linecolor\":\"#506784\",\"showbackground\":true,\"ticks\":\"\",\"zerolinecolor\":\"#C8D4E3\"},\"yaxis\":{\"backgroundcolor\":\"rgb(17,17,17)\",\"gridcolor\":\"#506784\",\"gridwidth\":2,\"linecolor\":\"#506784\",\"showbackground\":true,\"ticks\":\"\",\"zerolinecolor\":\"#C8D4E3\"},\"zaxis\":{\"backgroundcolor\":\"rgb(17,17,17)\",\"gridcolor\":\"#506784\",\"gridwidth\":2,\"linecolor\":\"#506784\",\"showbackground\":true,\"ticks\":\"\",\"zerolinecolor\":\"#C8D4E3\"}},\"shapedefaults\":{\"line\":{\"color\":\"#f2f5fa\"}},\"sliderdefaults\":{\"bgcolor\":\"#C8D4E3\",\"bordercolor\":\"rgb(17,17,17)\",\"borderwidth\":1,\"tickwidth\":0},\"ternary\":{\"aaxis\":{\"gridcolor\":\"#506784\",\"linecolor\":\"#506784\",\"ticks\":\"\"},\"baxis\":{\"gridcolor\":\"#506784\",\"linecolor\":\"#506784\",\"ticks\":\"\"},\"bgcolor\":\"rgb(17,17,17)\",\"caxis\":{\"gridcolor\":\"#506784\",\"linecolor\":\"#506784\",\"ticks\":\"\"}},\"title\":{\"x\":0.05},\"updatemenudefaults\":{\"bgcolor\":\"#506784\",\"borderwidth\":0},\"xaxis\":{\"automargin\":true,\"gridcolor\":\"#283442\",\"linecolor\":\"#506784\",\"ticks\":\"\",\"title\":{\"standoff\":15},\"zerolinecolor\":\"#283442\",\"zerolinewidth\":2},\"yaxis\":{\"automargin\":true,\"gridcolor\":\"#283442\",\"linecolor\":\"#506784\",\"ticks\":\"\",\"title\":{\"standoff\":15},\"zerolinecolor\":\"#283442\",\"zerolinewidth\":2}}},\"legend\":{\"tracegroupgap\":0},\"margin\":{\"t\":60},\"title\":{\"font\":{\"size\":20,\"family\":\"Arial\",\"color\":\"#f0f18d\"},\"text\":\"Rcb vs MI: Fights\",\"x\":0.5,\"xanchor\":\"center\",\"yanchor\":\"top\"}},                        {\"responsive\": true}                    ).then(function(){\n",
       "                            \n",
       "var gd = document.getElementById('71c115ed-a9be-43f2-8bc4-7605d8dc8427');\n",
       "var x = new MutationObserver(function (mutations, observer) {{\n",
       "        var display = window.getComputedStyle(gd).display;\n",
       "        if (!display || display === 'none') {{\n",
       "            console.log([gd, 'removed!']);\n",
       "            Plotly.purge(gd);\n",
       "            observer.disconnect();\n",
       "        }}\n",
       "}});\n",
       "\n",
       "// Listen for the removal of the full notebook cells\n",
       "var notebookContainer = gd.closest('#notebook-container');\n",
       "if (notebookContainer) {{\n",
       "    x.observe(notebookContainer, {childList: true});\n",
       "}}\n",
       "\n",
       "// Listen for the clearing of the current output cell\n",
       "var outputEl = gd.closest('.output');\n",
       "if (outputEl) {{\n",
       "    x.observe(outputEl, {childList: true});\n",
       "}}\n",
       "\n",
       "                        })                };                });            </script>        </div>"
      ]
     },
     "metadata": {},
     "output_type": "display_data"
    }
   ],
   "source": [
    "grouped_data = RcbvsMi.groupby('winner').size().reset_index(name='Match win')\n",
    "fig = px.pie(grouped_data, names='winner', values='Match win')\n",
    "fig.update_layout(\n",
    "    template=\"plotly_dark\" ,\n",
    "    title={\n",
    "        'text':'Rcb vs MI: Fights',\n",
    "        'x': 0.5,  \n",
    "        'xanchor': 'center',\n",
    "        'yanchor': 'top',\n",
    "        'font': {'size': 20, 'family': 'Arial', 'color': '#f0f18d'}\n",
    "        \n",
    "    }\n",
    ")\n",
    "fig.show()"
   ]
  },
  {
   "cell_type": "code",
   "execution_count": 54,
   "id": "fd493049",
   "metadata": {
    "execution": {
     "iopub.execute_input": "2024-09-28T23:12:09.369095Z",
     "iopub.status.busy": "2024-09-28T23:12:09.368672Z",
     "iopub.status.idle": "2024-09-28T23:12:09.376520Z",
     "shell.execute_reply": "2024-09-28T23:12:09.375525Z"
    },
    "papermill": {
     "duration": 0.054119,
     "end_time": "2024-09-28T23:12:09.378691",
     "exception": false,
     "start_time": "2024-09-28T23:12:09.324572",
     "status": "completed"
    },
    "tags": []
   },
   "outputs": [],
   "source": [
    "KkrvsMi=comparison('Mumbai Indians','Kolkata Knight Riders')"
   ]
  },
  {
   "cell_type": "code",
   "execution_count": 55,
   "id": "48918c5c",
   "metadata": {
    "execution": {
     "iopub.execute_input": "2024-09-28T23:12:09.466537Z",
     "iopub.status.busy": "2024-09-28T23:12:09.466064Z",
     "iopub.status.idle": "2024-09-28T23:12:09.561232Z",
     "shell.execute_reply": "2024-09-28T23:12:09.560022Z"
    },
    "papermill": {
     "duration": 0.142023,
     "end_time": "2024-09-28T23:12:09.563616",
     "exception": false,
     "start_time": "2024-09-28T23:12:09.421593",
     "status": "completed"
    },
    "tags": []
   },
   "outputs": [
    {
     "data": {
      "text/html": [
       "<div>                            <div id=\"b8ee8f33-7d31-48eb-b6ce-c5864858eecd\" class=\"plotly-graph-div\" style=\"height:525px; width:100%;\"></div>            <script type=\"text/javascript\">                require([\"plotly\"], function(Plotly) {                    window.PLOTLYENV=window.PLOTLYENV || {};                                    if (document.getElementById(\"b8ee8f33-7d31-48eb-b6ce-c5864858eecd\")) {                    Plotly.newPlot(                        \"b8ee8f33-7d31-48eb-b6ce-c5864858eecd\",                        [{\"domain\":{\"x\":[0.0,1.0],\"y\":[0.0,1.0]},\"hovertemplate\":\"winner=%{label}\\u003cbr\\u003eMatch win=%{value}\\u003cextra\\u003e\\u003c\\u002fextra\\u003e\",\"labels\":[\"Kolkata Knight Riders\",\"Mumbai Indians\"],\"legendgroup\":\"\",\"name\":\"\",\"showlegend\":true,\"values\":[11,23],\"type\":\"pie\"}],                        {\"template\":{\"data\":{\"barpolar\":[{\"marker\":{\"line\":{\"color\":\"rgb(17,17,17)\",\"width\":0.5},\"pattern\":{\"fillmode\":\"overlay\",\"size\":10,\"solidity\":0.2}},\"type\":\"barpolar\"}],\"bar\":[{\"error_x\":{\"color\":\"#f2f5fa\"},\"error_y\":{\"color\":\"#f2f5fa\"},\"marker\":{\"line\":{\"color\":\"rgb(17,17,17)\",\"width\":0.5},\"pattern\":{\"fillmode\":\"overlay\",\"size\":10,\"solidity\":0.2}},\"type\":\"bar\"}],\"carpet\":[{\"aaxis\":{\"endlinecolor\":\"#A2B1C6\",\"gridcolor\":\"#506784\",\"linecolor\":\"#506784\",\"minorgridcolor\":\"#506784\",\"startlinecolor\":\"#A2B1C6\"},\"baxis\":{\"endlinecolor\":\"#A2B1C6\",\"gridcolor\":\"#506784\",\"linecolor\":\"#506784\",\"minorgridcolor\":\"#506784\",\"startlinecolor\":\"#A2B1C6\"},\"type\":\"carpet\"}],\"choropleth\":[{\"colorbar\":{\"outlinewidth\":0,\"ticks\":\"\"},\"type\":\"choropleth\"}],\"contourcarpet\":[{\"colorbar\":{\"outlinewidth\":0,\"ticks\":\"\"},\"type\":\"contourcarpet\"}],\"contour\":[{\"colorbar\":{\"outlinewidth\":0,\"ticks\":\"\"},\"colorscale\":[[0.0,\"#0d0887\"],[0.1111111111111111,\"#46039f\"],[0.2222222222222222,\"#7201a8\"],[0.3333333333333333,\"#9c179e\"],[0.4444444444444444,\"#bd3786\"],[0.5555555555555556,\"#d8576b\"],[0.6666666666666666,\"#ed7953\"],[0.7777777777777778,\"#fb9f3a\"],[0.8888888888888888,\"#fdca26\"],[1.0,\"#f0f921\"]],\"type\":\"contour\"}],\"heatmapgl\":[{\"colorbar\":{\"outlinewidth\":0,\"ticks\":\"\"},\"colorscale\":[[0.0,\"#0d0887\"],[0.1111111111111111,\"#46039f\"],[0.2222222222222222,\"#7201a8\"],[0.3333333333333333,\"#9c179e\"],[0.4444444444444444,\"#bd3786\"],[0.5555555555555556,\"#d8576b\"],[0.6666666666666666,\"#ed7953\"],[0.7777777777777778,\"#fb9f3a\"],[0.8888888888888888,\"#fdca26\"],[1.0,\"#f0f921\"]],\"type\":\"heatmapgl\"}],\"heatmap\":[{\"colorbar\":{\"outlinewidth\":0,\"ticks\":\"\"},\"colorscale\":[[0.0,\"#0d0887\"],[0.1111111111111111,\"#46039f\"],[0.2222222222222222,\"#7201a8\"],[0.3333333333333333,\"#9c179e\"],[0.4444444444444444,\"#bd3786\"],[0.5555555555555556,\"#d8576b\"],[0.6666666666666666,\"#ed7953\"],[0.7777777777777778,\"#fb9f3a\"],[0.8888888888888888,\"#fdca26\"],[1.0,\"#f0f921\"]],\"type\":\"heatmap\"}],\"histogram2dcontour\":[{\"colorbar\":{\"outlinewidth\":0,\"ticks\":\"\"},\"colorscale\":[[0.0,\"#0d0887\"],[0.1111111111111111,\"#46039f\"],[0.2222222222222222,\"#7201a8\"],[0.3333333333333333,\"#9c179e\"],[0.4444444444444444,\"#bd3786\"],[0.5555555555555556,\"#d8576b\"],[0.6666666666666666,\"#ed7953\"],[0.7777777777777778,\"#fb9f3a\"],[0.8888888888888888,\"#fdca26\"],[1.0,\"#f0f921\"]],\"type\":\"histogram2dcontour\"}],\"histogram2d\":[{\"colorbar\":{\"outlinewidth\":0,\"ticks\":\"\"},\"colorscale\":[[0.0,\"#0d0887\"],[0.1111111111111111,\"#46039f\"],[0.2222222222222222,\"#7201a8\"],[0.3333333333333333,\"#9c179e\"],[0.4444444444444444,\"#bd3786\"],[0.5555555555555556,\"#d8576b\"],[0.6666666666666666,\"#ed7953\"],[0.7777777777777778,\"#fb9f3a\"],[0.8888888888888888,\"#fdca26\"],[1.0,\"#f0f921\"]],\"type\":\"histogram2d\"}],\"histogram\":[{\"marker\":{\"pattern\":{\"fillmode\":\"overlay\",\"size\":10,\"solidity\":0.2}},\"type\":\"histogram\"}],\"mesh3d\":[{\"colorbar\":{\"outlinewidth\":0,\"ticks\":\"\"},\"type\":\"mesh3d\"}],\"parcoords\":[{\"line\":{\"colorbar\":{\"outlinewidth\":0,\"ticks\":\"\"}},\"type\":\"parcoords\"}],\"pie\":[{\"automargin\":true,\"type\":\"pie\"}],\"scatter3d\":[{\"line\":{\"colorbar\":{\"outlinewidth\":0,\"ticks\":\"\"}},\"marker\":{\"colorbar\":{\"outlinewidth\":0,\"ticks\":\"\"}},\"type\":\"scatter3d\"}],\"scattercarpet\":[{\"marker\":{\"colorbar\":{\"outlinewidth\":0,\"ticks\":\"\"}},\"type\":\"scattercarpet\"}],\"scattergeo\":[{\"marker\":{\"colorbar\":{\"outlinewidth\":0,\"ticks\":\"\"}},\"type\":\"scattergeo\"}],\"scattergl\":[{\"marker\":{\"line\":{\"color\":\"#283442\"}},\"type\":\"scattergl\"}],\"scattermapbox\":[{\"marker\":{\"colorbar\":{\"outlinewidth\":0,\"ticks\":\"\"}},\"type\":\"scattermapbox\"}],\"scatterpolargl\":[{\"marker\":{\"colorbar\":{\"outlinewidth\":0,\"ticks\":\"\"}},\"type\":\"scatterpolargl\"}],\"scatterpolar\":[{\"marker\":{\"colorbar\":{\"outlinewidth\":0,\"ticks\":\"\"}},\"type\":\"scatterpolar\"}],\"scatter\":[{\"marker\":{\"line\":{\"color\":\"#283442\"}},\"type\":\"scatter\"}],\"scatterternary\":[{\"marker\":{\"colorbar\":{\"outlinewidth\":0,\"ticks\":\"\"}},\"type\":\"scatterternary\"}],\"surface\":[{\"colorbar\":{\"outlinewidth\":0,\"ticks\":\"\"},\"colorscale\":[[0.0,\"#0d0887\"],[0.1111111111111111,\"#46039f\"],[0.2222222222222222,\"#7201a8\"],[0.3333333333333333,\"#9c179e\"],[0.4444444444444444,\"#bd3786\"],[0.5555555555555556,\"#d8576b\"],[0.6666666666666666,\"#ed7953\"],[0.7777777777777778,\"#fb9f3a\"],[0.8888888888888888,\"#fdca26\"],[1.0,\"#f0f921\"]],\"type\":\"surface\"}],\"table\":[{\"cells\":{\"fill\":{\"color\":\"#506784\"},\"line\":{\"color\":\"rgb(17,17,17)\"}},\"header\":{\"fill\":{\"color\":\"#2a3f5f\"},\"line\":{\"color\":\"rgb(17,17,17)\"}},\"type\":\"table\"}]},\"layout\":{\"annotationdefaults\":{\"arrowcolor\":\"#f2f5fa\",\"arrowhead\":0,\"arrowwidth\":1},\"autotypenumbers\":\"strict\",\"coloraxis\":{\"colorbar\":{\"outlinewidth\":0,\"ticks\":\"\"}},\"colorscale\":{\"diverging\":[[0,\"#8e0152\"],[0.1,\"#c51b7d\"],[0.2,\"#de77ae\"],[0.3,\"#f1b6da\"],[0.4,\"#fde0ef\"],[0.5,\"#f7f7f7\"],[0.6,\"#e6f5d0\"],[0.7,\"#b8e186\"],[0.8,\"#7fbc41\"],[0.9,\"#4d9221\"],[1,\"#276419\"]],\"sequential\":[[0.0,\"#0d0887\"],[0.1111111111111111,\"#46039f\"],[0.2222222222222222,\"#7201a8\"],[0.3333333333333333,\"#9c179e\"],[0.4444444444444444,\"#bd3786\"],[0.5555555555555556,\"#d8576b\"],[0.6666666666666666,\"#ed7953\"],[0.7777777777777778,\"#fb9f3a\"],[0.8888888888888888,\"#fdca26\"],[1.0,\"#f0f921\"]],\"sequentialminus\":[[0.0,\"#0d0887\"],[0.1111111111111111,\"#46039f\"],[0.2222222222222222,\"#7201a8\"],[0.3333333333333333,\"#9c179e\"],[0.4444444444444444,\"#bd3786\"],[0.5555555555555556,\"#d8576b\"],[0.6666666666666666,\"#ed7953\"],[0.7777777777777778,\"#fb9f3a\"],[0.8888888888888888,\"#fdca26\"],[1.0,\"#f0f921\"]]},\"colorway\":[\"#636efa\",\"#EF553B\",\"#00cc96\",\"#ab63fa\",\"#FFA15A\",\"#19d3f3\",\"#FF6692\",\"#B6E880\",\"#FF97FF\",\"#FECB52\"],\"font\":{\"color\":\"#f2f5fa\"},\"geo\":{\"bgcolor\":\"rgb(17,17,17)\",\"lakecolor\":\"rgb(17,17,17)\",\"landcolor\":\"rgb(17,17,17)\",\"showlakes\":true,\"showland\":true,\"subunitcolor\":\"#506784\"},\"hoverlabel\":{\"align\":\"left\"},\"hovermode\":\"closest\",\"mapbox\":{\"style\":\"dark\"},\"paper_bgcolor\":\"rgb(17,17,17)\",\"plot_bgcolor\":\"rgb(17,17,17)\",\"polar\":{\"angularaxis\":{\"gridcolor\":\"#506784\",\"linecolor\":\"#506784\",\"ticks\":\"\"},\"bgcolor\":\"rgb(17,17,17)\",\"radialaxis\":{\"gridcolor\":\"#506784\",\"linecolor\":\"#506784\",\"ticks\":\"\"}},\"scene\":{\"xaxis\":{\"backgroundcolor\":\"rgb(17,17,17)\",\"gridcolor\":\"#506784\",\"gridwidth\":2,\"linecolor\":\"#506784\",\"showbackground\":true,\"ticks\":\"\",\"zerolinecolor\":\"#C8D4E3\"},\"yaxis\":{\"backgroundcolor\":\"rgb(17,17,17)\",\"gridcolor\":\"#506784\",\"gridwidth\":2,\"linecolor\":\"#506784\",\"showbackground\":true,\"ticks\":\"\",\"zerolinecolor\":\"#C8D4E3\"},\"zaxis\":{\"backgroundcolor\":\"rgb(17,17,17)\",\"gridcolor\":\"#506784\",\"gridwidth\":2,\"linecolor\":\"#506784\",\"showbackground\":true,\"ticks\":\"\",\"zerolinecolor\":\"#C8D4E3\"}},\"shapedefaults\":{\"line\":{\"color\":\"#f2f5fa\"}},\"sliderdefaults\":{\"bgcolor\":\"#C8D4E3\",\"bordercolor\":\"rgb(17,17,17)\",\"borderwidth\":1,\"tickwidth\":0},\"ternary\":{\"aaxis\":{\"gridcolor\":\"#506784\",\"linecolor\":\"#506784\",\"ticks\":\"\"},\"baxis\":{\"gridcolor\":\"#506784\",\"linecolor\":\"#506784\",\"ticks\":\"\"},\"bgcolor\":\"rgb(17,17,17)\",\"caxis\":{\"gridcolor\":\"#506784\",\"linecolor\":\"#506784\",\"ticks\":\"\"}},\"title\":{\"x\":0.05},\"updatemenudefaults\":{\"bgcolor\":\"#506784\",\"borderwidth\":0},\"xaxis\":{\"automargin\":true,\"gridcolor\":\"#283442\",\"linecolor\":\"#506784\",\"ticks\":\"\",\"title\":{\"standoff\":15},\"zerolinecolor\":\"#283442\",\"zerolinewidth\":2},\"yaxis\":{\"automargin\":true,\"gridcolor\":\"#283442\",\"linecolor\":\"#506784\",\"ticks\":\"\",\"title\":{\"standoff\":15},\"zerolinecolor\":\"#283442\",\"zerolinewidth\":2}}},\"legend\":{\"tracegroupgap\":0},\"margin\":{\"t\":60},\"title\":{\"font\":{\"size\":20,\"family\":\"Arial\",\"color\":\"#f0f18d\"},\"text\":\"Kkr vs MI: Fights\",\"x\":0.5,\"xanchor\":\"center\",\"yanchor\":\"top\"}},                        {\"responsive\": true}                    ).then(function(){\n",
       "                            \n",
       "var gd = document.getElementById('b8ee8f33-7d31-48eb-b6ce-c5864858eecd');\n",
       "var x = new MutationObserver(function (mutations, observer) {{\n",
       "        var display = window.getComputedStyle(gd).display;\n",
       "        if (!display || display === 'none') {{\n",
       "            console.log([gd, 'removed!']);\n",
       "            Plotly.purge(gd);\n",
       "            observer.disconnect();\n",
       "        }}\n",
       "}});\n",
       "\n",
       "// Listen for the removal of the full notebook cells\n",
       "var notebookContainer = gd.closest('#notebook-container');\n",
       "if (notebookContainer) {{\n",
       "    x.observe(notebookContainer, {childList: true});\n",
       "}}\n",
       "\n",
       "// Listen for the clearing of the current output cell\n",
       "var outputEl = gd.closest('.output');\n",
       "if (outputEl) {{\n",
       "    x.observe(outputEl, {childList: true});\n",
       "}}\n",
       "\n",
       "                        })                };                });            </script>        </div>"
      ]
     },
     "metadata": {},
     "output_type": "display_data"
    }
   ],
   "source": [
    "grouped_data = KkrvsMi.groupby('winner').size().reset_index(name='Match win')\n",
    "fig = px.pie(grouped_data, names='winner', values='Match win')\n",
    "fig.update_layout(\n",
    "    template=\"plotly_dark\" ,\n",
    "    title={\n",
    "        'text':'Kkr vs MI: Fights',\n",
    "        'x': 0.5,  \n",
    "        'xanchor': 'center',\n",
    "        'yanchor': 'top',\n",
    "        'font': {'size': 20, 'family': 'Arial', 'color': '#f0f18d'}\n",
    "        \n",
    "    }\n",
    ")\n",
    "fig.show()"
   ]
  },
  {
   "cell_type": "markdown",
   "id": "1f3b9da7",
   "metadata": {
    "papermill": {
     "duration": 0.043245,
     "end_time": "2024-09-28T23:12:09.651479",
     "exception": false,
     "start_time": "2024-09-28T23:12:09.608234",
     "status": "completed"
    },
    "tags": []
   },
   "source": [
    "<div class=\"alert alert-block alert-info\"><p style='color:black;'>🏏📝 As a Top Team CSK gives Tough Fights To MI   </p>\n",
    "</div>"
   ]
  },
  {
   "cell_type": "markdown",
   "id": "f2d7fd48",
   "metadata": {
    "papermill": {
     "duration": 0.042993,
     "end_time": "2024-09-28T23:12:09.740091",
     "exception": false,
     "start_time": "2024-09-28T23:12:09.697098",
     "status": "completed"
    },
    "tags": []
   },
   "source": [
    "<a id=\"header\"></a>\n",
    "\n",
    "<div style=\"border: 1px solid; color: black; padding: 3px; width: 97%; background-color: #2d2d2d; border: 5px solid Grey;\">\n",
    "    <center width=\"80%\">\n",
    "        <img src=\"https://media3.giphy.com/media/QDHYKiygFFpBvQvvYQ/giphy.gif?cid=6c09b952r7rujrnesq2egygw32ctorvm0p6esxykpwweqi6h&ep=v1_internal_gif_by_id&rid=giphy.gif&ct=g\" style=\"width: 90%;\">\n",
    "    </center>\n",
    " <p style=\"font-family: 'Pacifico', cursive; font-size: 2rem; color: #ff758c; text-align: center; margin: 0; text-shadow: 2px 2px 4px rgba(0, 0, 0, 0.3); background-color: #2d2d2d; padding: 20px; border-radius: 10px; border: 7px solid #f6f385; width: 95%;\">🔍 Lets do Virat's Performance Analysis 📊📈🏏</p>\n",
    "</div>\n"
   ]
  },
  {
   "cell_type": "markdown",
   "id": "e71157d4",
   "metadata": {
    "papermill": {
     "duration": 0.043268,
     "end_time": "2024-09-28T23:12:09.827781",
     "exception": false,
     "start_time": "2024-09-28T23:12:09.784513",
     "status": "completed"
    },
    "tags": []
   },
   "source": [
    "<a id=\"1\">\n",
    "<h1 style = \"font-family: Snell Roundhand;font-weight: 500;font-size: 30px; font-style: normal; background-color:#f42d2d; color :black;\"> 9) Virat's Run Analysis  :</h1>\n"
   ]
  },
  {
   "cell_type": "code",
   "execution_count": 56,
   "id": "d960793d",
   "metadata": {
    "execution": {
     "iopub.execute_input": "2024-09-28T23:12:09.917242Z",
     "iopub.status.busy": "2024-09-28T23:12:09.916191Z",
     "iopub.status.idle": "2024-09-28T23:12:09.971599Z",
     "shell.execute_reply": "2024-09-28T23:12:09.970635Z"
    },
    "papermill": {
     "duration": 0.102613,
     "end_time": "2024-09-28T23:12:09.973999",
     "exception": false,
     "start_time": "2024-09-28T23:12:09.871386",
     "status": "completed"
    },
    "tags": []
   },
   "outputs": [],
   "source": [
    "virat=df1[df1['batter']=='V Kohli']"
   ]
  },
  {
   "cell_type": "code",
   "execution_count": 57,
   "id": "edc13026",
   "metadata": {
    "execution": {
     "iopub.execute_input": "2024-09-28T23:12:10.065097Z",
     "iopub.status.busy": "2024-09-28T23:12:10.064679Z",
     "iopub.status.idle": "2024-09-28T23:12:10.072403Z",
     "shell.execute_reply": "2024-09-28T23:12:10.071288Z"
    },
    "papermill": {
     "duration": 0.055935,
     "end_time": "2024-09-28T23:12:10.074897",
     "exception": false,
     "start_time": "2024-09-28T23:12:10.018962",
     "status": "completed"
    },
    "tags": []
   },
   "outputs": [
    {
     "data": {
      "text/plain": [
       "8307"
      ]
     },
     "execution_count": 57,
     "metadata": {},
     "output_type": "execute_result"
    }
   ],
   "source": [
    "virat['total_runs'].sum()"
   ]
  },
  {
   "cell_type": "markdown",
   "id": "47b7babe",
   "metadata": {
    "papermill": {
     "duration": 0.043392,
     "end_time": "2024-09-28T23:12:10.162470",
     "exception": false,
     "start_time": "2024-09-28T23:12:10.119078",
     "status": "completed"
    },
    "tags": []
   },
   "source": [
    "<div class=\"alert alert-block alert-info\"><p style='color:black;'>🏏📝Total Run By VK18 is 8307   </p>\n",
    "</div>"
   ]
  },
  {
   "cell_type": "code",
   "execution_count": 58,
   "id": "11c0dfc0",
   "metadata": {
    "execution": {
     "iopub.execute_input": "2024-09-28T23:12:10.251681Z",
     "iopub.status.busy": "2024-09-28T23:12:10.250878Z",
     "iopub.status.idle": "2024-09-28T23:12:10.256068Z",
     "shell.execute_reply": "2024-09-28T23:12:10.255155Z"
    },
    "papermill": {
     "duration": 0.052221,
     "end_time": "2024-09-28T23:12:10.258381",
     "exception": false,
     "start_time": "2024-09-28T23:12:10.206160",
     "status": "completed"
    },
    "tags": []
   },
   "outputs": [],
   "source": [
    "def run_machine(vk,runs):\n",
    "    return len(vk[vk['batsman_runs']==runs])*runs"
   ]
  },
  {
   "cell_type": "code",
   "execution_count": 59,
   "id": "0bccf3c2",
   "metadata": {
    "execution": {
     "iopub.execute_input": "2024-09-28T23:12:10.348023Z",
     "iopub.status.busy": "2024-09-28T23:12:10.347092Z",
     "iopub.status.idle": "2024-09-28T23:12:10.358537Z",
     "shell.execute_reply": "2024-09-28T23:12:10.357168Z"
    },
    "papermill": {
     "duration": 0.058631,
     "end_time": "2024-09-28T23:12:10.360938",
     "exception": false,
     "start_time": "2024-09-28T23:12:10.302307",
     "status": "completed"
    },
    "tags": []
   },
   "outputs": [
    {
     "name": "stdout",
     "output_type": "stream",
     "text": [
      "vk18 scored 2591 by taking 1's \n",
      "vk18 scored 890 by taking 2's \n",
      "vk18 scored 63 by taking 3's \n",
      "vk18 scored 2832 by taking 4's \n",
      "vk18 scored 1638 by taking 6's \n"
     ]
    }
   ],
   "source": [
    "print(f\"vk18 scored {run_machine(virat,1)} by taking 1's \")\n",
    "print(f\"vk18 scored {run_machine(virat,2)} by taking 2's \")\n",
    "print(f\"vk18 scored {run_machine(virat,3)} by taking 3's \")\n",
    "print(f\"vk18 scored {run_machine(virat,4)} by taking 4's \")\n",
    "print(f\"vk18 scored {run_machine(virat,6)} by taking 6's \")"
   ]
  },
  {
   "cell_type": "code",
   "execution_count": 60,
   "id": "9fd1d974",
   "metadata": {
    "execution": {
     "iopub.execute_input": "2024-09-28T23:12:10.449497Z",
     "iopub.status.busy": "2024-09-28T23:12:10.449087Z",
     "iopub.status.idle": "2024-09-28T23:12:10.537364Z",
     "shell.execute_reply": "2024-09-28T23:12:10.536299Z"
    },
    "papermill": {
     "duration": 0.135125,
     "end_time": "2024-09-28T23:12:10.539914",
     "exception": false,
     "start_time": "2024-09-28T23:12:10.404789",
     "status": "completed"
    },
    "tags": []
   },
   "outputs": [
    {
     "data": {
      "text/html": [
       "<div>                            <div id=\"762605ea-2c59-4280-94ae-02293f427973\" class=\"plotly-graph-div\" style=\"height:525px; width:100%;\"></div>            <script type=\"text/javascript\">                require([\"plotly\"], function(Plotly) {                    window.PLOTLYENV=window.PLOTLYENV || {};                                    if (document.getElementById(\"762605ea-2c59-4280-94ae-02293f427973\")) {                    Plotly.newPlot(                        \"762605ea-2c59-4280-94ae-02293f427973\",                        [{\"domain\":{\"x\":[0.0,1.0],\"y\":[0.0,1.0]},\"hovertemplate\":\"label=%{label}\\u003cbr\\u003evalue=%{value}\\u003cextra\\u003e\\u003c\\u002fextra\\u003e\",\"labels\":[1,2,3,4,6],\"legendgroup\":\"\",\"name\":\"\",\"showlegend\":true,\"values\":[2591,890,63,2832,1638],\"type\":\"pie\"}],                        {\"template\":{\"data\":{\"barpolar\":[{\"marker\":{\"line\":{\"color\":\"rgb(17,17,17)\",\"width\":0.5},\"pattern\":{\"fillmode\":\"overlay\",\"size\":10,\"solidity\":0.2}},\"type\":\"barpolar\"}],\"bar\":[{\"error_x\":{\"color\":\"#f2f5fa\"},\"error_y\":{\"color\":\"#f2f5fa\"},\"marker\":{\"line\":{\"color\":\"rgb(17,17,17)\",\"width\":0.5},\"pattern\":{\"fillmode\":\"overlay\",\"size\":10,\"solidity\":0.2}},\"type\":\"bar\"}],\"carpet\":[{\"aaxis\":{\"endlinecolor\":\"#A2B1C6\",\"gridcolor\":\"#506784\",\"linecolor\":\"#506784\",\"minorgridcolor\":\"#506784\",\"startlinecolor\":\"#A2B1C6\"},\"baxis\":{\"endlinecolor\":\"#A2B1C6\",\"gridcolor\":\"#506784\",\"linecolor\":\"#506784\",\"minorgridcolor\":\"#506784\",\"startlinecolor\":\"#A2B1C6\"},\"type\":\"carpet\"}],\"choropleth\":[{\"colorbar\":{\"outlinewidth\":0,\"ticks\":\"\"},\"type\":\"choropleth\"}],\"contourcarpet\":[{\"colorbar\":{\"outlinewidth\":0,\"ticks\":\"\"},\"type\":\"contourcarpet\"}],\"contour\":[{\"colorbar\":{\"outlinewidth\":0,\"ticks\":\"\"},\"colorscale\":[[0.0,\"#0d0887\"],[0.1111111111111111,\"#46039f\"],[0.2222222222222222,\"#7201a8\"],[0.3333333333333333,\"#9c179e\"],[0.4444444444444444,\"#bd3786\"],[0.5555555555555556,\"#d8576b\"],[0.6666666666666666,\"#ed7953\"],[0.7777777777777778,\"#fb9f3a\"],[0.8888888888888888,\"#fdca26\"],[1.0,\"#f0f921\"]],\"type\":\"contour\"}],\"heatmapgl\":[{\"colorbar\":{\"outlinewidth\":0,\"ticks\":\"\"},\"colorscale\":[[0.0,\"#0d0887\"],[0.1111111111111111,\"#46039f\"],[0.2222222222222222,\"#7201a8\"],[0.3333333333333333,\"#9c179e\"],[0.4444444444444444,\"#bd3786\"],[0.5555555555555556,\"#d8576b\"],[0.6666666666666666,\"#ed7953\"],[0.7777777777777778,\"#fb9f3a\"],[0.8888888888888888,\"#fdca26\"],[1.0,\"#f0f921\"]],\"type\":\"heatmapgl\"}],\"heatmap\":[{\"colorbar\":{\"outlinewidth\":0,\"ticks\":\"\"},\"colorscale\":[[0.0,\"#0d0887\"],[0.1111111111111111,\"#46039f\"],[0.2222222222222222,\"#7201a8\"],[0.3333333333333333,\"#9c179e\"],[0.4444444444444444,\"#bd3786\"],[0.5555555555555556,\"#d8576b\"],[0.6666666666666666,\"#ed7953\"],[0.7777777777777778,\"#fb9f3a\"],[0.8888888888888888,\"#fdca26\"],[1.0,\"#f0f921\"]],\"type\":\"heatmap\"}],\"histogram2dcontour\":[{\"colorbar\":{\"outlinewidth\":0,\"ticks\":\"\"},\"colorscale\":[[0.0,\"#0d0887\"],[0.1111111111111111,\"#46039f\"],[0.2222222222222222,\"#7201a8\"],[0.3333333333333333,\"#9c179e\"],[0.4444444444444444,\"#bd3786\"],[0.5555555555555556,\"#d8576b\"],[0.6666666666666666,\"#ed7953\"],[0.7777777777777778,\"#fb9f3a\"],[0.8888888888888888,\"#fdca26\"],[1.0,\"#f0f921\"]],\"type\":\"histogram2dcontour\"}],\"histogram2d\":[{\"colorbar\":{\"outlinewidth\":0,\"ticks\":\"\"},\"colorscale\":[[0.0,\"#0d0887\"],[0.1111111111111111,\"#46039f\"],[0.2222222222222222,\"#7201a8\"],[0.3333333333333333,\"#9c179e\"],[0.4444444444444444,\"#bd3786\"],[0.5555555555555556,\"#d8576b\"],[0.6666666666666666,\"#ed7953\"],[0.7777777777777778,\"#fb9f3a\"],[0.8888888888888888,\"#fdca26\"],[1.0,\"#f0f921\"]],\"type\":\"histogram2d\"}],\"histogram\":[{\"marker\":{\"pattern\":{\"fillmode\":\"overlay\",\"size\":10,\"solidity\":0.2}},\"type\":\"histogram\"}],\"mesh3d\":[{\"colorbar\":{\"outlinewidth\":0,\"ticks\":\"\"},\"type\":\"mesh3d\"}],\"parcoords\":[{\"line\":{\"colorbar\":{\"outlinewidth\":0,\"ticks\":\"\"}},\"type\":\"parcoords\"}],\"pie\":[{\"automargin\":true,\"type\":\"pie\"}],\"scatter3d\":[{\"line\":{\"colorbar\":{\"outlinewidth\":0,\"ticks\":\"\"}},\"marker\":{\"colorbar\":{\"outlinewidth\":0,\"ticks\":\"\"}},\"type\":\"scatter3d\"}],\"scattercarpet\":[{\"marker\":{\"colorbar\":{\"outlinewidth\":0,\"ticks\":\"\"}},\"type\":\"scattercarpet\"}],\"scattergeo\":[{\"marker\":{\"colorbar\":{\"outlinewidth\":0,\"ticks\":\"\"}},\"type\":\"scattergeo\"}],\"scattergl\":[{\"marker\":{\"line\":{\"color\":\"#283442\"}},\"type\":\"scattergl\"}],\"scattermapbox\":[{\"marker\":{\"colorbar\":{\"outlinewidth\":0,\"ticks\":\"\"}},\"type\":\"scattermapbox\"}],\"scatterpolargl\":[{\"marker\":{\"colorbar\":{\"outlinewidth\":0,\"ticks\":\"\"}},\"type\":\"scatterpolargl\"}],\"scatterpolar\":[{\"marker\":{\"colorbar\":{\"outlinewidth\":0,\"ticks\":\"\"}},\"type\":\"scatterpolar\"}],\"scatter\":[{\"marker\":{\"line\":{\"color\":\"#283442\"}},\"type\":\"scatter\"}],\"scatterternary\":[{\"marker\":{\"colorbar\":{\"outlinewidth\":0,\"ticks\":\"\"}},\"type\":\"scatterternary\"}],\"surface\":[{\"colorbar\":{\"outlinewidth\":0,\"ticks\":\"\"},\"colorscale\":[[0.0,\"#0d0887\"],[0.1111111111111111,\"#46039f\"],[0.2222222222222222,\"#7201a8\"],[0.3333333333333333,\"#9c179e\"],[0.4444444444444444,\"#bd3786\"],[0.5555555555555556,\"#d8576b\"],[0.6666666666666666,\"#ed7953\"],[0.7777777777777778,\"#fb9f3a\"],[0.8888888888888888,\"#fdca26\"],[1.0,\"#f0f921\"]],\"type\":\"surface\"}],\"table\":[{\"cells\":{\"fill\":{\"color\":\"#506784\"},\"line\":{\"color\":\"rgb(17,17,17)\"}},\"header\":{\"fill\":{\"color\":\"#2a3f5f\"},\"line\":{\"color\":\"rgb(17,17,17)\"}},\"type\":\"table\"}]},\"layout\":{\"annotationdefaults\":{\"arrowcolor\":\"#f2f5fa\",\"arrowhead\":0,\"arrowwidth\":1},\"autotypenumbers\":\"strict\",\"coloraxis\":{\"colorbar\":{\"outlinewidth\":0,\"ticks\":\"\"}},\"colorscale\":{\"diverging\":[[0,\"#8e0152\"],[0.1,\"#c51b7d\"],[0.2,\"#de77ae\"],[0.3,\"#f1b6da\"],[0.4,\"#fde0ef\"],[0.5,\"#f7f7f7\"],[0.6,\"#e6f5d0\"],[0.7,\"#b8e186\"],[0.8,\"#7fbc41\"],[0.9,\"#4d9221\"],[1,\"#276419\"]],\"sequential\":[[0.0,\"#0d0887\"],[0.1111111111111111,\"#46039f\"],[0.2222222222222222,\"#7201a8\"],[0.3333333333333333,\"#9c179e\"],[0.4444444444444444,\"#bd3786\"],[0.5555555555555556,\"#d8576b\"],[0.6666666666666666,\"#ed7953\"],[0.7777777777777778,\"#fb9f3a\"],[0.8888888888888888,\"#fdca26\"],[1.0,\"#f0f921\"]],\"sequentialminus\":[[0.0,\"#0d0887\"],[0.1111111111111111,\"#46039f\"],[0.2222222222222222,\"#7201a8\"],[0.3333333333333333,\"#9c179e\"],[0.4444444444444444,\"#bd3786\"],[0.5555555555555556,\"#d8576b\"],[0.6666666666666666,\"#ed7953\"],[0.7777777777777778,\"#fb9f3a\"],[0.8888888888888888,\"#fdca26\"],[1.0,\"#f0f921\"]]},\"colorway\":[\"#636efa\",\"#EF553B\",\"#00cc96\",\"#ab63fa\",\"#FFA15A\",\"#19d3f3\",\"#FF6692\",\"#B6E880\",\"#FF97FF\",\"#FECB52\"],\"font\":{\"color\":\"#f2f5fa\"},\"geo\":{\"bgcolor\":\"rgb(17,17,17)\",\"lakecolor\":\"rgb(17,17,17)\",\"landcolor\":\"rgb(17,17,17)\",\"showlakes\":true,\"showland\":true,\"subunitcolor\":\"#506784\"},\"hoverlabel\":{\"align\":\"left\"},\"hovermode\":\"closest\",\"mapbox\":{\"style\":\"dark\"},\"paper_bgcolor\":\"rgb(17,17,17)\",\"plot_bgcolor\":\"rgb(17,17,17)\",\"polar\":{\"angularaxis\":{\"gridcolor\":\"#506784\",\"linecolor\":\"#506784\",\"ticks\":\"\"},\"bgcolor\":\"rgb(17,17,17)\",\"radialaxis\":{\"gridcolor\":\"#506784\",\"linecolor\":\"#506784\",\"ticks\":\"\"}},\"scene\":{\"xaxis\":{\"backgroundcolor\":\"rgb(17,17,17)\",\"gridcolor\":\"#506784\",\"gridwidth\":2,\"linecolor\":\"#506784\",\"showbackground\":true,\"ticks\":\"\",\"zerolinecolor\":\"#C8D4E3\"},\"yaxis\":{\"backgroundcolor\":\"rgb(17,17,17)\",\"gridcolor\":\"#506784\",\"gridwidth\":2,\"linecolor\":\"#506784\",\"showbackground\":true,\"ticks\":\"\",\"zerolinecolor\":\"#C8D4E3\"},\"zaxis\":{\"backgroundcolor\":\"rgb(17,17,17)\",\"gridcolor\":\"#506784\",\"gridwidth\":2,\"linecolor\":\"#506784\",\"showbackground\":true,\"ticks\":\"\",\"zerolinecolor\":\"#C8D4E3\"}},\"shapedefaults\":{\"line\":{\"color\":\"#f2f5fa\"}},\"sliderdefaults\":{\"bgcolor\":\"#C8D4E3\",\"bordercolor\":\"rgb(17,17,17)\",\"borderwidth\":1,\"tickwidth\":0},\"ternary\":{\"aaxis\":{\"gridcolor\":\"#506784\",\"linecolor\":\"#506784\",\"ticks\":\"\"},\"baxis\":{\"gridcolor\":\"#506784\",\"linecolor\":\"#506784\",\"ticks\":\"\"},\"bgcolor\":\"rgb(17,17,17)\",\"caxis\":{\"gridcolor\":\"#506784\",\"linecolor\":\"#506784\",\"ticks\":\"\"}},\"title\":{\"x\":0.05},\"updatemenudefaults\":{\"bgcolor\":\"#506784\",\"borderwidth\":0},\"xaxis\":{\"automargin\":true,\"gridcolor\":\"#283442\",\"linecolor\":\"#506784\",\"ticks\":\"\",\"title\":{\"standoff\":15},\"zerolinecolor\":\"#283442\",\"zerolinewidth\":2},\"yaxis\":{\"automargin\":true,\"gridcolor\":\"#283442\",\"linecolor\":\"#506784\",\"ticks\":\"\",\"title\":{\"standoff\":15},\"zerolinecolor\":\"#283442\",\"zerolinewidth\":2}}},\"legend\":{\"tracegroupgap\":0},\"margin\":{\"t\":60},\"title\":{\"font\":{\"size\":20,\"family\":\"Arial\",\"color\":\"#f0f18d\"},\"text\":\"Distribution of Total Runs by Virat Kholi\",\"x\":0.5,\"xanchor\":\"center\",\"yanchor\":\"top\"}},                        {\"responsive\": true}                    ).then(function(){\n",
       "                            \n",
       "var gd = document.getElementById('762605ea-2c59-4280-94ae-02293f427973');\n",
       "var x = new MutationObserver(function (mutations, observer) {{\n",
       "        var display = window.getComputedStyle(gd).display;\n",
       "        if (!display || display === 'none') {{\n",
       "            console.log([gd, 'removed!']);\n",
       "            Plotly.purge(gd);\n",
       "            observer.disconnect();\n",
       "        }}\n",
       "}});\n",
       "\n",
       "// Listen for the removal of the full notebook cells\n",
       "var notebookContainer = gd.closest('#notebook-container');\n",
       "if (notebookContainer) {{\n",
       "    x.observe(notebookContainer, {childList: true});\n",
       "}}\n",
       "\n",
       "// Listen for the clearing of the current output cell\n",
       "var outputEl = gd.closest('.output');\n",
       "if (outputEl) {{\n",
       "    x.observe(outputEl, {childList: true});\n",
       "}}\n",
       "\n",
       "                        })                };                });            </script>        </div>"
      ]
     },
     "metadata": {},
     "output_type": "display_data"
    }
   ],
   "source": [
    "total_runs = [2591, 890, 63, 2832, 1638]\n",
    "shots = [1, 2, 3, 4, 6]\n",
    "fig = px.pie(values=total_runs, names=shots)\n",
    "fig.update_layout(\n",
    "    template=\"plotly_dark\" ,\n",
    "    title={\n",
    "        'text':'Distribution of Total Runs by Virat Kholi',\n",
    "        'x': 0.5,  \n",
    "        'xanchor': 'center',\n",
    "        'yanchor': 'top',\n",
    "        'font': {'size': 20, 'family': 'Arial', 'color': '#f0f18d'}\n",
    "        \n",
    "    }\n",
    ")\n",
    "fig.show()\n"
   ]
  },
  {
   "cell_type": "markdown",
   "id": "5bb38079",
   "metadata": {
    "papermill": {
     "duration": 0.04456,
     "end_time": "2024-09-28T23:12:10.628199",
     "exception": false,
     "start_time": "2024-09-28T23:12:10.583639",
     "status": "completed"
    },
    "tags": []
   },
   "source": [
    "<div class=\"alert alert-block alert-info\"><p style='color:black;'>🏏📝WoW VK Love To Take Single and classy 4   </p>\n",
    "</div>"
   ]
  },
  {
   "cell_type": "markdown",
   "id": "efddad1b",
   "metadata": {
    "papermill": {
     "duration": 0.044521,
     "end_time": "2024-09-28T23:12:10.716740",
     "exception": false,
     "start_time": "2024-09-28T23:12:10.672219",
     "status": "completed"
    },
    "tags": []
   },
   "source": [
    "<a id=\"1\">\n",
    "<h1 style = \"font-family: Snell Roundhand;font-weight: 500;font-size: 30px; font-style: normal; background-color:#f42d2d; color :black;\"> 10) Virat's Wicket Analysis  :</h1>\n"
   ]
  },
  {
   "cell_type": "code",
   "execution_count": 61,
   "id": "2e05778d",
   "metadata": {
    "execution": {
     "iopub.execute_input": "2024-09-28T23:12:10.810211Z",
     "iopub.status.busy": "2024-09-28T23:12:10.809791Z",
     "iopub.status.idle": "2024-09-28T23:12:10.862765Z",
     "shell.execute_reply": "2024-09-28T23:12:10.861699Z"
    },
    "papermill": {
     "duration": 0.103147,
     "end_time": "2024-09-28T23:12:10.865487",
     "exception": false,
     "start_time": "2024-09-28T23:12:10.762340",
     "status": "completed"
    },
    "tags": []
   },
   "outputs": [
    {
     "data": {
      "text/html": [
       "<div>                            <div id=\"9b8cb3cd-302f-4703-b9e1-6e7490291710\" class=\"plotly-graph-div\" style=\"height:525px; width:100%;\"></div>            <script type=\"text/javascript\">                require([\"plotly\"], function(Plotly) {                    window.PLOTLYENV=window.PLOTLYENV || {};                                    if (document.getElementById(\"9b8cb3cd-302f-4703-b9e1-6e7490291710\")) {                    Plotly.newPlot(                        \"9b8cb3cd-302f-4703-b9e1-6e7490291710\",                        [{\"hole\":0.3,\"labels\":[\"caught\",\"bowled\",\"run out\",\"lbw\",\"stumped\",\"caught and bowled\"],\"values\":[138,39,20,12,5,4],\"type\":\"pie\",\"textfont\":{\"size\":20},\"marker\":{\"line\":{\"color\":\"#000000\",\"width\":3},\"colors\":[\"turquoise\",\"crimson\"]},\"hoverinfo\":\"label+percent\",\"textinfo\":\"label\"}],                        {\"template\":{\"data\":{\"barpolar\":[{\"marker\":{\"line\":{\"color\":\"rgb(17,17,17)\",\"width\":0.5},\"pattern\":{\"fillmode\":\"overlay\",\"size\":10,\"solidity\":0.2}},\"type\":\"barpolar\"}],\"bar\":[{\"error_x\":{\"color\":\"#f2f5fa\"},\"error_y\":{\"color\":\"#f2f5fa\"},\"marker\":{\"line\":{\"color\":\"rgb(17,17,17)\",\"width\":0.5},\"pattern\":{\"fillmode\":\"overlay\",\"size\":10,\"solidity\":0.2}},\"type\":\"bar\"}],\"carpet\":[{\"aaxis\":{\"endlinecolor\":\"#A2B1C6\",\"gridcolor\":\"#506784\",\"linecolor\":\"#506784\",\"minorgridcolor\":\"#506784\",\"startlinecolor\":\"#A2B1C6\"},\"baxis\":{\"endlinecolor\":\"#A2B1C6\",\"gridcolor\":\"#506784\",\"linecolor\":\"#506784\",\"minorgridcolor\":\"#506784\",\"startlinecolor\":\"#A2B1C6\"},\"type\":\"carpet\"}],\"choropleth\":[{\"colorbar\":{\"outlinewidth\":0,\"ticks\":\"\"},\"type\":\"choropleth\"}],\"contourcarpet\":[{\"colorbar\":{\"outlinewidth\":0,\"ticks\":\"\"},\"type\":\"contourcarpet\"}],\"contour\":[{\"colorbar\":{\"outlinewidth\":0,\"ticks\":\"\"},\"colorscale\":[[0.0,\"#0d0887\"],[0.1111111111111111,\"#46039f\"],[0.2222222222222222,\"#7201a8\"],[0.3333333333333333,\"#9c179e\"],[0.4444444444444444,\"#bd3786\"],[0.5555555555555556,\"#d8576b\"],[0.6666666666666666,\"#ed7953\"],[0.7777777777777778,\"#fb9f3a\"],[0.8888888888888888,\"#fdca26\"],[1.0,\"#f0f921\"]],\"type\":\"contour\"}],\"heatmapgl\":[{\"colorbar\":{\"outlinewidth\":0,\"ticks\":\"\"},\"colorscale\":[[0.0,\"#0d0887\"],[0.1111111111111111,\"#46039f\"],[0.2222222222222222,\"#7201a8\"],[0.3333333333333333,\"#9c179e\"],[0.4444444444444444,\"#bd3786\"],[0.5555555555555556,\"#d8576b\"],[0.6666666666666666,\"#ed7953\"],[0.7777777777777778,\"#fb9f3a\"],[0.8888888888888888,\"#fdca26\"],[1.0,\"#f0f921\"]],\"type\":\"heatmapgl\"}],\"heatmap\":[{\"colorbar\":{\"outlinewidth\":0,\"ticks\":\"\"},\"colorscale\":[[0.0,\"#0d0887\"],[0.1111111111111111,\"#46039f\"],[0.2222222222222222,\"#7201a8\"],[0.3333333333333333,\"#9c179e\"],[0.4444444444444444,\"#bd3786\"],[0.5555555555555556,\"#d8576b\"],[0.6666666666666666,\"#ed7953\"],[0.7777777777777778,\"#fb9f3a\"],[0.8888888888888888,\"#fdca26\"],[1.0,\"#f0f921\"]],\"type\":\"heatmap\"}],\"histogram2dcontour\":[{\"colorbar\":{\"outlinewidth\":0,\"ticks\":\"\"},\"colorscale\":[[0.0,\"#0d0887\"],[0.1111111111111111,\"#46039f\"],[0.2222222222222222,\"#7201a8\"],[0.3333333333333333,\"#9c179e\"],[0.4444444444444444,\"#bd3786\"],[0.5555555555555556,\"#d8576b\"],[0.6666666666666666,\"#ed7953\"],[0.7777777777777778,\"#fb9f3a\"],[0.8888888888888888,\"#fdca26\"],[1.0,\"#f0f921\"]],\"type\":\"histogram2dcontour\"}],\"histogram2d\":[{\"colorbar\":{\"outlinewidth\":0,\"ticks\":\"\"},\"colorscale\":[[0.0,\"#0d0887\"],[0.1111111111111111,\"#46039f\"],[0.2222222222222222,\"#7201a8\"],[0.3333333333333333,\"#9c179e\"],[0.4444444444444444,\"#bd3786\"],[0.5555555555555556,\"#d8576b\"],[0.6666666666666666,\"#ed7953\"],[0.7777777777777778,\"#fb9f3a\"],[0.8888888888888888,\"#fdca26\"],[1.0,\"#f0f921\"]],\"type\":\"histogram2d\"}],\"histogram\":[{\"marker\":{\"pattern\":{\"fillmode\":\"overlay\",\"size\":10,\"solidity\":0.2}},\"type\":\"histogram\"}],\"mesh3d\":[{\"colorbar\":{\"outlinewidth\":0,\"ticks\":\"\"},\"type\":\"mesh3d\"}],\"parcoords\":[{\"line\":{\"colorbar\":{\"outlinewidth\":0,\"ticks\":\"\"}},\"type\":\"parcoords\"}],\"pie\":[{\"automargin\":true,\"type\":\"pie\"}],\"scatter3d\":[{\"line\":{\"colorbar\":{\"outlinewidth\":0,\"ticks\":\"\"}},\"marker\":{\"colorbar\":{\"outlinewidth\":0,\"ticks\":\"\"}},\"type\":\"scatter3d\"}],\"scattercarpet\":[{\"marker\":{\"colorbar\":{\"outlinewidth\":0,\"ticks\":\"\"}},\"type\":\"scattercarpet\"}],\"scattergeo\":[{\"marker\":{\"colorbar\":{\"outlinewidth\":0,\"ticks\":\"\"}},\"type\":\"scattergeo\"}],\"scattergl\":[{\"marker\":{\"line\":{\"color\":\"#283442\"}},\"type\":\"scattergl\"}],\"scattermapbox\":[{\"marker\":{\"colorbar\":{\"outlinewidth\":0,\"ticks\":\"\"}},\"type\":\"scattermapbox\"}],\"scatterpolargl\":[{\"marker\":{\"colorbar\":{\"outlinewidth\":0,\"ticks\":\"\"}},\"type\":\"scatterpolargl\"}],\"scatterpolar\":[{\"marker\":{\"colorbar\":{\"outlinewidth\":0,\"ticks\":\"\"}},\"type\":\"scatterpolar\"}],\"scatter\":[{\"marker\":{\"line\":{\"color\":\"#283442\"}},\"type\":\"scatter\"}],\"scatterternary\":[{\"marker\":{\"colorbar\":{\"outlinewidth\":0,\"ticks\":\"\"}},\"type\":\"scatterternary\"}],\"surface\":[{\"colorbar\":{\"outlinewidth\":0,\"ticks\":\"\"},\"colorscale\":[[0.0,\"#0d0887\"],[0.1111111111111111,\"#46039f\"],[0.2222222222222222,\"#7201a8\"],[0.3333333333333333,\"#9c179e\"],[0.4444444444444444,\"#bd3786\"],[0.5555555555555556,\"#d8576b\"],[0.6666666666666666,\"#ed7953\"],[0.7777777777777778,\"#fb9f3a\"],[0.8888888888888888,\"#fdca26\"],[1.0,\"#f0f921\"]],\"type\":\"surface\"}],\"table\":[{\"cells\":{\"fill\":{\"color\":\"#506784\"},\"line\":{\"color\":\"rgb(17,17,17)\"}},\"header\":{\"fill\":{\"color\":\"#2a3f5f\"},\"line\":{\"color\":\"rgb(17,17,17)\"}},\"type\":\"table\"}]},\"layout\":{\"annotationdefaults\":{\"arrowcolor\":\"#f2f5fa\",\"arrowhead\":0,\"arrowwidth\":1},\"autotypenumbers\":\"strict\",\"coloraxis\":{\"colorbar\":{\"outlinewidth\":0,\"ticks\":\"\"}},\"colorscale\":{\"diverging\":[[0,\"#8e0152\"],[0.1,\"#c51b7d\"],[0.2,\"#de77ae\"],[0.3,\"#f1b6da\"],[0.4,\"#fde0ef\"],[0.5,\"#f7f7f7\"],[0.6,\"#e6f5d0\"],[0.7,\"#b8e186\"],[0.8,\"#7fbc41\"],[0.9,\"#4d9221\"],[1,\"#276419\"]],\"sequential\":[[0.0,\"#0d0887\"],[0.1111111111111111,\"#46039f\"],[0.2222222222222222,\"#7201a8\"],[0.3333333333333333,\"#9c179e\"],[0.4444444444444444,\"#bd3786\"],[0.5555555555555556,\"#d8576b\"],[0.6666666666666666,\"#ed7953\"],[0.7777777777777778,\"#fb9f3a\"],[0.8888888888888888,\"#fdca26\"],[1.0,\"#f0f921\"]],\"sequentialminus\":[[0.0,\"#0d0887\"],[0.1111111111111111,\"#46039f\"],[0.2222222222222222,\"#7201a8\"],[0.3333333333333333,\"#9c179e\"],[0.4444444444444444,\"#bd3786\"],[0.5555555555555556,\"#d8576b\"],[0.6666666666666666,\"#ed7953\"],[0.7777777777777778,\"#fb9f3a\"],[0.8888888888888888,\"#fdca26\"],[1.0,\"#f0f921\"]]},\"colorway\":[\"#636efa\",\"#EF553B\",\"#00cc96\",\"#ab63fa\",\"#FFA15A\",\"#19d3f3\",\"#FF6692\",\"#B6E880\",\"#FF97FF\",\"#FECB52\"],\"font\":{\"color\":\"#f2f5fa\"},\"geo\":{\"bgcolor\":\"rgb(17,17,17)\",\"lakecolor\":\"rgb(17,17,17)\",\"landcolor\":\"rgb(17,17,17)\",\"showlakes\":true,\"showland\":true,\"subunitcolor\":\"#506784\"},\"hoverlabel\":{\"align\":\"left\"},\"hovermode\":\"closest\",\"mapbox\":{\"style\":\"dark\"},\"paper_bgcolor\":\"rgb(17,17,17)\",\"plot_bgcolor\":\"rgb(17,17,17)\",\"polar\":{\"angularaxis\":{\"gridcolor\":\"#506784\",\"linecolor\":\"#506784\",\"ticks\":\"\"},\"bgcolor\":\"rgb(17,17,17)\",\"radialaxis\":{\"gridcolor\":\"#506784\",\"linecolor\":\"#506784\",\"ticks\":\"\"}},\"scene\":{\"xaxis\":{\"backgroundcolor\":\"rgb(17,17,17)\",\"gridcolor\":\"#506784\",\"gridwidth\":2,\"linecolor\":\"#506784\",\"showbackground\":true,\"ticks\":\"\",\"zerolinecolor\":\"#C8D4E3\"},\"yaxis\":{\"backgroundcolor\":\"rgb(17,17,17)\",\"gridcolor\":\"#506784\",\"gridwidth\":2,\"linecolor\":\"#506784\",\"showbackground\":true,\"ticks\":\"\",\"zerolinecolor\":\"#C8D4E3\"},\"zaxis\":{\"backgroundcolor\":\"rgb(17,17,17)\",\"gridcolor\":\"#506784\",\"gridwidth\":2,\"linecolor\":\"#506784\",\"showbackground\":true,\"ticks\":\"\",\"zerolinecolor\":\"#C8D4E3\"}},\"shapedefaults\":{\"line\":{\"color\":\"#f2f5fa\"}},\"sliderdefaults\":{\"bgcolor\":\"#C8D4E3\",\"bordercolor\":\"rgb(17,17,17)\",\"borderwidth\":1,\"tickwidth\":0},\"ternary\":{\"aaxis\":{\"gridcolor\":\"#506784\",\"linecolor\":\"#506784\",\"ticks\":\"\"},\"baxis\":{\"gridcolor\":\"#506784\",\"linecolor\":\"#506784\",\"ticks\":\"\"},\"bgcolor\":\"rgb(17,17,17)\",\"caxis\":{\"gridcolor\":\"#506784\",\"linecolor\":\"#506784\",\"ticks\":\"\"}},\"title\":{\"x\":0.05},\"updatemenudefaults\":{\"bgcolor\":\"#506784\",\"borderwidth\":0},\"xaxis\":{\"automargin\":true,\"gridcolor\":\"#283442\",\"linecolor\":\"#506784\",\"ticks\":\"\",\"title\":{\"standoff\":15},\"zerolinecolor\":\"#283442\",\"zerolinewidth\":2},\"yaxis\":{\"automargin\":true,\"gridcolor\":\"#283442\",\"linecolor\":\"#506784\",\"ticks\":\"\",\"title\":{\"standoff\":15},\"zerolinecolor\":\"#283442\",\"zerolinewidth\":2}}},\"title\":{\"font\":{\"size\":20,\"family\":\"Arial\",\"color\":\"#f0f18d\"},\"text\":\"Dismissal Type Of Virat Kholi In IPL\",\"x\":0.5,\"xanchor\":\"center\",\"yanchor\":\"top\"}},                        {\"responsive\": true}                    ).then(function(){\n",
       "                            \n",
       "var gd = document.getElementById('9b8cb3cd-302f-4703-b9e1-6e7490291710');\n",
       "var x = new MutationObserver(function (mutations, observer) {{\n",
       "        var display = window.getComputedStyle(gd).display;\n",
       "        if (!display || display === 'none') {{\n",
       "            console.log([gd, 'removed!']);\n",
       "            Plotly.purge(gd);\n",
       "            observer.disconnect();\n",
       "        }}\n",
       "}});\n",
       "\n",
       "// Listen for the removal of the full notebook cells\n",
       "var notebookContainer = gd.closest('#notebook-container');\n",
       "if (notebookContainer) {{\n",
       "    x.observe(notebookContainer, {childList: true});\n",
       "}}\n",
       "\n",
       "// Listen for the clearing of the current output cell\n",
       "var outputEl = gd.closest('.output');\n",
       "if (outputEl) {{\n",
       "    x.observe(outputEl, {childList: true});\n",
       "}}\n",
       "\n",
       "                        })                };                });            </script>        </div>"
      ]
     },
     "metadata": {},
     "output_type": "display_data"
    }
   ],
   "source": [
    "values = virat['dismissal_kind'].value_counts()\n",
    "labels=virat['dismissal_kind'].value_counts().index\n",
    "fig = go.Figure(data=[go.Pie(labels=labels,values=values,hole=.3)])\n",
    "fig.update_traces(hoverinfo='label+percent', textinfo='label', textfont_size=20,\n",
    "                  marker=dict(colors=colors, line=dict(color='#000000', width=3)))\n",
    "fig.update_layout(\n",
    "    template=\"plotly_dark\" ,\n",
    "    title={\n",
    "        'text':'Dismissal Type Of Virat Kholi In IPL',\n",
    "        'x': 0.5,  \n",
    "        'xanchor': 'center',\n",
    "        'yanchor': 'top',\n",
    "        'font': {'size': 20, 'family': 'Arial', 'color': '#f0f18d'}\n",
    "        \n",
    "    }\n",
    ")\n",
    "fig.show()"
   ]
  },
  {
   "cell_type": "markdown",
   "id": "182dff29",
   "metadata": {
    "papermill": {
     "duration": 0.047647,
     "end_time": "2024-09-28T23:12:10.957714",
     "exception": false,
     "start_time": "2024-09-28T23:12:10.910067",
     "status": "completed"
    },
    "tags": []
   },
   "source": [
    "<div class=\"alert alert-block alert-info\"><p style='color:black;'>🏏📝VK'S Most Dismissil are Catch Out\n",
    "</div>"
   ]
  },
  {
   "cell_type": "markdown",
   "id": "bd6ba333",
   "metadata": {
    "papermill": {
     "duration": 0.044582,
     "end_time": "2024-09-28T23:12:11.047099",
     "exception": false,
     "start_time": "2024-09-28T23:12:11.002517",
     "status": "completed"
    },
    "tags": []
   },
   "source": [
    "<a id=\"1\">\n",
    "<h1 style = \"font-family: Snell Roundhand;font-weight: 500;font-size: 30px; font-style: normal; background-color:#f42d2d; color :black;\"> 10) Is Virat Love to chase ?  :</h1>\n"
   ]
  },
  {
   "cell_type": "code",
   "execution_count": 62,
   "id": "d53a1c00",
   "metadata": {
    "execution": {
     "iopub.execute_input": "2024-09-28T23:12:11.138275Z",
     "iopub.status.busy": "2024-09-28T23:12:11.137839Z",
     "iopub.status.idle": "2024-09-28T23:12:11.144279Z",
     "shell.execute_reply": "2024-09-28T23:12:11.143383Z"
    },
    "papermill": {
     "duration": 0.054886,
     "end_time": "2024-09-28T23:12:11.146785",
     "exception": false,
     "start_time": "2024-09-28T23:12:11.091899",
     "status": "completed"
    },
    "tags": []
   },
   "outputs": [],
   "source": [
    "virat['inning'] = virat['inning'].replace(4, 2)"
   ]
  },
  {
   "cell_type": "code",
   "execution_count": 63,
   "id": "0f964d47",
   "metadata": {
    "execution": {
     "iopub.execute_input": "2024-09-28T23:12:11.240896Z",
     "iopub.status.busy": "2024-09-28T23:12:11.239907Z",
     "iopub.status.idle": "2024-09-28T23:12:11.248657Z",
     "shell.execute_reply": "2024-09-28T23:12:11.247588Z"
    },
    "papermill": {
     "duration": 0.058056,
     "end_time": "2024-09-28T23:12:11.251082",
     "exception": false,
     "start_time": "2024-09-28T23:12:11.193026",
     "status": "completed"
    },
    "tags": []
   },
   "outputs": [],
   "source": [
    "virat_inning=virat.groupby('inning')['total_runs'].sum().reset_index().style.background_gradient(cmap='cividis')"
   ]
  },
  {
   "cell_type": "code",
   "execution_count": 64,
   "id": "0612d69a",
   "metadata": {
    "execution": {
     "iopub.execute_input": "2024-09-28T23:12:11.343514Z",
     "iopub.status.busy": "2024-09-28T23:12:11.342234Z",
     "iopub.status.idle": "2024-09-28T23:12:11.356198Z",
     "shell.execute_reply": "2024-09-28T23:12:11.355025Z"
    },
    "papermill": {
     "duration": 0.062543,
     "end_time": "2024-09-28T23:12:11.358552",
     "exception": false,
     "start_time": "2024-09-28T23:12:11.296009",
     "status": "completed"
    },
    "tags": []
   },
   "outputs": [
    {
     "data": {
      "text/html": [
       "<style type=\"text/css\">\n",
       "#T_a625f_row0_col0, #T_a625f_row1_col1 {\n",
       "  background-color: #00224e;\n",
       "  color: #f1f1f1;\n",
       "}\n",
       "#T_a625f_row0_col1, #T_a625f_row1_col0 {\n",
       "  background-color: #fee838;\n",
       "  color: #000000;\n",
       "}\n",
       "</style>\n",
       "<table id=\"T_a625f\">\n",
       "  <thead>\n",
       "    <tr>\n",
       "      <th class=\"blank level0\" >&nbsp;</th>\n",
       "      <th id=\"T_a625f_level0_col0\" class=\"col_heading level0 col0\" >inning</th>\n",
       "      <th id=\"T_a625f_level0_col1\" class=\"col_heading level0 col1\" >total_runs</th>\n",
       "    </tr>\n",
       "  </thead>\n",
       "  <tbody>\n",
       "    <tr>\n",
       "      <th id=\"T_a625f_level0_row0\" class=\"row_heading level0 row0\" >0</th>\n",
       "      <td id=\"T_a625f_row0_col0\" class=\"data row0 col0\" >1</td>\n",
       "      <td id=\"T_a625f_row0_col1\" class=\"data row0 col1\" >4583</td>\n",
       "    </tr>\n",
       "    <tr>\n",
       "      <th id=\"T_a625f_level0_row1\" class=\"row_heading level0 row1\" >1</th>\n",
       "      <td id=\"T_a625f_row1_col0\" class=\"data row1 col0\" >2</td>\n",
       "      <td id=\"T_a625f_row1_col1\" class=\"data row1 col1\" >3724</td>\n",
       "    </tr>\n",
       "  </tbody>\n",
       "</table>\n"
      ],
      "text/plain": [
       "<pandas.io.formats.style.Styler at 0x7a0033872770>"
      ]
     },
     "execution_count": 64,
     "metadata": {},
     "output_type": "execute_result"
    }
   ],
   "source": [
    "virat_inning"
   ]
  },
  {
   "cell_type": "code",
   "execution_count": 65,
   "id": "04290bd2",
   "metadata": {
    "execution": {
     "iopub.execute_input": "2024-09-28T23:12:11.451277Z",
     "iopub.status.busy": "2024-09-28T23:12:11.450810Z",
     "iopub.status.idle": "2024-09-28T23:12:11.559341Z",
     "shell.execute_reply": "2024-09-28T23:12:11.557595Z"
    },
    "papermill": {
     "duration": 0.157985,
     "end_time": "2024-09-28T23:12:11.562265",
     "exception": false,
     "start_time": "2024-09-28T23:12:11.404280",
     "status": "completed"
    },
    "tags": []
   },
   "outputs": [
    {
     "data": {
      "text/html": [
       "<div>                            <div id=\"89a155e2-8ed6-4318-9fc1-fe00533aab10\" class=\"plotly-graph-div\" style=\"height:525px; width:100%;\"></div>            <script type=\"text/javascript\">                require([\"plotly\"], function(Plotly) {                    window.PLOTLYENV=window.PLOTLYENV || {};                                    if (document.getElementById(\"89a155e2-8ed6-4318-9fc1-fe00533aab10\")) {                    Plotly.newPlot(                        \"89a155e2-8ed6-4318-9fc1-fe00533aab10\",                        [{\"alignmentgroup\":\"True\",\"hovertemplate\":\"inning=%{x}\\u003cbr\\u003etotal_runs=%{y}\\u003cextra\\u003e\\u003c\\u002fextra\\u003e\",\"legendgroup\":\"\",\"marker\":{\"color\":\"#636efa\",\"pattern\":{\"shape\":\"\"}},\"name\":\"\",\"offsetgroup\":\"\",\"orientation\":\"v\",\"showlegend\":false,\"textposition\":\"auto\",\"x\":[1,2],\"xaxis\":\"x\",\"y\":[4583,3724],\"yaxis\":\"y\",\"type\":\"bar\"}],                        {\"template\":{\"data\":{\"barpolar\":[{\"marker\":{\"line\":{\"color\":\"rgb(17,17,17)\",\"width\":0.5},\"pattern\":{\"fillmode\":\"overlay\",\"size\":10,\"solidity\":0.2}},\"type\":\"barpolar\"}],\"bar\":[{\"error_x\":{\"color\":\"#f2f5fa\"},\"error_y\":{\"color\":\"#f2f5fa\"},\"marker\":{\"line\":{\"color\":\"rgb(17,17,17)\",\"width\":0.5},\"pattern\":{\"fillmode\":\"overlay\",\"size\":10,\"solidity\":0.2}},\"type\":\"bar\"}],\"carpet\":[{\"aaxis\":{\"endlinecolor\":\"#A2B1C6\",\"gridcolor\":\"#506784\",\"linecolor\":\"#506784\",\"minorgridcolor\":\"#506784\",\"startlinecolor\":\"#A2B1C6\"},\"baxis\":{\"endlinecolor\":\"#A2B1C6\",\"gridcolor\":\"#506784\",\"linecolor\":\"#506784\",\"minorgridcolor\":\"#506784\",\"startlinecolor\":\"#A2B1C6\"},\"type\":\"carpet\"}],\"choropleth\":[{\"colorbar\":{\"outlinewidth\":0,\"ticks\":\"\"},\"type\":\"choropleth\"}],\"contourcarpet\":[{\"colorbar\":{\"outlinewidth\":0,\"ticks\":\"\"},\"type\":\"contourcarpet\"}],\"contour\":[{\"colorbar\":{\"outlinewidth\":0,\"ticks\":\"\"},\"colorscale\":[[0.0,\"#0d0887\"],[0.1111111111111111,\"#46039f\"],[0.2222222222222222,\"#7201a8\"],[0.3333333333333333,\"#9c179e\"],[0.4444444444444444,\"#bd3786\"],[0.5555555555555556,\"#d8576b\"],[0.6666666666666666,\"#ed7953\"],[0.7777777777777778,\"#fb9f3a\"],[0.8888888888888888,\"#fdca26\"],[1.0,\"#f0f921\"]],\"type\":\"contour\"}],\"heatmapgl\":[{\"colorbar\":{\"outlinewidth\":0,\"ticks\":\"\"},\"colorscale\":[[0.0,\"#0d0887\"],[0.1111111111111111,\"#46039f\"],[0.2222222222222222,\"#7201a8\"],[0.3333333333333333,\"#9c179e\"],[0.4444444444444444,\"#bd3786\"],[0.5555555555555556,\"#d8576b\"],[0.6666666666666666,\"#ed7953\"],[0.7777777777777778,\"#fb9f3a\"],[0.8888888888888888,\"#fdca26\"],[1.0,\"#f0f921\"]],\"type\":\"heatmapgl\"}],\"heatmap\":[{\"colorbar\":{\"outlinewidth\":0,\"ticks\":\"\"},\"colorscale\":[[0.0,\"#0d0887\"],[0.1111111111111111,\"#46039f\"],[0.2222222222222222,\"#7201a8\"],[0.3333333333333333,\"#9c179e\"],[0.4444444444444444,\"#bd3786\"],[0.5555555555555556,\"#d8576b\"],[0.6666666666666666,\"#ed7953\"],[0.7777777777777778,\"#fb9f3a\"],[0.8888888888888888,\"#fdca26\"],[1.0,\"#f0f921\"]],\"type\":\"heatmap\"}],\"histogram2dcontour\":[{\"colorbar\":{\"outlinewidth\":0,\"ticks\":\"\"},\"colorscale\":[[0.0,\"#0d0887\"],[0.1111111111111111,\"#46039f\"],[0.2222222222222222,\"#7201a8\"],[0.3333333333333333,\"#9c179e\"],[0.4444444444444444,\"#bd3786\"],[0.5555555555555556,\"#d8576b\"],[0.6666666666666666,\"#ed7953\"],[0.7777777777777778,\"#fb9f3a\"],[0.8888888888888888,\"#fdca26\"],[1.0,\"#f0f921\"]],\"type\":\"histogram2dcontour\"}],\"histogram2d\":[{\"colorbar\":{\"outlinewidth\":0,\"ticks\":\"\"},\"colorscale\":[[0.0,\"#0d0887\"],[0.1111111111111111,\"#46039f\"],[0.2222222222222222,\"#7201a8\"],[0.3333333333333333,\"#9c179e\"],[0.4444444444444444,\"#bd3786\"],[0.5555555555555556,\"#d8576b\"],[0.6666666666666666,\"#ed7953\"],[0.7777777777777778,\"#fb9f3a\"],[0.8888888888888888,\"#fdca26\"],[1.0,\"#f0f921\"]],\"type\":\"histogram2d\"}],\"histogram\":[{\"marker\":{\"pattern\":{\"fillmode\":\"overlay\",\"size\":10,\"solidity\":0.2}},\"type\":\"histogram\"}],\"mesh3d\":[{\"colorbar\":{\"outlinewidth\":0,\"ticks\":\"\"},\"type\":\"mesh3d\"}],\"parcoords\":[{\"line\":{\"colorbar\":{\"outlinewidth\":0,\"ticks\":\"\"}},\"type\":\"parcoords\"}],\"pie\":[{\"automargin\":true,\"type\":\"pie\"}],\"scatter3d\":[{\"line\":{\"colorbar\":{\"outlinewidth\":0,\"ticks\":\"\"}},\"marker\":{\"colorbar\":{\"outlinewidth\":0,\"ticks\":\"\"}},\"type\":\"scatter3d\"}],\"scattercarpet\":[{\"marker\":{\"colorbar\":{\"outlinewidth\":0,\"ticks\":\"\"}},\"type\":\"scattercarpet\"}],\"scattergeo\":[{\"marker\":{\"colorbar\":{\"outlinewidth\":0,\"ticks\":\"\"}},\"type\":\"scattergeo\"}],\"scattergl\":[{\"marker\":{\"line\":{\"color\":\"#283442\"}},\"type\":\"scattergl\"}],\"scattermapbox\":[{\"marker\":{\"colorbar\":{\"outlinewidth\":0,\"ticks\":\"\"}},\"type\":\"scattermapbox\"}],\"scatterpolargl\":[{\"marker\":{\"colorbar\":{\"outlinewidth\":0,\"ticks\":\"\"}},\"type\":\"scatterpolargl\"}],\"scatterpolar\":[{\"marker\":{\"colorbar\":{\"outlinewidth\":0,\"ticks\":\"\"}},\"type\":\"scatterpolar\"}],\"scatter\":[{\"marker\":{\"line\":{\"color\":\"#283442\"}},\"type\":\"scatter\"}],\"scatterternary\":[{\"marker\":{\"colorbar\":{\"outlinewidth\":0,\"ticks\":\"\"}},\"type\":\"scatterternary\"}],\"surface\":[{\"colorbar\":{\"outlinewidth\":0,\"ticks\":\"\"},\"colorscale\":[[0.0,\"#0d0887\"],[0.1111111111111111,\"#46039f\"],[0.2222222222222222,\"#7201a8\"],[0.3333333333333333,\"#9c179e\"],[0.4444444444444444,\"#bd3786\"],[0.5555555555555556,\"#d8576b\"],[0.6666666666666666,\"#ed7953\"],[0.7777777777777778,\"#fb9f3a\"],[0.8888888888888888,\"#fdca26\"],[1.0,\"#f0f921\"]],\"type\":\"surface\"}],\"table\":[{\"cells\":{\"fill\":{\"color\":\"#506784\"},\"line\":{\"color\":\"rgb(17,17,17)\"}},\"header\":{\"fill\":{\"color\":\"#2a3f5f\"},\"line\":{\"color\":\"rgb(17,17,17)\"}},\"type\":\"table\"}]},\"layout\":{\"annotationdefaults\":{\"arrowcolor\":\"#f2f5fa\",\"arrowhead\":0,\"arrowwidth\":1},\"autotypenumbers\":\"strict\",\"coloraxis\":{\"colorbar\":{\"outlinewidth\":0,\"ticks\":\"\"}},\"colorscale\":{\"diverging\":[[0,\"#8e0152\"],[0.1,\"#c51b7d\"],[0.2,\"#de77ae\"],[0.3,\"#f1b6da\"],[0.4,\"#fde0ef\"],[0.5,\"#f7f7f7\"],[0.6,\"#e6f5d0\"],[0.7,\"#b8e186\"],[0.8,\"#7fbc41\"],[0.9,\"#4d9221\"],[1,\"#276419\"]],\"sequential\":[[0.0,\"#0d0887\"],[0.1111111111111111,\"#46039f\"],[0.2222222222222222,\"#7201a8\"],[0.3333333333333333,\"#9c179e\"],[0.4444444444444444,\"#bd3786\"],[0.5555555555555556,\"#d8576b\"],[0.6666666666666666,\"#ed7953\"],[0.7777777777777778,\"#fb9f3a\"],[0.8888888888888888,\"#fdca26\"],[1.0,\"#f0f921\"]],\"sequentialminus\":[[0.0,\"#0d0887\"],[0.1111111111111111,\"#46039f\"],[0.2222222222222222,\"#7201a8\"],[0.3333333333333333,\"#9c179e\"],[0.4444444444444444,\"#bd3786\"],[0.5555555555555556,\"#d8576b\"],[0.6666666666666666,\"#ed7953\"],[0.7777777777777778,\"#fb9f3a\"],[0.8888888888888888,\"#fdca26\"],[1.0,\"#f0f921\"]]},\"colorway\":[\"#636efa\",\"#EF553B\",\"#00cc96\",\"#ab63fa\",\"#FFA15A\",\"#19d3f3\",\"#FF6692\",\"#B6E880\",\"#FF97FF\",\"#FECB52\"],\"font\":{\"color\":\"#f2f5fa\"},\"geo\":{\"bgcolor\":\"rgb(17,17,17)\",\"lakecolor\":\"rgb(17,17,17)\",\"landcolor\":\"rgb(17,17,17)\",\"showlakes\":true,\"showland\":true,\"subunitcolor\":\"#506784\"},\"hoverlabel\":{\"align\":\"left\"},\"hovermode\":\"closest\",\"mapbox\":{\"style\":\"dark\"},\"paper_bgcolor\":\"rgb(17,17,17)\",\"plot_bgcolor\":\"rgb(17,17,17)\",\"polar\":{\"angularaxis\":{\"gridcolor\":\"#506784\",\"linecolor\":\"#506784\",\"ticks\":\"\"},\"bgcolor\":\"rgb(17,17,17)\",\"radialaxis\":{\"gridcolor\":\"#506784\",\"linecolor\":\"#506784\",\"ticks\":\"\"}},\"scene\":{\"xaxis\":{\"backgroundcolor\":\"rgb(17,17,17)\",\"gridcolor\":\"#506784\",\"gridwidth\":2,\"linecolor\":\"#506784\",\"showbackground\":true,\"ticks\":\"\",\"zerolinecolor\":\"#C8D4E3\"},\"yaxis\":{\"backgroundcolor\":\"rgb(17,17,17)\",\"gridcolor\":\"#506784\",\"gridwidth\":2,\"linecolor\":\"#506784\",\"showbackground\":true,\"ticks\":\"\",\"zerolinecolor\":\"#C8D4E3\"},\"zaxis\":{\"backgroundcolor\":\"rgb(17,17,17)\",\"gridcolor\":\"#506784\",\"gridwidth\":2,\"linecolor\":\"#506784\",\"showbackground\":true,\"ticks\":\"\",\"zerolinecolor\":\"#C8D4E3\"}},\"shapedefaults\":{\"line\":{\"color\":\"#f2f5fa\"}},\"sliderdefaults\":{\"bgcolor\":\"#C8D4E3\",\"bordercolor\":\"rgb(17,17,17)\",\"borderwidth\":1,\"tickwidth\":0},\"ternary\":{\"aaxis\":{\"gridcolor\":\"#506784\",\"linecolor\":\"#506784\",\"ticks\":\"\"},\"baxis\":{\"gridcolor\":\"#506784\",\"linecolor\":\"#506784\",\"ticks\":\"\"},\"bgcolor\":\"rgb(17,17,17)\",\"caxis\":{\"gridcolor\":\"#506784\",\"linecolor\":\"#506784\",\"ticks\":\"\"}},\"title\":{\"x\":0.05},\"updatemenudefaults\":{\"bgcolor\":\"#506784\",\"borderwidth\":0},\"xaxis\":{\"automargin\":true,\"gridcolor\":\"#283442\",\"linecolor\":\"#506784\",\"ticks\":\"\",\"title\":{\"standoff\":15},\"zerolinecolor\":\"#283442\",\"zerolinewidth\":2},\"yaxis\":{\"automargin\":true,\"gridcolor\":\"#283442\",\"linecolor\":\"#506784\",\"ticks\":\"\",\"title\":{\"standoff\":15},\"zerolinecolor\":\"#283442\",\"zerolinewidth\":2}}},\"xaxis\":{\"anchor\":\"y\",\"domain\":[0.0,1.0],\"title\":{\"text\":\"Innings\"}},\"yaxis\":{\"anchor\":\"x\",\"domain\":[0.0,1.0],\"title\":{\"text\":\"Total Runs\"}},\"legend\":{\"tracegroupgap\":0},\"title\":{\"text\":\"Virat Kohli's 1st vs 2nd Innings\",\"font\":{\"size\":20,\"family\":\"Arial\",\"color\":\"#f0f18d\"},\"x\":0.5,\"xanchor\":\"center\",\"yanchor\":\"top\"},\"barmode\":\"relative\"},                        {\"responsive\": true}                    ).then(function(){\n",
       "                            \n",
       "var gd = document.getElementById('89a155e2-8ed6-4318-9fc1-fe00533aab10');\n",
       "var x = new MutationObserver(function (mutations, observer) {{\n",
       "        var display = window.getComputedStyle(gd).display;\n",
       "        if (!display || display === 'none') {{\n",
       "            console.log([gd, 'removed!']);\n",
       "            Plotly.purge(gd);\n",
       "            observer.disconnect();\n",
       "        }}\n",
       "}});\n",
       "\n",
       "// Listen for the removal of the full notebook cells\n",
       "var notebookContainer = gd.closest('#notebook-container');\n",
       "if (notebookContainer) {{\n",
       "    x.observe(notebookContainer, {childList: true});\n",
       "}}\n",
       "\n",
       "// Listen for the clearing of the current output cell\n",
       "var outputEl = gd.closest('.output');\n",
       "if (outputEl) {{\n",
       "    x.observe(outputEl, {childList: true});\n",
       "}}\n",
       "\n",
       "                        })                };                });            </script>        </div>"
      ]
     },
     "metadata": {},
     "output_type": "display_data"
    }
   ],
   "source": [
    "virat_inning = virat.groupby('inning')['total_runs'].sum().reset_index()\n",
    "\n",
    "fig = px.bar(virat_inning, x='inning', y='total_runs', title=\"Virat Kohli's 1st vs 2nd Innings\")\n",
    "\n",
    "fig.update_layout(\n",
    "    xaxis_title=\"Innings\",\n",
    "    yaxis_title=\"Total Runs\",\n",
    "    template=\"plotly_dark\",\n",
    "    title={\n",
    "        'x': 0.5,\n",
    "        'xanchor': 'center',\n",
    "        'yanchor': 'top',\n",
    "        'font': {'size': 20, 'family': 'Arial', 'color': '#f0f18d'}\n",
    "    }\n",
    ")\n",
    "\n",
    "fig.show()\n"
   ]
  },
  {
   "cell_type": "markdown",
   "id": "9fbe0191",
   "metadata": {
    "papermill": {
     "duration": 0.04511,
     "end_time": "2024-09-28T23:12:11.653781",
     "exception": false,
     "start_time": "2024-09-28T23:12:11.608671",
     "status": "completed"
    },
    "tags": []
   },
   "source": [
    "<div class=\"alert alert-block alert-info\"><p style='color:black;'>🏏📝 VK'S Most is in 1st Innings\n",
    "</div>"
   ]
  },
  {
   "cell_type": "markdown",
   "id": "439a2cfa",
   "metadata": {
    "papermill": {
     "duration": 0.045854,
     "end_time": "2024-09-28T23:12:11.747012",
     "exception": false,
     "start_time": "2024-09-28T23:12:11.701158",
     "status": "completed"
    },
    "tags": []
   },
   "source": [
    "<a id=\"header\"></a>\n",
    "\n",
    "<div style=\"border: 1px solid; color: black; padding: 3px; width: 97%; background-color: #2d2d2d; border: 5px solid Grey;\">\n",
    "    <center width=\"80%\">\n",
    "        <img src=\"https://media.tenor.com/X56mLrLnwe4AAAAM/rcb-ipl.gif\" style=\"width: 90%;\">\n",
    "    </center>\n",
    " <p style=\"font-family: 'Pacifico', cursive; font-size: 2rem; color: #ff758c; text-align: center; margin: 0; text-shadow: 2px 2px 4px rgba(0, 0, 0, 0.3); background-color: #2d2d2d; padding: 20px; border-radius: 10px; border: 7px solid #f6f385; width: 95%;\">🔍 Lets do Some rapid fire 📊📈🏏</p>\n",
    "</div>\n"
   ]
  },
  {
   "cell_type": "markdown",
   "id": "6d3db558",
   "metadata": {
    "papermill": {
     "duration": 0.045356,
     "end_time": "2024-09-28T23:12:11.839070",
     "exception": false,
     "start_time": "2024-09-28T23:12:11.793714",
     "status": "completed"
    },
    "tags": []
   },
   "source": [
    "<a id=\"1\">\n",
    "<h1 style = \"font-family: Snell Roundhand;font-weight: 500;font-size: 30px; font-style: normal; background-color:#f0a305; color :black;\"> 11) 200+ Score matches In IPL Season wise:</h1>\n"
   ]
  },
  {
   "cell_type": "code",
   "execution_count": 66,
   "id": "912562dc",
   "metadata": {
    "execution": {
     "iopub.execute_input": "2024-09-28T23:12:11.931992Z",
     "iopub.status.busy": "2024-09-28T23:12:11.931553Z",
     "iopub.status.idle": "2024-09-28T23:12:11.940324Z",
     "shell.execute_reply": "2024-09-28T23:12:11.939263Z"
    },
    "papermill": {
     "duration": 0.058264,
     "end_time": "2024-09-28T23:12:11.942807",
     "exception": false,
     "start_time": "2024-09-28T23:12:11.884543",
     "status": "completed"
    },
    "tags": []
   },
   "outputs": [],
   "source": [
    "plus200 = df[df['target_runs'] > 200].groupby('season').size().reset_index(name='times')"
   ]
  },
  {
   "cell_type": "code",
   "execution_count": 67,
   "id": "e91b00d1",
   "metadata": {
    "execution": {
     "iopub.execute_input": "2024-09-28T23:12:12.037152Z",
     "iopub.status.busy": "2024-09-28T23:12:12.036688Z",
     "iopub.status.idle": "2024-09-28T23:12:12.048315Z",
     "shell.execute_reply": "2024-09-28T23:12:12.047260Z"
    },
    "papermill": {
     "duration": 0.062589,
     "end_time": "2024-09-28T23:12:12.050777",
     "exception": false,
     "start_time": "2024-09-28T23:12:11.988188",
     "status": "completed"
    },
    "tags": []
   },
   "outputs": [
    {
     "data": {
      "text/html": [
       "<div>\n",
       "<style scoped>\n",
       "    .dataframe tbody tr th:only-of-type {\n",
       "        vertical-align: middle;\n",
       "    }\n",
       "\n",
       "    .dataframe tbody tr th {\n",
       "        vertical-align: top;\n",
       "    }\n",
       "\n",
       "    .dataframe thead th {\n",
       "        text-align: right;\n",
       "    }\n",
       "</style>\n",
       "<table border=\"1\" class=\"dataframe\">\n",
       "  <thead>\n",
       "    <tr style=\"text-align: right;\">\n",
       "      <th></th>\n",
       "      <th>season</th>\n",
       "      <th>times</th>\n",
       "    </tr>\n",
       "  </thead>\n",
       "  <tbody>\n",
       "    <tr>\n",
       "      <th>0</th>\n",
       "      <td>2007/08</td>\n",
       "      <td>7</td>\n",
       "    </tr>\n",
       "    <tr>\n",
       "      <th>1</th>\n",
       "      <td>2009</td>\n",
       "      <td>1</td>\n",
       "    </tr>\n",
       "    <tr>\n",
       "      <th>2</th>\n",
       "      <td>2009/10</td>\n",
       "      <td>5</td>\n",
       "    </tr>\n",
       "    <tr>\n",
       "      <th>3</th>\n",
       "      <td>2011</td>\n",
       "      <td>4</td>\n",
       "    </tr>\n",
       "    <tr>\n",
       "      <th>4</th>\n",
       "      <td>2012</td>\n",
       "      <td>4</td>\n",
       "    </tr>\n",
       "    <tr>\n",
       "      <th>5</th>\n",
       "      <td>2013</td>\n",
       "      <td>4</td>\n",
       "    </tr>\n",
       "    <tr>\n",
       "      <th>6</th>\n",
       "      <td>2014</td>\n",
       "      <td>5</td>\n",
       "    </tr>\n",
       "    <tr>\n",
       "      <th>7</th>\n",
       "      <td>2015</td>\n",
       "      <td>6</td>\n",
       "    </tr>\n",
       "    <tr>\n",
       "      <th>8</th>\n",
       "      <td>2016</td>\n",
       "      <td>5</td>\n",
       "    </tr>\n",
       "    <tr>\n",
       "      <th>9</th>\n",
       "      <td>2017</td>\n",
       "      <td>8</td>\n",
       "    </tr>\n",
       "    <tr>\n",
       "      <th>10</th>\n",
       "      <td>2018</td>\n",
       "      <td>11</td>\n",
       "    </tr>\n",
       "    <tr>\n",
       "      <th>11</th>\n",
       "      <td>2019</td>\n",
       "      <td>8</td>\n",
       "    </tr>\n",
       "    <tr>\n",
       "      <th>12</th>\n",
       "      <td>2020/21</td>\n",
       "      <td>9</td>\n",
       "    </tr>\n",
       "    <tr>\n",
       "      <th>13</th>\n",
       "      <td>2021</td>\n",
       "      <td>6</td>\n",
       "    </tr>\n",
       "    <tr>\n",
       "      <th>14</th>\n",
       "      <td>2022</td>\n",
       "      <td>13</td>\n",
       "    </tr>\n",
       "    <tr>\n",
       "      <th>15</th>\n",
       "      <td>2023</td>\n",
       "      <td>23</td>\n",
       "    </tr>\n",
       "    <tr>\n",
       "      <th>16</th>\n",
       "      <td>2024</td>\n",
       "      <td>26</td>\n",
       "    </tr>\n",
       "  </tbody>\n",
       "</table>\n",
       "</div>"
      ],
      "text/plain": [
       "     season  times\n",
       "0   2007/08      7\n",
       "1      2009      1\n",
       "2   2009/10      5\n",
       "3      2011      4\n",
       "4      2012      4\n",
       "5      2013      4\n",
       "6      2014      5\n",
       "7      2015      6\n",
       "8      2016      5\n",
       "9      2017      8\n",
       "10     2018     11\n",
       "11     2019      8\n",
       "12  2020/21      9\n",
       "13     2021      6\n",
       "14     2022     13\n",
       "15     2023     23\n",
       "16     2024     26"
      ]
     },
     "execution_count": 67,
     "metadata": {},
     "output_type": "execute_result"
    }
   ],
   "source": [
    "plus200"
   ]
  },
  {
   "cell_type": "code",
   "execution_count": 68,
   "id": "09efda2f",
   "metadata": {
    "execution": {
     "iopub.execute_input": "2024-09-28T23:12:12.143587Z",
     "iopub.status.busy": "2024-09-28T23:12:12.142778Z",
     "iopub.status.idle": "2024-09-28T23:12:12.193354Z",
     "shell.execute_reply": "2024-09-28T23:12:12.192348Z"
    },
    "papermill": {
     "duration": 0.098965,
     "end_time": "2024-09-28T23:12:12.195646",
     "exception": false,
     "start_time": "2024-09-28T23:12:12.096681",
     "status": "completed"
    },
    "tags": []
   },
   "outputs": [
    {
     "data": {
      "text/html": [
       "<div>                            <div id=\"16107926-807a-4f83-8692-09e7fc62607d\" class=\"plotly-graph-div\" style=\"height:525px; width:100%;\"></div>            <script type=\"text/javascript\">                require([\"plotly\"], function(Plotly) {                    window.PLOTLYENV=window.PLOTLYENV || {};                                    if (document.getElementById(\"16107926-807a-4f83-8692-09e7fc62607d\")) {                    Plotly.newPlot(                        \"16107926-807a-4f83-8692-09e7fc62607d\",                        [{\"line\":{\"color\":\"#f5fd8f\",\"width\":2},\"mode\":\"lines+markers\",\"x\":[\"2007\\u002f08\",\"2009\",\"2009\\u002f10\",\"2011\",\"2012\",\"2013\",\"2014\",\"2015\",\"2016\",\"2017\",\"2018\",\"2019\",\"2020\\u002f21\",\"2021\",\"2022\",\"2023\",\"2024\"],\"y\":[7,1,5,4,4,4,5,6,5,8,11,8,9,6,13,23,26],\"type\":\"scatter\"}],                        {\"template\":{\"data\":{\"barpolar\":[{\"marker\":{\"line\":{\"color\":\"rgb(17,17,17)\",\"width\":0.5},\"pattern\":{\"fillmode\":\"overlay\",\"size\":10,\"solidity\":0.2}},\"type\":\"barpolar\"}],\"bar\":[{\"error_x\":{\"color\":\"#f2f5fa\"},\"error_y\":{\"color\":\"#f2f5fa\"},\"marker\":{\"line\":{\"color\":\"rgb(17,17,17)\",\"width\":0.5},\"pattern\":{\"fillmode\":\"overlay\",\"size\":10,\"solidity\":0.2}},\"type\":\"bar\"}],\"carpet\":[{\"aaxis\":{\"endlinecolor\":\"#A2B1C6\",\"gridcolor\":\"#506784\",\"linecolor\":\"#506784\",\"minorgridcolor\":\"#506784\",\"startlinecolor\":\"#A2B1C6\"},\"baxis\":{\"endlinecolor\":\"#A2B1C6\",\"gridcolor\":\"#506784\",\"linecolor\":\"#506784\",\"minorgridcolor\":\"#506784\",\"startlinecolor\":\"#A2B1C6\"},\"type\":\"carpet\"}],\"choropleth\":[{\"colorbar\":{\"outlinewidth\":0,\"ticks\":\"\"},\"type\":\"choropleth\"}],\"contourcarpet\":[{\"colorbar\":{\"outlinewidth\":0,\"ticks\":\"\"},\"type\":\"contourcarpet\"}],\"contour\":[{\"colorbar\":{\"outlinewidth\":0,\"ticks\":\"\"},\"colorscale\":[[0.0,\"#0d0887\"],[0.1111111111111111,\"#46039f\"],[0.2222222222222222,\"#7201a8\"],[0.3333333333333333,\"#9c179e\"],[0.4444444444444444,\"#bd3786\"],[0.5555555555555556,\"#d8576b\"],[0.6666666666666666,\"#ed7953\"],[0.7777777777777778,\"#fb9f3a\"],[0.8888888888888888,\"#fdca26\"],[1.0,\"#f0f921\"]],\"type\":\"contour\"}],\"heatmapgl\":[{\"colorbar\":{\"outlinewidth\":0,\"ticks\":\"\"},\"colorscale\":[[0.0,\"#0d0887\"],[0.1111111111111111,\"#46039f\"],[0.2222222222222222,\"#7201a8\"],[0.3333333333333333,\"#9c179e\"],[0.4444444444444444,\"#bd3786\"],[0.5555555555555556,\"#d8576b\"],[0.6666666666666666,\"#ed7953\"],[0.7777777777777778,\"#fb9f3a\"],[0.8888888888888888,\"#fdca26\"],[1.0,\"#f0f921\"]],\"type\":\"heatmapgl\"}],\"heatmap\":[{\"colorbar\":{\"outlinewidth\":0,\"ticks\":\"\"},\"colorscale\":[[0.0,\"#0d0887\"],[0.1111111111111111,\"#46039f\"],[0.2222222222222222,\"#7201a8\"],[0.3333333333333333,\"#9c179e\"],[0.4444444444444444,\"#bd3786\"],[0.5555555555555556,\"#d8576b\"],[0.6666666666666666,\"#ed7953\"],[0.7777777777777778,\"#fb9f3a\"],[0.8888888888888888,\"#fdca26\"],[1.0,\"#f0f921\"]],\"type\":\"heatmap\"}],\"histogram2dcontour\":[{\"colorbar\":{\"outlinewidth\":0,\"ticks\":\"\"},\"colorscale\":[[0.0,\"#0d0887\"],[0.1111111111111111,\"#46039f\"],[0.2222222222222222,\"#7201a8\"],[0.3333333333333333,\"#9c179e\"],[0.4444444444444444,\"#bd3786\"],[0.5555555555555556,\"#d8576b\"],[0.6666666666666666,\"#ed7953\"],[0.7777777777777778,\"#fb9f3a\"],[0.8888888888888888,\"#fdca26\"],[1.0,\"#f0f921\"]],\"type\":\"histogram2dcontour\"}],\"histogram2d\":[{\"colorbar\":{\"outlinewidth\":0,\"ticks\":\"\"},\"colorscale\":[[0.0,\"#0d0887\"],[0.1111111111111111,\"#46039f\"],[0.2222222222222222,\"#7201a8\"],[0.3333333333333333,\"#9c179e\"],[0.4444444444444444,\"#bd3786\"],[0.5555555555555556,\"#d8576b\"],[0.6666666666666666,\"#ed7953\"],[0.7777777777777778,\"#fb9f3a\"],[0.8888888888888888,\"#fdca26\"],[1.0,\"#f0f921\"]],\"type\":\"histogram2d\"}],\"histogram\":[{\"marker\":{\"pattern\":{\"fillmode\":\"overlay\",\"size\":10,\"solidity\":0.2}},\"type\":\"histogram\"}],\"mesh3d\":[{\"colorbar\":{\"outlinewidth\":0,\"ticks\":\"\"},\"type\":\"mesh3d\"}],\"parcoords\":[{\"line\":{\"colorbar\":{\"outlinewidth\":0,\"ticks\":\"\"}},\"type\":\"parcoords\"}],\"pie\":[{\"automargin\":true,\"type\":\"pie\"}],\"scatter3d\":[{\"line\":{\"colorbar\":{\"outlinewidth\":0,\"ticks\":\"\"}},\"marker\":{\"colorbar\":{\"outlinewidth\":0,\"ticks\":\"\"}},\"type\":\"scatter3d\"}],\"scattercarpet\":[{\"marker\":{\"colorbar\":{\"outlinewidth\":0,\"ticks\":\"\"}},\"type\":\"scattercarpet\"}],\"scattergeo\":[{\"marker\":{\"colorbar\":{\"outlinewidth\":0,\"ticks\":\"\"}},\"type\":\"scattergeo\"}],\"scattergl\":[{\"marker\":{\"line\":{\"color\":\"#283442\"}},\"type\":\"scattergl\"}],\"scattermapbox\":[{\"marker\":{\"colorbar\":{\"outlinewidth\":0,\"ticks\":\"\"}},\"type\":\"scattermapbox\"}],\"scatterpolargl\":[{\"marker\":{\"colorbar\":{\"outlinewidth\":0,\"ticks\":\"\"}},\"type\":\"scatterpolargl\"}],\"scatterpolar\":[{\"marker\":{\"colorbar\":{\"outlinewidth\":0,\"ticks\":\"\"}},\"type\":\"scatterpolar\"}],\"scatter\":[{\"marker\":{\"line\":{\"color\":\"#283442\"}},\"type\":\"scatter\"}],\"scatterternary\":[{\"marker\":{\"colorbar\":{\"outlinewidth\":0,\"ticks\":\"\"}},\"type\":\"scatterternary\"}],\"surface\":[{\"colorbar\":{\"outlinewidth\":0,\"ticks\":\"\"},\"colorscale\":[[0.0,\"#0d0887\"],[0.1111111111111111,\"#46039f\"],[0.2222222222222222,\"#7201a8\"],[0.3333333333333333,\"#9c179e\"],[0.4444444444444444,\"#bd3786\"],[0.5555555555555556,\"#d8576b\"],[0.6666666666666666,\"#ed7953\"],[0.7777777777777778,\"#fb9f3a\"],[0.8888888888888888,\"#fdca26\"],[1.0,\"#f0f921\"]],\"type\":\"surface\"}],\"table\":[{\"cells\":{\"fill\":{\"color\":\"#506784\"},\"line\":{\"color\":\"rgb(17,17,17)\"}},\"header\":{\"fill\":{\"color\":\"#2a3f5f\"},\"line\":{\"color\":\"rgb(17,17,17)\"}},\"type\":\"table\"}]},\"layout\":{\"annotationdefaults\":{\"arrowcolor\":\"#f2f5fa\",\"arrowhead\":0,\"arrowwidth\":1},\"autotypenumbers\":\"strict\",\"coloraxis\":{\"colorbar\":{\"outlinewidth\":0,\"ticks\":\"\"}},\"colorscale\":{\"diverging\":[[0,\"#8e0152\"],[0.1,\"#c51b7d\"],[0.2,\"#de77ae\"],[0.3,\"#f1b6da\"],[0.4,\"#fde0ef\"],[0.5,\"#f7f7f7\"],[0.6,\"#e6f5d0\"],[0.7,\"#b8e186\"],[0.8,\"#7fbc41\"],[0.9,\"#4d9221\"],[1,\"#276419\"]],\"sequential\":[[0.0,\"#0d0887\"],[0.1111111111111111,\"#46039f\"],[0.2222222222222222,\"#7201a8\"],[0.3333333333333333,\"#9c179e\"],[0.4444444444444444,\"#bd3786\"],[0.5555555555555556,\"#d8576b\"],[0.6666666666666666,\"#ed7953\"],[0.7777777777777778,\"#fb9f3a\"],[0.8888888888888888,\"#fdca26\"],[1.0,\"#f0f921\"]],\"sequentialminus\":[[0.0,\"#0d0887\"],[0.1111111111111111,\"#46039f\"],[0.2222222222222222,\"#7201a8\"],[0.3333333333333333,\"#9c179e\"],[0.4444444444444444,\"#bd3786\"],[0.5555555555555556,\"#d8576b\"],[0.6666666666666666,\"#ed7953\"],[0.7777777777777778,\"#fb9f3a\"],[0.8888888888888888,\"#fdca26\"],[1.0,\"#f0f921\"]]},\"colorway\":[\"#636efa\",\"#EF553B\",\"#00cc96\",\"#ab63fa\",\"#FFA15A\",\"#19d3f3\",\"#FF6692\",\"#B6E880\",\"#FF97FF\",\"#FECB52\"],\"font\":{\"color\":\"#f2f5fa\"},\"geo\":{\"bgcolor\":\"rgb(17,17,17)\",\"lakecolor\":\"rgb(17,17,17)\",\"landcolor\":\"rgb(17,17,17)\",\"showlakes\":true,\"showland\":true,\"subunitcolor\":\"#506784\"},\"hoverlabel\":{\"align\":\"left\"},\"hovermode\":\"closest\",\"mapbox\":{\"style\":\"dark\"},\"paper_bgcolor\":\"rgb(17,17,17)\",\"plot_bgcolor\":\"rgb(17,17,17)\",\"polar\":{\"angularaxis\":{\"gridcolor\":\"#506784\",\"linecolor\":\"#506784\",\"ticks\":\"\"},\"bgcolor\":\"rgb(17,17,17)\",\"radialaxis\":{\"gridcolor\":\"#506784\",\"linecolor\":\"#506784\",\"ticks\":\"\"}},\"scene\":{\"xaxis\":{\"backgroundcolor\":\"rgb(17,17,17)\",\"gridcolor\":\"#506784\",\"gridwidth\":2,\"linecolor\":\"#506784\",\"showbackground\":true,\"ticks\":\"\",\"zerolinecolor\":\"#C8D4E3\"},\"yaxis\":{\"backgroundcolor\":\"rgb(17,17,17)\",\"gridcolor\":\"#506784\",\"gridwidth\":2,\"linecolor\":\"#506784\",\"showbackground\":true,\"ticks\":\"\",\"zerolinecolor\":\"#C8D4E3\"},\"zaxis\":{\"backgroundcolor\":\"rgb(17,17,17)\",\"gridcolor\":\"#506784\",\"gridwidth\":2,\"linecolor\":\"#506784\",\"showbackground\":true,\"ticks\":\"\",\"zerolinecolor\":\"#C8D4E3\"}},\"shapedefaults\":{\"line\":{\"color\":\"#f2f5fa\"}},\"sliderdefaults\":{\"bgcolor\":\"#C8D4E3\",\"bordercolor\":\"rgb(17,17,17)\",\"borderwidth\":1,\"tickwidth\":0},\"ternary\":{\"aaxis\":{\"gridcolor\":\"#506784\",\"linecolor\":\"#506784\",\"ticks\":\"\"},\"baxis\":{\"gridcolor\":\"#506784\",\"linecolor\":\"#506784\",\"ticks\":\"\"},\"bgcolor\":\"rgb(17,17,17)\",\"caxis\":{\"gridcolor\":\"#506784\",\"linecolor\":\"#506784\",\"ticks\":\"\"}},\"title\":{\"x\":0.05},\"updatemenudefaults\":{\"bgcolor\":\"#506784\",\"borderwidth\":0},\"xaxis\":{\"automargin\":true,\"gridcolor\":\"#283442\",\"linecolor\":\"#506784\",\"ticks\":\"\",\"title\":{\"standoff\":15},\"zerolinecolor\":\"#283442\",\"zerolinewidth\":2},\"yaxis\":{\"automargin\":true,\"gridcolor\":\"#283442\",\"linecolor\":\"#506784\",\"ticks\":\"\",\"title\":{\"standoff\":15},\"zerolinecolor\":\"#283442\",\"zerolinewidth\":2}}},\"title\":{\"font\":{\"size\":24,\"family\":\"Arial\",\"color\":\"#ffffff\"},\"text\":\"200+ Matches In IPL Season Wise\",\"x\":0.5,\"xanchor\":\"center\",\"yanchor\":\"top\"},\"xaxis\":{\"title\":{\"text\":\"Seasons\"}},\"yaxis\":{\"title\":{\"text\":\"200+ Runs counts\"}}},                        {\"responsive\": true}                    ).then(function(){\n",
       "                            \n",
       "var gd = document.getElementById('16107926-807a-4f83-8692-09e7fc62607d');\n",
       "var x = new MutationObserver(function (mutations, observer) {{\n",
       "        var display = window.getComputedStyle(gd).display;\n",
       "        if (!display || display === 'none') {{\n",
       "            console.log([gd, 'removed!']);\n",
       "            Plotly.purge(gd);\n",
       "            observer.disconnect();\n",
       "        }}\n",
       "}});\n",
       "\n",
       "// Listen for the removal of the full notebook cells\n",
       "var notebookContainer = gd.closest('#notebook-container');\n",
       "if (notebookContainer) {{\n",
       "    x.observe(notebookContainer, {childList: true});\n",
       "}}\n",
       "\n",
       "// Listen for the clearing of the current output cell\n",
       "var outputEl = gd.closest('.output');\n",
       "if (outputEl) {{\n",
       "    x.observe(outputEl, {childList: true});\n",
       "}}\n",
       "\n",
       "                        })                };                });            </script>        </div>"
      ]
     },
     "metadata": {},
     "output_type": "display_data"
    }
   ],
   "source": [
    "fig = go.Figure()\n",
    "fig.add_trace(go.Scatter(\n",
    "    x=plus200['season'], \n",
    "    y=plus200['times'], \n",
    "    mode='lines+markers',  \n",
    "    line=dict(color='#f5fd8f', width=2) \n",
    "))\n",
    "fig.update_layout(\n",
    "    xaxis_title=\"Seasons\",\n",
    "    yaxis_title=\"200+ Runs counts\",\n",
    "    template=\"plotly_dark\",\n",
    "    title={\n",
    "        'text': '200+ Matches In IPL Season Wise',\n",
    "        'x': 0.5,  \n",
    "        'xanchor': 'center',\n",
    "        'yanchor': 'top',\n",
    "        'font': {'size': 24, 'family': 'Arial', 'color': '#ffffff'}  \n",
    "    }\n",
    ")\n",
    "\n",
    "fig.show()\n"
   ]
  },
  {
   "cell_type": "markdown",
   "id": "6e82e3fd",
   "metadata": {
    "papermill": {
     "duration": 0.045615,
     "end_time": "2024-09-28T23:12:12.286953",
     "exception": false,
     "start_time": "2024-09-28T23:12:12.241338",
     "status": "completed"
    },
    "tags": []
   },
   "source": [
    "<div class=\"alert alert-block alert-info\"><p style='color:black;'>🏏📝 Interestingly In 1st seasons their was 7 High volume matches and This year 26 200+ matches \n",
    "</div>"
   ]
  },
  {
   "cell_type": "markdown",
   "id": "b31f7e86",
   "metadata": {
    "papermill": {
     "duration": 0.045346,
     "end_time": "2024-09-28T23:12:12.378445",
     "exception": false,
     "start_time": "2024-09-28T23:12:12.333099",
     "status": "completed"
    },
    "tags": []
   },
   "source": [
    "<a id=\"1\">\n",
    "<h1 style = \"font-family: Snell Roundhand;font-weight: 500;font-size: 30px; font-style: normal; background-color:#f0a305; color :black;\"> 12) Most Lucky Team In Toss \n",
    "    :</h1>\n"
   ]
  },
  {
   "cell_type": "code",
   "execution_count": 69,
   "id": "83e92b4d",
   "metadata": {
    "execution": {
     "iopub.execute_input": "2024-09-28T23:12:12.472931Z",
     "iopub.status.busy": "2024-09-28T23:12:12.471927Z",
     "iopub.status.idle": "2024-09-28T23:12:12.480717Z",
     "shell.execute_reply": "2024-09-28T23:12:12.479578Z"
    },
    "papermill": {
     "duration": 0.058742,
     "end_time": "2024-09-28T23:12:12.483210",
     "exception": false,
     "start_time": "2024-09-28T23:12:12.424468",
     "status": "completed"
    },
    "tags": []
   },
   "outputs": [],
   "source": [
    "Toss_data=df.value_counts('toss_winner').reset_index(name='Total Win').style.background_gradient(cmap='cividis')"
   ]
  },
  {
   "cell_type": "code",
   "execution_count": 70,
   "id": "b6b05214",
   "metadata": {
    "execution": {
     "iopub.execute_input": "2024-09-28T23:12:12.579726Z",
     "iopub.status.busy": "2024-09-28T23:12:12.578423Z",
     "iopub.status.idle": "2024-09-28T23:12:12.598671Z",
     "shell.execute_reply": "2024-09-28T23:12:12.597478Z"
    },
    "papermill": {
     "duration": 0.07331,
     "end_time": "2024-09-28T23:12:12.603181",
     "exception": false,
     "start_time": "2024-09-28T23:12:12.529871",
     "status": "completed"
    },
    "tags": []
   },
   "outputs": [
    {
     "data": {
      "text/html": [
       "<style type=\"text/css\">\n",
       "#T_e6f65_row0_col1 {\n",
       "  background-color: #fee838;\n",
       "  color: #000000;\n",
       "}\n",
       "#T_e6f65_row1_col1, #T_e6f65_row2_col1 {\n",
       "  background-color: #d5c25e;\n",
       "  color: #000000;\n",
       "}\n",
       "#T_e6f65_row3_col1 {\n",
       "  background-color: #d2c060;\n",
       "  color: #000000;\n",
       "}\n",
       "#T_e6f65_row4_col1 {\n",
       "  background-color: #c3b369;\n",
       "  color: #000000;\n",
       "}\n",
       "#T_e6f65_row5_col1 {\n",
       "  background-color: #948e77;\n",
       "  color: #f1f1f1;\n",
       "}\n",
       "#T_e6f65_row6_col1 {\n",
       "  background-color: #8f8a78;\n",
       "  color: #f1f1f1;\n",
       "}\n",
       "#T_e6f65_row7_col1 {\n",
       "  background-color: #868379;\n",
       "  color: #f1f1f1;\n",
       "}\n",
       "#T_e6f65_row8_col1 {\n",
       "  background-color: #555b6d;\n",
       "  color: #f1f1f1;\n",
       "}\n",
       "#T_e6f65_row9_col1 {\n",
       "  background-color: #48526c;\n",
       "  color: #f1f1f1;\n",
       "}\n",
       "#T_e6f65_row10_col1 {\n",
       "  background-color: #1c396f;\n",
       "  color: #f1f1f1;\n",
       "}\n",
       "#T_e6f65_row11_col1 {\n",
       "  background-color: #143670;\n",
       "  color: #f1f1f1;\n",
       "}\n",
       "#T_e6f65_row12_col1 {\n",
       "  background-color: #0c3470;\n",
       "  color: #f1f1f1;\n",
       "}\n",
       "#T_e6f65_row13_col1 {\n",
       "  background-color: #053371;\n",
       "  color: #f1f1f1;\n",
       "}\n",
       "#T_e6f65_row14_col1 {\n",
       "  background-color: #002e6a;\n",
       "  color: #f1f1f1;\n",
       "}\n",
       "#T_e6f65_row15_col1, #T_e6f65_row16_col1 {\n",
       "  background-color: #002553;\n",
       "  color: #f1f1f1;\n",
       "}\n",
       "#T_e6f65_row17_col1 {\n",
       "  background-color: #00234f;\n",
       "  color: #f1f1f1;\n",
       "}\n",
       "#T_e6f65_row18_col1 {\n",
       "  background-color: #00224e;\n",
       "  color: #f1f1f1;\n",
       "}\n",
       "</style>\n",
       "<table id=\"T_e6f65\">\n",
       "  <thead>\n",
       "    <tr>\n",
       "      <th class=\"blank level0\" >&nbsp;</th>\n",
       "      <th id=\"T_e6f65_level0_col0\" class=\"col_heading level0 col0\" >toss_winner</th>\n",
       "      <th id=\"T_e6f65_level0_col1\" class=\"col_heading level0 col1\" >Total Win</th>\n",
       "    </tr>\n",
       "  </thead>\n",
       "  <tbody>\n",
       "    <tr>\n",
       "      <th id=\"T_e6f65_level0_row0\" class=\"row_heading level0 row0\" >0</th>\n",
       "      <td id=\"T_e6f65_row0_col0\" class=\"data row0 col0\" >Mumbai Indians</td>\n",
       "      <td id=\"T_e6f65_row0_col1\" class=\"data row0 col1\" >143</td>\n",
       "    </tr>\n",
       "    <tr>\n",
       "      <th id=\"T_e6f65_level0_row1\" class=\"row_heading level0 row1\" >1</th>\n",
       "      <td id=\"T_e6f65_row1_col0\" class=\"data row1 col0\" >Chennai Super Kings</td>\n",
       "      <td id=\"T_e6f65_row1_col1\" class=\"data row1 col1\" >122</td>\n",
       "    </tr>\n",
       "    <tr>\n",
       "      <th id=\"T_e6f65_level0_row2\" class=\"row_heading level0 row2\" >2</th>\n",
       "      <td id=\"T_e6f65_row2_col0\" class=\"data row2 col0\" >Kolkata Knight Riders</td>\n",
       "      <td id=\"T_e6f65_row2_col1\" class=\"data row2 col1\" >122</td>\n",
       "    </tr>\n",
       "    <tr>\n",
       "      <th id=\"T_e6f65_level0_row3\" class=\"row_heading level0 row3\" >3</th>\n",
       "      <td id=\"T_e6f65_row3_col0\" class=\"data row3 col0\" >Rajasthan Royals</td>\n",
       "      <td id=\"T_e6f65_row3_col1\" class=\"data row3 col1\" >120</td>\n",
       "    </tr>\n",
       "    <tr>\n",
       "      <th id=\"T_e6f65_level0_row4\" class=\"row_heading level0 row4\" >4</th>\n",
       "      <td id=\"T_e6f65_row4_col0\" class=\"data row4 col0\" >Royal Challengers Bangalore</td>\n",
       "      <td id=\"T_e6f65_row4_col1\" class=\"data row4 col1\" >113</td>\n",
       "    </tr>\n",
       "    <tr>\n",
       "      <th id=\"T_e6f65_level0_row5\" class=\"row_heading level0 row5\" >5</th>\n",
       "      <td id=\"T_e6f65_row5_col0\" class=\"data row5 col0\" >Sunrisers Hyderabad</td>\n",
       "      <td id=\"T_e6f65_row5_col1\" class=\"data row5 col1\" >88</td>\n",
       "    </tr>\n",
       "    <tr>\n",
       "      <th id=\"T_e6f65_level0_row6\" class=\"row_heading level0 row6\" >6</th>\n",
       "      <td id=\"T_e6f65_row6_col0\" class=\"data row6 col0\" >Kings XI Punjab</td>\n",
       "      <td id=\"T_e6f65_row6_col1\" class=\"data row6 col1\" >85</td>\n",
       "    </tr>\n",
       "    <tr>\n",
       "      <th id=\"T_e6f65_level0_row7\" class=\"row_heading level0 row7\" >7</th>\n",
       "      <td id=\"T_e6f65_row7_col0\" class=\"data row7 col0\" >Delhi Daredevils</td>\n",
       "      <td id=\"T_e6f65_row7_col1\" class=\"data row7 col1\" >80</td>\n",
       "    </tr>\n",
       "    <tr>\n",
       "      <th id=\"T_e6f65_level0_row8\" class=\"row_heading level0 row8\" >8</th>\n",
       "      <td id=\"T_e6f65_row8_col0\" class=\"data row8 col0\" >Delhi Capitals</td>\n",
       "      <td id=\"T_e6f65_row8_col1\" class=\"data row8 col1\" >50</td>\n",
       "    </tr>\n",
       "    <tr>\n",
       "      <th id=\"T_e6f65_level0_row9\" class=\"row_heading level0 row9\" >9</th>\n",
       "      <td id=\"T_e6f65_row9_col0\" class=\"data row9 col0\" >Deccan Chargers</td>\n",
       "      <td id=\"T_e6f65_row9_col1\" class=\"data row9 col1\" >43</td>\n",
       "    </tr>\n",
       "    <tr>\n",
       "      <th id=\"T_e6f65_level0_row10\" class=\"row_heading level0 row10\" >10</th>\n",
       "      <td id=\"T_e6f65_row10_col0\" class=\"data row10 col0\" >Punjab Kings</td>\n",
       "      <td id=\"T_e6f65_row10_col1\" class=\"data row10 col1\" >24</td>\n",
       "    </tr>\n",
       "    <tr>\n",
       "      <th id=\"T_e6f65_level0_row11\" class=\"row_heading level0 row11\" >11</th>\n",
       "      <td id=\"T_e6f65_row11_col0\" class=\"data row11 col0\" >Gujarat Titans</td>\n",
       "      <td id=\"T_e6f65_row11_col1\" class=\"data row11 col1\" >22</td>\n",
       "    </tr>\n",
       "    <tr>\n",
       "      <th id=\"T_e6f65_level0_row12\" class=\"row_heading level0 row12\" >12</th>\n",
       "      <td id=\"T_e6f65_row12_col0\" class=\"data row12 col0\" >Pune Warriors</td>\n",
       "      <td id=\"T_e6f65_row12_col1\" class=\"data row12 col1\" >20</td>\n",
       "    </tr>\n",
       "    <tr>\n",
       "      <th id=\"T_e6f65_level0_row13\" class=\"row_heading level0 row13\" >13</th>\n",
       "      <td id=\"T_e6f65_row13_col0\" class=\"data row13 col0\" >Lucknow Super Giants</td>\n",
       "      <td id=\"T_e6f65_row13_col1\" class=\"data row13 col1\" >19</td>\n",
       "    </tr>\n",
       "    <tr>\n",
       "      <th id=\"T_e6f65_level0_row14\" class=\"row_heading level0 row14\" >14</th>\n",
       "      <td id=\"T_e6f65_row14_col0\" class=\"data row14 col0\" >Gujarat Lions</td>\n",
       "      <td id=\"T_e6f65_row14_col1\" class=\"data row14 col1\" >15</td>\n",
       "    </tr>\n",
       "    <tr>\n",
       "      <th id=\"T_e6f65_level0_row15\" class=\"row_heading level0 row15\" >15</th>\n",
       "      <td id=\"T_e6f65_row15_col0\" class=\"data row15 col0\" >Kochi Tuskers Kerala</td>\n",
       "      <td id=\"T_e6f65_row15_col1\" class=\"data row15 col1\" >8</td>\n",
       "    </tr>\n",
       "    <tr>\n",
       "      <th id=\"T_e6f65_level0_row16\" class=\"row_heading level0 row16\" >16</th>\n",
       "      <td id=\"T_e6f65_row16_col0\" class=\"data row16 col0\" >Royal Challengers Bengaluru</td>\n",
       "      <td id=\"T_e6f65_row16_col1\" class=\"data row16 col1\" >8</td>\n",
       "    </tr>\n",
       "    <tr>\n",
       "      <th id=\"T_e6f65_level0_row17\" class=\"row_heading level0 row17\" >17</th>\n",
       "      <td id=\"T_e6f65_row17_col0\" class=\"data row17 col0\" >Rising Pune Supergiants</td>\n",
       "      <td id=\"T_e6f65_row17_col1\" class=\"data row17 col1\" >7</td>\n",
       "    </tr>\n",
       "    <tr>\n",
       "      <th id=\"T_e6f65_level0_row18\" class=\"row_heading level0 row18\" >18</th>\n",
       "      <td id=\"T_e6f65_row18_col0\" class=\"data row18 col0\" >Rising Pune Supergiant</td>\n",
       "      <td id=\"T_e6f65_row18_col1\" class=\"data row18 col1\" >6</td>\n",
       "    </tr>\n",
       "  </tbody>\n",
       "</table>\n"
      ],
      "text/plain": [
       "<pandas.io.formats.style.Styler at 0x7a00335d2b30>"
      ]
     },
     "execution_count": 70,
     "metadata": {},
     "output_type": "execute_result"
    }
   ],
   "source": [
    "Toss_data"
   ]
  },
  {
   "cell_type": "code",
   "execution_count": 71,
   "id": "207fd5f5",
   "metadata": {
    "execution": {
     "iopub.execute_input": "2024-09-28T23:12:12.709454Z",
     "iopub.status.busy": "2024-09-28T23:12:12.709017Z",
     "iopub.status.idle": "2024-09-28T23:12:12.818250Z",
     "shell.execute_reply": "2024-09-28T23:12:12.817287Z"
    },
    "papermill": {
     "duration": 0.161667,
     "end_time": "2024-09-28T23:12:12.821762",
     "exception": false,
     "start_time": "2024-09-28T23:12:12.660095",
     "status": "completed"
    },
    "tags": []
   },
   "outputs": [
    {
     "data": {
      "text/html": [
       "<div>                            <div id=\"bbe1772e-7b18-4134-921e-d717e683cc3b\" class=\"plotly-graph-div\" style=\"height:525px; width:100%;\"></div>            <script type=\"text/javascript\">                require([\"plotly\"], function(Plotly) {                    window.PLOTLYENV=window.PLOTLYENV || {};                                    if (document.getElementById(\"bbe1772e-7b18-4134-921e-d717e683cc3b\")) {                    Plotly.newPlot(                        \"bbe1772e-7b18-4134-921e-d717e683cc3b\",                        [{\"domain\":{\"x\":[0.0,1.0],\"y\":[0.0,1.0]},\"hovertemplate\":\"toss_winner=%{label}\\u003cbr\\u003eTotal Win=%{value}\\u003cextra\\u003e\\u003c\\u002fextra\\u003e\",\"labels\":[\"Mumbai Indians\",\"Chennai Super Kings\",\"Kolkata Knight Riders\",\"Rajasthan Royals\",\"Royal Challengers Bangalore\",\"Sunrisers Hyderabad\",\"Kings XI Punjab\",\"Delhi Daredevils\",\"Delhi Capitals\",\"Deccan Chargers\",\"Punjab Kings\",\"Gujarat Titans\",\"Pune Warriors\",\"Lucknow Super Giants\",\"Gujarat Lions\",\"Kochi Tuskers Kerala\",\"Royal Challengers Bengaluru\",\"Rising Pune Supergiants\",\"Rising Pune Supergiant\"],\"legendgroup\":\"\",\"name\":\"\",\"showlegend\":true,\"values\":[143,122,122,120,113,88,85,80,50,43,24,22,20,19,15,8,8,7,6],\"type\":\"pie\"}],                        {\"template\":{\"data\":{\"barpolar\":[{\"marker\":{\"line\":{\"color\":\"rgb(17,17,17)\",\"width\":0.5},\"pattern\":{\"fillmode\":\"overlay\",\"size\":10,\"solidity\":0.2}},\"type\":\"barpolar\"}],\"bar\":[{\"error_x\":{\"color\":\"#f2f5fa\"},\"error_y\":{\"color\":\"#f2f5fa\"},\"marker\":{\"line\":{\"color\":\"rgb(17,17,17)\",\"width\":0.5},\"pattern\":{\"fillmode\":\"overlay\",\"size\":10,\"solidity\":0.2}},\"type\":\"bar\"}],\"carpet\":[{\"aaxis\":{\"endlinecolor\":\"#A2B1C6\",\"gridcolor\":\"#506784\",\"linecolor\":\"#506784\",\"minorgridcolor\":\"#506784\",\"startlinecolor\":\"#A2B1C6\"},\"baxis\":{\"endlinecolor\":\"#A2B1C6\",\"gridcolor\":\"#506784\",\"linecolor\":\"#506784\",\"minorgridcolor\":\"#506784\",\"startlinecolor\":\"#A2B1C6\"},\"type\":\"carpet\"}],\"choropleth\":[{\"colorbar\":{\"outlinewidth\":0,\"ticks\":\"\"},\"type\":\"choropleth\"}],\"contourcarpet\":[{\"colorbar\":{\"outlinewidth\":0,\"ticks\":\"\"},\"type\":\"contourcarpet\"}],\"contour\":[{\"colorbar\":{\"outlinewidth\":0,\"ticks\":\"\"},\"colorscale\":[[0.0,\"#0d0887\"],[0.1111111111111111,\"#46039f\"],[0.2222222222222222,\"#7201a8\"],[0.3333333333333333,\"#9c179e\"],[0.4444444444444444,\"#bd3786\"],[0.5555555555555556,\"#d8576b\"],[0.6666666666666666,\"#ed7953\"],[0.7777777777777778,\"#fb9f3a\"],[0.8888888888888888,\"#fdca26\"],[1.0,\"#f0f921\"]],\"type\":\"contour\"}],\"heatmapgl\":[{\"colorbar\":{\"outlinewidth\":0,\"ticks\":\"\"},\"colorscale\":[[0.0,\"#0d0887\"],[0.1111111111111111,\"#46039f\"],[0.2222222222222222,\"#7201a8\"],[0.3333333333333333,\"#9c179e\"],[0.4444444444444444,\"#bd3786\"],[0.5555555555555556,\"#d8576b\"],[0.6666666666666666,\"#ed7953\"],[0.7777777777777778,\"#fb9f3a\"],[0.8888888888888888,\"#fdca26\"],[1.0,\"#f0f921\"]],\"type\":\"heatmapgl\"}],\"heatmap\":[{\"colorbar\":{\"outlinewidth\":0,\"ticks\":\"\"},\"colorscale\":[[0.0,\"#0d0887\"],[0.1111111111111111,\"#46039f\"],[0.2222222222222222,\"#7201a8\"],[0.3333333333333333,\"#9c179e\"],[0.4444444444444444,\"#bd3786\"],[0.5555555555555556,\"#d8576b\"],[0.6666666666666666,\"#ed7953\"],[0.7777777777777778,\"#fb9f3a\"],[0.8888888888888888,\"#fdca26\"],[1.0,\"#f0f921\"]],\"type\":\"heatmap\"}],\"histogram2dcontour\":[{\"colorbar\":{\"outlinewidth\":0,\"ticks\":\"\"},\"colorscale\":[[0.0,\"#0d0887\"],[0.1111111111111111,\"#46039f\"],[0.2222222222222222,\"#7201a8\"],[0.3333333333333333,\"#9c179e\"],[0.4444444444444444,\"#bd3786\"],[0.5555555555555556,\"#d8576b\"],[0.6666666666666666,\"#ed7953\"],[0.7777777777777778,\"#fb9f3a\"],[0.8888888888888888,\"#fdca26\"],[1.0,\"#f0f921\"]],\"type\":\"histogram2dcontour\"}],\"histogram2d\":[{\"colorbar\":{\"outlinewidth\":0,\"ticks\":\"\"},\"colorscale\":[[0.0,\"#0d0887\"],[0.1111111111111111,\"#46039f\"],[0.2222222222222222,\"#7201a8\"],[0.3333333333333333,\"#9c179e\"],[0.4444444444444444,\"#bd3786\"],[0.5555555555555556,\"#d8576b\"],[0.6666666666666666,\"#ed7953\"],[0.7777777777777778,\"#fb9f3a\"],[0.8888888888888888,\"#fdca26\"],[1.0,\"#f0f921\"]],\"type\":\"histogram2d\"}],\"histogram\":[{\"marker\":{\"pattern\":{\"fillmode\":\"overlay\",\"size\":10,\"solidity\":0.2}},\"type\":\"histogram\"}],\"mesh3d\":[{\"colorbar\":{\"outlinewidth\":0,\"ticks\":\"\"},\"type\":\"mesh3d\"}],\"parcoords\":[{\"line\":{\"colorbar\":{\"outlinewidth\":0,\"ticks\":\"\"}},\"type\":\"parcoords\"}],\"pie\":[{\"automargin\":true,\"type\":\"pie\"}],\"scatter3d\":[{\"line\":{\"colorbar\":{\"outlinewidth\":0,\"ticks\":\"\"}},\"marker\":{\"colorbar\":{\"outlinewidth\":0,\"ticks\":\"\"}},\"type\":\"scatter3d\"}],\"scattercarpet\":[{\"marker\":{\"colorbar\":{\"outlinewidth\":0,\"ticks\":\"\"}},\"type\":\"scattercarpet\"}],\"scattergeo\":[{\"marker\":{\"colorbar\":{\"outlinewidth\":0,\"ticks\":\"\"}},\"type\":\"scattergeo\"}],\"scattergl\":[{\"marker\":{\"line\":{\"color\":\"#283442\"}},\"type\":\"scattergl\"}],\"scattermapbox\":[{\"marker\":{\"colorbar\":{\"outlinewidth\":0,\"ticks\":\"\"}},\"type\":\"scattermapbox\"}],\"scatterpolargl\":[{\"marker\":{\"colorbar\":{\"outlinewidth\":0,\"ticks\":\"\"}},\"type\":\"scatterpolargl\"}],\"scatterpolar\":[{\"marker\":{\"colorbar\":{\"outlinewidth\":0,\"ticks\":\"\"}},\"type\":\"scatterpolar\"}],\"scatter\":[{\"marker\":{\"line\":{\"color\":\"#283442\"}},\"type\":\"scatter\"}],\"scatterternary\":[{\"marker\":{\"colorbar\":{\"outlinewidth\":0,\"ticks\":\"\"}},\"type\":\"scatterternary\"}],\"surface\":[{\"colorbar\":{\"outlinewidth\":0,\"ticks\":\"\"},\"colorscale\":[[0.0,\"#0d0887\"],[0.1111111111111111,\"#46039f\"],[0.2222222222222222,\"#7201a8\"],[0.3333333333333333,\"#9c179e\"],[0.4444444444444444,\"#bd3786\"],[0.5555555555555556,\"#d8576b\"],[0.6666666666666666,\"#ed7953\"],[0.7777777777777778,\"#fb9f3a\"],[0.8888888888888888,\"#fdca26\"],[1.0,\"#f0f921\"]],\"type\":\"surface\"}],\"table\":[{\"cells\":{\"fill\":{\"color\":\"#506784\"},\"line\":{\"color\":\"rgb(17,17,17)\"}},\"header\":{\"fill\":{\"color\":\"#2a3f5f\"},\"line\":{\"color\":\"rgb(17,17,17)\"}},\"type\":\"table\"}]},\"layout\":{\"annotationdefaults\":{\"arrowcolor\":\"#f2f5fa\",\"arrowhead\":0,\"arrowwidth\":1},\"autotypenumbers\":\"strict\",\"coloraxis\":{\"colorbar\":{\"outlinewidth\":0,\"ticks\":\"\"}},\"colorscale\":{\"diverging\":[[0,\"#8e0152\"],[0.1,\"#c51b7d\"],[0.2,\"#de77ae\"],[0.3,\"#f1b6da\"],[0.4,\"#fde0ef\"],[0.5,\"#f7f7f7\"],[0.6,\"#e6f5d0\"],[0.7,\"#b8e186\"],[0.8,\"#7fbc41\"],[0.9,\"#4d9221\"],[1,\"#276419\"]],\"sequential\":[[0.0,\"#0d0887\"],[0.1111111111111111,\"#46039f\"],[0.2222222222222222,\"#7201a8\"],[0.3333333333333333,\"#9c179e\"],[0.4444444444444444,\"#bd3786\"],[0.5555555555555556,\"#d8576b\"],[0.6666666666666666,\"#ed7953\"],[0.7777777777777778,\"#fb9f3a\"],[0.8888888888888888,\"#fdca26\"],[1.0,\"#f0f921\"]],\"sequentialminus\":[[0.0,\"#0d0887\"],[0.1111111111111111,\"#46039f\"],[0.2222222222222222,\"#7201a8\"],[0.3333333333333333,\"#9c179e\"],[0.4444444444444444,\"#bd3786\"],[0.5555555555555556,\"#d8576b\"],[0.6666666666666666,\"#ed7953\"],[0.7777777777777778,\"#fb9f3a\"],[0.8888888888888888,\"#fdca26\"],[1.0,\"#f0f921\"]]},\"colorway\":[\"#636efa\",\"#EF553B\",\"#00cc96\",\"#ab63fa\",\"#FFA15A\",\"#19d3f3\",\"#FF6692\",\"#B6E880\",\"#FF97FF\",\"#FECB52\"],\"font\":{\"color\":\"#f2f5fa\"},\"geo\":{\"bgcolor\":\"rgb(17,17,17)\",\"lakecolor\":\"rgb(17,17,17)\",\"landcolor\":\"rgb(17,17,17)\",\"showlakes\":true,\"showland\":true,\"subunitcolor\":\"#506784\"},\"hoverlabel\":{\"align\":\"left\"},\"hovermode\":\"closest\",\"mapbox\":{\"style\":\"dark\"},\"paper_bgcolor\":\"rgb(17,17,17)\",\"plot_bgcolor\":\"rgb(17,17,17)\",\"polar\":{\"angularaxis\":{\"gridcolor\":\"#506784\",\"linecolor\":\"#506784\",\"ticks\":\"\"},\"bgcolor\":\"rgb(17,17,17)\",\"radialaxis\":{\"gridcolor\":\"#506784\",\"linecolor\":\"#506784\",\"ticks\":\"\"}},\"scene\":{\"xaxis\":{\"backgroundcolor\":\"rgb(17,17,17)\",\"gridcolor\":\"#506784\",\"gridwidth\":2,\"linecolor\":\"#506784\",\"showbackground\":true,\"ticks\":\"\",\"zerolinecolor\":\"#C8D4E3\"},\"yaxis\":{\"backgroundcolor\":\"rgb(17,17,17)\",\"gridcolor\":\"#506784\",\"gridwidth\":2,\"linecolor\":\"#506784\",\"showbackground\":true,\"ticks\":\"\",\"zerolinecolor\":\"#C8D4E3\"},\"zaxis\":{\"backgroundcolor\":\"rgb(17,17,17)\",\"gridcolor\":\"#506784\",\"gridwidth\":2,\"linecolor\":\"#506784\",\"showbackground\":true,\"ticks\":\"\",\"zerolinecolor\":\"#C8D4E3\"}},\"shapedefaults\":{\"line\":{\"color\":\"#f2f5fa\"}},\"sliderdefaults\":{\"bgcolor\":\"#C8D4E3\",\"bordercolor\":\"rgb(17,17,17)\",\"borderwidth\":1,\"tickwidth\":0},\"ternary\":{\"aaxis\":{\"gridcolor\":\"#506784\",\"linecolor\":\"#506784\",\"ticks\":\"\"},\"baxis\":{\"gridcolor\":\"#506784\",\"linecolor\":\"#506784\",\"ticks\":\"\"},\"bgcolor\":\"rgb(17,17,17)\",\"caxis\":{\"gridcolor\":\"#506784\",\"linecolor\":\"#506784\",\"ticks\":\"\"}},\"title\":{\"x\":0.05},\"updatemenudefaults\":{\"bgcolor\":\"#506784\",\"borderwidth\":0},\"xaxis\":{\"automargin\":true,\"gridcolor\":\"#283442\",\"linecolor\":\"#506784\",\"ticks\":\"\",\"title\":{\"standoff\":15},\"zerolinecolor\":\"#283442\",\"zerolinewidth\":2},\"yaxis\":{\"automargin\":true,\"gridcolor\":\"#283442\",\"linecolor\":\"#506784\",\"ticks\":\"\",\"title\":{\"standoff\":15},\"zerolinecolor\":\"#283442\",\"zerolinewidth\":2}}},\"legend\":{\"tracegroupgap\":0},\"margin\":{\"t\":60},\"title\":{\"font\":{\"size\":20,\"family\":\"Arial\",\"color\":\"#f0f18d\"},\"text\":\"Toss Win Probability Every Team\",\"x\":0.5,\"xanchor\":\"center\",\"yanchor\":\"top\"}},                        {\"responsive\": true}                    ).then(function(){\n",
       "                            \n",
       "var gd = document.getElementById('bbe1772e-7b18-4134-921e-d717e683cc3b');\n",
       "var x = new MutationObserver(function (mutations, observer) {{\n",
       "        var display = window.getComputedStyle(gd).display;\n",
       "        if (!display || display === 'none') {{\n",
       "            console.log([gd, 'removed!']);\n",
       "            Plotly.purge(gd);\n",
       "            observer.disconnect();\n",
       "        }}\n",
       "}});\n",
       "\n",
       "// Listen for the removal of the full notebook cells\n",
       "var notebookContainer = gd.closest('#notebook-container');\n",
       "if (notebookContainer) {{\n",
       "    x.observe(notebookContainer, {childList: true});\n",
       "}}\n",
       "\n",
       "// Listen for the clearing of the current output cell\n",
       "var outputEl = gd.closest('.output');\n",
       "if (outputEl) {{\n",
       "    x.observe(outputEl, {childList: true});\n",
       "}}\n",
       "\n",
       "                        })                };                });            </script>        </div>"
      ]
     },
     "metadata": {},
     "output_type": "display_data"
    }
   ],
   "source": [
    "Toss_data = df.value_counts('toss_winner').reset_index(name='Total Win')\n",
    "\n",
    "fig = px.pie(Toss_data, names='toss_winner', values='Total Win')\n",
    "\n",
    "fig.update_layout(\n",
    "    template=\"plotly_dark\",\n",
    "    title={\n",
    "        'text': 'Toss Win Probability Every Team',\n",
    "        'x': 0.5,\n",
    "        'xanchor': 'center',\n",
    "        'yanchor': 'top',\n",
    "        'font': {'size': 20, 'family': 'Arial', 'color': '#f0f18d'}\n",
    "    }\n",
    ")\n",
    "\n",
    "fig.show()\n"
   ]
  },
  {
   "cell_type": "markdown",
   "id": "b1684700",
   "metadata": {
    "papermill": {
     "duration": 0.046083,
     "end_time": "2024-09-28T23:12:12.921239",
     "exception": false,
     "start_time": "2024-09-28T23:12:12.875156",
     "status": "completed"
    },
    "tags": []
   },
   "source": [
    "<div class=\"alert alert-block alert-info\"><p style='color:black;'>🏏📝 Top 3 Lucky Teams In Toss are MI,CSK and KKR\n",
    "</div>"
   ]
  },
  {
   "cell_type": "markdown",
   "id": "3feee76d",
   "metadata": {
    "papermill": {
     "duration": 0.046161,
     "end_time": "2024-09-28T23:12:13.014924",
     "exception": false,
     "start_time": "2024-09-28T23:12:12.968763",
     "status": "completed"
    },
    "tags": []
   },
   "source": [
    "<a id=\"1\">\n",
    "<h1 style = \"font-family: Snell Roundhand;font-weight: 500;font-size: 30px; font-style: normal; background-color:#f0a305; color :black;\"> 13) Top MOM awards Taken By Which Player ? \n",
    "    :</h1>\n"
   ]
  },
  {
   "cell_type": "code",
   "execution_count": 72,
   "id": "65c929e1",
   "metadata": {
    "execution": {
     "iopub.execute_input": "2024-09-28T23:12:13.109551Z",
     "iopub.status.busy": "2024-09-28T23:12:13.108769Z",
     "iopub.status.idle": "2024-09-28T23:12:13.117692Z",
     "shell.execute_reply": "2024-09-28T23:12:13.116853Z"
    },
    "papermill": {
     "duration": 0.058763,
     "end_time": "2024-09-28T23:12:13.119872",
     "exception": false,
     "start_time": "2024-09-28T23:12:13.061109",
     "status": "completed"
    },
    "tags": []
   },
   "outputs": [],
   "source": [
    "mom_data=df.value_counts('player_of_match').reset_index(name='Total win').head(5).style.background_gradient(cmap='viridis')"
   ]
  },
  {
   "cell_type": "code",
   "execution_count": 73,
   "id": "5e577ff6",
   "metadata": {
    "execution": {
     "iopub.execute_input": "2024-09-28T23:12:13.213304Z",
     "iopub.status.busy": "2024-09-28T23:12:13.212306Z",
     "iopub.status.idle": "2024-09-28T23:12:13.223865Z",
     "shell.execute_reply": "2024-09-28T23:12:13.222845Z"
    },
    "papermill": {
     "duration": 0.061321,
     "end_time": "2024-09-28T23:12:13.226242",
     "exception": false,
     "start_time": "2024-09-28T23:12:13.164921",
     "status": "completed"
    },
    "tags": []
   },
   "outputs": [
    {
     "data": {
      "text/html": [
       "<style type=\"text/css\">\n",
       "#T_46269_row0_col1 {\n",
       "  background-color: #fde725;\n",
       "  color: #000000;\n",
       "}\n",
       "#T_46269_row1_col1 {\n",
       "  background-color: #1fa187;\n",
       "  color: #f1f1f1;\n",
       "}\n",
       "#T_46269_row2_col1 {\n",
       "  background-color: #46327e;\n",
       "  color: #f1f1f1;\n",
       "}\n",
       "#T_46269_row3_col1, #T_46269_row4_col1 {\n",
       "  background-color: #440154;\n",
       "  color: #f1f1f1;\n",
       "}\n",
       "</style>\n",
       "<table id=\"T_46269\">\n",
       "  <thead>\n",
       "    <tr>\n",
       "      <th class=\"blank level0\" >&nbsp;</th>\n",
       "      <th id=\"T_46269_level0_col0\" class=\"col_heading level0 col0\" >player_of_match</th>\n",
       "      <th id=\"T_46269_level0_col1\" class=\"col_heading level0 col1\" >Total win</th>\n",
       "    </tr>\n",
       "  </thead>\n",
       "  <tbody>\n",
       "    <tr>\n",
       "      <th id=\"T_46269_level0_row0\" class=\"row_heading level0 row0\" >0</th>\n",
       "      <td id=\"T_46269_row0_col0\" class=\"data row0 col0\" >AB de Villiers</td>\n",
       "      <td id=\"T_46269_row0_col1\" class=\"data row0 col1\" >25</td>\n",
       "    </tr>\n",
       "    <tr>\n",
       "      <th id=\"T_46269_level0_row1\" class=\"row_heading level0 row1\" >1</th>\n",
       "      <td id=\"T_46269_row1_col0\" class=\"data row1 col0\" >CH Gayle</td>\n",
       "      <td id=\"T_46269_row1_col1\" class=\"data row1 col1\" >22</td>\n",
       "    </tr>\n",
       "    <tr>\n",
       "      <th id=\"T_46269_level0_row2\" class=\"row_heading level0 row2\" >2</th>\n",
       "      <td id=\"T_46269_row2_col0\" class=\"data row2 col0\" >RG Sharma</td>\n",
       "      <td id=\"T_46269_row2_col1\" class=\"data row2 col1\" >19</td>\n",
       "    </tr>\n",
       "    <tr>\n",
       "      <th id=\"T_46269_level0_row3\" class=\"row_heading level0 row3\" >3</th>\n",
       "      <td id=\"T_46269_row3_col0\" class=\"data row3 col0\" >DA Warner</td>\n",
       "      <td id=\"T_46269_row3_col1\" class=\"data row3 col1\" >18</td>\n",
       "    </tr>\n",
       "    <tr>\n",
       "      <th id=\"T_46269_level0_row4\" class=\"row_heading level0 row4\" >4</th>\n",
       "      <td id=\"T_46269_row4_col0\" class=\"data row4 col0\" >V Kohli</td>\n",
       "      <td id=\"T_46269_row4_col1\" class=\"data row4 col1\" >18</td>\n",
       "    </tr>\n",
       "  </tbody>\n",
       "</table>\n"
      ],
      "text/plain": [
       "<pandas.io.formats.style.Styler at 0x7a00335d3d60>"
      ]
     },
     "execution_count": 73,
     "metadata": {},
     "output_type": "execute_result"
    }
   ],
   "source": [
    "mom_data"
   ]
  },
  {
   "cell_type": "code",
   "execution_count": 74,
   "id": "53772bf8",
   "metadata": {
    "execution": {
     "iopub.execute_input": "2024-09-28T23:12:13.322685Z",
     "iopub.status.busy": "2024-09-28T23:12:13.321749Z",
     "iopub.status.idle": "2024-09-28T23:12:13.424609Z",
     "shell.execute_reply": "2024-09-28T23:12:13.423517Z"
    },
    "papermill": {
     "duration": 0.153795,
     "end_time": "2024-09-28T23:12:13.427087",
     "exception": false,
     "start_time": "2024-09-28T23:12:13.273292",
     "status": "completed"
    },
    "tags": []
   },
   "outputs": [
    {
     "data": {
      "text/html": [
       "<div>                            <div id=\"153d44fa-1402-469d-ac28-cc4d8154d3c0\" class=\"plotly-graph-div\" style=\"height:525px; width:100%;\"></div>            <script type=\"text/javascript\">                require([\"plotly\"], function(Plotly) {                    window.PLOTLYENV=window.PLOTLYENV || {};                                    if (document.getElementById(\"153d44fa-1402-469d-ac28-cc4d8154d3c0\")) {                    Plotly.newPlot(                        \"153d44fa-1402-469d-ac28-cc4d8154d3c0\",                        [{\"alignmentgroup\":\"True\",\"hovertemplate\":\"player_of_match=%{x}\\u003cbr\\u003eTotal win=%{y}\\u003cextra\\u003e\\u003c\\u002fextra\\u003e\",\"legendgroup\":\"\",\"marker\":{\"color\":\"#636efa\",\"pattern\":{\"shape\":\"\"}},\"name\":\"\",\"offsetgroup\":\"\",\"orientation\":\"v\",\"showlegend\":false,\"textposition\":\"auto\",\"x\":[\"AB de Villiers\",\"CH Gayle\",\"RG Sharma\",\"DA Warner\",\"V Kohli\"],\"xaxis\":\"x\",\"y\":[25,22,19,18,18],\"yaxis\":\"y\",\"type\":\"bar\"}],                        {\"template\":{\"data\":{\"barpolar\":[{\"marker\":{\"line\":{\"color\":\"rgb(17,17,17)\",\"width\":0.5},\"pattern\":{\"fillmode\":\"overlay\",\"size\":10,\"solidity\":0.2}},\"type\":\"barpolar\"}],\"bar\":[{\"error_x\":{\"color\":\"#f2f5fa\"},\"error_y\":{\"color\":\"#f2f5fa\"},\"marker\":{\"line\":{\"color\":\"rgb(17,17,17)\",\"width\":0.5},\"pattern\":{\"fillmode\":\"overlay\",\"size\":10,\"solidity\":0.2}},\"type\":\"bar\"}],\"carpet\":[{\"aaxis\":{\"endlinecolor\":\"#A2B1C6\",\"gridcolor\":\"#506784\",\"linecolor\":\"#506784\",\"minorgridcolor\":\"#506784\",\"startlinecolor\":\"#A2B1C6\"},\"baxis\":{\"endlinecolor\":\"#A2B1C6\",\"gridcolor\":\"#506784\",\"linecolor\":\"#506784\",\"minorgridcolor\":\"#506784\",\"startlinecolor\":\"#A2B1C6\"},\"type\":\"carpet\"}],\"choropleth\":[{\"colorbar\":{\"outlinewidth\":0,\"ticks\":\"\"},\"type\":\"choropleth\"}],\"contourcarpet\":[{\"colorbar\":{\"outlinewidth\":0,\"ticks\":\"\"},\"type\":\"contourcarpet\"}],\"contour\":[{\"colorbar\":{\"outlinewidth\":0,\"ticks\":\"\"},\"colorscale\":[[0.0,\"#0d0887\"],[0.1111111111111111,\"#46039f\"],[0.2222222222222222,\"#7201a8\"],[0.3333333333333333,\"#9c179e\"],[0.4444444444444444,\"#bd3786\"],[0.5555555555555556,\"#d8576b\"],[0.6666666666666666,\"#ed7953\"],[0.7777777777777778,\"#fb9f3a\"],[0.8888888888888888,\"#fdca26\"],[1.0,\"#f0f921\"]],\"type\":\"contour\"}],\"heatmapgl\":[{\"colorbar\":{\"outlinewidth\":0,\"ticks\":\"\"},\"colorscale\":[[0.0,\"#0d0887\"],[0.1111111111111111,\"#46039f\"],[0.2222222222222222,\"#7201a8\"],[0.3333333333333333,\"#9c179e\"],[0.4444444444444444,\"#bd3786\"],[0.5555555555555556,\"#d8576b\"],[0.6666666666666666,\"#ed7953\"],[0.7777777777777778,\"#fb9f3a\"],[0.8888888888888888,\"#fdca26\"],[1.0,\"#f0f921\"]],\"type\":\"heatmapgl\"}],\"heatmap\":[{\"colorbar\":{\"outlinewidth\":0,\"ticks\":\"\"},\"colorscale\":[[0.0,\"#0d0887\"],[0.1111111111111111,\"#46039f\"],[0.2222222222222222,\"#7201a8\"],[0.3333333333333333,\"#9c179e\"],[0.4444444444444444,\"#bd3786\"],[0.5555555555555556,\"#d8576b\"],[0.6666666666666666,\"#ed7953\"],[0.7777777777777778,\"#fb9f3a\"],[0.8888888888888888,\"#fdca26\"],[1.0,\"#f0f921\"]],\"type\":\"heatmap\"}],\"histogram2dcontour\":[{\"colorbar\":{\"outlinewidth\":0,\"ticks\":\"\"},\"colorscale\":[[0.0,\"#0d0887\"],[0.1111111111111111,\"#46039f\"],[0.2222222222222222,\"#7201a8\"],[0.3333333333333333,\"#9c179e\"],[0.4444444444444444,\"#bd3786\"],[0.5555555555555556,\"#d8576b\"],[0.6666666666666666,\"#ed7953\"],[0.7777777777777778,\"#fb9f3a\"],[0.8888888888888888,\"#fdca26\"],[1.0,\"#f0f921\"]],\"type\":\"histogram2dcontour\"}],\"histogram2d\":[{\"colorbar\":{\"outlinewidth\":0,\"ticks\":\"\"},\"colorscale\":[[0.0,\"#0d0887\"],[0.1111111111111111,\"#46039f\"],[0.2222222222222222,\"#7201a8\"],[0.3333333333333333,\"#9c179e\"],[0.4444444444444444,\"#bd3786\"],[0.5555555555555556,\"#d8576b\"],[0.6666666666666666,\"#ed7953\"],[0.7777777777777778,\"#fb9f3a\"],[0.8888888888888888,\"#fdca26\"],[1.0,\"#f0f921\"]],\"type\":\"histogram2d\"}],\"histogram\":[{\"marker\":{\"pattern\":{\"fillmode\":\"overlay\",\"size\":10,\"solidity\":0.2}},\"type\":\"histogram\"}],\"mesh3d\":[{\"colorbar\":{\"outlinewidth\":0,\"ticks\":\"\"},\"type\":\"mesh3d\"}],\"parcoords\":[{\"line\":{\"colorbar\":{\"outlinewidth\":0,\"ticks\":\"\"}},\"type\":\"parcoords\"}],\"pie\":[{\"automargin\":true,\"type\":\"pie\"}],\"scatter3d\":[{\"line\":{\"colorbar\":{\"outlinewidth\":0,\"ticks\":\"\"}},\"marker\":{\"colorbar\":{\"outlinewidth\":0,\"ticks\":\"\"}},\"type\":\"scatter3d\"}],\"scattercarpet\":[{\"marker\":{\"colorbar\":{\"outlinewidth\":0,\"ticks\":\"\"}},\"type\":\"scattercarpet\"}],\"scattergeo\":[{\"marker\":{\"colorbar\":{\"outlinewidth\":0,\"ticks\":\"\"}},\"type\":\"scattergeo\"}],\"scattergl\":[{\"marker\":{\"line\":{\"color\":\"#283442\"}},\"type\":\"scattergl\"}],\"scattermapbox\":[{\"marker\":{\"colorbar\":{\"outlinewidth\":0,\"ticks\":\"\"}},\"type\":\"scattermapbox\"}],\"scatterpolargl\":[{\"marker\":{\"colorbar\":{\"outlinewidth\":0,\"ticks\":\"\"}},\"type\":\"scatterpolargl\"}],\"scatterpolar\":[{\"marker\":{\"colorbar\":{\"outlinewidth\":0,\"ticks\":\"\"}},\"type\":\"scatterpolar\"}],\"scatter\":[{\"marker\":{\"line\":{\"color\":\"#283442\"}},\"type\":\"scatter\"}],\"scatterternary\":[{\"marker\":{\"colorbar\":{\"outlinewidth\":0,\"ticks\":\"\"}},\"type\":\"scatterternary\"}],\"surface\":[{\"colorbar\":{\"outlinewidth\":0,\"ticks\":\"\"},\"colorscale\":[[0.0,\"#0d0887\"],[0.1111111111111111,\"#46039f\"],[0.2222222222222222,\"#7201a8\"],[0.3333333333333333,\"#9c179e\"],[0.4444444444444444,\"#bd3786\"],[0.5555555555555556,\"#d8576b\"],[0.6666666666666666,\"#ed7953\"],[0.7777777777777778,\"#fb9f3a\"],[0.8888888888888888,\"#fdca26\"],[1.0,\"#f0f921\"]],\"type\":\"surface\"}],\"table\":[{\"cells\":{\"fill\":{\"color\":\"#506784\"},\"line\":{\"color\":\"rgb(17,17,17)\"}},\"header\":{\"fill\":{\"color\":\"#2a3f5f\"},\"line\":{\"color\":\"rgb(17,17,17)\"}},\"type\":\"table\"}]},\"layout\":{\"annotationdefaults\":{\"arrowcolor\":\"#f2f5fa\",\"arrowhead\":0,\"arrowwidth\":1},\"autotypenumbers\":\"strict\",\"coloraxis\":{\"colorbar\":{\"outlinewidth\":0,\"ticks\":\"\"}},\"colorscale\":{\"diverging\":[[0,\"#8e0152\"],[0.1,\"#c51b7d\"],[0.2,\"#de77ae\"],[0.3,\"#f1b6da\"],[0.4,\"#fde0ef\"],[0.5,\"#f7f7f7\"],[0.6,\"#e6f5d0\"],[0.7,\"#b8e186\"],[0.8,\"#7fbc41\"],[0.9,\"#4d9221\"],[1,\"#276419\"]],\"sequential\":[[0.0,\"#0d0887\"],[0.1111111111111111,\"#46039f\"],[0.2222222222222222,\"#7201a8\"],[0.3333333333333333,\"#9c179e\"],[0.4444444444444444,\"#bd3786\"],[0.5555555555555556,\"#d8576b\"],[0.6666666666666666,\"#ed7953\"],[0.7777777777777778,\"#fb9f3a\"],[0.8888888888888888,\"#fdca26\"],[1.0,\"#f0f921\"]],\"sequentialminus\":[[0.0,\"#0d0887\"],[0.1111111111111111,\"#46039f\"],[0.2222222222222222,\"#7201a8\"],[0.3333333333333333,\"#9c179e\"],[0.4444444444444444,\"#bd3786\"],[0.5555555555555556,\"#d8576b\"],[0.6666666666666666,\"#ed7953\"],[0.7777777777777778,\"#fb9f3a\"],[0.8888888888888888,\"#fdca26\"],[1.0,\"#f0f921\"]]},\"colorway\":[\"#636efa\",\"#EF553B\",\"#00cc96\",\"#ab63fa\",\"#FFA15A\",\"#19d3f3\",\"#FF6692\",\"#B6E880\",\"#FF97FF\",\"#FECB52\"],\"font\":{\"color\":\"#f2f5fa\"},\"geo\":{\"bgcolor\":\"rgb(17,17,17)\",\"lakecolor\":\"rgb(17,17,17)\",\"landcolor\":\"rgb(17,17,17)\",\"showlakes\":true,\"showland\":true,\"subunitcolor\":\"#506784\"},\"hoverlabel\":{\"align\":\"left\"},\"hovermode\":\"closest\",\"mapbox\":{\"style\":\"dark\"},\"paper_bgcolor\":\"rgb(17,17,17)\",\"plot_bgcolor\":\"rgb(17,17,17)\",\"polar\":{\"angularaxis\":{\"gridcolor\":\"#506784\",\"linecolor\":\"#506784\",\"ticks\":\"\"},\"bgcolor\":\"rgb(17,17,17)\",\"radialaxis\":{\"gridcolor\":\"#506784\",\"linecolor\":\"#506784\",\"ticks\":\"\"}},\"scene\":{\"xaxis\":{\"backgroundcolor\":\"rgb(17,17,17)\",\"gridcolor\":\"#506784\",\"gridwidth\":2,\"linecolor\":\"#506784\",\"showbackground\":true,\"ticks\":\"\",\"zerolinecolor\":\"#C8D4E3\"},\"yaxis\":{\"backgroundcolor\":\"rgb(17,17,17)\",\"gridcolor\":\"#506784\",\"gridwidth\":2,\"linecolor\":\"#506784\",\"showbackground\":true,\"ticks\":\"\",\"zerolinecolor\":\"#C8D4E3\"},\"zaxis\":{\"backgroundcolor\":\"rgb(17,17,17)\",\"gridcolor\":\"#506784\",\"gridwidth\":2,\"linecolor\":\"#506784\",\"showbackground\":true,\"ticks\":\"\",\"zerolinecolor\":\"#C8D4E3\"}},\"shapedefaults\":{\"line\":{\"color\":\"#f2f5fa\"}},\"sliderdefaults\":{\"bgcolor\":\"#C8D4E3\",\"bordercolor\":\"rgb(17,17,17)\",\"borderwidth\":1,\"tickwidth\":0},\"ternary\":{\"aaxis\":{\"gridcolor\":\"#506784\",\"linecolor\":\"#506784\",\"ticks\":\"\"},\"baxis\":{\"gridcolor\":\"#506784\",\"linecolor\":\"#506784\",\"ticks\":\"\"},\"bgcolor\":\"rgb(17,17,17)\",\"caxis\":{\"gridcolor\":\"#506784\",\"linecolor\":\"#506784\",\"ticks\":\"\"}},\"title\":{\"x\":0.05},\"updatemenudefaults\":{\"bgcolor\":\"#506784\",\"borderwidth\":0},\"xaxis\":{\"automargin\":true,\"gridcolor\":\"#283442\",\"linecolor\":\"#506784\",\"ticks\":\"\",\"title\":{\"standoff\":15},\"zerolinecolor\":\"#283442\",\"zerolinewidth\":2},\"yaxis\":{\"automargin\":true,\"gridcolor\":\"#283442\",\"linecolor\":\"#506784\",\"ticks\":\"\",\"title\":{\"standoff\":15},\"zerolinecolor\":\"#283442\",\"zerolinewidth\":2}}},\"xaxis\":{\"anchor\":\"y\",\"domain\":[0.0,1.0],\"title\":{\"text\":\"Player Names\"}},\"yaxis\":{\"anchor\":\"x\",\"domain\":[0.0,1.0],\"title\":{\"text\":\"Total Awards\"}},\"legend\":{\"tracegroupgap\":0},\"title\":{\"text\":\"Top 5 Players Received Most MOM Awards\",\"font\":{\"size\":20,\"family\":\"Arial\",\"color\":\"#f0f18d\"},\"x\":0.5,\"xanchor\":\"center\",\"yanchor\":\"top\"},\"barmode\":\"relative\"},                        {\"responsive\": true}                    ).then(function(){\n",
       "                            \n",
       "var gd = document.getElementById('153d44fa-1402-469d-ac28-cc4d8154d3c0');\n",
       "var x = new MutationObserver(function (mutations, observer) {{\n",
       "        var display = window.getComputedStyle(gd).display;\n",
       "        if (!display || display === 'none') {{\n",
       "            console.log([gd, 'removed!']);\n",
       "            Plotly.purge(gd);\n",
       "            observer.disconnect();\n",
       "        }}\n",
       "}});\n",
       "\n",
       "// Listen for the removal of the full notebook cells\n",
       "var notebookContainer = gd.closest('#notebook-container');\n",
       "if (notebookContainer) {{\n",
       "    x.observe(notebookContainer, {childList: true});\n",
       "}}\n",
       "\n",
       "// Listen for the clearing of the current output cell\n",
       "var outputEl = gd.closest('.output');\n",
       "if (outputEl) {{\n",
       "    x.observe(outputEl, {childList: true});\n",
       "}}\n",
       "\n",
       "                        })                };                });            </script>        </div>"
      ]
     },
     "metadata": {},
     "output_type": "display_data"
    }
   ],
   "source": [
    "mom_data = df.value_counts('player_of_match').reset_index(name='Total win').head(5)\n",
    "\n",
    "\n",
    "fig = px.bar(mom_data, x='player_of_match', y='Total win', title=\"Top 5 Players Received Most MOM Awards\")\n",
    "\n",
    "fig.update_layout(\n",
    "    xaxis_title=\"Player Names\",\n",
    "    yaxis_title=\"Total Awards\",\n",
    "    template=\"plotly_dark\",\n",
    "    title={\n",
    "        'x': 0.5,\n",
    "        'xanchor': 'center',\n",
    "        'yanchor': 'top',\n",
    "        'font': {'size': 20, 'family': 'Arial', 'color': '#f0f18d'}\n",
    "    }\n",
    ")\n",
    "\n",
    "fig.show()\n"
   ]
  },
  {
   "cell_type": "markdown",
   "id": "cb180160",
   "metadata": {
    "papermill": {
     "duration": 0.045801,
     "end_time": "2024-09-28T23:12:13.519819",
     "exception": false,
     "start_time": "2024-09-28T23:12:13.474018",
     "status": "completed"
    },
    "tags": []
   },
   "source": [
    "<div class=\"alert alert-block alert-info\"><p style='color:black;'>🏏📝 ABD got most MOM Awards\n",
    "    \n",
    "</div>"
   ]
  },
  {
   "cell_type": "markdown",
   "id": "bde40f90",
   "metadata": {
    "papermill": {
     "duration": 0.046527,
     "end_time": "2024-09-28T23:12:13.612666",
     "exception": false,
     "start_time": "2024-09-28T23:12:13.566139",
     "status": "completed"
    },
    "tags": []
   },
   "source": [
    "<a id=\"1\">\n",
    "<h1 style = \"font-family: Snell Roundhand;font-weight: 500;font-size: 30px; font-style: normal; background-color:#f0a305; color :black;\"> 14) Which Player played Most ball ?\n",
    "    :</h1>\n"
   ]
  },
  {
   "cell_type": "code",
   "execution_count": 75,
   "id": "03948090",
   "metadata": {
    "execution": {
     "iopub.execute_input": "2024-09-28T23:12:13.709034Z",
     "iopub.status.busy": "2024-09-28T23:12:13.708562Z",
     "iopub.status.idle": "2024-09-28T23:12:13.744237Z",
     "shell.execute_reply": "2024-09-28T23:12:13.743183Z"
    },
    "papermill": {
     "duration": 0.087534,
     "end_time": "2024-09-28T23:12:13.746899",
     "exception": false,
     "start_time": "2024-09-28T23:12:13.659365",
     "status": "completed"
    },
    "tags": []
   },
   "outputs": [],
   "source": [
    "balls_played=df1.groupby(['batter'])['ball'].count().reset_index()\n",
    "balls_played_10=balls_played.sort_values(by='ball',ascending=False).head(10).style.background_gradient(cmap='PuBu')"
   ]
  },
  {
   "cell_type": "code",
   "execution_count": 76,
   "id": "a9b0f0ab",
   "metadata": {
    "execution": {
     "iopub.execute_input": "2024-09-28T23:12:13.844456Z",
     "iopub.status.busy": "2024-09-28T23:12:13.843567Z",
     "iopub.status.idle": "2024-09-28T23:12:13.857078Z",
     "shell.execute_reply": "2024-09-28T23:12:13.856021Z"
    },
    "papermill": {
     "duration": 0.064925,
     "end_time": "2024-09-28T23:12:13.859486",
     "exception": false,
     "start_time": "2024-09-28T23:12:13.794561",
     "status": "completed"
    },
    "tags": []
   },
   "outputs": [
    {
     "data": {
      "text/html": [
       "<style type=\"text/css\">\n",
       "#T_b2bf7_row0_col1 {\n",
       "  background-color: #023858;\n",
       "  color: #f1f1f1;\n",
       "}\n",
       "#T_b2bf7_row1_col1 {\n",
       "  background-color: #1278b4;\n",
       "  color: #f1f1f1;\n",
       "}\n",
       "#T_b2bf7_row2_col1 {\n",
       "  background-color: #4094c3;\n",
       "  color: #f1f1f1;\n",
       "}\n",
       "#T_b2bf7_row3_col1 {\n",
       "  background-color: #7dacd1;\n",
       "  color: #f1f1f1;\n",
       "}\n",
       "#T_b2bf7_row4_col1 {\n",
       "  background-color: #d6d6e9;\n",
       "  color: #000000;\n",
       "}\n",
       "#T_b2bf7_row5_col1 {\n",
       "  background-color: #e9e5f1;\n",
       "  color: #000000;\n",
       "}\n",
       "#T_b2bf7_row6_col1 {\n",
       "  background-color: #ebe6f2;\n",
       "  color: #000000;\n",
       "}\n",
       "#T_b2bf7_row7_col1 {\n",
       "  background-color: #f0eaf4;\n",
       "  color: #000000;\n",
       "}\n",
       "#T_b2bf7_row8_col1 {\n",
       "  background-color: #f9f2f8;\n",
       "  color: #000000;\n",
       "}\n",
       "#T_b2bf7_row9_col1 {\n",
       "  background-color: #fff7fb;\n",
       "  color: #000000;\n",
       "}\n",
       "</style>\n",
       "<table id=\"T_b2bf7\">\n",
       "  <thead>\n",
       "    <tr>\n",
       "      <th class=\"blank level0\" >&nbsp;</th>\n",
       "      <th id=\"T_b2bf7_level0_col0\" class=\"col_heading level0 col0\" >batter</th>\n",
       "      <th id=\"T_b2bf7_level0_col1\" class=\"col_heading level0 col1\" >ball</th>\n",
       "    </tr>\n",
       "  </thead>\n",
       "  <tbody>\n",
       "    <tr>\n",
       "      <th id=\"T_b2bf7_level0_row0\" class=\"row_heading level0 row0\" >631</th>\n",
       "      <td id=\"T_b2bf7_row0_col0\" class=\"data row0 col0\" >V Kohli</td>\n",
       "      <td id=\"T_b2bf7_row0_col1\" class=\"data row0 col1\" >6236</td>\n",
       "    </tr>\n",
       "    <tr>\n",
       "      <th id=\"T_b2bf7_level0_row1\" class=\"row_heading level0 row1\" >512</th>\n",
       "      <td id=\"T_b2bf7_row1_col0\" class=\"data row1 col0\" >S Dhawan</td>\n",
       "      <td id=\"T_b2bf7_row1_col1\" class=\"data row1 col1\" >5483</td>\n",
       "    </tr>\n",
       "    <tr>\n",
       "      <th id=\"T_b2bf7_level0_row2\" class=\"row_heading level0 row2\" >477</th>\n",
       "      <td id=\"T_b2bf7_row2_col0\" class=\"data row2 col0\" >RG Sharma</td>\n",
       "      <td id=\"T_b2bf7_row2_col1\" class=\"data row2 col1\" >5183</td>\n",
       "    </tr>\n",
       "    <tr>\n",
       "      <th id=\"T_b2bf7_level0_row3\" class=\"row_heading level0 row3\" >147</th>\n",
       "      <td id=\"T_b2bf7_row3_col0\" class=\"data row3 col0\" >DA Warner</td>\n",
       "      <td id=\"T_b2bf7_row3_col1\" class=\"data row3 col1\" >4849</td>\n",
       "    </tr>\n",
       "    <tr>\n",
       "      <th id=\"T_b2bf7_level0_row4\" class=\"row_heading level0 row4\" >546</th>\n",
       "      <td id=\"T_b2bf7_row4_col0\" class=\"data row4 col0\" >SK Raina</td>\n",
       "      <td id=\"T_b2bf7_row4_col1\" class=\"data row4 col1\" >4177</td>\n",
       "    </tr>\n",
       "    <tr>\n",
       "      <th id=\"T_b2bf7_level0_row5\" class=\"row_heading level0 row5\" >374</th>\n",
       "      <td id=\"T_b2bf7_row5_col0\" class=\"data row5 col0\" >MS Dhoni</td>\n",
       "      <td id=\"T_b2bf7_row5_col1\" class=\"data row5 col1\" >3947</td>\n",
       "    </tr>\n",
       "    <tr>\n",
       "      <th id=\"T_b2bf7_level0_row6\" class=\"row_heading level0 row6\" >501</th>\n",
       "      <td id=\"T_b2bf7_row6_col0\" class=\"data row6 col0\" >RV Uthappa</td>\n",
       "      <td id=\"T_b2bf7_row6_col1\" class=\"data row6 col1\" >3927</td>\n",
       "    </tr>\n",
       "    <tr>\n",
       "      <th id=\"T_b2bf7_level0_row7\" class=\"row_heading level0 row7\" >50</th>\n",
       "      <td id=\"T_b2bf7_row7_col0\" class=\"data row7 col0\" >AM Rahane</td>\n",
       "      <td id=\"T_b2bf7_row7_col1\" class=\"data row7 col1\" >3858</td>\n",
       "    </tr>\n",
       "    <tr>\n",
       "      <th id=\"T_b2bf7_level0_row8\" class=\"row_heading level0 row8\" >282</th>\n",
       "      <td id=\"T_b2bf7_row8_col0\" class=\"data row8 col0\" >KD Karthik</td>\n",
       "      <td id=\"T_b2bf7_row8_col1\" class=\"data row8 col1\" >3687</td>\n",
       "    </tr>\n",
       "    <tr>\n",
       "      <th id=\"T_b2bf7_level0_row9\" class=\"row_heading level0 row9\" >289</th>\n",
       "      <td id=\"T_b2bf7_row9_col0\" class=\"data row9 col0\" >KL Rahul</td>\n",
       "      <td id=\"T_b2bf7_row9_col1\" class=\"data row9 col1\" >3578</td>\n",
       "    </tr>\n",
       "  </tbody>\n",
       "</table>\n"
      ],
      "text/plain": [
       "<pandas.io.formats.style.Styler at 0x7a003361eb90>"
      ]
     },
     "execution_count": 76,
     "metadata": {},
     "output_type": "execute_result"
    }
   ],
   "source": [
    "balls_played_10"
   ]
  },
  {
   "cell_type": "code",
   "execution_count": 77,
   "id": "895f7421",
   "metadata": {
    "execution": {
     "iopub.execute_input": "2024-09-28T23:12:13.957361Z",
     "iopub.status.busy": "2024-09-28T23:12:13.956092Z",
     "iopub.status.idle": "2024-09-28T23:12:14.062456Z",
     "shell.execute_reply": "2024-09-28T23:12:14.061386Z"
    },
    "papermill": {
     "duration": 0.158176,
     "end_time": "2024-09-28T23:12:14.064988",
     "exception": false,
     "start_time": "2024-09-28T23:12:13.906812",
     "status": "completed"
    },
    "tags": []
   },
   "outputs": [
    {
     "data": {
      "text/html": [
       "<div>                            <div id=\"81701038-4277-49a7-8490-a8dea5fa138c\" class=\"plotly-graph-div\" style=\"height:525px; width:100%;\"></div>            <script type=\"text/javascript\">                require([\"plotly\"], function(Plotly) {                    window.PLOTLYENV=window.PLOTLYENV || {};                                    if (document.getElementById(\"81701038-4277-49a7-8490-a8dea5fa138c\")) {                    Plotly.newPlot(                        \"81701038-4277-49a7-8490-a8dea5fa138c\",                        [{\"alignmentgroup\":\"True\",\"hovertemplate\":\"batter=%{x}\\u003cbr\\u003eball=%{y}\\u003cextra\\u003e\\u003c\\u002fextra\\u003e\",\"legendgroup\":\"\",\"marker\":{\"color\":\"#636efa\",\"pattern\":{\"shape\":\"\"}},\"name\":\"\",\"offsetgroup\":\"\",\"orientation\":\"v\",\"showlegend\":false,\"textposition\":\"auto\",\"x\":[\"A Ashish Reddy\",\"A Badoni\",\"A Chandila\",\"A Chopra\",\"A Choudhary\",\"A Dananjaya\",\"A Flintoff\",\"A Kamboj\",\"A Kumble\",\"A Manohar\",\"A Mishra\",\"A Mithun\",\"A Mukund\",\"A Nehra\",\"A Nortje\",\"A Raghuvanshi\",\"A Singh\",\"A Symonds\",\"A Tomar\",\"A Uniyal\",\"A Zampa\",\"AA Bilakhia\",\"AA Chavan\",\"AA Jhunjhunwala\",\"AA Kulkarni\",\"AA Noffke\",\"AB Agarkar\",\"AB Barath\",\"AB Dinda\",\"AB McDonald\",\"AB de Villiers\",\"AC Blizzard\",\"AC Gilchrist\",\"AC Thomas\",\"AC Voges\",\"AD Hales\",\"AD Mascarenhas\",\"AD Mathews\",\"AD Nath\",\"AD Russell\",\"AF Milne\",\"AG Murtaza\",\"AG Paunikar\",\"AJ Finch\",\"AJ Hosein\",\"AJ Turner\",\"AJ Tye\",\"AK Markram\",\"AL Menaria\",\"AM Nayar\",\"AM Rahane\",\"AN Ahmed\",\"AN Ghosh\",\"AP Dole\",\"AP Majumdar\",\"AP Tare\",\"AR Bawne\",\"AR Patel\",\"AS Joseph\",\"AS Rajpoot\",\"AS Raut\",\"AS Roy\",\"AS Yadav\",\"AT Carey\",\"AT Rayudu\",\"AU Rashid\",\"AUK Pathan\",\"Abdul Basith\",\"Abdul Samad\",\"Abdur Razzak\",\"Abhishek Sharma\",\"Abishek Porel\",\"Akash Deep\",\"Akash Madhwal\",\"Aman Hakim Khan\",\"Anirudh Singh\",\"Ankit Sharma\",\"Ankit Soni\",\"Anmolpreet Singh\",\"Anuj Rawat\",\"Anureet Singh\",\"Arjun Tendulkar\",\"Arshad Khan\",\"Arshad Khan (2)\",\"Arshdeep Singh\",\"Ashutosh Sharma\",\"Atharva Taide\",\"Avesh Khan\",\"Azhar Mahmood\",\"Azmatullah Omarzai\",\"B Akhil\",\"B Chipli\",\"B Indrajith\",\"B Kumar\",\"B Laughlin\",\"B Lee\",\"B Sai Sudharsan\",\"B Stanlake\",\"B Sumanth\",\"BA Bhatt\",\"BA Stokes\",\"BAW Mendis\",\"BB McCullum\",\"BB Samantray\",\"BB Sran\",\"BCJ Cutting\",\"BE Hendricks\",\"BJ Haddin\",\"BJ Hodge\",\"BJ Rohrer\",\"BMAJ Mendis\",\"BR Dunk\",\"BR Sharath\",\"Basil Thampi\",\"Bipul Sharma\",\"C Green\",\"C Madan\",\"C Munro\",\"C Nanda\",\"C Sakariya\",\"C de Grandhomme\",\"CA Ingram\",\"CA Lynn\",\"CA Pujara\",\"CH Gayle\",\"CH Morris\",\"CJ Anderson\",\"CJ Ferguson\",\"CJ Jordan\",\"CJ McKay\",\"CK Kapugedera\",\"CK Langeveldt\",\"CL White\",\"CM Gautam\",\"CR Brathwaite\",\"CR Woakes\",\"CRD Fernando\",\"CV Varun\",\"D Brevis\",\"D Ferreira\",\"D Kalyankrishna\",\"D Padikkal\",\"D Pretorius\",\"D Salunkhe\",\"D Wiese\",\"D du Preez\",\"DA Miller\",\"DA Warner\",\"DAJ Bracewell\",\"DB Das\",\"DB Ravi Teja\",\"DE Bollinger\",\"DG Nalkande\",\"DH Yagnik\",\"DJ Bravo\",\"DJ Harris\",\"DJ Hooda\",\"DJ Hussey\",\"DJ Jacobs\",\"DJ Malan\",\"DJ Mitchell\",\"DJ Muthuswami\",\"DJ Thornely\",\"DJ Willey\",\"DJG Sammy\",\"DJM Short\",\"DL Chahar\",\"DL Vettori\",\"DM Bravo\",\"DNT Zoysa\",\"DP Conway\",\"DP Nannes\",\"DP Vijaykumar\",\"DPMD Jayawardene\",\"DR Martyn\",\"DR Sams\",\"DR Shorey\",\"DR Smith\",\"DS Kulkarni\",\"DS Lehmann\",\"DT Christian\",\"DT Patil\",\"DW Steyn\",\"Dhruv Jurel\",\"E Lewis\",\"EJG Morgan\",\"ER Dwivedi\",\"F Behardien\",\"F du Plessis\",\"FA Allen\",\"FH Edwards\",\"FY Fazal\",\"Fazalhaq Farooqi\",\"G Coetzee\",\"G Gambhir\",\"GB Hogg\",\"GC Smith\",\"GC Viljoen\",\"GD McGrath\",\"GD Phillips\",\"GH Vihari\",\"GHS Garton\",\"GJ Bailey\",\"GJ Maxwell\",\"GR Napier\",\"Gulbadin Naib\",\"Gurkeerat Singh\",\"H Das\",\"H Klaasen\",\"HC Brook\",\"HE van der Dussen\",\"HF Gurney\",\"HH Gibbs\",\"HH Pandya\",\"HM Amla\",\"HR Shokeen\",\"HV Patel\",\"Harbhajan Singh\",\"Harmeet Singh\",\"Harpreet Brar\",\"Harpreet Singh\",\"Harshit Rana\",\"I Malhotra\",\"I Sharma\",\"I Udana\",\"IC Pandey\",\"IK Pathan\",\"IR Jaggi\",\"IS Sodhi\",\"Imran Tahir\",\"Iqbal Abdulla\",\"Ishan Kishan\",\"J Arunkumar\",\"J Botha\",\"J Fraser-McGurk\",\"J Suchith\",\"J Syed Mohammad\",\"J Theron\",\"J Yadav\",\"JA Morkel\",\"JA Richardson\",\"JC Archer\",\"JC Buttler\",\"JD Ryder\",\"JD Unadkat\",\"JDP Oram\",\"JDS Neesham\",\"JE Root\",\"JE Taylor\",\"JEC Franklin\",\"JH Kallis\",\"JJ Bumrah\",\"JJ Roy\",\"JJ van der Wath\",\"JL Denly\",\"JL Pattinson\",\"JM Bairstow\",\"JM Kemp\",\"JM Sharma\",\"JO Holder\",\"JP Behrendorff\",\"JP Duminy\",\"JP Faulkner\",\"JPR Scantlebury-Searles\",\"JR Hazlewood\",\"JR Hopes\",\"JR Philippe\",\"Jaskaran Singh\",\"Joginder Sharma\",\"K Goel\",\"K Gowtham\",\"K Kartikeya\",\"K Rabada\",\"K Upadhyay\",\"K Yadav\",\"KA Jamieson\",\"KA Maharaj\",\"KA Pollard\",\"KAJ Roach\",\"KB Arun Karthik\",\"KC Cariappa\",\"KC Sangakkara\",\"KD Karthik\",\"KH Pandya\",\"KJ Abbott\",\"KK Ahmed\",\"KK Cooper\",\"KK Nair\",\"KL Nagarkoti\",\"KL Rahul\",\"KM Asif\",\"KM Jadhav\",\"KMA Paul\",\"KMDN Kulasekara\",\"KP Appanna\",\"KP Pietersen\",\"KR Mayers\",\"KR Sen\",\"KS Bharat\",\"KS Sharma\",\"KS Williamson\",\"KV Sharma\",\"KW Richardson\",\"Kamran Akmal\",\"Kamran Khan\",\"Karanveer Singh\",\"Kartik Tyagi\",\"Kuldeep Yadav\",\"Kumar Kushagra\",\"L Ablish\",\"L Balaji\",\"L Ronchi\",\"L Wood\",\"LA Carseldine\",\"LA Pomersbach\",\"LB Williams\",\"LE Plunkett\",\"LH Ferguson\",\"LJ Wright\",\"LMP Simmons\",\"LPC Silva\",\"LR Shukla\",\"LRPL Taylor\",\"LS Livingstone\",\"Lalit Yadav\",\"Liton Das\",\"M Ashwin\",\"M Jansen\",\"M Kaif\",\"M Kartik\",\"M Klinger\",\"M Manhas\",\"M Markande\",\"M Morkel\",\"M Muralitharan\",\"M Ntini\",\"M Prasidh Krishna\",\"M Rawat\",\"M Shahrukh Khan\",\"M Theekshana\",\"M Vijay\",\"M Vohra\",\"M de Lange\",\"MA Agarwal\",\"MA Khote\",\"MA Starc\",\"MA Wood\",\"MC Henriques\",\"MC Juneja\",\"MD Mishra\",\"MD Shanaka\",\"MDKJ Perera\",\"MEK Hussey\",\"MF Maharoof\",\"MG Bracewell\",\"MG Johnson\",\"MJ Clarke\",\"MJ Guptill\",\"MJ Lumb\",\"MJ McClenaghan\",\"MJ Santner\",\"MJ Suthar\",\"MK Lomror\",\"MK Pandey\",\"MK Tiwary\",\"ML Hayden\",\"MM Ali\",\"MM Patel\",\"MM Sharma\",\"MN Samuels\",\"MN van Wyk\",\"MP Stoinis\",\"MR Marsh\",\"MS Bisla\",\"MS Dhoni\",\"MS Gony\",\"MS Wade\",\"MV Boucher\",\"MW Short\",\"Mandeep Singh\",\"Mashrafe Mortaza\",\"Mayank Dagar\",\"Misbah-ul-Haq\",\"Mohammad Ashraful\",\"Mohammad Asif\",\"Mohammad Hafeez\",\"Mohammad Nabi\",\"Mohammed Shami\",\"Mohammed Siraj\",\"Mohit Rathee\",\"Mohsin Khan\",\"Mujeeb Ur Rahman\",\"Mukesh Choudhary\",\"Mukesh Kumar\",\"Mustafizur Rahman\",\"N Jagadeesan\",\"N Pooran\",\"N Rana\",\"N Saini\",\"N Wadhera\",\"ND Doshi\",\"NJ Maddinson\",\"NJ Rimmington\",\"NK Patel\",\"NL McCullum\",\"NLTC Perera\",\"NM Coulter-Nile\",\"NS Naik\",\"NT Ellis\",\"NV Ojha\",\"Naman Dhir\",\"Navdeep Saini\",\"Naveen-ul-Haq\",\"Nithish Kumar Reddy\",\"Noor Ahmad\",\"OA Shah\",\"OC McCoy\",\"OF Smith\",\"P Awana\",\"P Chopra\",\"P Dogra\",\"P Dubey\",\"P Kumar\",\"P Negi\",\"P Parameswaran\",\"P Ray Barman\",\"P Sahu\",\"P Simran Singh\",\"PA Patel\",\"PA Reddy\",\"PBB Rajapaksa\",\"PC Valthaty\",\"PD Collingwood\",\"PD Salt\",\"PJ Cummins\",\"PJ Sangwan\",\"PK Garg\",\"PM Sarvesh Kumar\",\"PN Mankad\",\"PP Chawla\",\"PP Ojha\",\"PP Shaw\",\"PR Shah\",\"PSP Handscomb\",\"PV Tambe\",\"PVD Chameera\",\"PWH de Silva\",\"Pankaj Singh\",\"Parvez Rasool\",\"Q de Kock\",\"R Ashwin\",\"R Bhatia\",\"R Bishnoi\",\"R Dhawan\",\"R Dravid\",\"R McLaren\",\"R Ninan\",\"R Parag\",\"R Powell\",\"R Rampaul\",\"R Ravindra\",\"R Sai Kishore\",\"R Sanjay Yadav\",\"R Sathish\",\"R Sharma\",\"R Shepherd\",\"R Shukla\",\"R Tewatia\",\"R Vinay Kumar\",\"RA Bawa\",\"RA Jadeja\",\"RA Tripathi\",\"RD Chahar\",\"RD Gaikwad\",\"RE Levi\",\"RE van der Merwe\",\"RG More\",\"RG Sharma\",\"RJ Gleeson\",\"RJ Harris\",\"RJ Peterson\",\"RJ Quiney\",\"RJW Topley\",\"RK Bhui\",\"RK Singh\",\"RM Patidar\",\"RN ten Doeschate\",\"RP Meredith\",\"RP Singh\",\"RR Bhatkal\",\"RR Pant\",\"RR Powar\",\"RR Raje\",\"RR Rossouw\",\"RR Sarwan\",\"RS Bopara\",\"RS Gavaskar\",\"RS Sodhi\",\"RT Ponting\",\"RV Gomez\",\"RV Patel\",\"RV Uthappa\",\"Rahmanullah Gurbaz\",\"Ramandeep Singh\",\"Rashid Khan\",\"Rasikh Salam\",\"Ravi Bishnoi\",\"S Anirudha\",\"S Aravind\",\"S Badree\",\"S Badrinath\",\"S Chanderpaul\",\"S Dhawan\",\"S Dube\",\"S Gopal\",\"S Kaul\",\"S Kaushik\",\"S Ladda\",\"S Lamichhane\",\"S Nadeem\",\"S Narwal\",\"S Rana\",\"S Randiv\",\"S Sohal\",\"S Sreesanth\",\"S Sriram\",\"S Tyagi\",\"S Vidyut\",\"SA Abbott\",\"SA Asnodkar\",\"SA Yadav\",\"SB Bangar\",\"SB Dubey\",\"SB Jakati\",\"SB Joshi\",\"SB Styris\",\"SB Wagh\",\"SC Ganguly\",\"SD Chitnis\",\"SD Hope\",\"SD Lad\",\"SE Bond\",\"SE Marsh\",\"SE Rutherford\",\"SH Johnson\",\"SJ Srivastava\",\"SK Raina\",\"SK Trivedi\",\"SK Warne\",\"SL Malinga\",\"SM Curran\",\"SM Harwood\",\"SM Katich\",\"SM Pollock\",\"SMSM Senanayake\",\"SN Khan\",\"SN Thakur\",\"SO Hetmyer\",\"SP Fleming\",\"SP Goswami\",\"SP Jackson\",\"SP Narine\",\"SPD Smith\",\"SR Tendulkar\",\"SR Watson\",\"SS Cottrell\",\"SS Iyer\",\"SS Prabhudessai\",\"SS Shaikh\",\"SS Tiwary\",\"ST Jayasuriya\",\"STR Binny\",\"SV Samson\",\"SW Billings\",\"SW Tait\",\"SZ Mulani\",\"Sachin Baby\",\"Salman Butt\",\"Sameer Rizvi\",\"Sandeep Sharma\",\"Sanvir Singh\",\"Saurav Chauhan\",\"Shahbaz Ahmed\",\"Shahid Afridi\",\"Shakib Al Hasan\",\"Shashank Singh\",\"Shivam Mavi\",\"Shivam Sharma\",\"Shivam Singh\",\"Shoaib Ahmed\",\"Shoaib Akhtar\",\"Shoaib Malik\",\"Shubman Gill\",\"Sikandar Raza\",\"Simarjeet Singh\",\"Sohail Tanvir\",\"Sumit Kumar\",\"Sunny Gupta\",\"Sunny Singh\",\"Swapnil Singh\",\"T Banton\",\"T Henderson\",\"T Kohler-Cadmore\",\"T Kohli\",\"T Natarajan\",\"T Shamsi\",\"T Stubbs\",\"T Taibu\",\"T Thushara\",\"TA Boult\",\"TD Paine\",\"TG Southee\",\"TH David\",\"TK Curran\",\"TL Seifert\",\"TL Suman\",\"TM Dilshan\",\"TM Head\",\"TM Srivastava\",\"TR Birt\",\"TS Mills\",\"TU Deshpande\",\"Tanush Kotian\",\"Tilak Varma\",\"U Kaul\",\"UA Birla\",\"UBT Chand\",\"UT Khawaja\",\"UT Yadav\",\"Umar Gul\",\"Umran Malik\",\"V Kohli\",\"V Pratap Singh\",\"V Sehwag\",\"V Shankar\",\"V Viyaskanth\",\"VG Arora\",\"VH Zol\",\"VR Aaron\",\"VR Iyer\",\"VRV Singh\",\"VS Malik\",\"VS Yeligati\",\"VVS Laxman\",\"VY Mahesh\",\"Vijaykumar Vyshak\",\"Virat Singh\",\"Vishnu Vinod\",\"Vivrant Sharma\",\"W Jaffer\",\"WA Mota\",\"WD Parnell\",\"WG Jacks\",\"WP Saha\",\"WPUJC Vaas\",\"Washington Sundar\",\"X Thalaivan Sargunam\",\"Y Gnaneswara Rao\",\"Y Nagar\",\"Y Prithvi Raj\",\"Y Venugopal Rao\",\"YA Abdulla\",\"YBK Jaiswal\",\"YK Pathan\",\"YS Chahal\",\"YV Dhull\",\"YV Takawale\",\"Yash Dayal\",\"Yashpal Singh\",\"Younis Khan\",\"Yudhvir Singh\",\"Yuvraj Singh\",\"Z Khan\"],\"xaxis\":\"x\",\"y\":[196,505,7,75,20,5,57,2,49,181,440,26,23,63,51,109,10,781,8,7,25,88,11,218,8,12,160,43,50,103,3487,91,1555,19,143,119,79,599,99,1515,31,14,61,1696,11,31,79,787,367,588,3858,27,8,23,77,285,12,1318,32,41,172,24,40,29,3490,17,26,1,408,2,925,244,12,5,109,69,69,9,117,276,47,9,67,4,42,118,177,25,311,34,57,256,31,338,13,102,770,2,38,7,718,6,2272,116,14,146,3,11,1153,146,27,36,5,37,124,472,21,144,1,31,229,183,974,403,3516,413,436,119,81,15,24,9,774,158,120,77,3,49,176,11,8,1323,28,24,105,13,2171,4849,9,267,325,23,12,142,1247,103,1170,1101,101,26,274,3,54,64,251,102,61,118,5,9,669,13,1,1522,26,48,20,1803,113,19,408,13,163,237,499,1181,15,13,3435,19,5,179,13,22,3524,22,691,7,5,55,331,4,552,1842,16,15,436,5,613,159,25,5,837,1814,418,67,214,636,12,201,119,3,4,71,11,2,985,100,18,37,86,1991,24,364,150,62,27,13,38,712,27,132,2519,466,170,110,93,15,4,309,2291,80,460,17,1,13,1132,25,501,217,9,1680,406,6,29,314,80,11,30,239,159,13,207,9,4,55,2,2447,9,53,21,1424,3687,1287,8,7,70,1192,34,3578,2,1012,26,3,4,758,276,3,168,25,1734,306,39,78,5,17,16,224,7,2,50,37,3,71,251,2,3,48,63,878,27,358,847,609,301,4,50,71,258,109,78,486,44,93,30,19,24,70,413,7,2208,863,2,2081,22,109,10,801,134,213,26,13,1648,124,49,168,96,197,198,73,77,2,389,3288,1489,839,849,41,137,174,135,1366,532,737,3947,76,185,318,99,1418,2,1,82,12,6,84,157,82,122,2,27,15,6,20,23,155,1143,2015,143,261,13,21,1,124,23,326,75,53,26,1360,84,38,26,221,18,405,5,50,14,6,141,33,323,301,3,25,13,528,2442,167,201,432,159,385,359,47,247,2,75,580,45,1321,97,12,39,32,80,12,20,2410,698,290,17,188,1918,178,6,909,254,52,146,6,2,236,77,68,23,788,289,14,2378,1650,127,1781,74,144,2,5183,2,112,32,105,6,27,654,534,238,3,78,2,2296,64,18,321,78,468,8,2,129,53,76,3927,228,106,355,40,52,121,59,25,1245,33,5483,1077,173,36,1,10,1,88,29,82,4,311,57,38,4,115,18,352,2522,58,21,30,16,134,3,1326,92,125,13,2,1913,107,7,5,4177,61,219,103,673,14,191,116,17,456,228,854,171,307,57,984,1999,2044,2892,2,2545,113,7,1291,573,700,3270,399,26,1,123,172,43,73,22,16,467,46,665,272,58,3,3,6,8,49,2432,143,8,31,26,1,31,46,22,16,54,20,5,4,239,26,19,82,29,108,417,108,26,587,1047,458,11,59,14,15,32,830,1,15,314,105,211,19,16,6236,1,1833,890,5,17,26,73,1000,3,7,2,271,28,13,26,58,49,129,76,86,133,2368,73,341,17,18,271,1,865,1,1095,2334,89,23,183,1,67,7,16,2207,141],\"yaxis\":\"y\",\"type\":\"bar\"}],                        {\"template\":{\"data\":{\"barpolar\":[{\"marker\":{\"line\":{\"color\":\"rgb(17,17,17)\",\"width\":0.5},\"pattern\":{\"fillmode\":\"overlay\",\"size\":10,\"solidity\":0.2}},\"type\":\"barpolar\"}],\"bar\":[{\"error_x\":{\"color\":\"#f2f5fa\"},\"error_y\":{\"color\":\"#f2f5fa\"},\"marker\":{\"line\":{\"color\":\"rgb(17,17,17)\",\"width\":0.5},\"pattern\":{\"fillmode\":\"overlay\",\"size\":10,\"solidity\":0.2}},\"type\":\"bar\"}],\"carpet\":[{\"aaxis\":{\"endlinecolor\":\"#A2B1C6\",\"gridcolor\":\"#506784\",\"linecolor\":\"#506784\",\"minorgridcolor\":\"#506784\",\"startlinecolor\":\"#A2B1C6\"},\"baxis\":{\"endlinecolor\":\"#A2B1C6\",\"gridcolor\":\"#506784\",\"linecolor\":\"#506784\",\"minorgridcolor\":\"#506784\",\"startlinecolor\":\"#A2B1C6\"},\"type\":\"carpet\"}],\"choropleth\":[{\"colorbar\":{\"outlinewidth\":0,\"ticks\":\"\"},\"type\":\"choropleth\"}],\"contourcarpet\":[{\"colorbar\":{\"outlinewidth\":0,\"ticks\":\"\"},\"type\":\"contourcarpet\"}],\"contour\":[{\"colorbar\":{\"outlinewidth\":0,\"ticks\":\"\"},\"colorscale\":[[0.0,\"#0d0887\"],[0.1111111111111111,\"#46039f\"],[0.2222222222222222,\"#7201a8\"],[0.3333333333333333,\"#9c179e\"],[0.4444444444444444,\"#bd3786\"],[0.5555555555555556,\"#d8576b\"],[0.6666666666666666,\"#ed7953\"],[0.7777777777777778,\"#fb9f3a\"],[0.8888888888888888,\"#fdca26\"],[1.0,\"#f0f921\"]],\"type\":\"contour\"}],\"heatmapgl\":[{\"colorbar\":{\"outlinewidth\":0,\"ticks\":\"\"},\"colorscale\":[[0.0,\"#0d0887\"],[0.1111111111111111,\"#46039f\"],[0.2222222222222222,\"#7201a8\"],[0.3333333333333333,\"#9c179e\"],[0.4444444444444444,\"#bd3786\"],[0.5555555555555556,\"#d8576b\"],[0.6666666666666666,\"#ed7953\"],[0.7777777777777778,\"#fb9f3a\"],[0.8888888888888888,\"#fdca26\"],[1.0,\"#f0f921\"]],\"type\":\"heatmapgl\"}],\"heatmap\":[{\"colorbar\":{\"outlinewidth\":0,\"ticks\":\"\"},\"colorscale\":[[0.0,\"#0d0887\"],[0.1111111111111111,\"#46039f\"],[0.2222222222222222,\"#7201a8\"],[0.3333333333333333,\"#9c179e\"],[0.4444444444444444,\"#bd3786\"],[0.5555555555555556,\"#d8576b\"],[0.6666666666666666,\"#ed7953\"],[0.7777777777777778,\"#fb9f3a\"],[0.8888888888888888,\"#fdca26\"],[1.0,\"#f0f921\"]],\"type\":\"heatmap\"}],\"histogram2dcontour\":[{\"colorbar\":{\"outlinewidth\":0,\"ticks\":\"\"},\"colorscale\":[[0.0,\"#0d0887\"],[0.1111111111111111,\"#46039f\"],[0.2222222222222222,\"#7201a8\"],[0.3333333333333333,\"#9c179e\"],[0.4444444444444444,\"#bd3786\"],[0.5555555555555556,\"#d8576b\"],[0.6666666666666666,\"#ed7953\"],[0.7777777777777778,\"#fb9f3a\"],[0.8888888888888888,\"#fdca26\"],[1.0,\"#f0f921\"]],\"type\":\"histogram2dcontour\"}],\"histogram2d\":[{\"colorbar\":{\"outlinewidth\":0,\"ticks\":\"\"},\"colorscale\":[[0.0,\"#0d0887\"],[0.1111111111111111,\"#46039f\"],[0.2222222222222222,\"#7201a8\"],[0.3333333333333333,\"#9c179e\"],[0.4444444444444444,\"#bd3786\"],[0.5555555555555556,\"#d8576b\"],[0.6666666666666666,\"#ed7953\"],[0.7777777777777778,\"#fb9f3a\"],[0.8888888888888888,\"#fdca26\"],[1.0,\"#f0f921\"]],\"type\":\"histogram2d\"}],\"histogram\":[{\"marker\":{\"pattern\":{\"fillmode\":\"overlay\",\"size\":10,\"solidity\":0.2}},\"type\":\"histogram\"}],\"mesh3d\":[{\"colorbar\":{\"outlinewidth\":0,\"ticks\":\"\"},\"type\":\"mesh3d\"}],\"parcoords\":[{\"line\":{\"colorbar\":{\"outlinewidth\":0,\"ticks\":\"\"}},\"type\":\"parcoords\"}],\"pie\":[{\"automargin\":true,\"type\":\"pie\"}],\"scatter3d\":[{\"line\":{\"colorbar\":{\"outlinewidth\":0,\"ticks\":\"\"}},\"marker\":{\"colorbar\":{\"outlinewidth\":0,\"ticks\":\"\"}},\"type\":\"scatter3d\"}],\"scattercarpet\":[{\"marker\":{\"colorbar\":{\"outlinewidth\":0,\"ticks\":\"\"}},\"type\":\"scattercarpet\"}],\"scattergeo\":[{\"marker\":{\"colorbar\":{\"outlinewidth\":0,\"ticks\":\"\"}},\"type\":\"scattergeo\"}],\"scattergl\":[{\"marker\":{\"line\":{\"color\":\"#283442\"}},\"type\":\"scattergl\"}],\"scattermapbox\":[{\"marker\":{\"colorbar\":{\"outlinewidth\":0,\"ticks\":\"\"}},\"type\":\"scattermapbox\"}],\"scatterpolargl\":[{\"marker\":{\"colorbar\":{\"outlinewidth\":0,\"ticks\":\"\"}},\"type\":\"scatterpolargl\"}],\"scatterpolar\":[{\"marker\":{\"colorbar\":{\"outlinewidth\":0,\"ticks\":\"\"}},\"type\":\"scatterpolar\"}],\"scatter\":[{\"marker\":{\"line\":{\"color\":\"#283442\"}},\"type\":\"scatter\"}],\"scatterternary\":[{\"marker\":{\"colorbar\":{\"outlinewidth\":0,\"ticks\":\"\"}},\"type\":\"scatterternary\"}],\"surface\":[{\"colorbar\":{\"outlinewidth\":0,\"ticks\":\"\"},\"colorscale\":[[0.0,\"#0d0887\"],[0.1111111111111111,\"#46039f\"],[0.2222222222222222,\"#7201a8\"],[0.3333333333333333,\"#9c179e\"],[0.4444444444444444,\"#bd3786\"],[0.5555555555555556,\"#d8576b\"],[0.6666666666666666,\"#ed7953\"],[0.7777777777777778,\"#fb9f3a\"],[0.8888888888888888,\"#fdca26\"],[1.0,\"#f0f921\"]],\"type\":\"surface\"}],\"table\":[{\"cells\":{\"fill\":{\"color\":\"#506784\"},\"line\":{\"color\":\"rgb(17,17,17)\"}},\"header\":{\"fill\":{\"color\":\"#2a3f5f\"},\"line\":{\"color\":\"rgb(17,17,17)\"}},\"type\":\"table\"}]},\"layout\":{\"annotationdefaults\":{\"arrowcolor\":\"#f2f5fa\",\"arrowhead\":0,\"arrowwidth\":1},\"autotypenumbers\":\"strict\",\"coloraxis\":{\"colorbar\":{\"outlinewidth\":0,\"ticks\":\"\"}},\"colorscale\":{\"diverging\":[[0,\"#8e0152\"],[0.1,\"#c51b7d\"],[0.2,\"#de77ae\"],[0.3,\"#f1b6da\"],[0.4,\"#fde0ef\"],[0.5,\"#f7f7f7\"],[0.6,\"#e6f5d0\"],[0.7,\"#b8e186\"],[0.8,\"#7fbc41\"],[0.9,\"#4d9221\"],[1,\"#276419\"]],\"sequential\":[[0.0,\"#0d0887\"],[0.1111111111111111,\"#46039f\"],[0.2222222222222222,\"#7201a8\"],[0.3333333333333333,\"#9c179e\"],[0.4444444444444444,\"#bd3786\"],[0.5555555555555556,\"#d8576b\"],[0.6666666666666666,\"#ed7953\"],[0.7777777777777778,\"#fb9f3a\"],[0.8888888888888888,\"#fdca26\"],[1.0,\"#f0f921\"]],\"sequentialminus\":[[0.0,\"#0d0887\"],[0.1111111111111111,\"#46039f\"],[0.2222222222222222,\"#7201a8\"],[0.3333333333333333,\"#9c179e\"],[0.4444444444444444,\"#bd3786\"],[0.5555555555555556,\"#d8576b\"],[0.6666666666666666,\"#ed7953\"],[0.7777777777777778,\"#fb9f3a\"],[0.8888888888888888,\"#fdca26\"],[1.0,\"#f0f921\"]]},\"colorway\":[\"#636efa\",\"#EF553B\",\"#00cc96\",\"#ab63fa\",\"#FFA15A\",\"#19d3f3\",\"#FF6692\",\"#B6E880\",\"#FF97FF\",\"#FECB52\"],\"font\":{\"color\":\"#f2f5fa\"},\"geo\":{\"bgcolor\":\"rgb(17,17,17)\",\"lakecolor\":\"rgb(17,17,17)\",\"landcolor\":\"rgb(17,17,17)\",\"showlakes\":true,\"showland\":true,\"subunitcolor\":\"#506784\"},\"hoverlabel\":{\"align\":\"left\"},\"hovermode\":\"closest\",\"mapbox\":{\"style\":\"dark\"},\"paper_bgcolor\":\"rgb(17,17,17)\",\"plot_bgcolor\":\"rgb(17,17,17)\",\"polar\":{\"angularaxis\":{\"gridcolor\":\"#506784\",\"linecolor\":\"#506784\",\"ticks\":\"\"},\"bgcolor\":\"rgb(17,17,17)\",\"radialaxis\":{\"gridcolor\":\"#506784\",\"linecolor\":\"#506784\",\"ticks\":\"\"}},\"scene\":{\"xaxis\":{\"backgroundcolor\":\"rgb(17,17,17)\",\"gridcolor\":\"#506784\",\"gridwidth\":2,\"linecolor\":\"#506784\",\"showbackground\":true,\"ticks\":\"\",\"zerolinecolor\":\"#C8D4E3\"},\"yaxis\":{\"backgroundcolor\":\"rgb(17,17,17)\",\"gridcolor\":\"#506784\",\"gridwidth\":2,\"linecolor\":\"#506784\",\"showbackground\":true,\"ticks\":\"\",\"zerolinecolor\":\"#C8D4E3\"},\"zaxis\":{\"backgroundcolor\":\"rgb(17,17,17)\",\"gridcolor\":\"#506784\",\"gridwidth\":2,\"linecolor\":\"#506784\",\"showbackground\":true,\"ticks\":\"\",\"zerolinecolor\":\"#C8D4E3\"}},\"shapedefaults\":{\"line\":{\"color\":\"#f2f5fa\"}},\"sliderdefaults\":{\"bgcolor\":\"#C8D4E3\",\"bordercolor\":\"rgb(17,17,17)\",\"borderwidth\":1,\"tickwidth\":0},\"ternary\":{\"aaxis\":{\"gridcolor\":\"#506784\",\"linecolor\":\"#506784\",\"ticks\":\"\"},\"baxis\":{\"gridcolor\":\"#506784\",\"linecolor\":\"#506784\",\"ticks\":\"\"},\"bgcolor\":\"rgb(17,17,17)\",\"caxis\":{\"gridcolor\":\"#506784\",\"linecolor\":\"#506784\",\"ticks\":\"\"}},\"title\":{\"x\":0.05},\"updatemenudefaults\":{\"bgcolor\":\"#506784\",\"borderwidth\":0},\"xaxis\":{\"automargin\":true,\"gridcolor\":\"#283442\",\"linecolor\":\"#506784\",\"ticks\":\"\",\"title\":{\"standoff\":15},\"zerolinecolor\":\"#283442\",\"zerolinewidth\":2},\"yaxis\":{\"automargin\":true,\"gridcolor\":\"#283442\",\"linecolor\":\"#506784\",\"ticks\":\"\",\"title\":{\"standoff\":15},\"zerolinecolor\":\"#283442\",\"zerolinewidth\":2}}},\"xaxis\":{\"anchor\":\"y\",\"domain\":[0.0,1.0],\"title\":{\"text\":\"Players Names\"}},\"yaxis\":{\"anchor\":\"x\",\"domain\":[0.0,1.0],\"title\":{\"text\":\"Ball Played\"}},\"legend\":{\"tracegroupgap\":0},\"title\":{\"text\":\"Players Played Most Ball In IPL\",\"font\":{\"size\":20,\"family\":\"Arial\",\"color\":\"#f0f18d\"},\"x\":0.5,\"xanchor\":\"center\",\"yanchor\":\"top\"},\"barmode\":\"relative\"},                        {\"responsive\": true}                    ).then(function(){\n",
       "                            \n",
       "var gd = document.getElementById('81701038-4277-49a7-8490-a8dea5fa138c');\n",
       "var x = new MutationObserver(function (mutations, observer) {{\n",
       "        var display = window.getComputedStyle(gd).display;\n",
       "        if (!display || display === 'none') {{\n",
       "            console.log([gd, 'removed!']);\n",
       "            Plotly.purge(gd);\n",
       "            observer.disconnect();\n",
       "        }}\n",
       "}});\n",
       "\n",
       "// Listen for the removal of the full notebook cells\n",
       "var notebookContainer = gd.closest('#notebook-container');\n",
       "if (notebookContainer) {{\n",
       "    x.observe(notebookContainer, {childList: true});\n",
       "}}\n",
       "\n",
       "// Listen for the clearing of the current output cell\n",
       "var outputEl = gd.closest('.output');\n",
       "if (outputEl) {{\n",
       "    x.observe(outputEl, {childList: true});\n",
       "}}\n",
       "\n",
       "                        })                };                });            </script>        </div>"
      ]
     },
     "metadata": {},
     "output_type": "display_data"
    }
   ],
   "source": [
    "fig = px.bar(balls_played, x='batter', y='ball',title=\"Players Played Most Ball In IPL\")\n",
    "\n",
    "fig.update_layout(\n",
    "    xaxis_title=\"Players Names\",\n",
    "    yaxis_title=\"Ball Played\",\n",
    "    template=\"plotly_dark\" ,\n",
    "    title={\n",
    "        'x': 0.5,  \n",
    "        'xanchor': 'center',\n",
    "        'yanchor': 'top',\n",
    "        'font': {'size': 20, 'family': 'Arial', 'color': '#f0f18d'}\n",
    "        \n",
    "    }\n",
    ")\n",
    "\n",
    "fig.show()"
   ]
  },
  {
   "cell_type": "markdown",
   "id": "850a844f",
   "metadata": {
    "papermill": {
     "duration": 0.047784,
     "end_time": "2024-09-28T23:12:14.161432",
     "exception": false,
     "start_time": "2024-09-28T23:12:14.113648",
     "status": "completed"
    },
    "tags": []
   },
   "source": [
    "<div class=\"alert alert-block alert-info\"><p style='color:black;'>🏏📝 Virat Played most of The ball In IPL\n",
    "    \n",
    "</div>"
   ]
  },
  {
   "cell_type": "markdown",
   "id": "fb3cd836",
   "metadata": {
    "papermill": {
     "duration": 0.047895,
     "end_time": "2024-09-28T23:12:14.257449",
     "exception": false,
     "start_time": "2024-09-28T23:12:14.209554",
     "status": "completed"
    },
    "tags": []
   },
   "source": [
    "<a id=\"1\">\n",
    "<h1 style = \"font-family: Snell Roundhand;font-weight: 500;font-size: 30px; font-style: normal; background-color:#f0a305; color :black;\"> 15) Top 5 Run Scorer In IPL \n",
    "    :</h1>\n"
   ]
  },
  {
   "cell_type": "code",
   "execution_count": 78,
   "id": "b1e07987",
   "metadata": {
    "execution": {
     "iopub.execute_input": "2024-09-28T23:12:14.355979Z",
     "iopub.status.busy": "2024-09-28T23:12:14.355004Z",
     "iopub.status.idle": "2024-09-28T23:12:14.393254Z",
     "shell.execute_reply": "2024-09-28T23:12:14.392260Z"
    },
    "papermill": {
     "duration": 0.0906,
     "end_time": "2024-09-28T23:12:14.395939",
     "exception": false,
     "start_time": "2024-09-28T23:12:14.305339",
     "status": "completed"
    },
    "tags": []
   },
   "outputs": [],
   "source": [
    "top_5=df1.groupby(['batter'])['total_runs'].sum().reset_index().sort_values(by='total_runs',ascending=False).head(5).reset_index().drop('index',axis=1).style.background_gradient(cmap='Greens')"
   ]
  },
  {
   "cell_type": "code",
   "execution_count": 79,
   "id": "867b3444",
   "metadata": {
    "execution": {
     "iopub.execute_input": "2024-09-28T23:12:14.494240Z",
     "iopub.status.busy": "2024-09-28T23:12:14.493287Z",
     "iopub.status.idle": "2024-09-28T23:12:14.506009Z",
     "shell.execute_reply": "2024-09-28T23:12:14.504918Z"
    },
    "papermill": {
     "duration": 0.064542,
     "end_time": "2024-09-28T23:12:14.508525",
     "exception": false,
     "start_time": "2024-09-28T23:12:14.443983",
     "status": "completed"
    },
    "tags": []
   },
   "outputs": [
    {
     "data": {
      "text/html": [
       "<style type=\"text/css\">\n",
       "#T_8773f_row0_col1 {\n",
       "  background-color: #00441b;\n",
       "  color: #f1f1f1;\n",
       "}\n",
       "#T_8773f_row1_col1 {\n",
       "  background-color: #68be70;\n",
       "  color: #000000;\n",
       "}\n",
       "#T_8773f_row2_col1 {\n",
       "  background-color: #87cd86;\n",
       "  color: #000000;\n",
       "}\n",
       "#T_8773f_row3_col1 {\n",
       "  background-color: #8bcf89;\n",
       "  color: #000000;\n",
       "}\n",
       "#T_8773f_row4_col1 {\n",
       "  background-color: #f7fcf5;\n",
       "  color: #000000;\n",
       "}\n",
       "</style>\n",
       "<table id=\"T_8773f\">\n",
       "  <thead>\n",
       "    <tr>\n",
       "      <th class=\"blank level0\" >&nbsp;</th>\n",
       "      <th id=\"T_8773f_level0_col0\" class=\"col_heading level0 col0\" >batter</th>\n",
       "      <th id=\"T_8773f_level0_col1\" class=\"col_heading level0 col1\" >total_runs</th>\n",
       "    </tr>\n",
       "  </thead>\n",
       "  <tbody>\n",
       "    <tr>\n",
       "      <th id=\"T_8773f_level0_row0\" class=\"row_heading level0 row0\" >0</th>\n",
       "      <td id=\"T_8773f_row0_col0\" class=\"data row0 col0\" >V Kohli</td>\n",
       "      <td id=\"T_8773f_row0_col1\" class=\"data row0 col1\" >8307</td>\n",
       "    </tr>\n",
       "    <tr>\n",
       "      <th id=\"T_8773f_level0_row1\" class=\"row_heading level0 row1\" >1</th>\n",
       "      <td id=\"T_8773f_row1_col0\" class=\"data row1 col0\" >S Dhawan</td>\n",
       "      <td id=\"T_8773f_row1_col1\" class=\"data row1 col1\" >7119</td>\n",
       "    </tr>\n",
       "    <tr>\n",
       "      <th id=\"T_8773f_level0_row2\" class=\"row_heading level0 row2\" >2</th>\n",
       "      <td id=\"T_8773f_row2_col0\" class=\"data row2 col0\" >DA Warner</td>\n",
       "      <td id=\"T_8773f_row2_col1\" class=\"data row2 col1\" >6910</td>\n",
       "    </tr>\n",
       "    <tr>\n",
       "      <th id=\"T_8773f_level0_row3\" class=\"row_heading level0 row3\" >3</th>\n",
       "      <td id=\"T_8773f_row3_col0\" class=\"data row3 col0\" >RG Sharma</td>\n",
       "      <td id=\"T_8773f_row3_col1\" class=\"data row3 col1\" >6884</td>\n",
       "    </tr>\n",
       "    <tr>\n",
       "      <th id=\"T_8773f_level0_row4\" class=\"row_heading level0 row4\" >4</th>\n",
       "      <td id=\"T_8773f_row4_col0\" class=\"data row4 col0\" >SK Raina</td>\n",
       "      <td id=\"T_8773f_row4_col1\" class=\"data row4 col1\" >5780</td>\n",
       "    </tr>\n",
       "  </tbody>\n",
       "</table>\n"
      ],
      "text/plain": [
       "<pandas.io.formats.style.Styler at 0x7a00333d3d30>"
      ]
     },
     "execution_count": 79,
     "metadata": {},
     "output_type": "execute_result"
    }
   ],
   "source": [
    "top_5"
   ]
  },
  {
   "cell_type": "code",
   "execution_count": 80,
   "id": "e950bd01",
   "metadata": {
    "execution": {
     "iopub.execute_input": "2024-09-28T23:12:14.608278Z",
     "iopub.status.busy": "2024-09-28T23:12:14.607832Z",
     "iopub.status.idle": "2024-09-28T23:12:14.743211Z",
     "shell.execute_reply": "2024-09-28T23:12:14.742191Z"
    },
    "papermill": {
     "duration": 0.188244,
     "end_time": "2024-09-28T23:12:14.745722",
     "exception": false,
     "start_time": "2024-09-28T23:12:14.557478",
     "status": "completed"
    },
    "tags": []
   },
   "outputs": [
    {
     "data": {
      "text/html": [
       "<div>                            <div id=\"53cc1bcc-9491-4db2-9a2d-063adc5012cb\" class=\"plotly-graph-div\" style=\"height:525px; width:100%;\"></div>            <script type=\"text/javascript\">                require([\"plotly\"], function(Plotly) {                    window.PLOTLYENV=window.PLOTLYENV || {};                                    if (document.getElementById(\"53cc1bcc-9491-4db2-9a2d-063adc5012cb\")) {                    Plotly.newPlot(                        \"53cc1bcc-9491-4db2-9a2d-063adc5012cb\",                        [{\"alignmentgroup\":\"True\",\"hovertemplate\":\"batter=%{x}\\u003cbr\\u003etotal_runs=%{y}\\u003cextra\\u003e\\u003c\\u002fextra\\u003e\",\"legendgroup\":\"\",\"marker\":{\"color\":\"#636efa\",\"pattern\":{\"shape\":\"\"}},\"name\":\"\",\"offsetgroup\":\"\",\"orientation\":\"v\",\"showlegend\":false,\"textposition\":\"auto\",\"x\":[\"V Kohli\",\"S Dhawan\",\"DA Warner\",\"RG Sharma\",\"SK Raina\"],\"xaxis\":\"x\",\"y\":[8307,7119,6910,6884,5780],\"yaxis\":\"y\",\"type\":\"bar\"}],                        {\"template\":{\"data\":{\"barpolar\":[{\"marker\":{\"line\":{\"color\":\"rgb(17,17,17)\",\"width\":0.5},\"pattern\":{\"fillmode\":\"overlay\",\"size\":10,\"solidity\":0.2}},\"type\":\"barpolar\"}],\"bar\":[{\"error_x\":{\"color\":\"#f2f5fa\"},\"error_y\":{\"color\":\"#f2f5fa\"},\"marker\":{\"line\":{\"color\":\"rgb(17,17,17)\",\"width\":0.5},\"pattern\":{\"fillmode\":\"overlay\",\"size\":10,\"solidity\":0.2}},\"type\":\"bar\"}],\"carpet\":[{\"aaxis\":{\"endlinecolor\":\"#A2B1C6\",\"gridcolor\":\"#506784\",\"linecolor\":\"#506784\",\"minorgridcolor\":\"#506784\",\"startlinecolor\":\"#A2B1C6\"},\"baxis\":{\"endlinecolor\":\"#A2B1C6\",\"gridcolor\":\"#506784\",\"linecolor\":\"#506784\",\"minorgridcolor\":\"#506784\",\"startlinecolor\":\"#A2B1C6\"},\"type\":\"carpet\"}],\"choropleth\":[{\"colorbar\":{\"outlinewidth\":0,\"ticks\":\"\"},\"type\":\"choropleth\"}],\"contourcarpet\":[{\"colorbar\":{\"outlinewidth\":0,\"ticks\":\"\"},\"type\":\"contourcarpet\"}],\"contour\":[{\"colorbar\":{\"outlinewidth\":0,\"ticks\":\"\"},\"colorscale\":[[0.0,\"#0d0887\"],[0.1111111111111111,\"#46039f\"],[0.2222222222222222,\"#7201a8\"],[0.3333333333333333,\"#9c179e\"],[0.4444444444444444,\"#bd3786\"],[0.5555555555555556,\"#d8576b\"],[0.6666666666666666,\"#ed7953\"],[0.7777777777777778,\"#fb9f3a\"],[0.8888888888888888,\"#fdca26\"],[1.0,\"#f0f921\"]],\"type\":\"contour\"}],\"heatmapgl\":[{\"colorbar\":{\"outlinewidth\":0,\"ticks\":\"\"},\"colorscale\":[[0.0,\"#0d0887\"],[0.1111111111111111,\"#46039f\"],[0.2222222222222222,\"#7201a8\"],[0.3333333333333333,\"#9c179e\"],[0.4444444444444444,\"#bd3786\"],[0.5555555555555556,\"#d8576b\"],[0.6666666666666666,\"#ed7953\"],[0.7777777777777778,\"#fb9f3a\"],[0.8888888888888888,\"#fdca26\"],[1.0,\"#f0f921\"]],\"type\":\"heatmapgl\"}],\"heatmap\":[{\"colorbar\":{\"outlinewidth\":0,\"ticks\":\"\"},\"colorscale\":[[0.0,\"#0d0887\"],[0.1111111111111111,\"#46039f\"],[0.2222222222222222,\"#7201a8\"],[0.3333333333333333,\"#9c179e\"],[0.4444444444444444,\"#bd3786\"],[0.5555555555555556,\"#d8576b\"],[0.6666666666666666,\"#ed7953\"],[0.7777777777777778,\"#fb9f3a\"],[0.8888888888888888,\"#fdca26\"],[1.0,\"#f0f921\"]],\"type\":\"heatmap\"}],\"histogram2dcontour\":[{\"colorbar\":{\"outlinewidth\":0,\"ticks\":\"\"},\"colorscale\":[[0.0,\"#0d0887\"],[0.1111111111111111,\"#46039f\"],[0.2222222222222222,\"#7201a8\"],[0.3333333333333333,\"#9c179e\"],[0.4444444444444444,\"#bd3786\"],[0.5555555555555556,\"#d8576b\"],[0.6666666666666666,\"#ed7953\"],[0.7777777777777778,\"#fb9f3a\"],[0.8888888888888888,\"#fdca26\"],[1.0,\"#f0f921\"]],\"type\":\"histogram2dcontour\"}],\"histogram2d\":[{\"colorbar\":{\"outlinewidth\":0,\"ticks\":\"\"},\"colorscale\":[[0.0,\"#0d0887\"],[0.1111111111111111,\"#46039f\"],[0.2222222222222222,\"#7201a8\"],[0.3333333333333333,\"#9c179e\"],[0.4444444444444444,\"#bd3786\"],[0.5555555555555556,\"#d8576b\"],[0.6666666666666666,\"#ed7953\"],[0.7777777777777778,\"#fb9f3a\"],[0.8888888888888888,\"#fdca26\"],[1.0,\"#f0f921\"]],\"type\":\"histogram2d\"}],\"histogram\":[{\"marker\":{\"pattern\":{\"fillmode\":\"overlay\",\"size\":10,\"solidity\":0.2}},\"type\":\"histogram\"}],\"mesh3d\":[{\"colorbar\":{\"outlinewidth\":0,\"ticks\":\"\"},\"type\":\"mesh3d\"}],\"parcoords\":[{\"line\":{\"colorbar\":{\"outlinewidth\":0,\"ticks\":\"\"}},\"type\":\"parcoords\"}],\"pie\":[{\"automargin\":true,\"type\":\"pie\"}],\"scatter3d\":[{\"line\":{\"colorbar\":{\"outlinewidth\":0,\"ticks\":\"\"}},\"marker\":{\"colorbar\":{\"outlinewidth\":0,\"ticks\":\"\"}},\"type\":\"scatter3d\"}],\"scattercarpet\":[{\"marker\":{\"colorbar\":{\"outlinewidth\":0,\"ticks\":\"\"}},\"type\":\"scattercarpet\"}],\"scattergeo\":[{\"marker\":{\"colorbar\":{\"outlinewidth\":0,\"ticks\":\"\"}},\"type\":\"scattergeo\"}],\"scattergl\":[{\"marker\":{\"line\":{\"color\":\"#283442\"}},\"type\":\"scattergl\"}],\"scattermapbox\":[{\"marker\":{\"colorbar\":{\"outlinewidth\":0,\"ticks\":\"\"}},\"type\":\"scattermapbox\"}],\"scatterpolargl\":[{\"marker\":{\"colorbar\":{\"outlinewidth\":0,\"ticks\":\"\"}},\"type\":\"scatterpolargl\"}],\"scatterpolar\":[{\"marker\":{\"colorbar\":{\"outlinewidth\":0,\"ticks\":\"\"}},\"type\":\"scatterpolar\"}],\"scatter\":[{\"marker\":{\"line\":{\"color\":\"#283442\"}},\"type\":\"scatter\"}],\"scatterternary\":[{\"marker\":{\"colorbar\":{\"outlinewidth\":0,\"ticks\":\"\"}},\"type\":\"scatterternary\"}],\"surface\":[{\"colorbar\":{\"outlinewidth\":0,\"ticks\":\"\"},\"colorscale\":[[0.0,\"#0d0887\"],[0.1111111111111111,\"#46039f\"],[0.2222222222222222,\"#7201a8\"],[0.3333333333333333,\"#9c179e\"],[0.4444444444444444,\"#bd3786\"],[0.5555555555555556,\"#d8576b\"],[0.6666666666666666,\"#ed7953\"],[0.7777777777777778,\"#fb9f3a\"],[0.8888888888888888,\"#fdca26\"],[1.0,\"#f0f921\"]],\"type\":\"surface\"}],\"table\":[{\"cells\":{\"fill\":{\"color\":\"#506784\"},\"line\":{\"color\":\"rgb(17,17,17)\"}},\"header\":{\"fill\":{\"color\":\"#2a3f5f\"},\"line\":{\"color\":\"rgb(17,17,17)\"}},\"type\":\"table\"}]},\"layout\":{\"annotationdefaults\":{\"arrowcolor\":\"#f2f5fa\",\"arrowhead\":0,\"arrowwidth\":1},\"autotypenumbers\":\"strict\",\"coloraxis\":{\"colorbar\":{\"outlinewidth\":0,\"ticks\":\"\"}},\"colorscale\":{\"diverging\":[[0,\"#8e0152\"],[0.1,\"#c51b7d\"],[0.2,\"#de77ae\"],[0.3,\"#f1b6da\"],[0.4,\"#fde0ef\"],[0.5,\"#f7f7f7\"],[0.6,\"#e6f5d0\"],[0.7,\"#b8e186\"],[0.8,\"#7fbc41\"],[0.9,\"#4d9221\"],[1,\"#276419\"]],\"sequential\":[[0.0,\"#0d0887\"],[0.1111111111111111,\"#46039f\"],[0.2222222222222222,\"#7201a8\"],[0.3333333333333333,\"#9c179e\"],[0.4444444444444444,\"#bd3786\"],[0.5555555555555556,\"#d8576b\"],[0.6666666666666666,\"#ed7953\"],[0.7777777777777778,\"#fb9f3a\"],[0.8888888888888888,\"#fdca26\"],[1.0,\"#f0f921\"]],\"sequentialminus\":[[0.0,\"#0d0887\"],[0.1111111111111111,\"#46039f\"],[0.2222222222222222,\"#7201a8\"],[0.3333333333333333,\"#9c179e\"],[0.4444444444444444,\"#bd3786\"],[0.5555555555555556,\"#d8576b\"],[0.6666666666666666,\"#ed7953\"],[0.7777777777777778,\"#fb9f3a\"],[0.8888888888888888,\"#fdca26\"],[1.0,\"#f0f921\"]]},\"colorway\":[\"#636efa\",\"#EF553B\",\"#00cc96\",\"#ab63fa\",\"#FFA15A\",\"#19d3f3\",\"#FF6692\",\"#B6E880\",\"#FF97FF\",\"#FECB52\"],\"font\":{\"color\":\"#f2f5fa\"},\"geo\":{\"bgcolor\":\"rgb(17,17,17)\",\"lakecolor\":\"rgb(17,17,17)\",\"landcolor\":\"rgb(17,17,17)\",\"showlakes\":true,\"showland\":true,\"subunitcolor\":\"#506784\"},\"hoverlabel\":{\"align\":\"left\"},\"hovermode\":\"closest\",\"mapbox\":{\"style\":\"dark\"},\"paper_bgcolor\":\"rgb(17,17,17)\",\"plot_bgcolor\":\"rgb(17,17,17)\",\"polar\":{\"angularaxis\":{\"gridcolor\":\"#506784\",\"linecolor\":\"#506784\",\"ticks\":\"\"},\"bgcolor\":\"rgb(17,17,17)\",\"radialaxis\":{\"gridcolor\":\"#506784\",\"linecolor\":\"#506784\",\"ticks\":\"\"}},\"scene\":{\"xaxis\":{\"backgroundcolor\":\"rgb(17,17,17)\",\"gridcolor\":\"#506784\",\"gridwidth\":2,\"linecolor\":\"#506784\",\"showbackground\":true,\"ticks\":\"\",\"zerolinecolor\":\"#C8D4E3\"},\"yaxis\":{\"backgroundcolor\":\"rgb(17,17,17)\",\"gridcolor\":\"#506784\",\"gridwidth\":2,\"linecolor\":\"#506784\",\"showbackground\":true,\"ticks\":\"\",\"zerolinecolor\":\"#C8D4E3\"},\"zaxis\":{\"backgroundcolor\":\"rgb(17,17,17)\",\"gridcolor\":\"#506784\",\"gridwidth\":2,\"linecolor\":\"#506784\",\"showbackground\":true,\"ticks\":\"\",\"zerolinecolor\":\"#C8D4E3\"}},\"shapedefaults\":{\"line\":{\"color\":\"#f2f5fa\"}},\"sliderdefaults\":{\"bgcolor\":\"#C8D4E3\",\"bordercolor\":\"rgb(17,17,17)\",\"borderwidth\":1,\"tickwidth\":0},\"ternary\":{\"aaxis\":{\"gridcolor\":\"#506784\",\"linecolor\":\"#506784\",\"ticks\":\"\"},\"baxis\":{\"gridcolor\":\"#506784\",\"linecolor\":\"#506784\",\"ticks\":\"\"},\"bgcolor\":\"rgb(17,17,17)\",\"caxis\":{\"gridcolor\":\"#506784\",\"linecolor\":\"#506784\",\"ticks\":\"\"}},\"title\":{\"x\":0.05},\"updatemenudefaults\":{\"bgcolor\":\"#506784\",\"borderwidth\":0},\"xaxis\":{\"automargin\":true,\"gridcolor\":\"#283442\",\"linecolor\":\"#506784\",\"ticks\":\"\",\"title\":{\"standoff\":15},\"zerolinecolor\":\"#283442\",\"zerolinewidth\":2},\"yaxis\":{\"automargin\":true,\"gridcolor\":\"#283442\",\"linecolor\":\"#506784\",\"ticks\":\"\",\"title\":{\"standoff\":15},\"zerolinecolor\":\"#283442\",\"zerolinewidth\":2}}},\"xaxis\":{\"anchor\":\"y\",\"domain\":[0.0,1.0],\"title\":{\"text\":\"Player Names\"}},\"yaxis\":{\"anchor\":\"x\",\"domain\":[0.0,1.0],\"title\":{\"text\":\"Total Runs\"}},\"legend\":{\"tracegroupgap\":0},\"title\":{\"text\":\"Orange Cap Winner In Overall IPL\",\"font\":{\"size\":20,\"family\":\"Arial\",\"color\":\"#f0f18d\"},\"x\":0.5,\"xanchor\":\"center\",\"yanchor\":\"top\"},\"barmode\":\"relative\"},                        {\"responsive\": true}                    ).then(function(){\n",
       "                            \n",
       "var gd = document.getElementById('53cc1bcc-9491-4db2-9a2d-063adc5012cb');\n",
       "var x = new MutationObserver(function (mutations, observer) {{\n",
       "        var display = window.getComputedStyle(gd).display;\n",
       "        if (!display || display === 'none') {{\n",
       "            console.log([gd, 'removed!']);\n",
       "            Plotly.purge(gd);\n",
       "            observer.disconnect();\n",
       "        }}\n",
       "}});\n",
       "\n",
       "// Listen for the removal of the full notebook cells\n",
       "var notebookContainer = gd.closest('#notebook-container');\n",
       "if (notebookContainer) {{\n",
       "    x.observe(notebookContainer, {childList: true});\n",
       "}}\n",
       "\n",
       "// Listen for the clearing of the current output cell\n",
       "var outputEl = gd.closest('.output');\n",
       "if (outputEl) {{\n",
       "    x.observe(outputEl, {childList: true});\n",
       "}}\n",
       "\n",
       "                        })                };                });            </script>        </div>"
      ]
     },
     "metadata": {},
     "output_type": "display_data"
    }
   ],
   "source": [
    "top_5 = df1.groupby(['batter'])['total_runs'].sum().reset_index().sort_values(by='total_runs', ascending=False).head(5).reset_index(drop=True)\n",
    "\n",
    "fig = px.bar(top_5, x='batter', y='total_runs', title=\"Orange Cap Winner In Overall IPL\")\n",
    "\n",
    "fig.update_layout(\n",
    "    xaxis_title=\"Player Names\",\n",
    "    yaxis_title=\"Total Runs\",\n",
    "    template=\"plotly_dark\",\n",
    "    title={\n",
    "        'x': 0.5,\n",
    "        'xanchor': 'center',\n",
    "        'yanchor': 'top',\n",
    "        'font': {'size': 20, 'family': 'Arial', 'color': '#f0f18d'}\n",
    "    }\n",
    ")\n",
    "\n",
    "fig.show()\n"
   ]
  },
  {
   "cell_type": "markdown",
   "id": "699068af",
   "metadata": {
    "papermill": {
     "duration": 0.048472,
     "end_time": "2024-09-28T23:12:14.842778",
     "exception": false,
     "start_time": "2024-09-28T23:12:14.794306",
     "status": "completed"
    },
    "tags": []
   },
   "source": [
    "<div class=\"alert alert-block alert-info\"><p style='color:black;'>🏏📝 Virat is Most run Scorer In Over all IPL\n",
    "    \n",
    "</div>"
   ]
  },
  {
   "cell_type": "markdown",
   "id": "12775cb4",
   "metadata": {
    "papermill": {
     "duration": 0.048672,
     "end_time": "2024-09-28T23:12:14.939334",
     "exception": false,
     "start_time": "2024-09-28T23:12:14.890662",
     "status": "completed"
    },
    "tags": []
   },
   "source": [
    "<a id=\"1\">\n",
    "<h1 style = \"font-family: Snell Roundhand;font-weight: 500;font-size: 30px; font-style: normal; background-color:#f0a305; color :black;\"> 16) Top Wicket Taker In IPL \n",
    "    :</h1>\n"
   ]
  },
  {
   "cell_type": "code",
   "execution_count": 81,
   "id": "10e6104f",
   "metadata": {
    "execution": {
     "iopub.execute_input": "2024-09-28T23:12:15.040020Z",
     "iopub.status.busy": "2024-09-28T23:12:15.039179Z",
     "iopub.status.idle": "2024-09-28T23:12:15.075017Z",
     "shell.execute_reply": "2024-09-28T23:12:15.074049Z"
    },
    "papermill": {
     "duration": 0.088617,
     "end_time": "2024-09-28T23:12:15.077475",
     "exception": false,
     "start_time": "2024-09-28T23:12:14.988858",
     "status": "completed"
    },
    "tags": []
   },
   "outputs": [],
   "source": [
    "df1['dismissal_kind'].unique()\n",
    "dismissal_kinds = ['caught', 'bowled', 'lbw', 'caught and bowled',\n",
    "       'stumped', 'hit wicket']\n",
    "hwt=df1[df1[\"dismissal_kind\"].isin(dismissal_kinds)]\n",
    "bo=hwt['bowler'].value_counts()"
   ]
  },
  {
   "cell_type": "code",
   "execution_count": 82,
   "id": "95594423",
   "metadata": {
    "execution": {
     "iopub.execute_input": "2024-09-28T23:12:15.176306Z",
     "iopub.status.busy": "2024-09-28T23:12:15.175609Z",
     "iopub.status.idle": "2024-09-28T23:12:15.278684Z",
     "shell.execute_reply": "2024-09-28T23:12:15.277533Z"
    },
    "papermill": {
     "duration": 0.155416,
     "end_time": "2024-09-28T23:12:15.281177",
     "exception": false,
     "start_time": "2024-09-28T23:12:15.125761",
     "status": "completed"
    },
    "tags": []
   },
   "outputs": [
    {
     "data": {
      "text/html": [
       "<div>                            <div id=\"199130b1-436b-40d2-8bea-3ea608fb7a07\" class=\"plotly-graph-div\" style=\"height:525px; width:100%;\"></div>            <script type=\"text/javascript\">                require([\"plotly\"], function(Plotly) {                    window.PLOTLYENV=window.PLOTLYENV || {};                                    if (document.getElementById(\"199130b1-436b-40d2-8bea-3ea608fb7a07\")) {                    Plotly.newPlot(                        \"199130b1-436b-40d2-8bea-3ea608fb7a07\",                        [{\"alignmentgroup\":\"True\",\"hovertemplate\":\"Bowler=%{x}\\u003cbr\\u003eTotal Wickets=%{y}\\u003cextra\\u003e\\u003c\\u002fextra\\u003e\",\"legendgroup\":\"\",\"marker\":{\"color\":[\"crimson\",\"turquoise\",\"turquoise\",\"turquoise\",\"turquoise\",\"turquoise\",\"turquoise\",\"turquoise\",\"turquoise\",\"turquoise\",\"turquoise\",\"turquoise\",\"turquoise\"],\"pattern\":{\"shape\":\"\"},\"line\":{\"color\":\"black\",\"width\":2.5}},\"name\":\"\",\"offsetgroup\":\"\",\"orientation\":\"v\",\"showlegend\":false,\"textposition\":\"auto\",\"x\":[\"YS Chahal\",\"PP Chawla\",\"DJ Bravo\",\"B Kumar\",\"SP Narine\",\"R Ashwin\",\"A Mishra\",\"SL Malinga\",\"JJ Bumrah\",\"RA Jadeja\"],\"xaxis\":\"x\",\"y\":[205,192,183,181,180,180,174,170,168,160],\"yaxis\":\"y\",\"type\":\"bar\",\"opacity\":1}],                        {\"template\":{\"data\":{\"barpolar\":[{\"marker\":{\"line\":{\"color\":\"rgb(17,17,17)\",\"width\":0.5},\"pattern\":{\"fillmode\":\"overlay\",\"size\":10,\"solidity\":0.2}},\"type\":\"barpolar\"}],\"bar\":[{\"error_x\":{\"color\":\"#f2f5fa\"},\"error_y\":{\"color\":\"#f2f5fa\"},\"marker\":{\"line\":{\"color\":\"rgb(17,17,17)\",\"width\":0.5},\"pattern\":{\"fillmode\":\"overlay\",\"size\":10,\"solidity\":0.2}},\"type\":\"bar\"}],\"carpet\":[{\"aaxis\":{\"endlinecolor\":\"#A2B1C6\",\"gridcolor\":\"#506784\",\"linecolor\":\"#506784\",\"minorgridcolor\":\"#506784\",\"startlinecolor\":\"#A2B1C6\"},\"baxis\":{\"endlinecolor\":\"#A2B1C6\",\"gridcolor\":\"#506784\",\"linecolor\":\"#506784\",\"minorgridcolor\":\"#506784\",\"startlinecolor\":\"#A2B1C6\"},\"type\":\"carpet\"}],\"choropleth\":[{\"colorbar\":{\"outlinewidth\":0,\"ticks\":\"\"},\"type\":\"choropleth\"}],\"contourcarpet\":[{\"colorbar\":{\"outlinewidth\":0,\"ticks\":\"\"},\"type\":\"contourcarpet\"}],\"contour\":[{\"colorbar\":{\"outlinewidth\":0,\"ticks\":\"\"},\"colorscale\":[[0.0,\"#0d0887\"],[0.1111111111111111,\"#46039f\"],[0.2222222222222222,\"#7201a8\"],[0.3333333333333333,\"#9c179e\"],[0.4444444444444444,\"#bd3786\"],[0.5555555555555556,\"#d8576b\"],[0.6666666666666666,\"#ed7953\"],[0.7777777777777778,\"#fb9f3a\"],[0.8888888888888888,\"#fdca26\"],[1.0,\"#f0f921\"]],\"type\":\"contour\"}],\"heatmapgl\":[{\"colorbar\":{\"outlinewidth\":0,\"ticks\":\"\"},\"colorscale\":[[0.0,\"#0d0887\"],[0.1111111111111111,\"#46039f\"],[0.2222222222222222,\"#7201a8\"],[0.3333333333333333,\"#9c179e\"],[0.4444444444444444,\"#bd3786\"],[0.5555555555555556,\"#d8576b\"],[0.6666666666666666,\"#ed7953\"],[0.7777777777777778,\"#fb9f3a\"],[0.8888888888888888,\"#fdca26\"],[1.0,\"#f0f921\"]],\"type\":\"heatmapgl\"}],\"heatmap\":[{\"colorbar\":{\"outlinewidth\":0,\"ticks\":\"\"},\"colorscale\":[[0.0,\"#0d0887\"],[0.1111111111111111,\"#46039f\"],[0.2222222222222222,\"#7201a8\"],[0.3333333333333333,\"#9c179e\"],[0.4444444444444444,\"#bd3786\"],[0.5555555555555556,\"#d8576b\"],[0.6666666666666666,\"#ed7953\"],[0.7777777777777778,\"#fb9f3a\"],[0.8888888888888888,\"#fdca26\"],[1.0,\"#f0f921\"]],\"type\":\"heatmap\"}],\"histogram2dcontour\":[{\"colorbar\":{\"outlinewidth\":0,\"ticks\":\"\"},\"colorscale\":[[0.0,\"#0d0887\"],[0.1111111111111111,\"#46039f\"],[0.2222222222222222,\"#7201a8\"],[0.3333333333333333,\"#9c179e\"],[0.4444444444444444,\"#bd3786\"],[0.5555555555555556,\"#d8576b\"],[0.6666666666666666,\"#ed7953\"],[0.7777777777777778,\"#fb9f3a\"],[0.8888888888888888,\"#fdca26\"],[1.0,\"#f0f921\"]],\"type\":\"histogram2dcontour\"}],\"histogram2d\":[{\"colorbar\":{\"outlinewidth\":0,\"ticks\":\"\"},\"colorscale\":[[0.0,\"#0d0887\"],[0.1111111111111111,\"#46039f\"],[0.2222222222222222,\"#7201a8\"],[0.3333333333333333,\"#9c179e\"],[0.4444444444444444,\"#bd3786\"],[0.5555555555555556,\"#d8576b\"],[0.6666666666666666,\"#ed7953\"],[0.7777777777777778,\"#fb9f3a\"],[0.8888888888888888,\"#fdca26\"],[1.0,\"#f0f921\"]],\"type\":\"histogram2d\"}],\"histogram\":[{\"marker\":{\"pattern\":{\"fillmode\":\"overlay\",\"size\":10,\"solidity\":0.2}},\"type\":\"histogram\"}],\"mesh3d\":[{\"colorbar\":{\"outlinewidth\":0,\"ticks\":\"\"},\"type\":\"mesh3d\"}],\"parcoords\":[{\"line\":{\"colorbar\":{\"outlinewidth\":0,\"ticks\":\"\"}},\"type\":\"parcoords\"}],\"pie\":[{\"automargin\":true,\"type\":\"pie\"}],\"scatter3d\":[{\"line\":{\"colorbar\":{\"outlinewidth\":0,\"ticks\":\"\"}},\"marker\":{\"colorbar\":{\"outlinewidth\":0,\"ticks\":\"\"}},\"type\":\"scatter3d\"}],\"scattercarpet\":[{\"marker\":{\"colorbar\":{\"outlinewidth\":0,\"ticks\":\"\"}},\"type\":\"scattercarpet\"}],\"scattergeo\":[{\"marker\":{\"colorbar\":{\"outlinewidth\":0,\"ticks\":\"\"}},\"type\":\"scattergeo\"}],\"scattergl\":[{\"marker\":{\"line\":{\"color\":\"#283442\"}},\"type\":\"scattergl\"}],\"scattermapbox\":[{\"marker\":{\"colorbar\":{\"outlinewidth\":0,\"ticks\":\"\"}},\"type\":\"scattermapbox\"}],\"scatterpolargl\":[{\"marker\":{\"colorbar\":{\"outlinewidth\":0,\"ticks\":\"\"}},\"type\":\"scatterpolargl\"}],\"scatterpolar\":[{\"marker\":{\"colorbar\":{\"outlinewidth\":0,\"ticks\":\"\"}},\"type\":\"scatterpolar\"}],\"scatter\":[{\"marker\":{\"line\":{\"color\":\"#283442\"}},\"type\":\"scatter\"}],\"scatterternary\":[{\"marker\":{\"colorbar\":{\"outlinewidth\":0,\"ticks\":\"\"}},\"type\":\"scatterternary\"}],\"surface\":[{\"colorbar\":{\"outlinewidth\":0,\"ticks\":\"\"},\"colorscale\":[[0.0,\"#0d0887\"],[0.1111111111111111,\"#46039f\"],[0.2222222222222222,\"#7201a8\"],[0.3333333333333333,\"#9c179e\"],[0.4444444444444444,\"#bd3786\"],[0.5555555555555556,\"#d8576b\"],[0.6666666666666666,\"#ed7953\"],[0.7777777777777778,\"#fb9f3a\"],[0.8888888888888888,\"#fdca26\"],[1.0,\"#f0f921\"]],\"type\":\"surface\"}],\"table\":[{\"cells\":{\"fill\":{\"color\":\"#506784\"},\"line\":{\"color\":\"rgb(17,17,17)\"}},\"header\":{\"fill\":{\"color\":\"#2a3f5f\"},\"line\":{\"color\":\"rgb(17,17,17)\"}},\"type\":\"table\"}]},\"layout\":{\"annotationdefaults\":{\"arrowcolor\":\"#f2f5fa\",\"arrowhead\":0,\"arrowwidth\":1},\"autotypenumbers\":\"strict\",\"coloraxis\":{\"colorbar\":{\"outlinewidth\":0,\"ticks\":\"\"}},\"colorscale\":{\"diverging\":[[0,\"#8e0152\"],[0.1,\"#c51b7d\"],[0.2,\"#de77ae\"],[0.3,\"#f1b6da\"],[0.4,\"#fde0ef\"],[0.5,\"#f7f7f7\"],[0.6,\"#e6f5d0\"],[0.7,\"#b8e186\"],[0.8,\"#7fbc41\"],[0.9,\"#4d9221\"],[1,\"#276419\"]],\"sequential\":[[0.0,\"#0d0887\"],[0.1111111111111111,\"#46039f\"],[0.2222222222222222,\"#7201a8\"],[0.3333333333333333,\"#9c179e\"],[0.4444444444444444,\"#bd3786\"],[0.5555555555555556,\"#d8576b\"],[0.6666666666666666,\"#ed7953\"],[0.7777777777777778,\"#fb9f3a\"],[0.8888888888888888,\"#fdca26\"],[1.0,\"#f0f921\"]],\"sequentialminus\":[[0.0,\"#0d0887\"],[0.1111111111111111,\"#46039f\"],[0.2222222222222222,\"#7201a8\"],[0.3333333333333333,\"#9c179e\"],[0.4444444444444444,\"#bd3786\"],[0.5555555555555556,\"#d8576b\"],[0.6666666666666666,\"#ed7953\"],[0.7777777777777778,\"#fb9f3a\"],[0.8888888888888888,\"#fdca26\"],[1.0,\"#f0f921\"]]},\"colorway\":[\"#636efa\",\"#EF553B\",\"#00cc96\",\"#ab63fa\",\"#FFA15A\",\"#19d3f3\",\"#FF6692\",\"#B6E880\",\"#FF97FF\",\"#FECB52\"],\"font\":{\"color\":\"#f2f5fa\"},\"geo\":{\"bgcolor\":\"rgb(17,17,17)\",\"lakecolor\":\"rgb(17,17,17)\",\"landcolor\":\"rgb(17,17,17)\",\"showlakes\":true,\"showland\":true,\"subunitcolor\":\"#506784\"},\"hoverlabel\":{\"align\":\"left\"},\"hovermode\":\"closest\",\"mapbox\":{\"style\":\"dark\"},\"paper_bgcolor\":\"rgb(17,17,17)\",\"plot_bgcolor\":\"rgb(17,17,17)\",\"polar\":{\"angularaxis\":{\"gridcolor\":\"#506784\",\"linecolor\":\"#506784\",\"ticks\":\"\"},\"bgcolor\":\"rgb(17,17,17)\",\"radialaxis\":{\"gridcolor\":\"#506784\",\"linecolor\":\"#506784\",\"ticks\":\"\"}},\"scene\":{\"xaxis\":{\"backgroundcolor\":\"rgb(17,17,17)\",\"gridcolor\":\"#506784\",\"gridwidth\":2,\"linecolor\":\"#506784\",\"showbackground\":true,\"ticks\":\"\",\"zerolinecolor\":\"#C8D4E3\"},\"yaxis\":{\"backgroundcolor\":\"rgb(17,17,17)\",\"gridcolor\":\"#506784\",\"gridwidth\":2,\"linecolor\":\"#506784\",\"showbackground\":true,\"ticks\":\"\",\"zerolinecolor\":\"#C8D4E3\"},\"zaxis\":{\"backgroundcolor\":\"rgb(17,17,17)\",\"gridcolor\":\"#506784\",\"gridwidth\":2,\"linecolor\":\"#506784\",\"showbackground\":true,\"ticks\":\"\",\"zerolinecolor\":\"#C8D4E3\"}},\"shapedefaults\":{\"line\":{\"color\":\"#f2f5fa\"}},\"sliderdefaults\":{\"bgcolor\":\"#C8D4E3\",\"bordercolor\":\"rgb(17,17,17)\",\"borderwidth\":1,\"tickwidth\":0},\"ternary\":{\"aaxis\":{\"gridcolor\":\"#506784\",\"linecolor\":\"#506784\",\"ticks\":\"\"},\"baxis\":{\"gridcolor\":\"#506784\",\"linecolor\":\"#506784\",\"ticks\":\"\"},\"bgcolor\":\"rgb(17,17,17)\",\"caxis\":{\"gridcolor\":\"#506784\",\"linecolor\":\"#506784\",\"ticks\":\"\"}},\"title\":{\"x\":0.05},\"updatemenudefaults\":{\"bgcolor\":\"#506784\",\"borderwidth\":0},\"xaxis\":{\"automargin\":true,\"gridcolor\":\"#283442\",\"linecolor\":\"#506784\",\"ticks\":\"\",\"title\":{\"standoff\":15},\"zerolinecolor\":\"#283442\",\"zerolinewidth\":2},\"yaxis\":{\"automargin\":true,\"gridcolor\":\"#283442\",\"linecolor\":\"#506784\",\"ticks\":\"\",\"title\":{\"standoff\":15},\"zerolinecolor\":\"#283442\",\"zerolinewidth\":2}}},\"xaxis\":{\"anchor\":\"y\",\"domain\":[0.0,1.0],\"title\":{\"text\":\"Bowler\"}},\"yaxis\":{\"anchor\":\"x\",\"domain\":[0.0,1.0],\"title\":{\"text\":\"Total Wickets\"}},\"legend\":{\"tracegroupgap\":0},\"margin\":{\"t\":60},\"barmode\":\"relative\",\"title\":{\"text\":\"Leading wicket-takers\",\"font\":{\"size\":26}}},                        {\"responsive\": true}                    ).then(function(){\n",
       "                            \n",
       "var gd = document.getElementById('199130b1-436b-40d2-8bea-3ea608fb7a07');\n",
       "var x = new MutationObserver(function (mutations, observer) {{\n",
       "        var display = window.getComputedStyle(gd).display;\n",
       "        if (!display || display === 'none') {{\n",
       "            console.log([gd, 'removed!']);\n",
       "            Plotly.purge(gd);\n",
       "            observer.disconnect();\n",
       "        }}\n",
       "}});\n",
       "\n",
       "// Listen for the removal of the full notebook cells\n",
       "var notebookContainer = gd.closest('#notebook-container');\n",
       "if (notebookContainer) {{\n",
       "    x.observe(notebookContainer, {childList: true});\n",
       "}}\n",
       "\n",
       "// Listen for the clearing of the current output cell\n",
       "var outputEl = gd.closest('.output');\n",
       "if (outputEl) {{\n",
       "    x.observe(outputEl, {childList: true});\n",
       "}}\n",
       "\n",
       "                        })                };                });            </script>        </div>"
      ]
     },
     "metadata": {},
     "output_type": "display_data"
    }
   ],
   "source": [
    "colors = ['turquoise',] * 13\n",
    "colors[0] = 'crimson'\n",
    "fig=px.bar(x=bo[:10].index,y=bo[:10],labels=dict(x=\"Bowler\",y=\"Total Wickets\"),)\n",
    "fig.update_layout(title=\"Leading wicket-takers\",\n",
    "                  titlefont={'size': 26},\n",
    "                  template=\"plotly_dark\" \n",
    "                  )\n",
    "fig.update_traces(marker_line_color='black',\n",
    "                  marker_line_width=2.5, opacity=1,marker_color=colors)\n",
    "fig.show()\n"
   ]
  },
  {
   "cell_type": "markdown",
   "id": "d90a2641",
   "metadata": {
    "papermill": {
     "duration": 0.048706,
     "end_time": "2024-09-28T23:12:15.379612",
     "exception": false,
     "start_time": "2024-09-28T23:12:15.330906",
     "status": "completed"
    },
    "tags": []
   },
   "source": [
    "<div class=\"alert alert-block alert-info\"><p style='color:black;'>🏏📝 Chahal is heighest Wicket Taker In IPL\n",
    "    \n",
    "</div>"
   ]
  },
  {
   "cell_type": "markdown",
   "id": "a73c8b37",
   "metadata": {
    "papermill": {
     "duration": 0.048609,
     "end_time": "2024-09-28T23:12:15.476576",
     "exception": false,
     "start_time": "2024-09-28T23:12:15.427967",
     "status": "completed"
    },
    "tags": []
   },
   "source": [
    "<a id=\"header\"></a>\n",
    "\n",
    "<div style=\"border: 1px solid; color: black; padding: 3px; width: 97%; background-color: #2d2d2d; border: 5px solid Grey;\">\n",
    "    <center width=\"80%\">\n",
    "        <img src=\"https://media4.giphy.com/media/WjLRc2wxC42Er8DXv6/200w.gif\" style=\"width: 90%;\">\n",
    "    </center>\n",
    " <p style=\"font-family: 'Pacifico', cursive; font-size: 2rem; color: #ff758c; text-align: center; margin: 0; text-shadow: 2px 2px 4px rgba(0, 0, 0, 0.3); background-color: #2d2d2d; padding: 20px; border-radius: 10px; border: 7px solid #f6f385; width: 95%;\">🔍 Lets do Some Thinking Questions 📊📈🏏</p>\n",
    "</div>\n"
   ]
  },
  {
   "cell_type": "markdown",
   "id": "b896c837",
   "metadata": {
    "papermill": {
     "duration": 0.049222,
     "end_time": "2024-09-28T23:12:15.574307",
     "exception": false,
     "start_time": "2024-09-28T23:12:15.525085",
     "status": "completed"
    },
    "tags": []
   },
   "source": [
    "<a id=\"1\">\n",
    "<h1 style = \"font-family: Snell Roundhand;font-weight: 500;font-size: 30px; font-style: normal; background-color:#9e05f0; color :black;\"> 17) Most Of The Teams Dissision After Winning The Toss\n",
    "    :</h1>\n"
   ]
  },
  {
   "cell_type": "code",
   "execution_count": 83,
   "id": "f5c3159a",
   "metadata": {
    "execution": {
     "iopub.execute_input": "2024-09-28T23:12:15.675645Z",
     "iopub.status.busy": "2024-09-28T23:12:15.675243Z",
     "iopub.status.idle": "2024-09-28T23:12:15.724289Z",
     "shell.execute_reply": "2024-09-28T23:12:15.723146Z"
    },
    "papermill": {
     "duration": 0.102621,
     "end_time": "2024-09-28T23:12:15.726601",
     "exception": false,
     "start_time": "2024-09-28T23:12:15.623980",
     "status": "completed"
    },
    "tags": []
   },
   "outputs": [
    {
     "data": {
      "text/html": [
       "<div>                            <div id=\"ef8e2991-6acb-4099-95a9-73d6b51c1852\" class=\"plotly-graph-div\" style=\"height:525px; width:100%;\"></div>            <script type=\"text/javascript\">                require([\"plotly\"], function(Plotly) {                    window.PLOTLYENV=window.PLOTLYENV || {};                                    if (document.getElementById(\"ef8e2991-6acb-4099-95a9-73d6b51c1852\")) {                    Plotly.newPlot(                        \"ef8e2991-6acb-4099-95a9-73d6b51c1852\",                        [{\"hole\":0.3,\"labels\":[\"field\",\"bat\"],\"values\":[64.29223744292237,35.70776255707763],\"type\":\"pie\"}],                        {\"template\":{\"data\":{\"barpolar\":[{\"marker\":{\"line\":{\"color\":\"rgb(17,17,17)\",\"width\":0.5},\"pattern\":{\"fillmode\":\"overlay\",\"size\":10,\"solidity\":0.2}},\"type\":\"barpolar\"}],\"bar\":[{\"error_x\":{\"color\":\"#f2f5fa\"},\"error_y\":{\"color\":\"#f2f5fa\"},\"marker\":{\"line\":{\"color\":\"rgb(17,17,17)\",\"width\":0.5},\"pattern\":{\"fillmode\":\"overlay\",\"size\":10,\"solidity\":0.2}},\"type\":\"bar\"}],\"carpet\":[{\"aaxis\":{\"endlinecolor\":\"#A2B1C6\",\"gridcolor\":\"#506784\",\"linecolor\":\"#506784\",\"minorgridcolor\":\"#506784\",\"startlinecolor\":\"#A2B1C6\"},\"baxis\":{\"endlinecolor\":\"#A2B1C6\",\"gridcolor\":\"#506784\",\"linecolor\":\"#506784\",\"minorgridcolor\":\"#506784\",\"startlinecolor\":\"#A2B1C6\"},\"type\":\"carpet\"}],\"choropleth\":[{\"colorbar\":{\"outlinewidth\":0,\"ticks\":\"\"},\"type\":\"choropleth\"}],\"contourcarpet\":[{\"colorbar\":{\"outlinewidth\":0,\"ticks\":\"\"},\"type\":\"contourcarpet\"}],\"contour\":[{\"colorbar\":{\"outlinewidth\":0,\"ticks\":\"\"},\"colorscale\":[[0.0,\"#0d0887\"],[0.1111111111111111,\"#46039f\"],[0.2222222222222222,\"#7201a8\"],[0.3333333333333333,\"#9c179e\"],[0.4444444444444444,\"#bd3786\"],[0.5555555555555556,\"#d8576b\"],[0.6666666666666666,\"#ed7953\"],[0.7777777777777778,\"#fb9f3a\"],[0.8888888888888888,\"#fdca26\"],[1.0,\"#f0f921\"]],\"type\":\"contour\"}],\"heatmapgl\":[{\"colorbar\":{\"outlinewidth\":0,\"ticks\":\"\"},\"colorscale\":[[0.0,\"#0d0887\"],[0.1111111111111111,\"#46039f\"],[0.2222222222222222,\"#7201a8\"],[0.3333333333333333,\"#9c179e\"],[0.4444444444444444,\"#bd3786\"],[0.5555555555555556,\"#d8576b\"],[0.6666666666666666,\"#ed7953\"],[0.7777777777777778,\"#fb9f3a\"],[0.8888888888888888,\"#fdca26\"],[1.0,\"#f0f921\"]],\"type\":\"heatmapgl\"}],\"heatmap\":[{\"colorbar\":{\"outlinewidth\":0,\"ticks\":\"\"},\"colorscale\":[[0.0,\"#0d0887\"],[0.1111111111111111,\"#46039f\"],[0.2222222222222222,\"#7201a8\"],[0.3333333333333333,\"#9c179e\"],[0.4444444444444444,\"#bd3786\"],[0.5555555555555556,\"#d8576b\"],[0.6666666666666666,\"#ed7953\"],[0.7777777777777778,\"#fb9f3a\"],[0.8888888888888888,\"#fdca26\"],[1.0,\"#f0f921\"]],\"type\":\"heatmap\"}],\"histogram2dcontour\":[{\"colorbar\":{\"outlinewidth\":0,\"ticks\":\"\"},\"colorscale\":[[0.0,\"#0d0887\"],[0.1111111111111111,\"#46039f\"],[0.2222222222222222,\"#7201a8\"],[0.3333333333333333,\"#9c179e\"],[0.4444444444444444,\"#bd3786\"],[0.5555555555555556,\"#d8576b\"],[0.6666666666666666,\"#ed7953\"],[0.7777777777777778,\"#fb9f3a\"],[0.8888888888888888,\"#fdca26\"],[1.0,\"#f0f921\"]],\"type\":\"histogram2dcontour\"}],\"histogram2d\":[{\"colorbar\":{\"outlinewidth\":0,\"ticks\":\"\"},\"colorscale\":[[0.0,\"#0d0887\"],[0.1111111111111111,\"#46039f\"],[0.2222222222222222,\"#7201a8\"],[0.3333333333333333,\"#9c179e\"],[0.4444444444444444,\"#bd3786\"],[0.5555555555555556,\"#d8576b\"],[0.6666666666666666,\"#ed7953\"],[0.7777777777777778,\"#fb9f3a\"],[0.8888888888888888,\"#fdca26\"],[1.0,\"#f0f921\"]],\"type\":\"histogram2d\"}],\"histogram\":[{\"marker\":{\"pattern\":{\"fillmode\":\"overlay\",\"size\":10,\"solidity\":0.2}},\"type\":\"histogram\"}],\"mesh3d\":[{\"colorbar\":{\"outlinewidth\":0,\"ticks\":\"\"},\"type\":\"mesh3d\"}],\"parcoords\":[{\"line\":{\"colorbar\":{\"outlinewidth\":0,\"ticks\":\"\"}},\"type\":\"parcoords\"}],\"pie\":[{\"automargin\":true,\"type\":\"pie\"}],\"scatter3d\":[{\"line\":{\"colorbar\":{\"outlinewidth\":0,\"ticks\":\"\"}},\"marker\":{\"colorbar\":{\"outlinewidth\":0,\"ticks\":\"\"}},\"type\":\"scatter3d\"}],\"scattercarpet\":[{\"marker\":{\"colorbar\":{\"outlinewidth\":0,\"ticks\":\"\"}},\"type\":\"scattercarpet\"}],\"scattergeo\":[{\"marker\":{\"colorbar\":{\"outlinewidth\":0,\"ticks\":\"\"}},\"type\":\"scattergeo\"}],\"scattergl\":[{\"marker\":{\"line\":{\"color\":\"#283442\"}},\"type\":\"scattergl\"}],\"scattermapbox\":[{\"marker\":{\"colorbar\":{\"outlinewidth\":0,\"ticks\":\"\"}},\"type\":\"scattermapbox\"}],\"scatterpolargl\":[{\"marker\":{\"colorbar\":{\"outlinewidth\":0,\"ticks\":\"\"}},\"type\":\"scatterpolargl\"}],\"scatterpolar\":[{\"marker\":{\"colorbar\":{\"outlinewidth\":0,\"ticks\":\"\"}},\"type\":\"scatterpolar\"}],\"scatter\":[{\"marker\":{\"line\":{\"color\":\"#283442\"}},\"type\":\"scatter\"}],\"scatterternary\":[{\"marker\":{\"colorbar\":{\"outlinewidth\":0,\"ticks\":\"\"}},\"type\":\"scatterternary\"}],\"surface\":[{\"colorbar\":{\"outlinewidth\":0,\"ticks\":\"\"},\"colorscale\":[[0.0,\"#0d0887\"],[0.1111111111111111,\"#46039f\"],[0.2222222222222222,\"#7201a8\"],[0.3333333333333333,\"#9c179e\"],[0.4444444444444444,\"#bd3786\"],[0.5555555555555556,\"#d8576b\"],[0.6666666666666666,\"#ed7953\"],[0.7777777777777778,\"#fb9f3a\"],[0.8888888888888888,\"#fdca26\"],[1.0,\"#f0f921\"]],\"type\":\"surface\"}],\"table\":[{\"cells\":{\"fill\":{\"color\":\"#506784\"},\"line\":{\"color\":\"rgb(17,17,17)\"}},\"header\":{\"fill\":{\"color\":\"#2a3f5f\"},\"line\":{\"color\":\"rgb(17,17,17)\"}},\"type\":\"table\"}]},\"layout\":{\"annotationdefaults\":{\"arrowcolor\":\"#f2f5fa\",\"arrowhead\":0,\"arrowwidth\":1},\"autotypenumbers\":\"strict\",\"coloraxis\":{\"colorbar\":{\"outlinewidth\":0,\"ticks\":\"\"}},\"colorscale\":{\"diverging\":[[0,\"#8e0152\"],[0.1,\"#c51b7d\"],[0.2,\"#de77ae\"],[0.3,\"#f1b6da\"],[0.4,\"#fde0ef\"],[0.5,\"#f7f7f7\"],[0.6,\"#e6f5d0\"],[0.7,\"#b8e186\"],[0.8,\"#7fbc41\"],[0.9,\"#4d9221\"],[1,\"#276419\"]],\"sequential\":[[0.0,\"#0d0887\"],[0.1111111111111111,\"#46039f\"],[0.2222222222222222,\"#7201a8\"],[0.3333333333333333,\"#9c179e\"],[0.4444444444444444,\"#bd3786\"],[0.5555555555555556,\"#d8576b\"],[0.6666666666666666,\"#ed7953\"],[0.7777777777777778,\"#fb9f3a\"],[0.8888888888888888,\"#fdca26\"],[1.0,\"#f0f921\"]],\"sequentialminus\":[[0.0,\"#0d0887\"],[0.1111111111111111,\"#46039f\"],[0.2222222222222222,\"#7201a8\"],[0.3333333333333333,\"#9c179e\"],[0.4444444444444444,\"#bd3786\"],[0.5555555555555556,\"#d8576b\"],[0.6666666666666666,\"#ed7953\"],[0.7777777777777778,\"#fb9f3a\"],[0.8888888888888888,\"#fdca26\"],[1.0,\"#f0f921\"]]},\"colorway\":[\"#636efa\",\"#EF553B\",\"#00cc96\",\"#ab63fa\",\"#FFA15A\",\"#19d3f3\",\"#FF6692\",\"#B6E880\",\"#FF97FF\",\"#FECB52\"],\"font\":{\"color\":\"#f2f5fa\"},\"geo\":{\"bgcolor\":\"rgb(17,17,17)\",\"lakecolor\":\"rgb(17,17,17)\",\"landcolor\":\"rgb(17,17,17)\",\"showlakes\":true,\"showland\":true,\"subunitcolor\":\"#506784\"},\"hoverlabel\":{\"align\":\"left\"},\"hovermode\":\"closest\",\"mapbox\":{\"style\":\"dark\"},\"paper_bgcolor\":\"rgb(17,17,17)\",\"plot_bgcolor\":\"rgb(17,17,17)\",\"polar\":{\"angularaxis\":{\"gridcolor\":\"#506784\",\"linecolor\":\"#506784\",\"ticks\":\"\"},\"bgcolor\":\"rgb(17,17,17)\",\"radialaxis\":{\"gridcolor\":\"#506784\",\"linecolor\":\"#506784\",\"ticks\":\"\"}},\"scene\":{\"xaxis\":{\"backgroundcolor\":\"rgb(17,17,17)\",\"gridcolor\":\"#506784\",\"gridwidth\":2,\"linecolor\":\"#506784\",\"showbackground\":true,\"ticks\":\"\",\"zerolinecolor\":\"#C8D4E3\"},\"yaxis\":{\"backgroundcolor\":\"rgb(17,17,17)\",\"gridcolor\":\"#506784\",\"gridwidth\":2,\"linecolor\":\"#506784\",\"showbackground\":true,\"ticks\":\"\",\"zerolinecolor\":\"#C8D4E3\"},\"zaxis\":{\"backgroundcolor\":\"rgb(17,17,17)\",\"gridcolor\":\"#506784\",\"gridwidth\":2,\"linecolor\":\"#506784\",\"showbackground\":true,\"ticks\":\"\",\"zerolinecolor\":\"#C8D4E3\"}},\"shapedefaults\":{\"line\":{\"color\":\"#f2f5fa\"}},\"sliderdefaults\":{\"bgcolor\":\"#C8D4E3\",\"bordercolor\":\"rgb(17,17,17)\",\"borderwidth\":1,\"tickwidth\":0},\"ternary\":{\"aaxis\":{\"gridcolor\":\"#506784\",\"linecolor\":\"#506784\",\"ticks\":\"\"},\"baxis\":{\"gridcolor\":\"#506784\",\"linecolor\":\"#506784\",\"ticks\":\"\"},\"bgcolor\":\"rgb(17,17,17)\",\"caxis\":{\"gridcolor\":\"#506784\",\"linecolor\":\"#506784\",\"ticks\":\"\"}},\"title\":{\"x\":0.05},\"updatemenudefaults\":{\"bgcolor\":\"#506784\",\"borderwidth\":0},\"xaxis\":{\"automargin\":true,\"gridcolor\":\"#283442\",\"linecolor\":\"#506784\",\"ticks\":\"\",\"title\":{\"standoff\":15},\"zerolinecolor\":\"#283442\",\"zerolinewidth\":2},\"yaxis\":{\"automargin\":true,\"gridcolor\":\"#283442\",\"linecolor\":\"#506784\",\"ticks\":\"\",\"title\":{\"standoff\":15},\"zerolinecolor\":\"#283442\",\"zerolinewidth\":2}}},\"title\":{\"font\":{\"size\":20,\"family\":\"Arial\",\"color\":\"#f0f18d\"},\"text\":\"Decision After Winning The Toss\",\"x\":0.5,\"xanchor\":\"center\",\"yanchor\":\"top\"}},                        {\"responsive\": true}                    ).then(function(){\n",
       "                            \n",
       "var gd = document.getElementById('ef8e2991-6acb-4099-95a9-73d6b51c1852');\n",
       "var x = new MutationObserver(function (mutations, observer) {{\n",
       "        var display = window.getComputedStyle(gd).display;\n",
       "        if (!display || display === 'none') {{\n",
       "            console.log([gd, 'removed!']);\n",
       "            Plotly.purge(gd);\n",
       "            observer.disconnect();\n",
       "        }}\n",
       "}});\n",
       "\n",
       "// Listen for the removal of the full notebook cells\n",
       "var notebookContainer = gd.closest('#notebook-container');\n",
       "if (notebookContainer) {{\n",
       "    x.observe(notebookContainer, {childList: true});\n",
       "}}\n",
       "\n",
       "// Listen for the clearing of the current output cell\n",
       "var outputEl = gd.closest('.output');\n",
       "if (outputEl) {{\n",
       "    x.observe(outputEl, {childList: true});\n",
       "}}\n",
       "\n",
       "                        })                };                });            </script>        </div>"
      ]
     },
     "metadata": {},
     "output_type": "display_data"
    }
   ],
   "source": [
    "temp_series = df.toss_decision.value_counts()\n",
    "labels = (np.array(temp_series.index))\n",
    "values = (np.array((temp_series / temp_series.sum())*100))\n",
    "colors = ['turquoise', 'crimson']\n",
    "fig = go.Figure(data=[go.Pie(labels=labels,\n",
    "                             values=values,hole=.3)])\n",
    "fig.update_layout(\n",
    "    template=\"plotly_dark\" ,\n",
    "    title={\n",
    "        'text':'Decision After Winning The Toss',\n",
    "        'x': 0.5,  \n",
    "        'xanchor': 'center',\n",
    "        'yanchor': 'top',\n",
    "        'font': {'size': 20, 'family': 'Arial', 'color': '#f0f18d'}\n",
    "        \n",
    "    }\n",
    ")\n",
    "fig.show()"
   ]
  },
  {
   "cell_type": "markdown",
   "id": "4ad474b8",
   "metadata": {
    "papermill": {
     "duration": 0.049736,
     "end_time": "2024-09-28T23:12:15.826750",
     "exception": false,
     "start_time": "2024-09-28T23:12:15.777014",
     "status": "completed"
    },
    "tags": []
   },
   "source": [
    "<div class=\"alert alert-block alert-info\"><p style='color:black;'>🏏📝 Most Of the Time Team choose Field First\n",
    "    \n",
    "</div>"
   ]
  },
  {
   "cell_type": "markdown",
   "id": "8a4c8423",
   "metadata": {
    "papermill": {
     "duration": 0.050339,
     "end_time": "2024-09-28T23:12:15.926950",
     "exception": false,
     "start_time": "2024-09-28T23:12:15.876611",
     "status": "completed"
    },
    "tags": []
   },
   "source": [
    "<a id=\"1\">\n",
    "<h1 style = \"font-family: Snell Roundhand;font-weight: 500;font-size: 30px; font-style: normal; background-color:#9e05f0; color :black;\"> 18) Toss Win == Match Win ?\n",
    "    :</h1>\n"
   ]
  },
  {
   "cell_type": "code",
   "execution_count": 84,
   "id": "067ff210",
   "metadata": {
    "execution": {
     "iopub.execute_input": "2024-09-28T23:12:16.040048Z",
     "iopub.status.busy": "2024-09-28T23:12:16.039200Z",
     "iopub.status.idle": "2024-09-28T23:12:16.046699Z",
     "shell.execute_reply": "2024-09-28T23:12:16.045630Z"
    },
    "papermill": {
     "duration": 0.063717,
     "end_time": "2024-09-28T23:12:16.049085",
     "exception": false,
     "start_time": "2024-09-28T23:12:15.985368",
     "status": "completed"
    },
    "tags": []
   },
   "outputs": [],
   "source": [
    "df['toss_win == game_win'] = np.where((df.toss_winner == df.winner),'Yes','No')"
   ]
  },
  {
   "cell_type": "code",
   "execution_count": 85,
   "id": "155b9352",
   "metadata": {
    "execution": {
     "iopub.execute_input": "2024-09-28T23:12:16.152200Z",
     "iopub.status.busy": "2024-09-28T23:12:16.151751Z",
     "iopub.status.idle": "2024-09-28T23:12:16.199767Z",
     "shell.execute_reply": "2024-09-28T23:12:16.198688Z"
    },
    "papermill": {
     "duration": 0.102683,
     "end_time": "2024-09-28T23:12:16.202446",
     "exception": false,
     "start_time": "2024-09-28T23:12:16.099763",
     "status": "completed"
    },
    "tags": []
   },
   "outputs": [
    {
     "data": {
      "text/html": [
       "<div>                            <div id=\"b4cf2464-3598-4093-8565-0b0986e9b440\" class=\"plotly-graph-div\" style=\"height:525px; width:100%;\"></div>            <script type=\"text/javascript\">                require([\"plotly\"], function(Plotly) {                    window.PLOTLYENV=window.PLOTLYENV || {};                                    if (document.getElementById(\"b4cf2464-3598-4093-8565-0b0986e9b440\")) {                    Plotly.newPlot(                        \"b4cf2464-3598-4093-8565-0b0986e9b440\",                        [{\"hole\":0.3,\"labels\":[\"Yes\",\"No\"],\"values\":[554,541],\"type\":\"pie\"}],                        {\"template\":{\"data\":{\"barpolar\":[{\"marker\":{\"line\":{\"color\":\"rgb(17,17,17)\",\"width\":0.5},\"pattern\":{\"fillmode\":\"overlay\",\"size\":10,\"solidity\":0.2}},\"type\":\"barpolar\"}],\"bar\":[{\"error_x\":{\"color\":\"#f2f5fa\"},\"error_y\":{\"color\":\"#f2f5fa\"},\"marker\":{\"line\":{\"color\":\"rgb(17,17,17)\",\"width\":0.5},\"pattern\":{\"fillmode\":\"overlay\",\"size\":10,\"solidity\":0.2}},\"type\":\"bar\"}],\"carpet\":[{\"aaxis\":{\"endlinecolor\":\"#A2B1C6\",\"gridcolor\":\"#506784\",\"linecolor\":\"#506784\",\"minorgridcolor\":\"#506784\",\"startlinecolor\":\"#A2B1C6\"},\"baxis\":{\"endlinecolor\":\"#A2B1C6\",\"gridcolor\":\"#506784\",\"linecolor\":\"#506784\",\"minorgridcolor\":\"#506784\",\"startlinecolor\":\"#A2B1C6\"},\"type\":\"carpet\"}],\"choropleth\":[{\"colorbar\":{\"outlinewidth\":0,\"ticks\":\"\"},\"type\":\"choropleth\"}],\"contourcarpet\":[{\"colorbar\":{\"outlinewidth\":0,\"ticks\":\"\"},\"type\":\"contourcarpet\"}],\"contour\":[{\"colorbar\":{\"outlinewidth\":0,\"ticks\":\"\"},\"colorscale\":[[0.0,\"#0d0887\"],[0.1111111111111111,\"#46039f\"],[0.2222222222222222,\"#7201a8\"],[0.3333333333333333,\"#9c179e\"],[0.4444444444444444,\"#bd3786\"],[0.5555555555555556,\"#d8576b\"],[0.6666666666666666,\"#ed7953\"],[0.7777777777777778,\"#fb9f3a\"],[0.8888888888888888,\"#fdca26\"],[1.0,\"#f0f921\"]],\"type\":\"contour\"}],\"heatmapgl\":[{\"colorbar\":{\"outlinewidth\":0,\"ticks\":\"\"},\"colorscale\":[[0.0,\"#0d0887\"],[0.1111111111111111,\"#46039f\"],[0.2222222222222222,\"#7201a8\"],[0.3333333333333333,\"#9c179e\"],[0.4444444444444444,\"#bd3786\"],[0.5555555555555556,\"#d8576b\"],[0.6666666666666666,\"#ed7953\"],[0.7777777777777778,\"#fb9f3a\"],[0.8888888888888888,\"#fdca26\"],[1.0,\"#f0f921\"]],\"type\":\"heatmapgl\"}],\"heatmap\":[{\"colorbar\":{\"outlinewidth\":0,\"ticks\":\"\"},\"colorscale\":[[0.0,\"#0d0887\"],[0.1111111111111111,\"#46039f\"],[0.2222222222222222,\"#7201a8\"],[0.3333333333333333,\"#9c179e\"],[0.4444444444444444,\"#bd3786\"],[0.5555555555555556,\"#d8576b\"],[0.6666666666666666,\"#ed7953\"],[0.7777777777777778,\"#fb9f3a\"],[0.8888888888888888,\"#fdca26\"],[1.0,\"#f0f921\"]],\"type\":\"heatmap\"}],\"histogram2dcontour\":[{\"colorbar\":{\"outlinewidth\":0,\"ticks\":\"\"},\"colorscale\":[[0.0,\"#0d0887\"],[0.1111111111111111,\"#46039f\"],[0.2222222222222222,\"#7201a8\"],[0.3333333333333333,\"#9c179e\"],[0.4444444444444444,\"#bd3786\"],[0.5555555555555556,\"#d8576b\"],[0.6666666666666666,\"#ed7953\"],[0.7777777777777778,\"#fb9f3a\"],[0.8888888888888888,\"#fdca26\"],[1.0,\"#f0f921\"]],\"type\":\"histogram2dcontour\"}],\"histogram2d\":[{\"colorbar\":{\"outlinewidth\":0,\"ticks\":\"\"},\"colorscale\":[[0.0,\"#0d0887\"],[0.1111111111111111,\"#46039f\"],[0.2222222222222222,\"#7201a8\"],[0.3333333333333333,\"#9c179e\"],[0.4444444444444444,\"#bd3786\"],[0.5555555555555556,\"#d8576b\"],[0.6666666666666666,\"#ed7953\"],[0.7777777777777778,\"#fb9f3a\"],[0.8888888888888888,\"#fdca26\"],[1.0,\"#f0f921\"]],\"type\":\"histogram2d\"}],\"histogram\":[{\"marker\":{\"pattern\":{\"fillmode\":\"overlay\",\"size\":10,\"solidity\":0.2}},\"type\":\"histogram\"}],\"mesh3d\":[{\"colorbar\":{\"outlinewidth\":0,\"ticks\":\"\"},\"type\":\"mesh3d\"}],\"parcoords\":[{\"line\":{\"colorbar\":{\"outlinewidth\":0,\"ticks\":\"\"}},\"type\":\"parcoords\"}],\"pie\":[{\"automargin\":true,\"type\":\"pie\"}],\"scatter3d\":[{\"line\":{\"colorbar\":{\"outlinewidth\":0,\"ticks\":\"\"}},\"marker\":{\"colorbar\":{\"outlinewidth\":0,\"ticks\":\"\"}},\"type\":\"scatter3d\"}],\"scattercarpet\":[{\"marker\":{\"colorbar\":{\"outlinewidth\":0,\"ticks\":\"\"}},\"type\":\"scattercarpet\"}],\"scattergeo\":[{\"marker\":{\"colorbar\":{\"outlinewidth\":0,\"ticks\":\"\"}},\"type\":\"scattergeo\"}],\"scattergl\":[{\"marker\":{\"line\":{\"color\":\"#283442\"}},\"type\":\"scattergl\"}],\"scattermapbox\":[{\"marker\":{\"colorbar\":{\"outlinewidth\":0,\"ticks\":\"\"}},\"type\":\"scattermapbox\"}],\"scatterpolargl\":[{\"marker\":{\"colorbar\":{\"outlinewidth\":0,\"ticks\":\"\"}},\"type\":\"scatterpolargl\"}],\"scatterpolar\":[{\"marker\":{\"colorbar\":{\"outlinewidth\":0,\"ticks\":\"\"}},\"type\":\"scatterpolar\"}],\"scatter\":[{\"marker\":{\"line\":{\"color\":\"#283442\"}},\"type\":\"scatter\"}],\"scatterternary\":[{\"marker\":{\"colorbar\":{\"outlinewidth\":0,\"ticks\":\"\"}},\"type\":\"scatterternary\"}],\"surface\":[{\"colorbar\":{\"outlinewidth\":0,\"ticks\":\"\"},\"colorscale\":[[0.0,\"#0d0887\"],[0.1111111111111111,\"#46039f\"],[0.2222222222222222,\"#7201a8\"],[0.3333333333333333,\"#9c179e\"],[0.4444444444444444,\"#bd3786\"],[0.5555555555555556,\"#d8576b\"],[0.6666666666666666,\"#ed7953\"],[0.7777777777777778,\"#fb9f3a\"],[0.8888888888888888,\"#fdca26\"],[1.0,\"#f0f921\"]],\"type\":\"surface\"}],\"table\":[{\"cells\":{\"fill\":{\"color\":\"#506784\"},\"line\":{\"color\":\"rgb(17,17,17)\"}},\"header\":{\"fill\":{\"color\":\"#2a3f5f\"},\"line\":{\"color\":\"rgb(17,17,17)\"}},\"type\":\"table\"}]},\"layout\":{\"annotationdefaults\":{\"arrowcolor\":\"#f2f5fa\",\"arrowhead\":0,\"arrowwidth\":1},\"autotypenumbers\":\"strict\",\"coloraxis\":{\"colorbar\":{\"outlinewidth\":0,\"ticks\":\"\"}},\"colorscale\":{\"diverging\":[[0,\"#8e0152\"],[0.1,\"#c51b7d\"],[0.2,\"#de77ae\"],[0.3,\"#f1b6da\"],[0.4,\"#fde0ef\"],[0.5,\"#f7f7f7\"],[0.6,\"#e6f5d0\"],[0.7,\"#b8e186\"],[0.8,\"#7fbc41\"],[0.9,\"#4d9221\"],[1,\"#276419\"]],\"sequential\":[[0.0,\"#0d0887\"],[0.1111111111111111,\"#46039f\"],[0.2222222222222222,\"#7201a8\"],[0.3333333333333333,\"#9c179e\"],[0.4444444444444444,\"#bd3786\"],[0.5555555555555556,\"#d8576b\"],[0.6666666666666666,\"#ed7953\"],[0.7777777777777778,\"#fb9f3a\"],[0.8888888888888888,\"#fdca26\"],[1.0,\"#f0f921\"]],\"sequentialminus\":[[0.0,\"#0d0887\"],[0.1111111111111111,\"#46039f\"],[0.2222222222222222,\"#7201a8\"],[0.3333333333333333,\"#9c179e\"],[0.4444444444444444,\"#bd3786\"],[0.5555555555555556,\"#d8576b\"],[0.6666666666666666,\"#ed7953\"],[0.7777777777777778,\"#fb9f3a\"],[0.8888888888888888,\"#fdca26\"],[1.0,\"#f0f921\"]]},\"colorway\":[\"#636efa\",\"#EF553B\",\"#00cc96\",\"#ab63fa\",\"#FFA15A\",\"#19d3f3\",\"#FF6692\",\"#B6E880\",\"#FF97FF\",\"#FECB52\"],\"font\":{\"color\":\"#f2f5fa\"},\"geo\":{\"bgcolor\":\"rgb(17,17,17)\",\"lakecolor\":\"rgb(17,17,17)\",\"landcolor\":\"rgb(17,17,17)\",\"showlakes\":true,\"showland\":true,\"subunitcolor\":\"#506784\"},\"hoverlabel\":{\"align\":\"left\"},\"hovermode\":\"closest\",\"mapbox\":{\"style\":\"dark\"},\"paper_bgcolor\":\"rgb(17,17,17)\",\"plot_bgcolor\":\"rgb(17,17,17)\",\"polar\":{\"angularaxis\":{\"gridcolor\":\"#506784\",\"linecolor\":\"#506784\",\"ticks\":\"\"},\"bgcolor\":\"rgb(17,17,17)\",\"radialaxis\":{\"gridcolor\":\"#506784\",\"linecolor\":\"#506784\",\"ticks\":\"\"}},\"scene\":{\"xaxis\":{\"backgroundcolor\":\"rgb(17,17,17)\",\"gridcolor\":\"#506784\",\"gridwidth\":2,\"linecolor\":\"#506784\",\"showbackground\":true,\"ticks\":\"\",\"zerolinecolor\":\"#C8D4E3\"},\"yaxis\":{\"backgroundcolor\":\"rgb(17,17,17)\",\"gridcolor\":\"#506784\",\"gridwidth\":2,\"linecolor\":\"#506784\",\"showbackground\":true,\"ticks\":\"\",\"zerolinecolor\":\"#C8D4E3\"},\"zaxis\":{\"backgroundcolor\":\"rgb(17,17,17)\",\"gridcolor\":\"#506784\",\"gridwidth\":2,\"linecolor\":\"#506784\",\"showbackground\":true,\"ticks\":\"\",\"zerolinecolor\":\"#C8D4E3\"}},\"shapedefaults\":{\"line\":{\"color\":\"#f2f5fa\"}},\"sliderdefaults\":{\"bgcolor\":\"#C8D4E3\",\"bordercolor\":\"rgb(17,17,17)\",\"borderwidth\":1,\"tickwidth\":0},\"ternary\":{\"aaxis\":{\"gridcolor\":\"#506784\",\"linecolor\":\"#506784\",\"ticks\":\"\"},\"baxis\":{\"gridcolor\":\"#506784\",\"linecolor\":\"#506784\",\"ticks\":\"\"},\"bgcolor\":\"rgb(17,17,17)\",\"caxis\":{\"gridcolor\":\"#506784\",\"linecolor\":\"#506784\",\"ticks\":\"\"}},\"title\":{\"x\":0.05},\"updatemenudefaults\":{\"bgcolor\":\"#506784\",\"borderwidth\":0},\"xaxis\":{\"automargin\":true,\"gridcolor\":\"#283442\",\"linecolor\":\"#506784\",\"ticks\":\"\",\"title\":{\"standoff\":15},\"zerolinecolor\":\"#283442\",\"zerolinewidth\":2},\"yaxis\":{\"automargin\":true,\"gridcolor\":\"#283442\",\"linecolor\":\"#506784\",\"ticks\":\"\",\"title\":{\"standoff\":15},\"zerolinecolor\":\"#283442\",\"zerolinewidth\":2}}},\"title\":{\"font\":{\"size\":20,\"family\":\"Arial\",\"color\":\"#f0f18d\"},\"text\":\"Toss Win == Match Win ?\",\"x\":0.5,\"xanchor\":\"center\",\"yanchor\":\"top\"}},                        {\"responsive\": true}                    ).then(function(){\n",
       "                            \n",
       "var gd = document.getElementById('b4cf2464-3598-4093-8565-0b0986e9b440');\n",
       "var x = new MutationObserver(function (mutations, observer) {{\n",
       "        var display = window.getComputedStyle(gd).display;\n",
       "        if (!display || display === 'none') {{\n",
       "            console.log([gd, 'removed!']);\n",
       "            Plotly.purge(gd);\n",
       "            observer.disconnect();\n",
       "        }}\n",
       "}});\n",
       "\n",
       "// Listen for the removal of the full notebook cells\n",
       "var notebookContainer = gd.closest('#notebook-container');\n",
       "if (notebookContainer) {{\n",
       "    x.observe(notebookContainer, {childList: true});\n",
       "}}\n",
       "\n",
       "// Listen for the clearing of the current output cell\n",
       "var outputEl = gd.closest('.output');\n",
       "if (outputEl) {{\n",
       "    x.observe(outputEl, {childList: true});\n",
       "}}\n",
       "\n",
       "                        })                };                });            </script>        </div>"
      ]
     },
     "metadata": {},
     "output_type": "display_data"
    }
   ],
   "source": [
    "labels =[\"Yes\",'No']\n",
    "values = df['toss_win == game_win'].value_counts()\n",
    "colors = ['turquoise', 'crimson']\n",
    "fig = go.Figure(data=[go.Pie(labels=labels,\n",
    "                             values=values,hole=.3)])\n",
    "fig.update_layout(\n",
    "    template=\"plotly_dark\" ,\n",
    "    title={\n",
    "        'text':'Toss Win == Match Win ?',\n",
    "        'x': 0.5,  \n",
    "        'xanchor': 'center',\n",
    "        'yanchor': 'top',\n",
    "        'font': {'size': 20, 'family': 'Arial', 'color': '#f0f18d'}\n",
    "        \n",
    "    }\n",
    ")\n",
    "fig.show()"
   ]
  },
  {
   "cell_type": "markdown",
   "id": "cbc52ba5",
   "metadata": {
    "papermill": {
     "duration": 0.050153,
     "end_time": "2024-09-28T23:12:16.307168",
     "exception": false,
     "start_time": "2024-09-28T23:12:16.257015",
     "status": "completed"
    },
    "tags": []
   },
   "source": [
    "<div class=\"alert alert-block alert-info\"><p style='color:black;'>🏏📝 IT'S 50-50 ,But Definitely Given an Edge to teams After winning the toss\n",
    "    \n",
    "</div>"
   ]
  },
  {
   "cell_type": "markdown",
   "id": "880a7109",
   "metadata": {
    "papermill": {
     "duration": 0.049853,
     "end_time": "2024-09-28T23:12:16.407200",
     "exception": false,
     "start_time": "2024-09-28T23:12:16.357347",
     "status": "completed"
    },
    "tags": []
   },
   "source": [
    "<a id=\"header\"></a>\n",
    "\n",
    "<div style=\"border: 1px solid; color: black; padding: 3px; width: 97%; background-color: #2d2d2d; border: 5px solid Grey;\">\n",
    "    <center width=\"80%\">\n",
    "        <img src=\"https://media1.tenor.com/m/Uj4RSxn_BTMAAAAC/game-over-glitch.gif\" style=\"width: 90%;\">\n",
    "    </center>\n",
    " <p style=\"font-family: 'Pacifico', cursive; font-size: 2rem; color: #ff758c; text-align: center; margin: 0; text-shadow: 2px 2px 4px rgba(0, 0, 0, 0.3); background-color: #2d2d2d; padding: 20px; border-radius: 10px; border: 7px solid #f6f385; width: 95%;\">...Thank You...</p>\n",
    "</div>\n"
   ]
  }
 ],
 "metadata": {
  "kaggle": {
   "accelerator": "none",
   "dataSources": [
    {
     "datasetId": 990900,
     "sourceId": 8637500,
     "sourceType": "datasetVersion"
    }
   ],
   "dockerImageVersionId": 30775,
   "isGpuEnabled": false,
   "isInternetEnabled": true,
   "language": "python",
   "sourceType": "notebook"
  },
  "kernelspec": {
   "display_name": "Python 3",
   "language": "python",
   "name": "python3"
  },
  "language_info": {
   "codemirror_mode": {
    "name": "ipython",
    "version": 3
   },
   "file_extension": ".py",
   "mimetype": "text/x-python",
   "name": "python",
   "nbconvert_exporter": "python",
   "pygments_lexer": "ipython3",
   "version": "3.10.14"
  },
  "papermill": {
   "default_parameters": {},
   "duration": 24.167964,
   "end_time": "2024-09-28T23:12:17.178981",
   "environment_variables": {},
   "exception": null,
   "input_path": "__notebook__.ipynb",
   "output_path": "__notebook__.ipynb",
   "parameters": {},
   "start_time": "2024-09-28T23:11:53.011017",
   "version": "2.6.0"
  }
 },
 "nbformat": 4,
 "nbformat_minor": 5
}
